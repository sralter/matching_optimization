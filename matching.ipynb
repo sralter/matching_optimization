{
 "cells": [
  {
   "cell_type": "markdown",
   "metadata": {},
   "source": [
    "# Geospatial Matching Optimization"
   ]
  },
  {
   "cell_type": "markdown",
   "metadata": {},
   "source": [
    "This project is designed to showcase how to improve the speed of a polygon matching procedure. There are two main areas that could benefit from taking a \"geospatial-native\" approach:\n",
    "\n",
    "1. Data encoding, fetching, and storage\n",
    "2. Matching\n",
    "\n",
    "We will generate synthetic polygon data and use both a non-geospatial-native and geospatial-native approach, comparing execution time for both to see how they differ."
   ]
  },
  {
   "cell_type": "markdown",
   "metadata": {},
   "source": [
    "Note: Make sure that you have PostgreSQL running."
   ]
  },
  {
   "cell_type": "markdown",
   "metadata": {},
   "source": [
    "## Imports"
   ]
  },
  {
   "cell_type": "code",
   "execution_count": 577,
   "metadata": {},
   "outputs": [
    {
     "data": {
      "text/plain": [
       "<module 'helpers' from '/Users/sra/files/projects/matching_optimization/helpers.py'>"
      ]
     },
     "execution_count": 577,
     "metadata": {},
     "output_type": "execute_result"
    }
   ],
   "source": [
    "import geopandas as gpd\n",
    "import pandas as pd\n",
    "import shapely\n",
    "import h3\n",
    "import time\n",
    "import helpers as h\n",
    "import matplotlib.pyplot as plt\n",
    "from shapely.wkt import dumps, loads\n",
    "from pathlib import Path\n",
    "import multiprocessing as mp\n",
    "\n",
    "# ensure helpers is loaded correctly\n",
    "import importlib\n",
    "importlib.reload(h)"
   ]
  },
  {
   "cell_type": "markdown",
   "metadata": {},
   "source": [
    "## Generate Test Data"
   ]
  },
  {
   "cell_type": "code",
   "execution_count": 578,
   "metadata": {},
   "outputs": [
    {
     "name": "stdout",
     "output_type": "stream",
     "text": [
      "Function `generate_random_polygons` executed in 7.5430 sec, CPU: 6.20%, Memory: 95.98MB\n",
      "Function `generate_random_polygons` executed in 8.4490 sec, CPU: 1.70%, Memory: 293.06MB\n"
     ]
    }
   ],
   "source": [
    "# Create two blobs of data\n",
    "prev_month_blobs = h.generate_random_polygons(n=10000)\n",
    "curr_month_blobs = h.generate_random_polygons(n=10000)"
   ]
  },
  {
   "cell_type": "code",
   "execution_count": 579,
   "metadata": {},
   "outputs": [
    {
     "data": {
      "text/html": [
       "<div>\n",
       "<style scoped>\n",
       "    .dataframe tbody tr th:only-of-type {\n",
       "        vertical-align: middle;\n",
       "    }\n",
       "\n",
       "    .dataframe tbody tr th {\n",
       "        vertical-align: top;\n",
       "    }\n",
       "\n",
       "    .dataframe thead th {\n",
       "        text-align: right;\n",
       "    }\n",
       "</style>\n",
       "<table border=\"1\" class=\"dataframe\">\n",
       "  <thead>\n",
       "    <tr style=\"text-align: right;\">\n",
       "      <th></th>\n",
       "      <th>geometry</th>\n",
       "      <th>id</th>\n",
       "      <th>geohash</th>\n",
       "    </tr>\n",
       "  </thead>\n",
       "  <tbody>\n",
       "    <tr>\n",
       "      <th>8550</th>\n",
       "      <td>POLYGON ((-98.16099 26.88411, -98.16099 26.884...</td>\n",
       "      <td>2a61233c-8349-44f1-b6c3-3b4cbf10c700</td>\n",
       "      <td>9uf0yq1t</td>\n",
       "    </tr>\n",
       "    <tr>\n",
       "      <th>8924</th>\n",
       "      <td>POLYGON ((-98.05773 26.95524, -98.05773 26.955...</td>\n",
       "      <td>59b94d32-0ee0-4058-8e9c-b553bab8f9af</td>\n",
       "      <td>9uf32ehf</td>\n",
       "    </tr>\n",
       "    <tr>\n",
       "      <th>6293</th>\n",
       "      <td>POLYGON ((-98.04039 26.97207, -98.04039 26.972...</td>\n",
       "      <td>eeb3e809-c013-4e4b-9c5b-45ed21897623</td>\n",
       "      <td>9uf33n1m</td>\n",
       "    </tr>\n",
       "    <tr>\n",
       "      <th>3196</th>\n",
       "      <td>POLYGON ((-98.12466 26.99352, -98.12466 26.994...</td>\n",
       "      <td>6853b19a-766d-45f6-85fa-e41dc3e955e0</td>\n",
       "      <td>9uf1x45g</td>\n",
       "    </tr>\n",
       "    <tr>\n",
       "      <th>4445</th>\n",
       "      <td>POLYGON ((-98.28726 27.49576, -98.28726 27.496...</td>\n",
       "      <td>461afc10-e942-4c35-94fe-60c3d1bae1df</td>\n",
       "      <td>9ufh7mt8</td>\n",
       "    </tr>\n",
       "  </tbody>\n",
       "</table>\n",
       "</div>"
      ],
      "text/plain": [
       "                                               geometry  \\\n",
       "8550  POLYGON ((-98.16099 26.88411, -98.16099 26.884...   \n",
       "8924  POLYGON ((-98.05773 26.95524, -98.05773 26.955...   \n",
       "6293  POLYGON ((-98.04039 26.97207, -98.04039 26.972...   \n",
       "3196  POLYGON ((-98.12466 26.99352, -98.12466 26.994...   \n",
       "4445  POLYGON ((-98.28726 27.49576, -98.28726 27.496...   \n",
       "\n",
       "                                        id   geohash  \n",
       "8550  2a61233c-8349-44f1-b6c3-3b4cbf10c700  9uf0yq1t  \n",
       "8924  59b94d32-0ee0-4058-8e9c-b553bab8f9af  9uf32ehf  \n",
       "6293  eeb3e809-c013-4e4b-9c5b-45ed21897623  9uf33n1m  \n",
       "3196  6853b19a-766d-45f6-85fa-e41dc3e955e0  9uf1x45g  \n",
       "4445  461afc10-e942-4c35-94fe-60c3d1bae1df  9ufh7mt8  "
      ]
     },
     "execution_count": 579,
     "metadata": {},
     "output_type": "execute_result"
    }
   ],
   "source": [
    "prev_month_blobs.head()"
   ]
  },
  {
   "cell_type": "code",
   "execution_count": 580,
   "metadata": {},
   "outputs": [
    {
     "data": {
      "text/html": [
       "<div>\n",
       "<style scoped>\n",
       "    .dataframe tbody tr th:only-of-type {\n",
       "        vertical-align: middle;\n",
       "    }\n",
       "\n",
       "    .dataframe tbody tr th {\n",
       "        vertical-align: top;\n",
       "    }\n",
       "\n",
       "    .dataframe thead th {\n",
       "        text-align: right;\n",
       "    }\n",
       "</style>\n",
       "<table border=\"1\" class=\"dataframe\">\n",
       "  <thead>\n",
       "    <tr style=\"text-align: right;\">\n",
       "      <th></th>\n",
       "      <th>geometry</th>\n",
       "      <th>id</th>\n",
       "      <th>geohash</th>\n",
       "    </tr>\n",
       "  </thead>\n",
       "  <tbody>\n",
       "    <tr>\n",
       "      <th>1713</th>\n",
       "      <td>POLYGON ((-97.86596 27.89635, -97.86596 27.896...</td>\n",
       "      <td>44f88b57-0213-4a48-a32d-ce5605413d63</td>\n",
       "      <td>9ufqtn2k</td>\n",
       "    </tr>\n",
       "    <tr>\n",
       "      <th>2602</th>\n",
       "      <td>POLYGON ((-98.30079 27.89682, -98.30079 27.897...</td>\n",
       "      <td>fc24348b-2595-4608-aa0c-e3531ca92c70</td>\n",
       "      <td>9ufneneb</td>\n",
       "    </tr>\n",
       "    <tr>\n",
       "      <th>9463</th>\n",
       "      <td>POLYGON ((-97.76967 27.90458, -97.76967 27.905...</td>\n",
       "      <td>98c73d2f-0725-499b-bc39-fa483f52ed0c</td>\n",
       "      <td>9ufqxpyt</td>\n",
       "    </tr>\n",
       "    <tr>\n",
       "      <th>9294</th>\n",
       "      <td>POLYGON ((-98.24400 28.27086, -98.24400 28.271...</td>\n",
       "      <td>398ea29c-7ba3-47f4-95d3-6522382def60</td>\n",
       "      <td>9v40u6su</td>\n",
       "    </tr>\n",
       "    <tr>\n",
       "      <th>6879</th>\n",
       "      <td>POLYGON ((-98.20837 28.33800, -98.20837 28.338...</td>\n",
       "      <td>be6ac089-d468-4c1e-a2d2-09d817973225</td>\n",
       "      <td>9v41jnz1</td>\n",
       "    </tr>\n",
       "  </tbody>\n",
       "</table>\n",
       "</div>"
      ],
      "text/plain": [
       "                                               geometry  \\\n",
       "1713  POLYGON ((-97.86596 27.89635, -97.86596 27.896...   \n",
       "2602  POLYGON ((-98.30079 27.89682, -98.30079 27.897...   \n",
       "9463  POLYGON ((-97.76967 27.90458, -97.76967 27.905...   \n",
       "9294  POLYGON ((-98.24400 28.27086, -98.24400 28.271...   \n",
       "6879  POLYGON ((-98.20837 28.33800, -98.20837 28.338...   \n",
       "\n",
       "                                        id   geohash  \n",
       "1713  44f88b57-0213-4a48-a32d-ce5605413d63  9ufqtn2k  \n",
       "2602  fc24348b-2595-4608-aa0c-e3531ca92c70  9ufneneb  \n",
       "9463  98c73d2f-0725-499b-bc39-fa483f52ed0c  9ufqxpyt  \n",
       "9294  398ea29c-7ba3-47f4-95d3-6522382def60  9v40u6su  \n",
       "6879  be6ac089-d468-4c1e-a2d2-09d817973225  9v41jnz1  "
      ]
     },
     "execution_count": 580,
     "metadata": {},
     "output_type": "execute_result"
    }
   ],
   "source": [
    "curr_month_blobs.head()"
   ]
  },
  {
   "cell_type": "code",
   "execution_count": 581,
   "metadata": {},
   "outputs": [],
   "source": [
    "# make data folder\n",
    "Path('data/').mkdir(exist_ok=True)\n",
    "\n",
    "# save as geoparquet\n",
    "prev_month_blobs.to_parquet('data/prev_month_blobs.parquet')\n",
    "curr_month_blobs.to_parquet('data/curr_month_blobs.parquet')"
   ]
  },
  {
   "cell_type": "code",
   "execution_count": 582,
   "metadata": {},
   "outputs": [],
   "source": [
    "# range_ = 10000\n",
    "\n",
    "# fig, ax = plt.subplots(figsize=(5, 5))\n",
    "# prev_month_blobs.iloc[0:range_].plot(ax=ax)\n",
    "# ax.set_title(f'Viewing the first {range_} blobs')\n",
    "# plt.tight_layout()\n",
    "\n",
    "# plt.show()"
   ]
  },
  {
   "cell_type": "code",
   "execution_count": 583,
   "metadata": {},
   "outputs": [
    {
     "data": {
      "text/html": [
       "<div>\n",
       "<style scoped>\n",
       "    .dataframe tbody tr th:only-of-type {\n",
       "        vertical-align: middle;\n",
       "    }\n",
       "\n",
       "    .dataframe tbody tr th {\n",
       "        vertical-align: top;\n",
       "    }\n",
       "\n",
       "    .dataframe thead th {\n",
       "        text-align: right;\n",
       "    }\n",
       "</style>\n",
       "<table border=\"1\" class=\"dataframe\">\n",
       "  <thead>\n",
       "    <tr style=\"text-align: right;\">\n",
       "      <th></th>\n",
       "      <th>geometry</th>\n",
       "      <th>id</th>\n",
       "      <th>geohash</th>\n",
       "    </tr>\n",
       "  </thead>\n",
       "  <tbody>\n",
       "    <tr>\n",
       "      <th>8550</th>\n",
       "      <td>POLYGON ((-98.16099 26.88411, -98.16099 26.884...</td>\n",
       "      <td>2a61233c-8349-44f1-b6c3-3b4cbf10c700</td>\n",
       "      <td>9uf0yq1t</td>\n",
       "    </tr>\n",
       "    <tr>\n",
       "      <th>8924</th>\n",
       "      <td>POLYGON ((-98.05773 26.95524, -98.05773 26.955...</td>\n",
       "      <td>59b94d32-0ee0-4058-8e9c-b553bab8f9af</td>\n",
       "      <td>9uf32ehf</td>\n",
       "    </tr>\n",
       "    <tr>\n",
       "      <th>6293</th>\n",
       "      <td>POLYGON ((-98.04039 26.97207, -98.04039 26.972...</td>\n",
       "      <td>eeb3e809-c013-4e4b-9c5b-45ed21897623</td>\n",
       "      <td>9uf33n1m</td>\n",
       "    </tr>\n",
       "    <tr>\n",
       "      <th>3196</th>\n",
       "      <td>POLYGON ((-98.12466 26.99352, -98.12466 26.994...</td>\n",
       "      <td>6853b19a-766d-45f6-85fa-e41dc3e955e0</td>\n",
       "      <td>9uf1x45g</td>\n",
       "    </tr>\n",
       "    <tr>\n",
       "      <th>4445</th>\n",
       "      <td>POLYGON ((-98.28726 27.49576, -98.28726 27.496...</td>\n",
       "      <td>461afc10-e942-4c35-94fe-60c3d1bae1df</td>\n",
       "      <td>9ufh7mt8</td>\n",
       "    </tr>\n",
       "  </tbody>\n",
       "</table>\n",
       "</div>"
      ],
      "text/plain": [
       "                                               geometry  \\\n",
       "8550  POLYGON ((-98.16099 26.88411, -98.16099 26.884...   \n",
       "8924  POLYGON ((-98.05773 26.95524, -98.05773 26.955...   \n",
       "6293  POLYGON ((-98.04039 26.97207, -98.04039 26.972...   \n",
       "3196  POLYGON ((-98.12466 26.99352, -98.12466 26.994...   \n",
       "4445  POLYGON ((-98.28726 27.49576, -98.28726 27.496...   \n",
       "\n",
       "                                        id   geohash  \n",
       "8550  2a61233c-8349-44f1-b6c3-3b4cbf10c700  9uf0yq1t  \n",
       "8924  59b94d32-0ee0-4058-8e9c-b553bab8f9af  9uf32ehf  \n",
       "6293  eeb3e809-c013-4e4b-9c5b-45ed21897623  9uf33n1m  \n",
       "3196  6853b19a-766d-45f6-85fa-e41dc3e955e0  9uf1x45g  \n",
       "4445  461afc10-e942-4c35-94fe-60c3d1bae1df  9ufh7mt8  "
      ]
     },
     "execution_count": 583,
     "metadata": {},
     "output_type": "execute_result"
    }
   ],
   "source": [
    "prev_month_blobs.head()"
   ]
  },
  {
   "cell_type": "markdown",
   "metadata": {},
   "source": [
    "## Non-optimized process"
   ]
  },
  {
   "cell_type": "markdown",
   "metadata": {},
   "source": [
    "### 1. Data encoding, storage, and fetching"
   ]
  },
  {
   "cell_type": "markdown",
   "metadata": {},
   "source": [
    "We will use PostgreSQL and string storage for geographic information."
   ]
  },
  {
   "cell_type": "markdown",
   "metadata": {},
   "source": [
    "#### Make copy of polygon layer and convert to non-geospatial-native string (WKT) datatype"
   ]
  },
  {
   "cell_type": "code",
   "execution_count": 584,
   "metadata": {},
   "outputs": [],
   "source": [
    "# copy the gdfs\n",
    "prev_month_blobs_wkt = prev_month_blobs.copy()\n",
    "curr_month_blobs_wkt = curr_month_blobs.copy()"
   ]
  },
  {
   "cell_type": "code",
   "execution_count": 585,
   "metadata": {},
   "outputs": [
    {
     "name": "stdout",
     "output_type": "stream",
     "text": [
      "Function `convert_col_to_string` executed in 0.1498 sec, CPU: 9.90%, Memory: 49.22MB\n",
      "Function `convert_col_to_string` executed in 0.0534 sec, CPU: 0.00%, Memory: 0.34MB\n",
      "                                               geometry  \\\n",
      "8550  POLYGON ((-98.160994 26.884114, -98.160994 26....   \n",
      "8924  POLYGON ((-98.057729 26.955244, -98.057729 26....   \n",
      "6293  POLYGON ((-98.040389 26.972066, -98.040389 26....   \n",
      "3196  POLYGON ((-98.124658 26.993519, -98.124658 26....   \n",
      "4445  POLYGON ((-98.287261 27.495764, -98.287261 27....   \n",
      "\n",
      "                                        id   geohash  \n",
      "8550  2a61233c-8349-44f1-b6c3-3b4cbf10c700  9uf0yq1t  \n",
      "8924  59b94d32-0ee0-4058-8e9c-b553bab8f9af  9uf32ehf  \n",
      "6293  eeb3e809-c013-4e4b-9c5b-45ed21897623  9uf33n1m  \n",
      "3196  6853b19a-766d-45f6-85fa-e41dc3e955e0  9uf1x45g  \n",
      "4445  461afc10-e942-4c35-94fe-60c3d1bae1df  9ufh7mt8  \n"
     ]
    },
    {
     "name": "stderr",
     "output_type": "stream",
     "text": [
      "/Users/sra/files/projects/matching_optimization/helpers.py:305: UserWarning: Geometry column does not contain geometry.\n",
      "  return df\n",
      "/Users/sra/files/projects/matching_optimization/helpers.py:305: UserWarning: Geometry column does not contain geometry.\n",
      "  return df\n"
     ]
    }
   ],
   "source": [
    "# Convert WKT versions to strings\n",
    "dfs_to_convert = [prev_month_blobs_wkt, curr_month_blobs_wkt]\n",
    "prev_month_blobs_wkt, curr_month_blobs_wkt = [h.convert_col_to_string(df) for df in dfs_to_convert]\n",
    "\n",
    "# Check result\n",
    "print(prev_month_blobs_wkt.head())"
   ]
  },
  {
   "cell_type": "markdown",
   "metadata": {},
   "source": [
    "### Save in PostgreSQL database"
   ]
  },
  {
   "cell_type": "markdown",
   "metadata": {},
   "source": [
    "This is a simple version of what a \"non-geospatial-native\" data ingestion pipeline may look like, with the primary example being that the polygons are stored as strings, not in a spatial-friendly datatype."
   ]
  },
  {
   "cell_type": "code",
   "execution_count": 586,
   "metadata": {},
   "outputs": [
    {
     "name": "stdout",
     "output_type": "stream",
     "text": [
      "Function `df_itertuple` executed in 0.0050 sec, CPU: 0.00%, Memory: 0.00MB\n",
      "Function `df_itertuple` executed in 0.0044 sec, CPU: 0.00%, Memory: 0.00MB\n"
     ]
    }
   ],
   "source": [
    "# Convert to tuples\n",
    "prev_month_blobs_wkt = h.df_itertuple(prev_month_blobs_wkt)\n",
    "curr_month_blobs_wkt = h.df_itertuple(curr_month_blobs_wkt)"
   ]
  },
  {
   "cell_type": "markdown",
   "metadata": {},
   "source": [
    "Create PostgreSQL database if it doesn't exist already. We will be using the default settings. If they need to be adjusted, refer to [`helpers.py`](helpers.py)."
   ]
  },
  {
   "cell_type": "code",
   "execution_count": 587,
   "metadata": {},
   "outputs": [
    {
     "name": "stdout",
     "output_type": "stream",
     "text": [
      "Database blob_matching already exists.\n",
      "Function `create_pg_db` executed in 0.0734 sec, CPU: 0.00%, Memory: 0.00MB\n"
     ]
    }
   ],
   "source": [
    "h.create_pg_db()"
   ]
  },
  {
   "cell_type": "markdown",
   "metadata": {},
   "source": [
    "Create and insert into tables:"
   ]
  },
  {
   "cell_type": "code",
   "execution_count": 588,
   "metadata": {},
   "outputs": [
    {
     "data": {
      "text/html": [
       "<div>\n",
       "<style scoped>\n",
       "    .dataframe tbody tr th:only-of-type {\n",
       "        vertical-align: middle;\n",
       "    }\n",
       "\n",
       "    .dataframe tbody tr th {\n",
       "        vertical-align: top;\n",
       "    }\n",
       "\n",
       "    .dataframe thead th {\n",
       "        text-align: right;\n",
       "    }\n",
       "</style>\n",
       "<table border=\"1\" class=\"dataframe\">\n",
       "  <thead>\n",
       "    <tr style=\"text-align: right;\">\n",
       "      <th></th>\n",
       "      <th>geometry</th>\n",
       "      <th>id</th>\n",
       "      <th>geohash</th>\n",
       "    </tr>\n",
       "  </thead>\n",
       "  <tbody>\n",
       "    <tr>\n",
       "      <th>8550</th>\n",
       "      <td>POLYGON ((-98.16099 26.88411, -98.16099 26.884...</td>\n",
       "      <td>2a61233c-8349-44f1-b6c3-3b4cbf10c700</td>\n",
       "      <td>9uf0yq1t</td>\n",
       "    </tr>\n",
       "  </tbody>\n",
       "</table>\n",
       "</div>"
      ],
      "text/plain": [
       "                                               geometry  \\\n",
       "8550  POLYGON ((-98.16099 26.88411, -98.16099 26.884...   \n",
       "\n",
       "                                        id   geohash  \n",
       "8550  2a61233c-8349-44f1-b6c3-3b4cbf10c700  9uf0yq1t  "
      ]
     },
     "execution_count": 588,
     "metadata": {},
     "output_type": "execute_result"
    }
   ],
   "source": [
    "prev_month_blobs.head(1)"
   ]
  },
  {
   "cell_type": "code",
   "execution_count": 589,
   "metadata": {},
   "outputs": [
    {
     "data": {
      "text/plain": [
       "('POLYGON ((-98.160994 26.884114, -98.160994 26.884855, -98.160456 26.884855, -98.160456 26.884114, -98.160994 26.884114))',\n",
       " '2a61233c-8349-44f1-b6c3-3b4cbf10c700',\n",
       " '9uf0yq1t')"
      ]
     },
     "execution_count": 589,
     "metadata": {},
     "output_type": "execute_result"
    }
   ],
   "source": [
    "prev_month_blobs_wkt[0]"
   ]
  },
  {
   "cell_type": "code",
   "execution_count": 590,
   "metadata": {},
   "outputs": [
    {
     "name": "stdout",
     "output_type": "stream",
     "text": [
      "Table prev_blobs_wkt truncated.\n",
      "Inserted 10000 records into prev_blobs_wkt.\n",
      "Function `create_pg_table` executed in 0.7394 sec, CPU: 69.50%, Memory: 17.80MB\n",
      "Table curr_blobs_wkt truncated.\n",
      "Inserted 10000 records into curr_blobs_wkt.\n",
      "Function `create_pg_table` executed in 0.6693 sec, CPU: 27.90%, Memory: 6.95MB\n"
     ]
    }
   ],
   "source": [
    "h.create_pg_table(table_name='prev_blobs_wkt', data=prev_month_blobs_wkt, truncate=True)\n",
    "h.create_pg_table(table_name='curr_blobs_wkt', data=curr_month_blobs_wkt, truncate=True)"
   ]
  },
  {
   "cell_type": "markdown",
   "metadata": {},
   "source": [
    "Retrieve data as GeoDataFrames to confirm that it worked:"
   ]
  },
  {
   "cell_type": "code",
   "execution_count": 591,
   "metadata": {},
   "outputs": [
    {
     "name": "stdout",
     "output_type": "stream",
     "text": [
      "Retrieved 10000 records from prev_blobs_wkt.\n",
      "Function `retrieve_pg_table` executed in 0.1258 sec, CPU: 39.40%, Memory: 9.20MB\n",
      "Retrieved 10000 records from curr_blobs_wkt.\n",
      "Function `retrieve_pg_table` executed in 0.0628 sec, CPU: 55.30%, Memory: 4.48MB\n"
     ]
    }
   ],
   "source": [
    "df_prev = h.retrieve_pg_table(table_name='prev_blobs_wkt')\n",
    "df_curr = h.retrieve_pg_table(table_name='curr_blobs_wkt')"
   ]
  },
  {
   "cell_type": "markdown",
   "metadata": {},
   "source": [
    "Compare the tables before and after for a sanity check:"
   ]
  },
  {
   "cell_type": "code",
   "execution_count": 592,
   "metadata": {},
   "outputs": [
    {
     "data": {
      "text/html": [
       "<div>\n",
       "<style scoped>\n",
       "    .dataframe tbody tr th:only-of-type {\n",
       "        vertical-align: middle;\n",
       "    }\n",
       "\n",
       "    .dataframe tbody tr th {\n",
       "        vertical-align: top;\n",
       "    }\n",
       "\n",
       "    .dataframe thead th {\n",
       "        text-align: right;\n",
       "    }\n",
       "</style>\n",
       "<table border=\"1\" class=\"dataframe\">\n",
       "  <thead>\n",
       "    <tr style=\"text-align: right;\">\n",
       "      <th></th>\n",
       "      <th>geometry</th>\n",
       "      <th>id</th>\n",
       "      <th>geohash</th>\n",
       "    </tr>\n",
       "  </thead>\n",
       "  <tbody>\n",
       "    <tr>\n",
       "      <th>0</th>\n",
       "      <td>POLYGON ((-98.160994 26.884114, -98.160994 26....</td>\n",
       "      <td>2a61233c-8349-44f1-b6c3-3b4cbf10c700</td>\n",
       "      <td>9uf0yq1t</td>\n",
       "    </tr>\n",
       "    <tr>\n",
       "      <th>1</th>\n",
       "      <td>POLYGON ((-98.057729 26.955244, -98.057729 26....</td>\n",
       "      <td>59b94d32-0ee0-4058-8e9c-b553bab8f9af</td>\n",
       "      <td>9uf32ehf</td>\n",
       "    </tr>\n",
       "    <tr>\n",
       "      <th>2</th>\n",
       "      <td>POLYGON ((-98.040389 26.972066, -98.040389 26....</td>\n",
       "      <td>eeb3e809-c013-4e4b-9c5b-45ed21897623</td>\n",
       "      <td>9uf33n1m</td>\n",
       "    </tr>\n",
       "    <tr>\n",
       "      <th>3</th>\n",
       "      <td>POLYGON ((-98.124658 26.993519, -98.124658 26....</td>\n",
       "      <td>6853b19a-766d-45f6-85fa-e41dc3e955e0</td>\n",
       "      <td>9uf1x45g</td>\n",
       "    </tr>\n",
       "    <tr>\n",
       "      <th>4</th>\n",
       "      <td>POLYGON ((-98.287261 27.495764, -98.287261 27....</td>\n",
       "      <td>461afc10-e942-4c35-94fe-60c3d1bae1df</td>\n",
       "      <td>9ufh7mt8</td>\n",
       "    </tr>\n",
       "  </tbody>\n",
       "</table>\n",
       "</div>"
      ],
      "text/plain": [
       "                                            geometry  \\\n",
       "0  POLYGON ((-98.160994 26.884114, -98.160994 26....   \n",
       "1  POLYGON ((-98.057729 26.955244, -98.057729 26....   \n",
       "2  POLYGON ((-98.040389 26.972066, -98.040389 26....   \n",
       "3  POLYGON ((-98.124658 26.993519, -98.124658 26....   \n",
       "4  POLYGON ((-98.287261 27.495764, -98.287261 27....   \n",
       "\n",
       "                                     id   geohash  \n",
       "0  2a61233c-8349-44f1-b6c3-3b4cbf10c700  9uf0yq1t  \n",
       "1  59b94d32-0ee0-4058-8e9c-b553bab8f9af  9uf32ehf  \n",
       "2  eeb3e809-c013-4e4b-9c5b-45ed21897623  9uf33n1m  \n",
       "3  6853b19a-766d-45f6-85fa-e41dc3e955e0  9uf1x45g  \n",
       "4  461afc10-e942-4c35-94fe-60c3d1bae1df  9ufh7mt8  "
      ]
     },
     "execution_count": 592,
     "metadata": {},
     "output_type": "execute_result"
    }
   ],
   "source": [
    "df_prev.head()"
   ]
  },
  {
   "cell_type": "code",
   "execution_count": 593,
   "metadata": {},
   "outputs": [
    {
     "data": {
      "text/html": [
       "<div>\n",
       "<style scoped>\n",
       "    .dataframe tbody tr th:only-of-type {\n",
       "        vertical-align: middle;\n",
       "    }\n",
       "\n",
       "    .dataframe tbody tr th {\n",
       "        vertical-align: top;\n",
       "    }\n",
       "\n",
       "    .dataframe thead th {\n",
       "        text-align: right;\n",
       "    }\n",
       "</style>\n",
       "<table border=\"1\" class=\"dataframe\">\n",
       "  <thead>\n",
       "    <tr style=\"text-align: right;\">\n",
       "      <th></th>\n",
       "      <th>geometry</th>\n",
       "      <th>id</th>\n",
       "      <th>geohash</th>\n",
       "    </tr>\n",
       "  </thead>\n",
       "  <tbody>\n",
       "    <tr>\n",
       "      <th>8550</th>\n",
       "      <td>POLYGON ((-98.16099 26.88411, -98.16099 26.884...</td>\n",
       "      <td>2a61233c-8349-44f1-b6c3-3b4cbf10c700</td>\n",
       "      <td>9uf0yq1t</td>\n",
       "    </tr>\n",
       "    <tr>\n",
       "      <th>8924</th>\n",
       "      <td>POLYGON ((-98.05773 26.95524, -98.05773 26.955...</td>\n",
       "      <td>59b94d32-0ee0-4058-8e9c-b553bab8f9af</td>\n",
       "      <td>9uf32ehf</td>\n",
       "    </tr>\n",
       "    <tr>\n",
       "      <th>6293</th>\n",
       "      <td>POLYGON ((-98.04039 26.97207, -98.04039 26.972...</td>\n",
       "      <td>eeb3e809-c013-4e4b-9c5b-45ed21897623</td>\n",
       "      <td>9uf33n1m</td>\n",
       "    </tr>\n",
       "    <tr>\n",
       "      <th>3196</th>\n",
       "      <td>POLYGON ((-98.12466 26.99352, -98.12466 26.994...</td>\n",
       "      <td>6853b19a-766d-45f6-85fa-e41dc3e955e0</td>\n",
       "      <td>9uf1x45g</td>\n",
       "    </tr>\n",
       "    <tr>\n",
       "      <th>4445</th>\n",
       "      <td>POLYGON ((-98.28726 27.49576, -98.28726 27.496...</td>\n",
       "      <td>461afc10-e942-4c35-94fe-60c3d1bae1df</td>\n",
       "      <td>9ufh7mt8</td>\n",
       "    </tr>\n",
       "  </tbody>\n",
       "</table>\n",
       "</div>"
      ],
      "text/plain": [
       "                                               geometry  \\\n",
       "8550  POLYGON ((-98.16099 26.88411, -98.16099 26.884...   \n",
       "8924  POLYGON ((-98.05773 26.95524, -98.05773 26.955...   \n",
       "6293  POLYGON ((-98.04039 26.97207, -98.04039 26.972...   \n",
       "3196  POLYGON ((-98.12466 26.99352, -98.12466 26.994...   \n",
       "4445  POLYGON ((-98.28726 27.49576, -98.28726 27.496...   \n",
       "\n",
       "                                        id   geohash  \n",
       "8550  2a61233c-8349-44f1-b6c3-3b4cbf10c700  9uf0yq1t  \n",
       "8924  59b94d32-0ee0-4058-8e9c-b553bab8f9af  9uf32ehf  \n",
       "6293  eeb3e809-c013-4e4b-9c5b-45ed21897623  9uf33n1m  \n",
       "3196  6853b19a-766d-45f6-85fa-e41dc3e955e0  9uf1x45g  \n",
       "4445  461afc10-e942-4c35-94fe-60c3d1bae1df  9ufh7mt8  "
      ]
     },
     "execution_count": 593,
     "metadata": {},
     "output_type": "execute_result"
    }
   ],
   "source": [
    "prev_month_blobs.head()"
   ]
  },
  {
   "cell_type": "code",
   "execution_count": 594,
   "metadata": {},
   "outputs": [
    {
     "name": "stdout",
     "output_type": "stream",
     "text": [
      "Number of matching geometries: 10000\n",
      "Missing geometries in retrieved table: 0\n",
      "Extra geometries in retrieved table: 0\n"
     ]
    }
   ],
   "source": [
    "def round_geometry(geom, precision=6):\n",
    "    \"\"\"Round all coordinates of a geometry to a given precision.\"\"\"\n",
    "    return shapely.wkt.loads(shapely.wkt.dumps(geom, rounding_precision=precision))\n",
    "\n",
    "# Convert both to sets of rounded WKT strings\n",
    "set_prev_month_blobs = set(prev_month_blobs['geometry'].apply(lambda g: round_geometry(g, precision=6).wkt))\n",
    "set_df_prev = set(df_prev['geometry'].apply(lambda g: round_geometry(g, precision=6).wkt))\n",
    "\n",
    "# Find common, missing, and extra geometries\n",
    "common_geometries = set_prev_month_blobs & set_df_prev\n",
    "missing_from_retrieved = set_prev_month_blobs - set_df_prev\n",
    "extra_in_retrieved = set_df_prev - set_prev_month_blobs\n",
    "\n",
    "# Print summary\n",
    "print(f\"Number of matching geometries: {len(common_geometries)}\")\n",
    "print(f\"Missing geometries in retrieved table: {len(missing_from_retrieved)}\")\n",
    "print(f\"Extra geometries in retrieved table: {len(extra_in_retrieved)}\")\n",
    "\n",
    "# Show an example missing/extra geometry for debugging\n",
    "if missing_from_retrieved:\n",
    "    print(\"Example missing record:\", next(iter(missing_from_retrieved)))\n",
    "\n",
    "if extra_in_retrieved:\n",
    "    print(\"Example extra record:\", next(iter(extra_in_retrieved)))"
   ]
  },
  {
   "cell_type": "markdown",
   "metadata": {},
   "source": [
    "It worked!"
   ]
  },
  {
   "cell_type": "markdown",
   "metadata": {},
   "source": [
    "### 2. Matching"
   ]
  },
  {
   "cell_type": "markdown",
   "metadata": {},
   "source": [
    "We will match the polygons using GeoPandas."
   ]
  },
  {
   "cell_type": "code",
   "execution_count": 595,
   "metadata": {},
   "outputs": [],
   "source": [
    "# postgresql_details = h.pg_details()\n",
    "# h.run_parallel_matching(\n",
    "#     \"prev_blobs_wkt\", \"curr_blobs_wkt\", \"matched_results\",\n",
    "#     postgresql_details, \"blob_matching\", num_workers=4, batch_size=50\n",
    "# )"
   ]
  },
  {
   "cell_type": "code",
   "execution_count": 596,
   "metadata": {},
   "outputs": [
    {
     "name": "stdout",
     "output_type": "stream",
     "text": [
      "Retrieved 10000 records from prev_blobs_wkt.\n",
      "Function `run_parallel_matching` executed in 40.2449 sec, CPU: 15.50%, Memory: 461.84MB\n"
     ]
    }
   ],
   "source": [
    "postgresql_details = h.pg_details()\n",
    "h.run_parallel_matching(table_prev='prev_blobs_wkt', \n",
    "                        table_curr='curr_blobs_wkt', \n",
    "                        output_table='matched_results', \n",
    "                        postgresql_details=postgresql_details, \n",
    "                        db_name='blob_matching', \n",
    "                        num_workers=4, \n",
    "                        batch_size=100)"
   ]
  },
  {
   "cell_type": "code",
   "execution_count": null,
   "metadata": {},
   "outputs": [],
   "source": []
  },
  {
   "cell_type": "markdown",
   "metadata": {},
   "source": [
    "Baseline - Polygon Matching Only"
   ]
  },
  {
   "cell_type": "markdown",
   "metadata": {},
   "source": []
  },
  {
   "cell_type": "code",
   "execution_count": null,
   "metadata": {},
   "outputs": [],
   "source": []
  },
  {
   "cell_type": "code",
   "execution_count": null,
   "metadata": {},
   "outputs": [],
   "source": []
  },
  {
   "cell_type": "markdown",
   "metadata": {},
   "source": [
    "geohash polygon into a larger region\n",
    "match blobs using multiprocessing (mp.Process) and geopandas\n",
    "find blobs from previous month that do not have a match\n",
    "\n",
    "# 1 imports and setup\n",
    "\n",
    "```python\n",
    "import os, sys, traceback\n",
    "import argparse\n",
    "import cv2\n",
    "import time\n",
    "import numpy as np\n",
    "import pandas as pd\n",
    "import geopandas as gpd\n",
    "from skimage import io, color, measure\n",
    "from tqdm import tqdm\n",
    "from shapely import wkt\n",
    "from shapely.geometry import Point, Polygon\n",
    "from shapely.validation import make_valid\n",
    "import PIL\n",
    "from PIL import Image, ImageDraw, ImageEnhance\n",
    "import uuid\n",
    "import multiprocessing as mp\n",
    "from datetime import datetime\n",
    "from sqlalchemy import or_\n",
    "from sqlmodel import SQLModel, Session, create_engine, select\n",
    "from pathlib import Path\n",
    "```\n",
    "\n",
    "## Key takeaways\n",
    "- Uses Pandas and GeoPandas for data processing.\n",
    "- Uses Shapely for geospatial geometry operations.\n",
    "- Uses multiprocessing (mp) to parallelize the blob-matching process.\n",
    "- Uses SQLAlchemy and SQLModel for database operations.\n",
    "\n",
    "# 2 High-level script overview\n",
    "The script is designed to match blobs (spatial objects) between two months and classify them into different business categories.\n",
    "\n",
    "General Workflow\n",
    "1. Fetch blobs from the previous and current months.\n",
    "1. Convert the region of interest (state, city, county, or geohash) into a list of geohashes.\n",
    "1. Parallelized Matching Process:\n",
    "1. Process multiple geohashes at once using multiprocessing.\n",
    "1. Find corresponding blobs from previous months for each geohash.\n",
    "1. Classify blobs based on construction stage progression.\n",
    "1. Identify blobs that are missing in the current month and \"impute\" them.\n",
    "1. Save results into the database.\n",
    "\n",
    "# 3 Blob classification logic\n",
    "\n",
    "# 4 Blob matching\n",
    "\n",
    "- Matches blobs between months using polygon intersections.\n",
    "- Uses Shapely to validate geometries and check for overlaps.\n",
    "- Returns matched blob IDs.\n",
    "\n",
    "## Multiprocessing Optimization\n",
    "The script parallelizes blob matching by:\n",
    "- Uses multiprocessing (mp.Process) to divide the dataset into smaller batches.\n",
    "- Each batch of blobs is processed in parallel.\n",
    "- Reduces runtime compared to a single-threaded approach.\n",
    "\n",
    "# 5 Handling unmatched blobs\n",
    "- Finds blobs from the previous month that do not have a match in the current month.\n",
    "- These blobs are \"imputed\", meaning they are carried over into the new month.\n",
    "\n",
    "# 6 Main class to orchestrate process\n",
    "- Loads previous and current month blobs.\n",
    "- Converts input regions (state, city, county) into geohashes.\n",
    "\n",
    "# Summary\n",
    "- Parallel processing is used to match blobs.\n",
    "- Blobs are classified based on construction stages.\n",
    "- Unmatched blobs are imputed for continuity.\n",
    "- The script writes results to a database."
   ]
  },
  {
   "cell_type": "markdown",
   "metadata": {},
   "source": []
  }
 ],
 "metadata": {
  "kernelspec": {
   "display_name": "geo",
   "language": "python",
   "name": "python3"
  },
  "language_info": {
   "codemirror_mode": {
    "name": "ipython",
    "version": 3
   },
   "file_extension": ".py",
   "mimetype": "text/x-python",
   "name": "python",
   "nbconvert_exporter": "python",
   "pygments_lexer": "ipython3",
   "version": "3.11.8"
  }
 },
 "nbformat": 4,
 "nbformat_minor": 2
}
