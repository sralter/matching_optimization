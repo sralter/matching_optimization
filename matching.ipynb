{
 "cells": [
  {
   "cell_type": "markdown",
   "metadata": {},
   "source": [
    "# Geospatial Matching Optimization"
   ]
  },
  {
   "cell_type": "markdown",
   "metadata": {},
   "source": [
    "This project is designed to showcase how to improve the speed of a polygon matching procedure. There are two main areas that could benefit from taking a \"geospatial-native\" approach:\n",
    "\n",
    "1. Data encoding, fetching, and storage\n",
    "2. Matching\n",
    "\n",
    "We will generate synthetic polygon data and use both a non-geospatial-native and geospatial-native approach, comparing execution time for both to see how they differ."
   ]
  },
  {
   "cell_type": "markdown",
   "metadata": {},
   "source": [
    "Note: Make sure that you have PostgreSQL running."
   ]
  },
  {
   "cell_type": "markdown",
   "metadata": {},
   "source": [
    "## Imports"
   ]
  },
  {
   "cell_type": "code",
   "execution_count": 635,
   "metadata": {},
   "outputs": [
    {
     "data": {
      "text/plain": [
       "<module 'helpers' from '/Users/sra/files/projects/matching_optimization/helpers.py'>"
      ]
     },
     "execution_count": 635,
     "metadata": {},
     "output_type": "execute_result"
    }
   ],
   "source": [
    "import geopandas as gpd\n",
    "import pandas as pd\n",
    "import shapely\n",
    "import h3\n",
    "import time\n",
    "import helpers as h\n",
    "import matplotlib.pyplot as plt\n",
    "from shapely.wkt import dumps, loads\n",
    "from pathlib import Path\n",
    "import multiprocessing as mp\n",
    "\n",
    "# ensure helpers is loaded correctly\n",
    "import importlib\n",
    "importlib.reload(h)"
   ]
  },
  {
   "cell_type": "markdown",
   "metadata": {},
   "source": [
    "## Generate Test Data"
   ]
  },
  {
   "cell_type": "code",
   "execution_count": null,
   "metadata": {},
   "outputs": [],
   "source": [
    "# Create two blobs of data\n",
    "prev_month_blobs = h.generate_random_polygons(n=10000)\n",
    "curr_month_blobs = h.generate_random_polygons(n=10000)"
   ]
  },
  {
   "cell_type": "code",
   "execution_count": null,
   "metadata": {},
   "outputs": [
    {
     "data": {
      "text/html": [
       "<div>\n",
       "<style scoped>\n",
       "    .dataframe tbody tr th:only-of-type {\n",
       "        vertical-align: middle;\n",
       "    }\n",
       "\n",
       "    .dataframe tbody tr th {\n",
       "        vertical-align: top;\n",
       "    }\n",
       "\n",
       "    .dataframe thead th {\n",
       "        text-align: right;\n",
       "    }\n",
       "</style>\n",
       "<table border=\"1\" class=\"dataframe\">\n",
       "  <thead>\n",
       "    <tr style=\"text-align: right;\">\n",
       "      <th></th>\n",
       "      <th>geometry</th>\n",
       "      <th>id</th>\n",
       "      <th>geohash</th>\n",
       "    </tr>\n",
       "  </thead>\n",
       "  <tbody>\n",
       "    <tr>\n",
       "      <th>6557</th>\n",
       "      <td>POLYGON ((-97.86914 26.73168, -97.86914 26.731...</td>\n",
       "      <td>858982f0-34d8-4fc6-b2a3-e49ea4a2db93</td>\n",
       "      <td>9uf2hfmu</td>\n",
       "    </tr>\n",
       "    <tr>\n",
       "      <th>7146</th>\n",
       "      <td>POLYGON ((-97.87858 26.95112, -97.87858 26.951...</td>\n",
       "      <td>14d08727-b223-4fdd-a354-b5d8a6e01bdc</td>\n",
       "      <td>9uf3kdr4</td>\n",
       "    </tr>\n",
       "    <tr>\n",
       "      <th>7931</th>\n",
       "      <td>POLYGON ((-98.17879 26.99046, -98.17879 26.990...</td>\n",
       "      <td>5e34d5f2-a790-4232-9c8d-08644768a7ea</td>\n",
       "      <td>9uf1tckx</td>\n",
       "    </tr>\n",
       "    <tr>\n",
       "      <th>7610</th>\n",
       "      <td>POLYGON ((-98.33691 27.27728, -98.33691 27.277...</td>\n",
       "      <td>4b9120db-fa0d-4363-bb9f-c46d95918fc4</td>\n",
       "      <td>9uf54m9r</td>\n",
       "    </tr>\n",
       "    <tr>\n",
       "      <th>4987</th>\n",
       "      <td>POLYGON ((-97.80132 27.48900, -97.80132 27.489...</td>\n",
       "      <td>db23a2fd-c61e-4836-97ff-edce895767d1</td>\n",
       "      <td>9ufkqkpr</td>\n",
       "    </tr>\n",
       "  </tbody>\n",
       "</table>\n",
       "</div>"
      ],
      "text/plain": [
       "                                               geometry  \\\n",
       "6557  POLYGON ((-97.86914 26.73168, -97.86914 26.731...   \n",
       "7146  POLYGON ((-97.87858 26.95112, -97.87858 26.951...   \n",
       "7931  POLYGON ((-98.17879 26.99046, -98.17879 26.990...   \n",
       "7610  POLYGON ((-98.33691 27.27728, -98.33691 27.277...   \n",
       "4987  POLYGON ((-97.80132 27.48900, -97.80132 27.489...   \n",
       "\n",
       "                                        id   geohash  \n",
       "6557  858982f0-34d8-4fc6-b2a3-e49ea4a2db93  9uf2hfmu  \n",
       "7146  14d08727-b223-4fdd-a354-b5d8a6e01bdc  9uf3kdr4  \n",
       "7931  5e34d5f2-a790-4232-9c8d-08644768a7ea  9uf1tckx  \n",
       "7610  4b9120db-fa0d-4363-bb9f-c46d95918fc4  9uf54m9r  \n",
       "4987  db23a2fd-c61e-4836-97ff-edce895767d1  9ufkqkpr  "
      ]
     },
     "execution_count": 618,
     "metadata": {},
     "output_type": "execute_result"
    }
   ],
   "source": [
    "prev_month_blobs.head()"
   ]
  },
  {
   "cell_type": "code",
   "execution_count": null,
   "metadata": {},
   "outputs": [
    {
     "data": {
      "text/html": [
       "<div>\n",
       "<style scoped>\n",
       "    .dataframe tbody tr th:only-of-type {\n",
       "        vertical-align: middle;\n",
       "    }\n",
       "\n",
       "    .dataframe tbody tr th {\n",
       "        vertical-align: top;\n",
       "    }\n",
       "\n",
       "    .dataframe thead th {\n",
       "        text-align: right;\n",
       "    }\n",
       "</style>\n",
       "<table border=\"1\" class=\"dataframe\">\n",
       "  <thead>\n",
       "    <tr style=\"text-align: right;\">\n",
       "      <th></th>\n",
       "      <th>geometry</th>\n",
       "      <th>id</th>\n",
       "      <th>geohash</th>\n",
       "    </tr>\n",
       "  </thead>\n",
       "  <tbody>\n",
       "    <tr>\n",
       "      <th>2408</th>\n",
       "      <td>POLYGON ((-97.85179 26.59206, -97.85179 26.592...</td>\n",
       "      <td>f5415bb4-e38b-4210-8055-e3cafb0c0479</td>\n",
       "      <td>9udrm2fz</td>\n",
       "    </tr>\n",
       "    <tr>\n",
       "      <th>7133</th>\n",
       "      <td>POLYGON ((-97.90133 26.78679, -97.90133 26.787...</td>\n",
       "      <td>604d6d8e-14f6-48d0-ad30-ae57f649f392</td>\n",
       "      <td>9uf2khqw</td>\n",
       "    </tr>\n",
       "    <tr>\n",
       "      <th>2680</th>\n",
       "      <td>POLYGON ((-98.05069 26.88622, -98.05069 26.887...</td>\n",
       "      <td>95fe4c40-09fd-4d8c-9e3f-e6f16929602b</td>\n",
       "      <td>9uf2by9f</td>\n",
       "    </tr>\n",
       "    <tr>\n",
       "      <th>5879</th>\n",
       "      <td>POLYGON ((-98.26851 27.26602, -98.26851 27.266...</td>\n",
       "      <td>76a1ffe4-92e5-4626-9729-2655ade15b91</td>\n",
       "      <td>9uf55geq</td>\n",
       "    </tr>\n",
       "    <tr>\n",
       "      <th>2612</th>\n",
       "      <td>POLYGON ((-98.05534 27.37249, -98.05534 27.372...</td>\n",
       "      <td>d70a5485-1929-4f4b-a2a4-2fcaff1e1f39</td>\n",
       "      <td>9uf78xn8</td>\n",
       "    </tr>\n",
       "  </tbody>\n",
       "</table>\n",
       "</div>"
      ],
      "text/plain": [
       "                                               geometry  \\\n",
       "2408  POLYGON ((-97.85179 26.59206, -97.85179 26.592...   \n",
       "7133  POLYGON ((-97.90133 26.78679, -97.90133 26.787...   \n",
       "2680  POLYGON ((-98.05069 26.88622, -98.05069 26.887...   \n",
       "5879  POLYGON ((-98.26851 27.26602, -98.26851 27.266...   \n",
       "2612  POLYGON ((-98.05534 27.37249, -98.05534 27.372...   \n",
       "\n",
       "                                        id   geohash  \n",
       "2408  f5415bb4-e38b-4210-8055-e3cafb0c0479  9udrm2fz  \n",
       "7133  604d6d8e-14f6-48d0-ad30-ae57f649f392  9uf2khqw  \n",
       "2680  95fe4c40-09fd-4d8c-9e3f-e6f16929602b  9uf2by9f  \n",
       "5879  76a1ffe4-92e5-4626-9729-2655ade15b91  9uf55geq  \n",
       "2612  d70a5485-1929-4f4b-a2a4-2fcaff1e1f39  9uf78xn8  "
      ]
     },
     "execution_count": 619,
     "metadata": {},
     "output_type": "execute_result"
    }
   ],
   "source": [
    "curr_month_blobs.head()"
   ]
  },
  {
   "cell_type": "code",
   "execution_count": null,
   "metadata": {},
   "outputs": [],
   "source": [
    "# make data folder\n",
    "Path('data/').mkdir(exist_ok=True)\n",
    "\n",
    "# save as geoparquet\n",
    "prev_month_blobs.to_parquet('data/prev_month_blobs.parquet')\n",
    "curr_month_blobs.to_parquet('data/curr_month_blobs.parquet')"
   ]
  },
  {
   "cell_type": "code",
   "execution_count": null,
   "metadata": {},
   "outputs": [],
   "source": [
    "# range_ = 10000\n",
    "\n",
    "# fig, ax = plt.subplots(figsize=(5, 5))\n",
    "# prev_month_blobs.iloc[0:range_].plot(ax=ax)\n",
    "# ax.set_title(f'Viewing the first {range_} blobs')\n",
    "# plt.tight_layout()\n",
    "\n",
    "# plt.show()"
   ]
  },
  {
   "cell_type": "code",
   "execution_count": null,
   "metadata": {},
   "outputs": [
    {
     "data": {
      "text/html": [
       "<div>\n",
       "<style scoped>\n",
       "    .dataframe tbody tr th:only-of-type {\n",
       "        vertical-align: middle;\n",
       "    }\n",
       "\n",
       "    .dataframe tbody tr th {\n",
       "        vertical-align: top;\n",
       "    }\n",
       "\n",
       "    .dataframe thead th {\n",
       "        text-align: right;\n",
       "    }\n",
       "</style>\n",
       "<table border=\"1\" class=\"dataframe\">\n",
       "  <thead>\n",
       "    <tr style=\"text-align: right;\">\n",
       "      <th></th>\n",
       "      <th>geometry</th>\n",
       "      <th>id</th>\n",
       "      <th>geohash</th>\n",
       "    </tr>\n",
       "  </thead>\n",
       "  <tbody>\n",
       "    <tr>\n",
       "      <th>6557</th>\n",
       "      <td>POLYGON ((-97.86914 26.73168, -97.86914 26.731...</td>\n",
       "      <td>858982f0-34d8-4fc6-b2a3-e49ea4a2db93</td>\n",
       "      <td>9uf2hfmu</td>\n",
       "    </tr>\n",
       "    <tr>\n",
       "      <th>7146</th>\n",
       "      <td>POLYGON ((-97.87858 26.95112, -97.87858 26.951...</td>\n",
       "      <td>14d08727-b223-4fdd-a354-b5d8a6e01bdc</td>\n",
       "      <td>9uf3kdr4</td>\n",
       "    </tr>\n",
       "    <tr>\n",
       "      <th>7931</th>\n",
       "      <td>POLYGON ((-98.17879 26.99046, -98.17879 26.990...</td>\n",
       "      <td>5e34d5f2-a790-4232-9c8d-08644768a7ea</td>\n",
       "      <td>9uf1tckx</td>\n",
       "    </tr>\n",
       "    <tr>\n",
       "      <th>7610</th>\n",
       "      <td>POLYGON ((-98.33691 27.27728, -98.33691 27.277...</td>\n",
       "      <td>4b9120db-fa0d-4363-bb9f-c46d95918fc4</td>\n",
       "      <td>9uf54m9r</td>\n",
       "    </tr>\n",
       "    <tr>\n",
       "      <th>4987</th>\n",
       "      <td>POLYGON ((-97.80132 27.48900, -97.80132 27.489...</td>\n",
       "      <td>db23a2fd-c61e-4836-97ff-edce895767d1</td>\n",
       "      <td>9ufkqkpr</td>\n",
       "    </tr>\n",
       "  </tbody>\n",
       "</table>\n",
       "</div>"
      ],
      "text/plain": [
       "                                               geometry  \\\n",
       "6557  POLYGON ((-97.86914 26.73168, -97.86914 26.731...   \n",
       "7146  POLYGON ((-97.87858 26.95112, -97.87858 26.951...   \n",
       "7931  POLYGON ((-98.17879 26.99046, -98.17879 26.990...   \n",
       "7610  POLYGON ((-98.33691 27.27728, -98.33691 27.277...   \n",
       "4987  POLYGON ((-97.80132 27.48900, -97.80132 27.489...   \n",
       "\n",
       "                                        id   geohash  \n",
       "6557  858982f0-34d8-4fc6-b2a3-e49ea4a2db93  9uf2hfmu  \n",
       "7146  14d08727-b223-4fdd-a354-b5d8a6e01bdc  9uf3kdr4  \n",
       "7931  5e34d5f2-a790-4232-9c8d-08644768a7ea  9uf1tckx  \n",
       "7610  4b9120db-fa0d-4363-bb9f-c46d95918fc4  9uf54m9r  \n",
       "4987  db23a2fd-c61e-4836-97ff-edce895767d1  9ufkqkpr  "
      ]
     },
     "execution_count": 622,
     "metadata": {},
     "output_type": "execute_result"
    }
   ],
   "source": [
    "prev_month_blobs.head()"
   ]
  },
  {
   "cell_type": "markdown",
   "metadata": {},
   "source": [
    "## Non-optimized process"
   ]
  },
  {
   "cell_type": "markdown",
   "metadata": {},
   "source": [
    "### 1. Data encoding, storage, and fetching"
   ]
  },
  {
   "cell_type": "markdown",
   "metadata": {},
   "source": [
    "We will use PostgreSQL and string storage for geographic information."
   ]
  },
  {
   "cell_type": "markdown",
   "metadata": {},
   "source": [
    "#### Make copy of polygon layer and convert to non-geospatial-native string (WKT) datatype"
   ]
  },
  {
   "cell_type": "code",
   "execution_count": null,
   "metadata": {},
   "outputs": [],
   "source": [
    "# copy the gdfs\n",
    "prev_month_blobs_wkt = prev_month_blobs.copy()\n",
    "curr_month_blobs_wkt = curr_month_blobs.copy()"
   ]
  },
  {
   "cell_type": "code",
   "execution_count": null,
   "metadata": {},
   "outputs": [
    {
     "name": "stdout",
     "output_type": "stream",
     "text": [
      "Function `convert_col_to_string` executed in 0.0490 sec, CPU: 26.90%, Memory: 0.86MB\n",
      "Function `convert_col_to_string` executed in 0.0516 sec, CPU: 53.50%, Memory: 14.22MB\n",
      "                                               geometry  \\\n",
      "6557  POLYGON ((-97.869141 26.731683, -97.869141 26....   \n",
      "7146  POLYGON ((-97.878577 26.951121, -97.878577 26....   \n",
      "7931  POLYGON ((-98.178786 26.990459, -98.178786 26....   \n",
      "7610  POLYGON ((-98.336905 27.27728, -98.336905 27.2...   \n",
      "4987  POLYGON ((-97.801315 27.489001, -97.801315 27....   \n",
      "\n",
      "                                        id   geohash  \n",
      "6557  858982f0-34d8-4fc6-b2a3-e49ea4a2db93  9uf2hfmu  \n",
      "7146  14d08727-b223-4fdd-a354-b5d8a6e01bdc  9uf3kdr4  \n",
      "7931  5e34d5f2-a790-4232-9c8d-08644768a7ea  9uf1tckx  \n",
      "7610  4b9120db-fa0d-4363-bb9f-c46d95918fc4  9uf54m9r  \n",
      "4987  db23a2fd-c61e-4836-97ff-edce895767d1  9ufkqkpr  \n"
     ]
    },
    {
     "name": "stderr",
     "output_type": "stream",
     "text": [
      "/Users/sra/files/projects/matching_optimization/helpers.py:305: UserWarning: Geometry column does not contain geometry.\n",
      "  df[col] = df[col].apply(lambda geom: to_wkt(geom) if isinstance(geom, BaseGeometry) else str(geom))\n",
      "/Users/sra/files/projects/matching_optimization/helpers.py:305: UserWarning: Geometry column does not contain geometry.\n",
      "  df[col] = df[col].apply(lambda geom: to_wkt(geom) if isinstance(geom, BaseGeometry) else str(geom))\n"
     ]
    }
   ],
   "source": [
    "# Convert WKT versions to strings\n",
    "dfs_to_convert = [prev_month_blobs_wkt, curr_month_blobs_wkt]\n",
    "prev_month_blobs_wkt, curr_month_blobs_wkt = [h.convert_col_to_string(df) for df in dfs_to_convert]\n",
    "\n",
    "# Check result\n",
    "print(prev_month_blobs_wkt.head())"
   ]
  },
  {
   "cell_type": "markdown",
   "metadata": {},
   "source": [
    "### Save in PostgreSQL database"
   ]
  },
  {
   "cell_type": "markdown",
   "metadata": {},
   "source": [
    "This is a simple version of what a \"non-geospatial-native\" data ingestion pipeline may look like, with the primary example being that the polygons are stored as strings, not in a spatial-friendly datatype."
   ]
  },
  {
   "cell_type": "code",
   "execution_count": null,
   "metadata": {},
   "outputs": [
    {
     "name": "stdout",
     "output_type": "stream",
     "text": [
      "Function `df_itertuple` executed in 0.0026 sec, CPU: 0.00%, Memory: 0.30MB\n",
      "Function `df_itertuple` executed in 0.0024 sec, CPU: 0.00%, Memory: 0.06MB\n"
     ]
    }
   ],
   "source": [
    "# Convert to tuples\n",
    "prev_month_blobs_wkt = h.df_itertuple(prev_month_blobs_wkt)\n",
    "curr_month_blobs_wkt = h.df_itertuple(curr_month_blobs_wkt)"
   ]
  },
  {
   "cell_type": "markdown",
   "metadata": {},
   "source": [
    "Create PostgreSQL database if it doesn't exist already. We will be using the default settings. If they need to be adjusted, refer to [`helpers.py`](helpers.py)."
   ]
  },
  {
   "cell_type": "code",
   "execution_count": null,
   "metadata": {},
   "outputs": [
    {
     "name": "stdout",
     "output_type": "stream",
     "text": [
      "Database blob_matching already exists.\n",
      "Function `create_pg_db` executed in 0.0345 sec, CPU: 0.00%, Memory: 0.00MB\n"
     ]
    }
   ],
   "source": [
    "h.create_pg_db()"
   ]
  },
  {
   "cell_type": "markdown",
   "metadata": {},
   "source": [
    "Create and insert into tables:"
   ]
  },
  {
   "cell_type": "code",
   "execution_count": null,
   "metadata": {},
   "outputs": [
    {
     "data": {
      "text/html": [
       "<div>\n",
       "<style scoped>\n",
       "    .dataframe tbody tr th:only-of-type {\n",
       "        vertical-align: middle;\n",
       "    }\n",
       "\n",
       "    .dataframe tbody tr th {\n",
       "        vertical-align: top;\n",
       "    }\n",
       "\n",
       "    .dataframe thead th {\n",
       "        text-align: right;\n",
       "    }\n",
       "</style>\n",
       "<table border=\"1\" class=\"dataframe\">\n",
       "  <thead>\n",
       "    <tr style=\"text-align: right;\">\n",
       "      <th></th>\n",
       "      <th>geometry</th>\n",
       "      <th>id</th>\n",
       "      <th>geohash</th>\n",
       "    </tr>\n",
       "  </thead>\n",
       "  <tbody>\n",
       "    <tr>\n",
       "      <th>6557</th>\n",
       "      <td>POLYGON ((-97.86914 26.73168, -97.86914 26.731...</td>\n",
       "      <td>858982f0-34d8-4fc6-b2a3-e49ea4a2db93</td>\n",
       "      <td>9uf2hfmu</td>\n",
       "    </tr>\n",
       "  </tbody>\n",
       "</table>\n",
       "</div>"
      ],
      "text/plain": [
       "                                               geometry  \\\n",
       "6557  POLYGON ((-97.86914 26.73168, -97.86914 26.731...   \n",
       "\n",
       "                                        id   geohash  \n",
       "6557  858982f0-34d8-4fc6-b2a3-e49ea4a2db93  9uf2hfmu  "
      ]
     },
     "execution_count": 627,
     "metadata": {},
     "output_type": "execute_result"
    }
   ],
   "source": [
    "prev_month_blobs.head(1)"
   ]
  },
  {
   "cell_type": "code",
   "execution_count": null,
   "metadata": {},
   "outputs": [
    {
     "data": {
      "text/plain": [
       "('POLYGON ((-97.869141 26.731683, -97.869141 26.731994, -97.868777 26.731994, -97.868777 26.731683, -97.869141 26.731683))',\n",
       " '858982f0-34d8-4fc6-b2a3-e49ea4a2db93',\n",
       " '9uf2hfmu')"
      ]
     },
     "execution_count": 628,
     "metadata": {},
     "output_type": "execute_result"
    }
   ],
   "source": [
    "prev_month_blobs_wkt[0]"
   ]
  },
  {
   "cell_type": "code",
   "execution_count": null,
   "metadata": {},
   "outputs": [
    {
     "name": "stdout",
     "output_type": "stream",
     "text": [
      "Table prev_blobs_wkt truncated.\n",
      "Inserted 10000 records into prev_blobs_wkt.\n",
      "Function `create_pg_table` executed in 0.4518 sec, CPU: 0.00%, Memory: 0.00MB\n",
      "Table curr_blobs_wkt truncated.\n",
      "Inserted 10000 records into curr_blobs_wkt.\n",
      "Function `create_pg_table` executed in 0.3738 sec, CPU: 36.10%, Memory: 13.91MB\n"
     ]
    }
   ],
   "source": [
    "h.create_pg_table(table_name='prev_blobs_wkt', data=prev_month_blobs_wkt, truncate=True)\n",
    "h.create_pg_table(table_name='curr_blobs_wkt', data=curr_month_blobs_wkt, truncate=True)"
   ]
  },
  {
   "cell_type": "markdown",
   "metadata": {},
   "source": [
    "Retrieve data as GeoDataFrames to confirm that it worked:"
   ]
  },
  {
   "cell_type": "code",
   "execution_count": null,
   "metadata": {},
   "outputs": [
    {
     "name": "stdout",
     "output_type": "stream",
     "text": [
      "Retrieved 10000 records from prev_blobs_wkt.\n",
      "Function `retrieve_pg_table` executed in 0.0454 sec, CPU: 5.90%, Memory: 0.52MB\n",
      "Retrieved 10000 records from curr_blobs_wkt.\n",
      "Function `retrieve_pg_table` executed in 0.0430 sec, CPU: 33.30%, Memory: 0.78MB\n"
     ]
    }
   ],
   "source": [
    "df_prev = h.retrieve_pg_table(table_name='prev_blobs_wkt')\n",
    "df_curr = h.retrieve_pg_table(table_name='curr_blobs_wkt')"
   ]
  },
  {
   "cell_type": "markdown",
   "metadata": {},
   "source": [
    "Compare the tables before and after for a sanity check:"
   ]
  },
  {
   "cell_type": "code",
   "execution_count": null,
   "metadata": {},
   "outputs": [
    {
     "data": {
      "text/html": [
       "<div>\n",
       "<style scoped>\n",
       "    .dataframe tbody tr th:only-of-type {\n",
       "        vertical-align: middle;\n",
       "    }\n",
       "\n",
       "    .dataframe tbody tr th {\n",
       "        vertical-align: top;\n",
       "    }\n",
       "\n",
       "    .dataframe thead th {\n",
       "        text-align: right;\n",
       "    }\n",
       "</style>\n",
       "<table border=\"1\" class=\"dataframe\">\n",
       "  <thead>\n",
       "    <tr style=\"text-align: right;\">\n",
       "      <th></th>\n",
       "      <th>geometry</th>\n",
       "      <th>id</th>\n",
       "      <th>geohash</th>\n",
       "    </tr>\n",
       "  </thead>\n",
       "  <tbody>\n",
       "    <tr>\n",
       "      <th>0</th>\n",
       "      <td>POLYGON ((-97.869141 26.731683, -97.869141 26....</td>\n",
       "      <td>858982f0-34d8-4fc6-b2a3-e49ea4a2db93</td>\n",
       "      <td>9uf2hfmu</td>\n",
       "    </tr>\n",
       "    <tr>\n",
       "      <th>1</th>\n",
       "      <td>POLYGON ((-97.878577 26.951121, -97.878577 26....</td>\n",
       "      <td>14d08727-b223-4fdd-a354-b5d8a6e01bdc</td>\n",
       "      <td>9uf3kdr4</td>\n",
       "    </tr>\n",
       "    <tr>\n",
       "      <th>2</th>\n",
       "      <td>POLYGON ((-98.178786 26.990459, -98.178786 26....</td>\n",
       "      <td>5e34d5f2-a790-4232-9c8d-08644768a7ea</td>\n",
       "      <td>9uf1tckx</td>\n",
       "    </tr>\n",
       "    <tr>\n",
       "      <th>3</th>\n",
       "      <td>POLYGON ((-98.336905 27.27728, -98.336905 27.2...</td>\n",
       "      <td>4b9120db-fa0d-4363-bb9f-c46d95918fc4</td>\n",
       "      <td>9uf54m9r</td>\n",
       "    </tr>\n",
       "    <tr>\n",
       "      <th>4</th>\n",
       "      <td>POLYGON ((-97.801315 27.489001, -97.801315 27....</td>\n",
       "      <td>db23a2fd-c61e-4836-97ff-edce895767d1</td>\n",
       "      <td>9ufkqkpr</td>\n",
       "    </tr>\n",
       "  </tbody>\n",
       "</table>\n",
       "</div>"
      ],
      "text/plain": [
       "                                            geometry  \\\n",
       "0  POLYGON ((-97.869141 26.731683, -97.869141 26....   \n",
       "1  POLYGON ((-97.878577 26.951121, -97.878577 26....   \n",
       "2  POLYGON ((-98.178786 26.990459, -98.178786 26....   \n",
       "3  POLYGON ((-98.336905 27.27728, -98.336905 27.2...   \n",
       "4  POLYGON ((-97.801315 27.489001, -97.801315 27....   \n",
       "\n",
       "                                     id   geohash  \n",
       "0  858982f0-34d8-4fc6-b2a3-e49ea4a2db93  9uf2hfmu  \n",
       "1  14d08727-b223-4fdd-a354-b5d8a6e01bdc  9uf3kdr4  \n",
       "2  5e34d5f2-a790-4232-9c8d-08644768a7ea  9uf1tckx  \n",
       "3  4b9120db-fa0d-4363-bb9f-c46d95918fc4  9uf54m9r  \n",
       "4  db23a2fd-c61e-4836-97ff-edce895767d1  9ufkqkpr  "
      ]
     },
     "execution_count": 631,
     "metadata": {},
     "output_type": "execute_result"
    }
   ],
   "source": [
    "df_prev.head()"
   ]
  },
  {
   "cell_type": "code",
   "execution_count": null,
   "metadata": {},
   "outputs": [
    {
     "data": {
      "text/html": [
       "<div>\n",
       "<style scoped>\n",
       "    .dataframe tbody tr th:only-of-type {\n",
       "        vertical-align: middle;\n",
       "    }\n",
       "\n",
       "    .dataframe tbody tr th {\n",
       "        vertical-align: top;\n",
       "    }\n",
       "\n",
       "    .dataframe thead th {\n",
       "        text-align: right;\n",
       "    }\n",
       "</style>\n",
       "<table border=\"1\" class=\"dataframe\">\n",
       "  <thead>\n",
       "    <tr style=\"text-align: right;\">\n",
       "      <th></th>\n",
       "      <th>geometry</th>\n",
       "      <th>id</th>\n",
       "      <th>geohash</th>\n",
       "    </tr>\n",
       "  </thead>\n",
       "  <tbody>\n",
       "    <tr>\n",
       "      <th>6557</th>\n",
       "      <td>POLYGON ((-97.86914 26.73168, -97.86914 26.731...</td>\n",
       "      <td>858982f0-34d8-4fc6-b2a3-e49ea4a2db93</td>\n",
       "      <td>9uf2hfmu</td>\n",
       "    </tr>\n",
       "    <tr>\n",
       "      <th>7146</th>\n",
       "      <td>POLYGON ((-97.87858 26.95112, -97.87858 26.951...</td>\n",
       "      <td>14d08727-b223-4fdd-a354-b5d8a6e01bdc</td>\n",
       "      <td>9uf3kdr4</td>\n",
       "    </tr>\n",
       "    <tr>\n",
       "      <th>7931</th>\n",
       "      <td>POLYGON ((-98.17879 26.99046, -98.17879 26.990...</td>\n",
       "      <td>5e34d5f2-a790-4232-9c8d-08644768a7ea</td>\n",
       "      <td>9uf1tckx</td>\n",
       "    </tr>\n",
       "    <tr>\n",
       "      <th>7610</th>\n",
       "      <td>POLYGON ((-98.33691 27.27728, -98.33691 27.277...</td>\n",
       "      <td>4b9120db-fa0d-4363-bb9f-c46d95918fc4</td>\n",
       "      <td>9uf54m9r</td>\n",
       "    </tr>\n",
       "    <tr>\n",
       "      <th>4987</th>\n",
       "      <td>POLYGON ((-97.80132 27.48900, -97.80132 27.489...</td>\n",
       "      <td>db23a2fd-c61e-4836-97ff-edce895767d1</td>\n",
       "      <td>9ufkqkpr</td>\n",
       "    </tr>\n",
       "  </tbody>\n",
       "</table>\n",
       "</div>"
      ],
      "text/plain": [
       "                                               geometry  \\\n",
       "6557  POLYGON ((-97.86914 26.73168, -97.86914 26.731...   \n",
       "7146  POLYGON ((-97.87858 26.95112, -97.87858 26.951...   \n",
       "7931  POLYGON ((-98.17879 26.99046, -98.17879 26.990...   \n",
       "7610  POLYGON ((-98.33691 27.27728, -98.33691 27.277...   \n",
       "4987  POLYGON ((-97.80132 27.48900, -97.80132 27.489...   \n",
       "\n",
       "                                        id   geohash  \n",
       "6557  858982f0-34d8-4fc6-b2a3-e49ea4a2db93  9uf2hfmu  \n",
       "7146  14d08727-b223-4fdd-a354-b5d8a6e01bdc  9uf3kdr4  \n",
       "7931  5e34d5f2-a790-4232-9c8d-08644768a7ea  9uf1tckx  \n",
       "7610  4b9120db-fa0d-4363-bb9f-c46d95918fc4  9uf54m9r  \n",
       "4987  db23a2fd-c61e-4836-97ff-edce895767d1  9ufkqkpr  "
      ]
     },
     "execution_count": 632,
     "metadata": {},
     "output_type": "execute_result"
    }
   ],
   "source": [
    "prev_month_blobs.head()"
   ]
  },
  {
   "cell_type": "code",
   "execution_count": null,
   "metadata": {},
   "outputs": [
    {
     "name": "stdout",
     "output_type": "stream",
     "text": [
      "Number of matching geometries: 10000\n",
      "Missing geometries in retrieved table: 0\n",
      "Extra geometries in retrieved table: 0\n"
     ]
    }
   ],
   "source": [
    "def round_geometry(geom, precision=6):\n",
    "    \"\"\"Round all coordinates of a geometry to a given precision.\"\"\"\n",
    "    return shapely.wkt.loads(shapely.wkt.dumps(geom, rounding_precision=precision))\n",
    "\n",
    "# Convert both to sets of rounded WKT strings\n",
    "set_prev_month_blobs = set(prev_month_blobs['geometry'].apply(lambda g: round_geometry(g, precision=6).wkt))\n",
    "set_df_prev = set(df_prev['geometry'].apply(lambda g: round_geometry(g, precision=6).wkt))\n",
    "\n",
    "# Find common, missing, and extra geometries\n",
    "common_geometries = set_prev_month_blobs & set_df_prev\n",
    "missing_from_retrieved = set_prev_month_blobs - set_df_prev\n",
    "extra_in_retrieved = set_df_prev - set_prev_month_blobs\n",
    "\n",
    "# Print summary\n",
    "print(f\"Number of matching geometries: {len(common_geometries)}\")\n",
    "print(f\"Missing geometries in retrieved table: {len(missing_from_retrieved)}\")\n",
    "print(f\"Extra geometries in retrieved table: {len(extra_in_retrieved)}\")\n",
    "\n",
    "# Show an example missing/extra geometry for debugging\n",
    "if missing_from_retrieved:\n",
    "    print(\"Example missing record:\", next(iter(missing_from_retrieved)))\n",
    "\n",
    "if extra_in_retrieved:\n",
    "    print(\"Example extra record:\", next(iter(extra_in_retrieved)))"
   ]
  },
  {
   "cell_type": "markdown",
   "metadata": {},
   "source": [
    "It worked!"
   ]
  },
  {
   "cell_type": "markdown",
   "metadata": {},
   "source": [
    "### 2. Matching"
   ]
  },
  {
   "cell_type": "markdown",
   "metadata": {},
   "source": [
    "We will match the polygons using GeoPandas."
   ]
  },
  {
   "cell_type": "code",
   "execution_count": null,
   "metadata": {},
   "outputs": [
    {
     "name": "stdout",
     "output_type": "stream",
     "text": [
      "Table matched_results created successfully.\n",
      "Retrieved 10000 records from prev_blobs_wkt.\n",
      "Function `run_parallel_matching` executed in 42.9475 sec, CPU: 40.50%, Memory: 514.14MB\n"
     ]
    }
   ],
   "source": [
    "postgresql_details = h.pg_details()\n",
    "h.run_parallel_matching(table_prev='prev_blobs_wkt', \n",
    "                        table_curr='curr_blobs_wkt', \n",
    "                        output_table='matched_results', \n",
    "                        postgresql_details=postgresql_details, \n",
    "                        db_name='blob_matching', \n",
    "                        num_workers=4, \n",
    "                        batch_size=100)"
   ]
  },
  {
   "cell_type": "code",
   "execution_count": null,
   "metadata": {},
   "outputs": [],
   "source": []
  },
  {
   "cell_type": "markdown",
   "metadata": {},
   "source": []
  },
  {
   "cell_type": "code",
   "execution_count": null,
   "metadata": {},
   "outputs": [],
   "source": []
  },
  {
   "cell_type": "code",
   "execution_count": null,
   "metadata": {},
   "outputs": [],
   "source": []
  },
  {
   "cell_type": "markdown",
   "metadata": {},
   "source": [
    "geohash polygon into a larger region\n",
    "match blobs using multiprocessing (mp.Process) and geopandas\n",
    "find blobs from previous month that do not have a match\n",
    "\n",
    "# 1 imports and setup\n",
    "\n",
    "```python\n",
    "import os, sys, traceback\n",
    "import argparse\n",
    "import cv2\n",
    "import time\n",
    "import numpy as np\n",
    "import pandas as pd\n",
    "import geopandas as gpd\n",
    "from skimage import io, color, measure\n",
    "from tqdm import tqdm\n",
    "from shapely import wkt\n",
    "from shapely.geometry import Point, Polygon\n",
    "from shapely.validation import make_valid\n",
    "import PIL\n",
    "from PIL import Image, ImageDraw, ImageEnhance\n",
    "import uuid\n",
    "import multiprocessing as mp\n",
    "from datetime import datetime\n",
    "from sqlalchemy import or_\n",
    "from sqlmodel import SQLModel, Session, create_engine, select\n",
    "from pathlib import Path\n",
    "```\n",
    "\n",
    "## Key takeaways\n",
    "- Uses Pandas and GeoPandas for data processing.\n",
    "- Uses Shapely for geospatial geometry operations.\n",
    "- Uses multiprocessing (mp) to parallelize the blob-matching process.\n",
    "- Uses SQLAlchemy and SQLModel for database operations.\n",
    "\n",
    "# 2 High-level script overview\n",
    "The script is designed to match blobs (spatial objects) between two months and classify them into different business categories.\n",
    "\n",
    "General Workflow\n",
    "1. Fetch blobs from the previous and current months.\n",
    "1. Convert the region of interest (state, city, county, or geohash) into a list of geohashes.\n",
    "1. Parallelized Matching Process:\n",
    "1. Process multiple geohashes at once using multiprocessing.\n",
    "1. Find corresponding blobs from previous months for each geohash.\n",
    "1. Classify blobs based on construction stage progression.\n",
    "1. Identify blobs that are missing in the current month and \"impute\" them.\n",
    "1. Save results into the database.\n",
    "\n",
    "# 3 Blob classification logic\n",
    "\n",
    "# 4 Blob matching\n",
    "\n",
    "- Matches blobs between months using polygon intersections.\n",
    "- Uses Shapely to validate geometries and check for overlaps.\n",
    "- Returns matched blob IDs.\n",
    "\n",
    "## Multiprocessing Optimization\n",
    "The script parallelizes blob matching by:\n",
    "- Uses multiprocessing (mp.Process) to divide the dataset into smaller batches.\n",
    "- Each batch of blobs is processed in parallel.\n",
    "- Reduces runtime compared to a single-threaded approach.\n",
    "\n",
    "# 5 Handling unmatched blobs\n",
    "- Finds blobs from the previous month that do not have a match in the current month.\n",
    "- These blobs are \"imputed\", meaning they are carried over into the new month.\n",
    "\n",
    "# 6 Main class to orchestrate process\n",
    "- Loads previous and current month blobs.\n",
    "- Converts input regions (state, city, county) into geohashes.\n",
    "\n",
    "# Summary\n",
    "- Parallel processing is used to match blobs.\n",
    "- Blobs are classified based on construction stages.\n",
    "- Unmatched blobs are imputed for continuity.\n",
    "- The script writes results to a database."
   ]
  },
  {
   "cell_type": "markdown",
   "metadata": {},
   "source": []
  }
 ],
 "metadata": {
  "kernelspec": {
   "display_name": "geo",
   "language": "python",
   "name": "python3"
  },
  "language_info": {
   "codemirror_mode": {
    "name": "ipython",
    "version": 3
   },
   "file_extension": ".py",
   "mimetype": "text/x-python",
   "name": "python",
   "nbconvert_exporter": "python",
   "pygments_lexer": "ipython3",
   "version": "3.11.8"
  }
 },
 "nbformat": 4,
 "nbformat_minor": 2
}
