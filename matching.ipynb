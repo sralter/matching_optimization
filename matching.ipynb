{
 "cells": [
  {
   "cell_type": "markdown",
   "metadata": {},
   "source": [
    "# Geospatial Matching Optimization"
   ]
  },
  {
   "cell_type": "markdown",
   "metadata": {},
   "source": [
    "This project is designed to showcase how to improve the speed of a polygon matching procedure. There are two main areas that could benefit from taking a \"geospatial-native\" approach:\n",
    "\n",
    "1. Data encoding, fetching, and storage\n",
    "2. Matching\n",
    "\n",
    "We will generate synthetic polygon data and use both a non-geospatial-native and geospatial-native approach, comparing execution time for both to see how they differ."
   ]
  },
  {
   "cell_type": "markdown",
   "metadata": {},
   "source": [
    "Note: Make sure that you have PostgreSQL running."
   ]
  },
  {
   "cell_type": "markdown",
   "metadata": {},
   "source": [
    "## Imports"
   ]
  },
  {
   "cell_type": "code",
   "execution_count": 496,
   "metadata": {},
   "outputs": [
    {
     "data": {
      "text/plain": [
       "<module 'helpers' from '/Users/sra/files/projects/matching_optimization/helpers.py'>"
      ]
     },
     "execution_count": 496,
     "metadata": {},
     "output_type": "execute_result"
    }
   ],
   "source": [
    "import geopandas as gpd\n",
    "import pandas as pd\n",
    "import shapely\n",
    "import h3\n",
    "import time\n",
    "import helpers as h\n",
    "import matplotlib.pyplot as plt\n",
    "from shapely.wkt import dumps, loads\n",
    "from pathlib import Path\n",
    "import multiprocessing as mp\n",
    "\n",
    "# ensure helpers is loaded correctly\n",
    "import importlib\n",
    "importlib.reload(h)"
   ]
  },
  {
   "cell_type": "markdown",
   "metadata": {},
   "source": [
    "## Generate Test Data"
   ]
  },
  {
   "cell_type": "code",
   "execution_count": 497,
   "metadata": {},
   "outputs": [
    {
     "name": "stdout",
     "output_type": "stream",
     "text": [
      "Function `generate_random_polygons` executed in 7.7969 sec, CPU: 4.30%, Memory: 63.72MB\n",
      "Function `generate_random_polygons` executed in 7.8217 sec, CPU: 25.80%, Memory: 75.25MB\n"
     ]
    }
   ],
   "source": [
    "# Create two blobs of data\n",
    "prev_month_blobs = h.generate_random_polygons(n=10000)\n",
    "curr_month_blobs = h.generate_random_polygons(n=10000)"
   ]
  },
  {
   "cell_type": "code",
   "execution_count": null,
   "metadata": {},
   "outputs": [
    {
     "data": {
      "text/html": [
       "<div>\n",
       "<style scoped>\n",
       "    .dataframe tbody tr th:only-of-type {\n",
       "        vertical-align: middle;\n",
       "    }\n",
       "\n",
       "    .dataframe tbody tr th {\n",
       "        vertical-align: top;\n",
       "    }\n",
       "\n",
       "    .dataframe thead th {\n",
       "        text-align: right;\n",
       "    }\n",
       "</style>\n",
       "<table border=\"1\" class=\"dataframe\">\n",
       "  <thead>\n",
       "    <tr style=\"text-align: right;\">\n",
       "      <th></th>\n",
       "      <th>geometry</th>\n",
       "      <th>id</th>\n",
       "      <th>geohash</th>\n",
       "    </tr>\n",
       "  </thead>\n",
       "  <tbody>\n",
       "    <tr>\n",
       "      <th>8507</th>\n",
       "      <td>POLYGON ((-98.16996 26.92231, -98.16996 26.922...</td>\n",
       "      <td>e8ffb175-5a75-44ab-abb0-b1b251411dcb</td>\n",
       "      <td>9uf1nj55</td>\n",
       "    </tr>\n",
       "    <tr>\n",
       "      <th>9127</th>\n",
       "      <td>POLYGON ((-98.24604 27.17870, -98.24604 27.179...</td>\n",
       "      <td>699be616-0f16-4aec-9658-8e1fb7c995db</td>\n",
       "      <td>9uf4s7g8</td>\n",
       "    </tr>\n",
       "    <tr>\n",
       "      <th>1665</th>\n",
       "      <td>POLYGON ((-98.25891 27.30433, -98.25891 27.305...</td>\n",
       "      <td>4626d0ee-a7c1-4f8f-8f0f-0c2b351e59c2</td>\n",
       "      <td>9uf5k4dn</td>\n",
       "    </tr>\n",
       "    <tr>\n",
       "      <th>3025</th>\n",
       "      <td>POLYGON ((-97.90124 27.65322, -97.90124 27.653...</td>\n",
       "      <td>7849f3ec-fb7d-4caa-bae2-517c089283a5</td>\n",
       "      <td>9ufmk4nt</td>\n",
       "    </tr>\n",
       "    <tr>\n",
       "      <th>1518</th>\n",
       "      <td>POLYGON ((-98.21733 27.67615, -98.21733 27.676...</td>\n",
       "      <td>4708cb3c-6db9-4f7f-bb12-1491c09fcbe1</td>\n",
       "      <td>9ufjmn2d</td>\n",
       "    </tr>\n",
       "  </tbody>\n",
       "</table>\n",
       "</div>"
      ],
      "text/plain": [
       "                                               geometry  \\\n",
       "8507  POLYGON ((-98.16996 26.92231, -98.16996 26.922...   \n",
       "9127  POLYGON ((-98.24604 27.17870, -98.24604 27.179...   \n",
       "1665  POLYGON ((-98.25891 27.30433, -98.25891 27.305...   \n",
       "3025  POLYGON ((-97.90124 27.65322, -97.90124 27.653...   \n",
       "1518  POLYGON ((-98.21733 27.67615, -98.21733 27.676...   \n",
       "\n",
       "                                        id   geohash  \n",
       "8507  e8ffb175-5a75-44ab-abb0-b1b251411dcb  9uf1nj55  \n",
       "9127  699be616-0f16-4aec-9658-8e1fb7c995db  9uf4s7g8  \n",
       "1665  4626d0ee-a7c1-4f8f-8f0f-0c2b351e59c2  9uf5k4dn  \n",
       "3025  7849f3ec-fb7d-4caa-bae2-517c089283a5  9ufmk4nt  \n",
       "1518  4708cb3c-6db9-4f7f-bb12-1491c09fcbe1  9ufjmn2d  "
      ]
     },
     "execution_count": 475,
     "metadata": {},
     "output_type": "execute_result"
    }
   ],
   "source": [
    "prev_month_blobs.head()"
   ]
  },
  {
   "cell_type": "code",
   "execution_count": null,
   "metadata": {},
   "outputs": [
    {
     "data": {
      "text/html": [
       "<div>\n",
       "<style scoped>\n",
       "    .dataframe tbody tr th:only-of-type {\n",
       "        vertical-align: middle;\n",
       "    }\n",
       "\n",
       "    .dataframe tbody tr th {\n",
       "        vertical-align: top;\n",
       "    }\n",
       "\n",
       "    .dataframe thead th {\n",
       "        text-align: right;\n",
       "    }\n",
       "</style>\n",
       "<table border=\"1\" class=\"dataframe\">\n",
       "  <thead>\n",
       "    <tr style=\"text-align: right;\">\n",
       "      <th></th>\n",
       "      <th>geometry</th>\n",
       "      <th>id</th>\n",
       "      <th>geohash</th>\n",
       "    </tr>\n",
       "  </thead>\n",
       "  <tbody>\n",
       "    <tr>\n",
       "      <th>7825</th>\n",
       "      <td>POLYGON ((-81.83501 27.05556, -81.83501 27.056...</td>\n",
       "      <td>73aa18b8-191d-4580-afb5-a9ef667f4fb5</td>\n",
       "      <td>dhvccv3g</td>\n",
       "    </tr>\n",
       "    <tr>\n",
       "      <th>8049</th>\n",
       "      <td>POLYGON ((-81.79777 27.53440, -81.79777 27.534...</td>\n",
       "      <td>0cdcd373-c056-43b0-9940-8fec66004f2a</td>\n",
       "      <td>dhvudskz</td>\n",
       "    </tr>\n",
       "    <tr>\n",
       "      <th>862</th>\n",
       "      <td>POLYGON ((-82.18730 27.70783, -82.18730 27.708...</td>\n",
       "      <td>fed6270b-3fe1-4992-bdfe-97d3b7b93096</td>\n",
       "      <td>dhvt9u1k</td>\n",
       "    </tr>\n",
       "    <tr>\n",
       "      <th>6064</th>\n",
       "      <td>POLYGON ((-82.30218 27.77151, -82.30218 27.771...</td>\n",
       "      <td>d465a328-be4a-4cc4-8d8d-34f75ad99d88</td>\n",
       "      <td>dhvmzptt</td>\n",
       "    </tr>\n",
       "    <tr>\n",
       "      <th>3123</th>\n",
       "      <td>POLYGON ((-82.39378 27.90654, -82.39378 27.907...</td>\n",
       "      <td>7329582d-5cd7-4477-a782-16b92c1c18ed</td>\n",
       "      <td>dhvqv06b</td>\n",
       "    </tr>\n",
       "  </tbody>\n",
       "</table>\n",
       "</div>"
      ],
      "text/plain": [
       "                                               geometry  \\\n",
       "7825  POLYGON ((-81.83501 27.05556, -81.83501 27.056...   \n",
       "8049  POLYGON ((-81.79777 27.53440, -81.79777 27.534...   \n",
       "862   POLYGON ((-82.18730 27.70783, -82.18730 27.708...   \n",
       "6064  POLYGON ((-82.30218 27.77151, -82.30218 27.771...   \n",
       "3123  POLYGON ((-82.39378 27.90654, -82.39378 27.907...   \n",
       "\n",
       "                                        id   geohash  \n",
       "7825  73aa18b8-191d-4580-afb5-a9ef667f4fb5  dhvccv3g  \n",
       "8049  0cdcd373-c056-43b0-9940-8fec66004f2a  dhvudskz  \n",
       "862   fed6270b-3fe1-4992-bdfe-97d3b7b93096  dhvt9u1k  \n",
       "6064  d465a328-be4a-4cc4-8d8d-34f75ad99d88  dhvmzptt  \n",
       "3123  7329582d-5cd7-4477-a782-16b92c1c18ed  dhvqv06b  "
      ]
     },
     "execution_count": 476,
     "metadata": {},
     "output_type": "execute_result"
    }
   ],
   "source": [
    "curr_month_blobs.head()"
   ]
  },
  {
   "cell_type": "code",
   "execution_count": null,
   "metadata": {},
   "outputs": [],
   "source": [
    "# make data folder\n",
    "Path('data/').mkdir(exist_ok=True)\n",
    "\n",
    "# save as geoparquet\n",
    "prev_month_blobs.to_parquet('data/prev_month_blobs.parquet')\n",
    "curr_month_blobs.to_parquet('data/curr_month_blobs.parquet')"
   ]
  },
  {
   "cell_type": "code",
   "execution_count": null,
   "metadata": {},
   "outputs": [],
   "source": [
    "# range_ = 10000\n",
    "\n",
    "# fig, ax = plt.subplots(figsize=(5, 5))\n",
    "# prev_month_blobs.iloc[0:range_].plot(ax=ax)\n",
    "# ax.set_title(f'Viewing the first {range_} blobs')\n",
    "# plt.tight_layout()\n",
    "\n",
    "# plt.show()"
   ]
  },
  {
   "cell_type": "code",
   "execution_count": null,
   "metadata": {},
   "outputs": [
    {
     "data": {
      "text/html": [
       "<div>\n",
       "<style scoped>\n",
       "    .dataframe tbody tr th:only-of-type {\n",
       "        vertical-align: middle;\n",
       "    }\n",
       "\n",
       "    .dataframe tbody tr th {\n",
       "        vertical-align: top;\n",
       "    }\n",
       "\n",
       "    .dataframe thead th {\n",
       "        text-align: right;\n",
       "    }\n",
       "</style>\n",
       "<table border=\"1\" class=\"dataframe\">\n",
       "  <thead>\n",
       "    <tr style=\"text-align: right;\">\n",
       "      <th></th>\n",
       "      <th>geometry</th>\n",
       "      <th>id</th>\n",
       "      <th>geohash</th>\n",
       "    </tr>\n",
       "  </thead>\n",
       "  <tbody>\n",
       "    <tr>\n",
       "      <th>8507</th>\n",
       "      <td>POLYGON ((-98.16996 26.92231, -98.16996 26.922...</td>\n",
       "      <td>e8ffb175-5a75-44ab-abb0-b1b251411dcb</td>\n",
       "      <td>9uf1nj55</td>\n",
       "    </tr>\n",
       "    <tr>\n",
       "      <th>9127</th>\n",
       "      <td>POLYGON ((-98.24604 27.17870, -98.24604 27.179...</td>\n",
       "      <td>699be616-0f16-4aec-9658-8e1fb7c995db</td>\n",
       "      <td>9uf4s7g8</td>\n",
       "    </tr>\n",
       "    <tr>\n",
       "      <th>1665</th>\n",
       "      <td>POLYGON ((-98.25891 27.30433, -98.25891 27.305...</td>\n",
       "      <td>4626d0ee-a7c1-4f8f-8f0f-0c2b351e59c2</td>\n",
       "      <td>9uf5k4dn</td>\n",
       "    </tr>\n",
       "    <tr>\n",
       "      <th>3025</th>\n",
       "      <td>POLYGON ((-97.90124 27.65322, -97.90124 27.653...</td>\n",
       "      <td>7849f3ec-fb7d-4caa-bae2-517c089283a5</td>\n",
       "      <td>9ufmk4nt</td>\n",
       "    </tr>\n",
       "    <tr>\n",
       "      <th>1518</th>\n",
       "      <td>POLYGON ((-98.21733 27.67615, -98.21733 27.676...</td>\n",
       "      <td>4708cb3c-6db9-4f7f-bb12-1491c09fcbe1</td>\n",
       "      <td>9ufjmn2d</td>\n",
       "    </tr>\n",
       "  </tbody>\n",
       "</table>\n",
       "</div>"
      ],
      "text/plain": [
       "                                               geometry  \\\n",
       "8507  POLYGON ((-98.16996 26.92231, -98.16996 26.922...   \n",
       "9127  POLYGON ((-98.24604 27.17870, -98.24604 27.179...   \n",
       "1665  POLYGON ((-98.25891 27.30433, -98.25891 27.305...   \n",
       "3025  POLYGON ((-97.90124 27.65322, -97.90124 27.653...   \n",
       "1518  POLYGON ((-98.21733 27.67615, -98.21733 27.676...   \n",
       "\n",
       "                                        id   geohash  \n",
       "8507  e8ffb175-5a75-44ab-abb0-b1b251411dcb  9uf1nj55  \n",
       "9127  699be616-0f16-4aec-9658-8e1fb7c995db  9uf4s7g8  \n",
       "1665  4626d0ee-a7c1-4f8f-8f0f-0c2b351e59c2  9uf5k4dn  \n",
       "3025  7849f3ec-fb7d-4caa-bae2-517c089283a5  9ufmk4nt  \n",
       "1518  4708cb3c-6db9-4f7f-bb12-1491c09fcbe1  9ufjmn2d  "
      ]
     },
     "execution_count": 479,
     "metadata": {},
     "output_type": "execute_result"
    }
   ],
   "source": [
    "prev_month_blobs.head()"
   ]
  },
  {
   "cell_type": "markdown",
   "metadata": {},
   "source": [
    "## Non-optimized process"
   ]
  },
  {
   "cell_type": "markdown",
   "metadata": {},
   "source": [
    "### 1. Data encoding, storage, and fetching"
   ]
  },
  {
   "cell_type": "markdown",
   "metadata": {},
   "source": [
    "We will use PostgreSQL and string storage for geographic information."
   ]
  },
  {
   "cell_type": "markdown",
   "metadata": {},
   "source": [
    "#### Make copy of polygon layer and convert to non-geospatial-native string (WKT) datatype"
   ]
  },
  {
   "cell_type": "code",
   "execution_count": null,
   "metadata": {},
   "outputs": [],
   "source": [
    "# copy the gdfs\n",
    "prev_month_blobs_wkt = prev_month_blobs.copy()\n",
    "curr_month_blobs_wkt = curr_month_blobs.copy()"
   ]
  },
  {
   "cell_type": "code",
   "execution_count": null,
   "metadata": {},
   "outputs": [
    {
     "name": "stdout",
     "output_type": "stream",
     "text": [
      "Function `convert_col_to_string` executed in 0.0498 sec, CPU: 48.40%, Memory: 0.05MB\n",
      "Function `convert_col_to_string` executed in 0.0494 sec, CPU: 34.10%, Memory: 7.47MB\n",
      "                                               geometry  \\\n",
      "8507  POLYGON ((-98.169962 26.922313, -98.169962 26....   \n",
      "9127  POLYGON ((-98.246043 27.178699, -98.246043 27....   \n",
      "1665  POLYGON ((-98.258909 27.304334, -98.258909 27....   \n",
      "3025  POLYGON ((-97.901237 27.653225, -97.901237 27....   \n",
      "1518  POLYGON ((-98.217326 27.676151, -98.217326 27....   \n",
      "\n",
      "                                        id   geohash  \n",
      "8507  e8ffb175-5a75-44ab-abb0-b1b251411dcb  9uf1nj55  \n",
      "9127  699be616-0f16-4aec-9658-8e1fb7c995db  9uf4s7g8  \n",
      "1665  4626d0ee-a7c1-4f8f-8f0f-0c2b351e59c2  9uf5k4dn  \n",
      "3025  7849f3ec-fb7d-4caa-bae2-517c089283a5  9ufmk4nt  \n",
      "1518  4708cb3c-6db9-4f7f-bb12-1491c09fcbe1  9ufjmn2d  \n"
     ]
    },
    {
     "name": "stderr",
     "output_type": "stream",
     "text": [
      "/Users/sra/files/projects/matching_optimization/helpers.py:221: UserWarning: Geometry column does not contain geometry.\n",
      "  df[col] = df[col].apply(lambda geom: to_wkt(geom) if isinstance(geom, BaseGeometry) else str(geom))\n",
      "/Users/sra/files/projects/matching_optimization/helpers.py:221: UserWarning: Geometry column does not contain geometry.\n",
      "  df[col] = df[col].apply(lambda geom: to_wkt(geom) if isinstance(geom, BaseGeometry) else str(geom))\n"
     ]
    }
   ],
   "source": [
    "# Convert WKT versions to strings\n",
    "dfs_to_convert = [prev_month_blobs_wkt, curr_month_blobs_wkt]\n",
    "prev_month_blobs_wkt, curr_month_blobs_wkt = [h.convert_col_to_string(df) for df in dfs_to_convert]\n",
    "\n",
    "# Check result\n",
    "print(prev_month_blobs_wkt.head())"
   ]
  },
  {
   "cell_type": "markdown",
   "metadata": {},
   "source": [
    "### Save in PostgreSQL database"
   ]
  },
  {
   "cell_type": "markdown",
   "metadata": {},
   "source": [
    "This is a simple version of what a \"non-geospatial-native\" data ingestion pipeline may look like, with the primary example being that the polygons are stored as strings, not in a spatial-friendly datatype."
   ]
  },
  {
   "cell_type": "code",
   "execution_count": null,
   "metadata": {},
   "outputs": [
    {
     "name": "stdout",
     "output_type": "stream",
     "text": [
      "Function `df_itertuple` executed in 0.0035 sec, CPU: 0.00%, Memory: 5.61MB\n",
      "Function `df_itertuple` executed in 0.0036 sec, CPU: 0.00%, Memory: 0.00MB\n"
     ]
    }
   ],
   "source": [
    "# Convert to tuples\n",
    "prev_month_blobs_wkt = h.df_itertuple(prev_month_blobs_wkt)\n",
    "curr_month_blobs_wkt = h.df_itertuple(curr_month_blobs_wkt)"
   ]
  },
  {
   "cell_type": "markdown",
   "metadata": {},
   "source": [
    "Create PostgreSQL database if it doesn't exist already. We will be using the default settings. If they need to be adjusted, refer to [`helpers.py`](helpers.py)."
   ]
  },
  {
   "cell_type": "code",
   "execution_count": null,
   "metadata": {},
   "outputs": [
    {
     "name": "stdout",
     "output_type": "stream",
     "text": [
      "Database blob_matching already exists.\n",
      "Function `create_pg_db` executed in 0.0366 sec, CPU: 0.00%, Memory: 0.00MB\n"
     ]
    }
   ],
   "source": [
    "h.create_pg_db()"
   ]
  },
  {
   "cell_type": "markdown",
   "metadata": {},
   "source": [
    "Create and insert into tables:"
   ]
  },
  {
   "cell_type": "code",
   "execution_count": null,
   "metadata": {},
   "outputs": [
    {
     "data": {
      "text/html": [
       "<div>\n",
       "<style scoped>\n",
       "    .dataframe tbody tr th:only-of-type {\n",
       "        vertical-align: middle;\n",
       "    }\n",
       "\n",
       "    .dataframe tbody tr th {\n",
       "        vertical-align: top;\n",
       "    }\n",
       "\n",
       "    .dataframe thead th {\n",
       "        text-align: right;\n",
       "    }\n",
       "</style>\n",
       "<table border=\"1\" class=\"dataframe\">\n",
       "  <thead>\n",
       "    <tr style=\"text-align: right;\">\n",
       "      <th></th>\n",
       "      <th>geometry</th>\n",
       "      <th>id</th>\n",
       "      <th>geohash</th>\n",
       "    </tr>\n",
       "  </thead>\n",
       "  <tbody>\n",
       "    <tr>\n",
       "      <th>8507</th>\n",
       "      <td>POLYGON ((-98.16996 26.92231, -98.16996 26.922...</td>\n",
       "      <td>e8ffb175-5a75-44ab-abb0-b1b251411dcb</td>\n",
       "      <td>9uf1nj55</td>\n",
       "    </tr>\n",
       "  </tbody>\n",
       "</table>\n",
       "</div>"
      ],
      "text/plain": [
       "                                               geometry  \\\n",
       "8507  POLYGON ((-98.16996 26.92231, -98.16996 26.922...   \n",
       "\n",
       "                                        id   geohash  \n",
       "8507  e8ffb175-5a75-44ab-abb0-b1b251411dcb  9uf1nj55  "
      ]
     },
     "execution_count": 484,
     "metadata": {},
     "output_type": "execute_result"
    }
   ],
   "source": [
    "prev_month_blobs.head(1)"
   ]
  },
  {
   "cell_type": "code",
   "execution_count": null,
   "metadata": {},
   "outputs": [
    {
     "data": {
      "text/plain": [
       "('POLYGON ((-98.169962 26.922313, -98.169962 26.922904, -98.169254 26.922904, -98.169254 26.922313, -98.169962 26.922313))',\n",
       " 'e8ffb175-5a75-44ab-abb0-b1b251411dcb',\n",
       " '9uf1nj55')"
      ]
     },
     "execution_count": 485,
     "metadata": {},
     "output_type": "execute_result"
    }
   ],
   "source": [
    "prev_month_blobs_wkt[0]"
   ]
  },
  {
   "cell_type": "code",
   "execution_count": null,
   "metadata": {},
   "outputs": [
    {
     "name": "stdout",
     "output_type": "stream",
     "text": [
      "Table prev_blobs_wkt truncated.\n",
      "Inserted 10000 records into prev_blobs_wkt.\n",
      "Function `create_pg_table` executed in 0.3979 sec, CPU: 0.00%, Memory: 0.00MB\n",
      "Table curr_blobs_wkt truncated.\n",
      "Inserted 10000 records into curr_blobs_wkt.\n",
      "Function `create_pg_table` executed in 0.3672 sec, CPU: 29.20%, Memory: 4.58MB\n"
     ]
    }
   ],
   "source": [
    "h.create_pg_table(table_name='prev_blobs_wkt', data=prev_month_blobs_wkt, truncate=True)\n",
    "h.create_pg_table(table_name='curr_blobs_wkt', data=curr_month_blobs_wkt, truncate=True)"
   ]
  },
  {
   "cell_type": "markdown",
   "metadata": {},
   "source": [
    "Retrieve data as GeoDataFrames to confirm that it worked:"
   ]
  },
  {
   "cell_type": "code",
   "execution_count": null,
   "metadata": {},
   "outputs": [
    {
     "name": "stdout",
     "output_type": "stream",
     "text": [
      "Retrieved 10000 records from prev_blobs_wkt.\n",
      "Retrieved 10000 records from curr_blobs_wkt.\n"
     ]
    }
   ],
   "source": [
    "df_prev = h.retrieve_pg_table(table_name='prev_blobs_wkt')\n",
    "df_curr = h.retrieve_pg_table(table_name='curr_blobs_wkt')"
   ]
  },
  {
   "cell_type": "markdown",
   "metadata": {},
   "source": [
    "Compare the tables before and after for a sanity check:"
   ]
  },
  {
   "cell_type": "code",
   "execution_count": null,
   "metadata": {},
   "outputs": [
    {
     "data": {
      "text/html": [
       "<div>\n",
       "<style scoped>\n",
       "    .dataframe tbody tr th:only-of-type {\n",
       "        vertical-align: middle;\n",
       "    }\n",
       "\n",
       "    .dataframe tbody tr th {\n",
       "        vertical-align: top;\n",
       "    }\n",
       "\n",
       "    .dataframe thead th {\n",
       "        text-align: right;\n",
       "    }\n",
       "</style>\n",
       "<table border=\"1\" class=\"dataframe\">\n",
       "  <thead>\n",
       "    <tr style=\"text-align: right;\">\n",
       "      <th></th>\n",
       "      <th>geometry</th>\n",
       "      <th>id</th>\n",
       "      <th>geohash</th>\n",
       "    </tr>\n",
       "  </thead>\n",
       "  <tbody>\n",
       "    <tr>\n",
       "      <th>0</th>\n",
       "      <td>POLYGON ((-98.169962 26.922313, -98.169962 26....</td>\n",
       "      <td>e8ffb175-5a75-44ab-abb0-b1b251411dcb</td>\n",
       "      <td>9uf1nj55</td>\n",
       "    </tr>\n",
       "    <tr>\n",
       "      <th>1</th>\n",
       "      <td>POLYGON ((-98.246043 27.178699, -98.246043 27....</td>\n",
       "      <td>699be616-0f16-4aec-9658-8e1fb7c995db</td>\n",
       "      <td>9uf4s7g8</td>\n",
       "    </tr>\n",
       "    <tr>\n",
       "      <th>2</th>\n",
       "      <td>POLYGON ((-98.258909 27.304334, -98.258909 27....</td>\n",
       "      <td>4626d0ee-a7c1-4f8f-8f0f-0c2b351e59c2</td>\n",
       "      <td>9uf5k4dn</td>\n",
       "    </tr>\n",
       "    <tr>\n",
       "      <th>3</th>\n",
       "      <td>POLYGON ((-97.901237 27.653225, -97.901237 27....</td>\n",
       "      <td>7849f3ec-fb7d-4caa-bae2-517c089283a5</td>\n",
       "      <td>9ufmk4nt</td>\n",
       "    </tr>\n",
       "    <tr>\n",
       "      <th>4</th>\n",
       "      <td>POLYGON ((-98.217326 27.676151, -98.217326 27....</td>\n",
       "      <td>4708cb3c-6db9-4f7f-bb12-1491c09fcbe1</td>\n",
       "      <td>9ufjmn2d</td>\n",
       "    </tr>\n",
       "  </tbody>\n",
       "</table>\n",
       "</div>"
      ],
      "text/plain": [
       "                                            geometry  \\\n",
       "0  POLYGON ((-98.169962 26.922313, -98.169962 26....   \n",
       "1  POLYGON ((-98.246043 27.178699, -98.246043 27....   \n",
       "2  POLYGON ((-98.258909 27.304334, -98.258909 27....   \n",
       "3  POLYGON ((-97.901237 27.653225, -97.901237 27....   \n",
       "4  POLYGON ((-98.217326 27.676151, -98.217326 27....   \n",
       "\n",
       "                                     id   geohash  \n",
       "0  e8ffb175-5a75-44ab-abb0-b1b251411dcb  9uf1nj55  \n",
       "1  699be616-0f16-4aec-9658-8e1fb7c995db  9uf4s7g8  \n",
       "2  4626d0ee-a7c1-4f8f-8f0f-0c2b351e59c2  9uf5k4dn  \n",
       "3  7849f3ec-fb7d-4caa-bae2-517c089283a5  9ufmk4nt  \n",
       "4  4708cb3c-6db9-4f7f-bb12-1491c09fcbe1  9ufjmn2d  "
      ]
     },
     "execution_count": 488,
     "metadata": {},
     "output_type": "execute_result"
    }
   ],
   "source": [
    "df_prev.head()"
   ]
  },
  {
   "cell_type": "code",
   "execution_count": null,
   "metadata": {},
   "outputs": [
    {
     "data": {
      "text/html": [
       "<div>\n",
       "<style scoped>\n",
       "    .dataframe tbody tr th:only-of-type {\n",
       "        vertical-align: middle;\n",
       "    }\n",
       "\n",
       "    .dataframe tbody tr th {\n",
       "        vertical-align: top;\n",
       "    }\n",
       "\n",
       "    .dataframe thead th {\n",
       "        text-align: right;\n",
       "    }\n",
       "</style>\n",
       "<table border=\"1\" class=\"dataframe\">\n",
       "  <thead>\n",
       "    <tr style=\"text-align: right;\">\n",
       "      <th></th>\n",
       "      <th>geometry</th>\n",
       "      <th>id</th>\n",
       "      <th>geohash</th>\n",
       "    </tr>\n",
       "  </thead>\n",
       "  <tbody>\n",
       "    <tr>\n",
       "      <th>8507</th>\n",
       "      <td>POLYGON ((-98.16996 26.92231, -98.16996 26.922...</td>\n",
       "      <td>e8ffb175-5a75-44ab-abb0-b1b251411dcb</td>\n",
       "      <td>9uf1nj55</td>\n",
       "    </tr>\n",
       "    <tr>\n",
       "      <th>9127</th>\n",
       "      <td>POLYGON ((-98.24604 27.17870, -98.24604 27.179...</td>\n",
       "      <td>699be616-0f16-4aec-9658-8e1fb7c995db</td>\n",
       "      <td>9uf4s7g8</td>\n",
       "    </tr>\n",
       "    <tr>\n",
       "      <th>1665</th>\n",
       "      <td>POLYGON ((-98.25891 27.30433, -98.25891 27.305...</td>\n",
       "      <td>4626d0ee-a7c1-4f8f-8f0f-0c2b351e59c2</td>\n",
       "      <td>9uf5k4dn</td>\n",
       "    </tr>\n",
       "    <tr>\n",
       "      <th>3025</th>\n",
       "      <td>POLYGON ((-97.90124 27.65322, -97.90124 27.653...</td>\n",
       "      <td>7849f3ec-fb7d-4caa-bae2-517c089283a5</td>\n",
       "      <td>9ufmk4nt</td>\n",
       "    </tr>\n",
       "    <tr>\n",
       "      <th>1518</th>\n",
       "      <td>POLYGON ((-98.21733 27.67615, -98.21733 27.676...</td>\n",
       "      <td>4708cb3c-6db9-4f7f-bb12-1491c09fcbe1</td>\n",
       "      <td>9ufjmn2d</td>\n",
       "    </tr>\n",
       "  </tbody>\n",
       "</table>\n",
       "</div>"
      ],
      "text/plain": [
       "                                               geometry  \\\n",
       "8507  POLYGON ((-98.16996 26.92231, -98.16996 26.922...   \n",
       "9127  POLYGON ((-98.24604 27.17870, -98.24604 27.179...   \n",
       "1665  POLYGON ((-98.25891 27.30433, -98.25891 27.305...   \n",
       "3025  POLYGON ((-97.90124 27.65322, -97.90124 27.653...   \n",
       "1518  POLYGON ((-98.21733 27.67615, -98.21733 27.676...   \n",
       "\n",
       "                                        id   geohash  \n",
       "8507  e8ffb175-5a75-44ab-abb0-b1b251411dcb  9uf1nj55  \n",
       "9127  699be616-0f16-4aec-9658-8e1fb7c995db  9uf4s7g8  \n",
       "1665  4626d0ee-a7c1-4f8f-8f0f-0c2b351e59c2  9uf5k4dn  \n",
       "3025  7849f3ec-fb7d-4caa-bae2-517c089283a5  9ufmk4nt  \n",
       "1518  4708cb3c-6db9-4f7f-bb12-1491c09fcbe1  9ufjmn2d  "
      ]
     },
     "execution_count": 489,
     "metadata": {},
     "output_type": "execute_result"
    }
   ],
   "source": [
    "prev_month_blobs.head()"
   ]
  },
  {
   "cell_type": "code",
   "execution_count": null,
   "metadata": {},
   "outputs": [
    {
     "name": "stdout",
     "output_type": "stream",
     "text": [
      "Number of matching geometries: 10000\n",
      "Missing geometries in retrieved table: 0\n",
      "Extra geometries in retrieved table: 0\n"
     ]
    }
   ],
   "source": [
    "def round_geometry(geom, precision=6):\n",
    "    \"\"\"Round all coordinates of a geometry to a given precision.\"\"\"\n",
    "    return shapely.wkt.loads(shapely.wkt.dumps(geom, rounding_precision=precision))\n",
    "\n",
    "# Convert both to sets of rounded WKT strings\n",
    "set_prev_month_blobs = set(prev_month_blobs['geometry'].apply(lambda g: round_geometry(g, precision=6).wkt))\n",
    "set_df_prev = set(df_prev['geometry'].apply(lambda g: round_geometry(g, precision=6).wkt))\n",
    "\n",
    "# Find common, missing, and extra geometries\n",
    "common_geometries = set_prev_month_blobs & set_df_prev\n",
    "missing_from_retrieved = set_prev_month_blobs - set_df_prev\n",
    "extra_in_retrieved = set_df_prev - set_prev_month_blobs\n",
    "\n",
    "# Print summary\n",
    "print(f\"Number of matching geometries: {len(common_geometries)}\")\n",
    "print(f\"Missing geometries in retrieved table: {len(missing_from_retrieved)}\")\n",
    "print(f\"Extra geometries in retrieved table: {len(extra_in_retrieved)}\")\n",
    "\n",
    "# Show an example missing/extra geometry for debugging\n",
    "if missing_from_retrieved:\n",
    "    print(\"Example missing record:\", next(iter(missing_from_retrieved)))\n",
    "\n",
    "if extra_in_retrieved:\n",
    "    print(\"Example extra record:\", next(iter(extra_in_retrieved)))"
   ]
  },
  {
   "cell_type": "markdown",
   "metadata": {},
   "source": [
    "### 2. Matching"
   ]
  },
  {
   "cell_type": "markdown",
   "metadata": {},
   "source": [
    "We will match the polygons using GeoPandas."
   ]
  },
  {
   "cell_type": "code",
   "execution_count": null,
   "metadata": {},
   "outputs": [],
   "source": [
    "# postgresql_details = h.pg_details()\n",
    "# h.run_parallel_matching(\n",
    "#     \"prev_blobs_wkt\", \"curr_blobs_wkt\", \"matched_results\",\n",
    "#     postgresql_details, \"blob_matching\", num_workers=4, batch_size=50\n",
    "# )"
   ]
  },
  {
   "cell_type": "code",
   "execution_count": null,
   "metadata": {},
   "outputs": [],
   "source": [
    "# postgresql_details = h.pg_details()\n",
    "# h.run_parallel_matching(table_prev='prev_blobs_wkt', \n",
    "#                         table_curr='curr_blobs_wkt', \n",
    "#                         output_table='matched_results', \n",
    "#                         postgresql_details=postgresql_details, \n",
    "#                         db_name='blob_matching', \n",
    "#                         num_workers=4, \n",
    "#                         batch_size=100)"
   ]
  },
  {
   "cell_type": "code",
   "execution_count": null,
   "metadata": {},
   "outputs": [],
   "source": []
  },
  {
   "cell_type": "markdown",
   "metadata": {},
   "source": [
    "Baseline - Polygon Matching Only"
   ]
  },
  {
   "cell_type": "markdown",
   "metadata": {},
   "source": []
  },
  {
   "cell_type": "code",
   "execution_count": null,
   "metadata": {},
   "outputs": [],
   "source": []
  },
  {
   "cell_type": "code",
   "execution_count": null,
   "metadata": {},
   "outputs": [],
   "source": []
  },
  {
   "cell_type": "markdown",
   "metadata": {},
   "source": [
    "geohash polygon into a larger region\n",
    "match blobs using multiprocessing (mp.Process) and geopandas\n",
    "find blobs from previous month that do not have a match\n",
    "\n",
    "# 1 imports and setup\n",
    "\n",
    "```python\n",
    "import os, sys, traceback\n",
    "import argparse\n",
    "import cv2\n",
    "import time\n",
    "import numpy as np\n",
    "import pandas as pd\n",
    "import geopandas as gpd\n",
    "from skimage import io, color, measure\n",
    "from tqdm import tqdm\n",
    "from shapely import wkt\n",
    "from shapely.geometry import Point, Polygon\n",
    "from shapely.validation import make_valid\n",
    "import PIL\n",
    "from PIL import Image, ImageDraw, ImageEnhance\n",
    "import uuid\n",
    "import multiprocessing as mp\n",
    "from datetime import datetime\n",
    "from sqlalchemy import or_\n",
    "from sqlmodel import SQLModel, Session, create_engine, select\n",
    "from pathlib import Path\n",
    "```\n",
    "\n",
    "## Key takeaways\n",
    "- Uses Pandas and GeoPandas for data processing.\n",
    "- Uses Shapely for geospatial geometry operations.\n",
    "- Uses multiprocessing (mp) to parallelize the blob-matching process.\n",
    "- Uses SQLAlchemy and SQLModel for database operations.\n",
    "\n",
    "# 2 High-level script overview\n",
    "The script is designed to match blobs (spatial objects) between two months and classify them into different business categories.\n",
    "\n",
    "General Workflow\n",
    "1. Fetch blobs from the previous and current months.\n",
    "1. Convert the region of interest (state, city, county, or geohash) into a list of geohashes.\n",
    "1. Parallelized Matching Process:\n",
    "1. Process multiple geohashes at once using multiprocessing.\n",
    "1. Find corresponding blobs from previous months for each geohash.\n",
    "1. Classify blobs based on construction stage progression.\n",
    "1. Identify blobs that are missing in the current month and \"impute\" them.\n",
    "1. Save results into the database.\n",
    "\n",
    "# 3 Blob classification logic\n",
    "\n",
    "# 4 Blob matching\n",
    "\n",
    "- Matches blobs between months using polygon intersections.\n",
    "- Uses Shapely to validate geometries and check for overlaps.\n",
    "- Returns matched blob IDs.\n",
    "\n",
    "## Multiprocessing Optimization\n",
    "The script parallelizes blob matching by:\n",
    "- Uses multiprocessing (mp.Process) to divide the dataset into smaller batches.\n",
    "- Each batch of blobs is processed in parallel.\n",
    "- Reduces runtime compared to a single-threaded approach.\n",
    "\n",
    "# 5 Handling unmatched blobs\n",
    "- Finds blobs from the previous month that do not have a match in the current month.\n",
    "- These blobs are \"imputed\", meaning they are carried over into the new month.\n",
    "\n",
    "# 6 Main class to orchestrate process\n",
    "- Loads previous and current month blobs.\n",
    "- Converts input regions (state, city, county) into geohashes.\n",
    "\n",
    "# Summary\n",
    "- Parallel processing is used to match blobs.\n",
    "- Blobs are classified based on construction stages.\n",
    "- Unmatched blobs are imputed for continuity.\n",
    "- The script writes results to a database."
   ]
  },
  {
   "cell_type": "markdown",
   "metadata": {},
   "source": []
  }
 ],
 "metadata": {
  "kernelspec": {
   "display_name": "geo",
   "language": "python",
   "name": "python3"
  },
  "language_info": {
   "codemirror_mode": {
    "name": "ipython",
    "version": 3
   },
   "file_extension": ".py",
   "mimetype": "text/x-python",
   "name": "python",
   "nbconvert_exporter": "python",
   "pygments_lexer": "ipython3",
   "version": "3.11.8"
  }
 },
 "nbformat": 4,
 "nbformat_minor": 2
}
