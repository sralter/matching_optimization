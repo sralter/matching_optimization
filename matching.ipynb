{
 "cells": [
  {
   "cell_type": "markdown",
   "metadata": {},
   "source": [
    "# Geospatial Matching Optimization"
   ]
  },
  {
   "cell_type": "markdown",
   "metadata": {},
   "source": [
    "This project is designed to showcase how to improve the speed of a polygon matching procedure. There are two main areas that could benefit from taking a \"geospatial-native\" approach:\n",
    "\n",
    "1. Data encoding, fetching, and storage\n",
    "2. Matching\n",
    "\n",
    "We will generate synthetic polygon data and use both a non-geospatial-native and geospatial-native approach, comparing execution time for both to see how they differ."
   ]
  },
  {
   "cell_type": "markdown",
   "metadata": {},
   "source": [
    "Note: Make sure that you have PostgreSQL running."
   ]
  },
  {
   "cell_type": "markdown",
   "metadata": {},
   "source": [
    "## Imports"
   ]
  },
  {
   "cell_type": "code",
   "execution_count": 828,
   "metadata": {},
   "outputs": [
    {
     "data": {
      "text/plain": [
       "<module 'helpers' from '/Users/sra/files/projects/matching_optimization/helpers.py'>"
      ]
     },
     "execution_count": 828,
     "metadata": {},
     "output_type": "execute_result"
    }
   ],
   "source": [
    "import geopandas as gpd\n",
    "import pandas as pd\n",
    "import shapely\n",
    "import h3\n",
    "import time\n",
    "import helpers as h\n",
    "import matplotlib.pyplot as plt\n",
    "from shapely.wkt import dumps, loads\n",
    "from pathlib import Path\n",
    "import multiprocessing as mp\n",
    "\n",
    "# ensure helpers is loaded correctly\n",
    "import importlib\n",
    "importlib.reload(h)"
   ]
  },
  {
   "cell_type": "markdown",
   "metadata": {},
   "source": [
    "## Generate Test Data"
   ]
  },
  {
   "cell_type": "code",
   "execution_count": null,
   "metadata": {},
   "outputs": [
    {
     "name": "stdout",
     "output_type": "stream",
     "text": [
      "Function `generate_random_polygons` executed in 8.5393 sec, CPU: 18.10%, Memory: 9.81MB\n"
     ]
    }
   ],
   "source": [
    "# Create two blobs of data\n",
    "prev_month_blobs = h.generate_random_polygons(n=10000)\n",
    "curr_month_blobs = h.generate_random_polygons(n=10000)"
   ]
  },
  {
   "cell_type": "code",
   "execution_count": null,
   "metadata": {},
   "outputs": [
    {
     "data": {
      "text/html": [
       "<div>\n",
       "<style scoped>\n",
       "    .dataframe tbody tr th:only-of-type {\n",
       "        vertical-align: middle;\n",
       "    }\n",
       "\n",
       "    .dataframe tbody tr th {\n",
       "        vertical-align: top;\n",
       "    }\n",
       "\n",
       "    .dataframe thead th {\n",
       "        text-align: right;\n",
       "    }\n",
       "</style>\n",
       "<table border=\"1\" class=\"dataframe\">\n",
       "  <thead>\n",
       "    <tr style=\"text-align: right;\">\n",
       "      <th></th>\n",
       "      <th>geometry</th>\n",
       "      <th>id</th>\n",
       "      <th>geohash</th>\n",
       "    </tr>\n",
       "  </thead>\n",
       "  <tbody>\n",
       "    <tr>\n",
       "      <th>1006</th>\n",
       "      <td>POLYGON ((-98.04673 26.63848, -98.04673 26.715...</td>\n",
       "      <td>8a58013d-4251-4d66-8462-0d78d8268834</td>\n",
       "      <td>9udrcb6g</td>\n",
       "    </tr>\n",
       "    <tr>\n",
       "      <th>229</th>\n",
       "      <td>POLYGON ((-97.92238 26.83128, -97.92238 26.926...</td>\n",
       "      <td>1b8a5a53-2cbd-4bb0-b2e8-1f99e23efc81</td>\n",
       "      <td>9uf2ujnt</td>\n",
       "    </tr>\n",
       "    <tr>\n",
       "      <th>404</th>\n",
       "      <td>POLYGON ((-98.15002 27.11090, -98.15002 27.173...</td>\n",
       "      <td>460713ec-2d40-4468-8173-cd1ddb6e1769</td>\n",
       "      <td>9uf4rmp1</td>\n",
       "    </tr>\n",
       "    <tr>\n",
       "      <th>356</th>\n",
       "      <td>POLYGON ((-98.19682 27.14905, -98.19682 27.246...</td>\n",
       "      <td>dfa95a81-4746-4b09-ad45-f4b00acee49b</td>\n",
       "      <td>9uf4wp4j</td>\n",
       "    </tr>\n",
       "    <tr>\n",
       "      <th>985</th>\n",
       "      <td>POLYGON ((-97.96574 27.64931, -97.96574 27.711...</td>\n",
       "      <td>ecb64084-1bb7-4f7e-aae5-2df8c4beabb6</td>\n",
       "      <td>9ufm7x5d</td>\n",
       "    </tr>\n",
       "  </tbody>\n",
       "</table>\n",
       "</div>"
      ],
      "text/plain": [
       "                                               geometry  \\\n",
       "1006  POLYGON ((-98.04673 26.63848, -98.04673 26.715...   \n",
       "229   POLYGON ((-97.92238 26.83128, -97.92238 26.926...   \n",
       "404   POLYGON ((-98.15002 27.11090, -98.15002 27.173...   \n",
       "356   POLYGON ((-98.19682 27.14905, -98.19682 27.246...   \n",
       "985   POLYGON ((-97.96574 27.64931, -97.96574 27.711...   \n",
       "\n",
       "                                        id   geohash  \n",
       "1006  8a58013d-4251-4d66-8462-0d78d8268834  9udrcb6g  \n",
       "229   1b8a5a53-2cbd-4bb0-b2e8-1f99e23efc81  9uf2ujnt  \n",
       "404   460713ec-2d40-4468-8173-cd1ddb6e1769  9uf4rmp1  \n",
       "356   dfa95a81-4746-4b09-ad45-f4b00acee49b  9uf4wp4j  \n",
       "985   ecb64084-1bb7-4f7e-aae5-2df8c4beabb6  9ufm7x5d  "
      ]
     },
     "execution_count": 810,
     "metadata": {},
     "output_type": "execute_result"
    }
   ],
   "source": [
    "prev_month_blobs.head()"
   ]
  },
  {
   "cell_type": "code",
   "execution_count": null,
   "metadata": {},
   "outputs": [
    {
     "data": {
      "text/html": [
       "<div>\n",
       "<style scoped>\n",
       "    .dataframe tbody tr th:only-of-type {\n",
       "        vertical-align: middle;\n",
       "    }\n",
       "\n",
       "    .dataframe tbody tr th {\n",
       "        vertical-align: top;\n",
       "    }\n",
       "\n",
       "    .dataframe thead th {\n",
       "        text-align: right;\n",
       "    }\n",
       "</style>\n",
       "<table border=\"1\" class=\"dataframe\">\n",
       "  <thead>\n",
       "    <tr style=\"text-align: right;\">\n",
       "      <th></th>\n",
       "      <th>geometry</th>\n",
       "      <th>id</th>\n",
       "      <th>geohash</th>\n",
       "    </tr>\n",
       "  </thead>\n",
       "  <tbody>\n",
       "    <tr>\n",
       "      <th>4862</th>\n",
       "      <td>POLYGON ((-80.81111 26.43806, -80.81111 26.455...</td>\n",
       "      <td>67815050-3edc-4b61-9985-ff3e4444d214</td>\n",
       "      <td>dhww3qkp</td>\n",
       "    </tr>\n",
       "    <tr>\n",
       "      <th>9493</th>\n",
       "      <td>POLYGON ((-81.55671 26.58194, -81.55671 26.672...</td>\n",
       "      <td>72f96664-80de-4407-9764-ed10f12ef781</td>\n",
       "      <td>dhwp3p64</td>\n",
       "    </tr>\n",
       "    <tr>\n",
       "      <th>5335</th>\n",
       "      <td>POLYGON ((-80.94495 26.84760, -80.94495 26.861...</td>\n",
       "      <td>20a0b1f5-51b5-4b61-892b-7d3f627e5a18</td>\n",
       "      <td>dhy2y29w</td>\n",
       "    </tr>\n",
       "    <tr>\n",
       "      <th>9086</th>\n",
       "      <td>POLYGON ((-80.81058 26.85486, -80.81058 26.927...</td>\n",
       "      <td>6491576f-0882-4e90-9290-2faa1111a8a8</td>\n",
       "      <td>dhy8czru</td>\n",
       "    </tr>\n",
       "    <tr>\n",
       "      <th>7133</th>\n",
       "      <td>POLYGON ((-81.39997 26.94769, -81.39997 26.970...</td>\n",
       "      <td>3010f2a4-b175-45f1-a905-1bab5880a96c</td>\n",
       "      <td>dhy1keu0</td>\n",
       "    </tr>\n",
       "  </tbody>\n",
       "</table>\n",
       "</div>"
      ],
      "text/plain": [
       "                                               geometry  \\\n",
       "4862  POLYGON ((-80.81111 26.43806, -80.81111 26.455...   \n",
       "9493  POLYGON ((-81.55671 26.58194, -81.55671 26.672...   \n",
       "5335  POLYGON ((-80.94495 26.84760, -80.94495 26.861...   \n",
       "9086  POLYGON ((-80.81058 26.85486, -80.81058 26.927...   \n",
       "7133  POLYGON ((-81.39997 26.94769, -81.39997 26.970...   \n",
       "\n",
       "                                        id   geohash  \n",
       "4862  67815050-3edc-4b61-9985-ff3e4444d214  dhww3qkp  \n",
       "9493  72f96664-80de-4407-9764-ed10f12ef781  dhwp3p64  \n",
       "5335  20a0b1f5-51b5-4b61-892b-7d3f627e5a18  dhy2y29w  \n",
       "9086  6491576f-0882-4e90-9290-2faa1111a8a8  dhy8czru  \n",
       "7133  3010f2a4-b175-45f1-a905-1bab5880a96c  dhy1keu0  "
      ]
     },
     "execution_count": 811,
     "metadata": {},
     "output_type": "execute_result"
    }
   ],
   "source": [
    "curr_month_blobs.head()"
   ]
  },
  {
   "cell_type": "code",
   "execution_count": null,
   "metadata": {},
   "outputs": [],
   "source": [
    "# make data folder\n",
    "Path('data/').mkdir(exist_ok=True)\n",
    "\n",
    "# save as geoparquet\n",
    "prev_month_blobs.to_parquet('data/prev_month_blobs.parquet')\n",
    "curr_month_blobs.to_parquet('data/curr_month_blobs.parquet')"
   ]
  },
  {
   "cell_type": "code",
   "execution_count": null,
   "metadata": {},
   "outputs": [],
   "source": [
    "# range_ = 10000\n",
    "\n",
    "# fig, ax = plt.subplots(figsize=(5, 5))\n",
    "# prev_month_blobs.iloc[0:range_].plot(ax=ax)\n",
    "# ax.set_title(f'Viewing the first {range_} blobs')\n",
    "# plt.tight_layout()\n",
    "\n",
    "# plt.show()"
   ]
  },
  {
   "cell_type": "code",
   "execution_count": null,
   "metadata": {},
   "outputs": [
    {
     "data": {
      "text/html": [
       "<div>\n",
       "<style scoped>\n",
       "    .dataframe tbody tr th:only-of-type {\n",
       "        vertical-align: middle;\n",
       "    }\n",
       "\n",
       "    .dataframe tbody tr th {\n",
       "        vertical-align: top;\n",
       "    }\n",
       "\n",
       "    .dataframe thead th {\n",
       "        text-align: right;\n",
       "    }\n",
       "</style>\n",
       "<table border=\"1\" class=\"dataframe\">\n",
       "  <thead>\n",
       "    <tr style=\"text-align: right;\">\n",
       "      <th></th>\n",
       "      <th>geometry</th>\n",
       "      <th>id</th>\n",
       "      <th>geohash</th>\n",
       "    </tr>\n",
       "  </thead>\n",
       "  <tbody>\n",
       "    <tr>\n",
       "      <th>1006</th>\n",
       "      <td>POLYGON ((-98.04673 26.63848, -98.04673 26.715...</td>\n",
       "      <td>8a58013d-4251-4d66-8462-0d78d8268834</td>\n",
       "      <td>9udrcb6g</td>\n",
       "    </tr>\n",
       "    <tr>\n",
       "      <th>229</th>\n",
       "      <td>POLYGON ((-97.92238 26.83128, -97.92238 26.926...</td>\n",
       "      <td>1b8a5a53-2cbd-4bb0-b2e8-1f99e23efc81</td>\n",
       "      <td>9uf2ujnt</td>\n",
       "    </tr>\n",
       "    <tr>\n",
       "      <th>404</th>\n",
       "      <td>POLYGON ((-98.15002 27.11090, -98.15002 27.173...</td>\n",
       "      <td>460713ec-2d40-4468-8173-cd1ddb6e1769</td>\n",
       "      <td>9uf4rmp1</td>\n",
       "    </tr>\n",
       "    <tr>\n",
       "      <th>356</th>\n",
       "      <td>POLYGON ((-98.19682 27.14905, -98.19682 27.246...</td>\n",
       "      <td>dfa95a81-4746-4b09-ad45-f4b00acee49b</td>\n",
       "      <td>9uf4wp4j</td>\n",
       "    </tr>\n",
       "    <tr>\n",
       "      <th>985</th>\n",
       "      <td>POLYGON ((-97.96574 27.64931, -97.96574 27.711...</td>\n",
       "      <td>ecb64084-1bb7-4f7e-aae5-2df8c4beabb6</td>\n",
       "      <td>9ufm7x5d</td>\n",
       "    </tr>\n",
       "  </tbody>\n",
       "</table>\n",
       "</div>"
      ],
      "text/plain": [
       "                                               geometry  \\\n",
       "1006  POLYGON ((-98.04673 26.63848, -98.04673 26.715...   \n",
       "229   POLYGON ((-97.92238 26.83128, -97.92238 26.926...   \n",
       "404   POLYGON ((-98.15002 27.11090, -98.15002 27.173...   \n",
       "356   POLYGON ((-98.19682 27.14905, -98.19682 27.246...   \n",
       "985   POLYGON ((-97.96574 27.64931, -97.96574 27.711...   \n",
       "\n",
       "                                        id   geohash  \n",
       "1006  8a58013d-4251-4d66-8462-0d78d8268834  9udrcb6g  \n",
       "229   1b8a5a53-2cbd-4bb0-b2e8-1f99e23efc81  9uf2ujnt  \n",
       "404   460713ec-2d40-4468-8173-cd1ddb6e1769  9uf4rmp1  \n",
       "356   dfa95a81-4746-4b09-ad45-f4b00acee49b  9uf4wp4j  \n",
       "985   ecb64084-1bb7-4f7e-aae5-2df8c4beabb6  9ufm7x5d  "
      ]
     },
     "execution_count": 814,
     "metadata": {},
     "output_type": "execute_result"
    }
   ],
   "source": [
    "prev_month_blobs.head()"
   ]
  },
  {
   "cell_type": "markdown",
   "metadata": {},
   "source": [
    "## Non-optimized process"
   ]
  },
  {
   "cell_type": "markdown",
   "metadata": {},
   "source": [
    "### 1. Data encoding, storage, and fetching"
   ]
  },
  {
   "cell_type": "markdown",
   "metadata": {},
   "source": [
    "We will use PostgreSQL and string storage for geographic information."
   ]
  },
  {
   "cell_type": "markdown",
   "metadata": {},
   "source": [
    "#### Make copy of polygon layer and convert to non-geospatial-native string (WKT) datatype"
   ]
  },
  {
   "cell_type": "code",
   "execution_count": null,
   "metadata": {},
   "outputs": [],
   "source": [
    "# copy the gdfs\n",
    "prev_month_blobs_wkt = prev_month_blobs.copy()\n",
    "curr_month_blobs_wkt = curr_month_blobs.copy()"
   ]
  },
  {
   "cell_type": "code",
   "execution_count": null,
   "metadata": {},
   "outputs": [
    {
     "name": "stdout",
     "output_type": "stream",
     "text": [
      "Function `convert_col_to_string` executed in 0.0531 sec, CPU: 24.80%, Memory: 2.84MB\n",
      "Function `convert_col_to_string` executed in 0.0482 sec, CPU: 50.00%, Memory: 0.00MB\n",
      "                                               geometry  \\\n",
      "1006  POLYGON ((-98.046731 26.638475, -98.046731 26....   \n",
      "229   POLYGON ((-97.922379 26.831276, -97.922379 26....   \n",
      "404   POLYGON ((-98.150023 27.110902, -98.150023 27....   \n",
      "356   POLYGON ((-98.196816 27.149046, -98.196816 27....   \n",
      "985   POLYGON ((-97.965741 27.649309, -97.965741 27....   \n",
      "\n",
      "                                        id   geohash  \n",
      "1006  8a58013d-4251-4d66-8462-0d78d8268834  9udrcb6g  \n",
      "229   1b8a5a53-2cbd-4bb0-b2e8-1f99e23efc81  9uf2ujnt  \n",
      "404   460713ec-2d40-4468-8173-cd1ddb6e1769  9uf4rmp1  \n",
      "356   dfa95a81-4746-4b09-ad45-f4b00acee49b  9uf4wp4j  \n",
      "985   ecb64084-1bb7-4f7e-aae5-2df8c4beabb6  9ufm7x5d  \n"
     ]
    },
    {
     "name": "stderr",
     "output_type": "stream",
     "text": [
      "/Users/sra/files/projects/matching_optimization/helpers.py:306: UserWarning: Geometry column does not contain geometry.\n",
      "  df[col] = df[col].apply(lambda geom: to_wkt(geom) if isinstance(geom, BaseGeometry) else str(geom))\n",
      "/Users/sra/files/projects/matching_optimization/helpers.py:306: UserWarning: Geometry column does not contain geometry.\n",
      "  df[col] = df[col].apply(lambda geom: to_wkt(geom) if isinstance(geom, BaseGeometry) else str(geom))\n"
     ]
    }
   ],
   "source": [
    "# Convert WKT versions to strings\n",
    "dfs_to_convert = [prev_month_blobs_wkt, curr_month_blobs_wkt]\n",
    "prev_month_blobs_wkt, curr_month_blobs_wkt = [h.convert_col_to_string(df) for df in dfs_to_convert]\n",
    "\n",
    "# Check result\n",
    "print(prev_month_blobs_wkt.head())"
   ]
  },
  {
   "cell_type": "markdown",
   "metadata": {},
   "source": [
    "### Save in PostgreSQL database"
   ]
  },
  {
   "cell_type": "markdown",
   "metadata": {},
   "source": [
    "This is a simple version of what a \"non-geospatial-native\" data ingestion pipeline may look like, with the primary example being that the polygons are stored as strings, not in a spatial-friendly datatype."
   ]
  },
  {
   "cell_type": "code",
   "execution_count": null,
   "metadata": {},
   "outputs": [
    {
     "name": "stdout",
     "output_type": "stream",
     "text": [
      "Function `df_itertuple` executed in 0.0036 sec, CPU: 0.00%, Memory: 0.00MB\n",
      "Function `df_itertuple` executed in 0.0023 sec, CPU: 0.00%, Memory: 0.00MB\n"
     ]
    }
   ],
   "source": [
    "# Convert to tuples\n",
    "prev_month_blobs_wkt = h.df_itertuple(prev_month_blobs_wkt)\n",
    "curr_month_blobs_wkt = h.df_itertuple(curr_month_blobs_wkt)"
   ]
  },
  {
   "cell_type": "markdown",
   "metadata": {},
   "source": [
    "Create PostgreSQL database if it doesn't exist already. We will be using the default settings. If they need to be adjusted, refer to [`helpers.py`](helpers.py)."
   ]
  },
  {
   "cell_type": "code",
   "execution_count": null,
   "metadata": {},
   "outputs": [
    {
     "name": "stdout",
     "output_type": "stream",
     "text": [
      "Database blob_matching already exists.\n",
      "Function `create_pg_db` executed in 0.0353 sec, CPU: 0.00%, Memory: 0.00MB\n"
     ]
    }
   ],
   "source": [
    "h.create_pg_db()"
   ]
  },
  {
   "cell_type": "markdown",
   "metadata": {},
   "source": [
    "Create and insert into tables:"
   ]
  },
  {
   "cell_type": "code",
   "execution_count": null,
   "metadata": {},
   "outputs": [
    {
     "data": {
      "text/html": [
       "<div>\n",
       "<style scoped>\n",
       "    .dataframe tbody tr th:only-of-type {\n",
       "        vertical-align: middle;\n",
       "    }\n",
       "\n",
       "    .dataframe tbody tr th {\n",
       "        vertical-align: top;\n",
       "    }\n",
       "\n",
       "    .dataframe thead th {\n",
       "        text-align: right;\n",
       "    }\n",
       "</style>\n",
       "<table border=\"1\" class=\"dataframe\">\n",
       "  <thead>\n",
       "    <tr style=\"text-align: right;\">\n",
       "      <th></th>\n",
       "      <th>geometry</th>\n",
       "      <th>id</th>\n",
       "      <th>geohash</th>\n",
       "    </tr>\n",
       "  </thead>\n",
       "  <tbody>\n",
       "    <tr>\n",
       "      <th>1006</th>\n",
       "      <td>POLYGON ((-98.04673 26.63848, -98.04673 26.715...</td>\n",
       "      <td>8a58013d-4251-4d66-8462-0d78d8268834</td>\n",
       "      <td>9udrcb6g</td>\n",
       "    </tr>\n",
       "  </tbody>\n",
       "</table>\n",
       "</div>"
      ],
      "text/plain": [
       "                                               geometry  \\\n",
       "1006  POLYGON ((-98.04673 26.63848, -98.04673 26.715...   \n",
       "\n",
       "                                        id   geohash  \n",
       "1006  8a58013d-4251-4d66-8462-0d78d8268834  9udrcb6g  "
      ]
     },
     "execution_count": 819,
     "metadata": {},
     "output_type": "execute_result"
    }
   ],
   "source": [
    "prev_month_blobs.head(1)"
   ]
  },
  {
   "cell_type": "code",
   "execution_count": null,
   "metadata": {},
   "outputs": [
    {
     "data": {
      "text/plain": [
       "('POLYGON ((-98.046731 26.638475, -98.046731 26.715038, -97.963237 26.715038, -97.963237 26.638475, -98.046731 26.638475))',\n",
       " '8a58013d-4251-4d66-8462-0d78d8268834',\n",
       " '9udrcb6g')"
      ]
     },
     "execution_count": 820,
     "metadata": {},
     "output_type": "execute_result"
    }
   ],
   "source": [
    "prev_month_blobs_wkt[0]"
   ]
  },
  {
   "cell_type": "code",
   "execution_count": null,
   "metadata": {},
   "outputs": [
    {
     "name": "stdout",
     "output_type": "stream",
     "text": [
      "Table prev_blobs_wkt truncated.\n",
      "Inserted 10000 records into prev_blobs_wkt.\n",
      "Function `create_pg_table` executed in 0.4146 sec, CPU: 0.00%, Memory: 0.00MB\n",
      "Table curr_blobs_wkt truncated.\n",
      "Inserted 10000 records into curr_blobs_wkt.\n",
      "Function `create_pg_table` executed in 0.3800 sec, CPU: 39.80%, Memory: 104.05MB\n"
     ]
    }
   ],
   "source": [
    "h.create_pg_table(table_name='prev_blobs_wkt', data=prev_month_blobs_wkt, truncate=True)\n",
    "h.create_pg_table(table_name='curr_blobs_wkt', data=curr_month_blobs_wkt, truncate=True)"
   ]
  },
  {
   "cell_type": "markdown",
   "metadata": {},
   "source": [
    "Retrieve data as GeoDataFrames to confirm that it worked:"
   ]
  },
  {
   "cell_type": "code",
   "execution_count": null,
   "metadata": {},
   "outputs": [
    {
     "name": "stdout",
     "output_type": "stream",
     "text": [
      "Retrieved 10000 records from prev_blobs_wkt.\n",
      "Function `retrieve_pg_table` executed in 0.1213 sec, CPU: 40.00%, Memory: 29.67MB\n",
      "Retrieved 10000 records from curr_blobs_wkt.\n",
      "Function `retrieve_pg_table` executed in 0.0445 sec, CPU: 0.00%, Memory: 6.31MB\n"
     ]
    }
   ],
   "source": [
    "df_prev = h.retrieve_pg_table(table_name='prev_blobs_wkt')\n",
    "df_curr = h.retrieve_pg_table(table_name='curr_blobs_wkt')"
   ]
  },
  {
   "cell_type": "markdown",
   "metadata": {},
   "source": [
    "Compare the tables before and after for a sanity check:"
   ]
  },
  {
   "cell_type": "code",
   "execution_count": null,
   "metadata": {},
   "outputs": [
    {
     "data": {
      "text/html": [
       "<div>\n",
       "<style scoped>\n",
       "    .dataframe tbody tr th:only-of-type {\n",
       "        vertical-align: middle;\n",
       "    }\n",
       "\n",
       "    .dataframe tbody tr th {\n",
       "        vertical-align: top;\n",
       "    }\n",
       "\n",
       "    .dataframe thead th {\n",
       "        text-align: right;\n",
       "    }\n",
       "</style>\n",
       "<table border=\"1\" class=\"dataframe\">\n",
       "  <thead>\n",
       "    <tr style=\"text-align: right;\">\n",
       "      <th></th>\n",
       "      <th>geometry</th>\n",
       "      <th>id</th>\n",
       "      <th>geohash</th>\n",
       "    </tr>\n",
       "  </thead>\n",
       "  <tbody>\n",
       "    <tr>\n",
       "      <th>0</th>\n",
       "      <td>POLYGON ((-98.046731 26.638475, -98.046731 26....</td>\n",
       "      <td>8a58013d-4251-4d66-8462-0d78d8268834</td>\n",
       "      <td>9udrcb6g</td>\n",
       "    </tr>\n",
       "    <tr>\n",
       "      <th>1</th>\n",
       "      <td>POLYGON ((-97.922379 26.831276, -97.922379 26....</td>\n",
       "      <td>1b8a5a53-2cbd-4bb0-b2e8-1f99e23efc81</td>\n",
       "      <td>9uf2ujnt</td>\n",
       "    </tr>\n",
       "    <tr>\n",
       "      <th>2</th>\n",
       "      <td>POLYGON ((-98.150023 27.110902, -98.150023 27....</td>\n",
       "      <td>460713ec-2d40-4468-8173-cd1ddb6e1769</td>\n",
       "      <td>9uf4rmp1</td>\n",
       "    </tr>\n",
       "    <tr>\n",
       "      <th>3</th>\n",
       "      <td>POLYGON ((-98.196816 27.149046, -98.196816 27....</td>\n",
       "      <td>dfa95a81-4746-4b09-ad45-f4b00acee49b</td>\n",
       "      <td>9uf4wp4j</td>\n",
       "    </tr>\n",
       "    <tr>\n",
       "      <th>4</th>\n",
       "      <td>POLYGON ((-97.965741 27.649309, -97.965741 27....</td>\n",
       "      <td>ecb64084-1bb7-4f7e-aae5-2df8c4beabb6</td>\n",
       "      <td>9ufm7x5d</td>\n",
       "    </tr>\n",
       "  </tbody>\n",
       "</table>\n",
       "</div>"
      ],
      "text/plain": [
       "                                            geometry  \\\n",
       "0  POLYGON ((-98.046731 26.638475, -98.046731 26....   \n",
       "1  POLYGON ((-97.922379 26.831276, -97.922379 26....   \n",
       "2  POLYGON ((-98.150023 27.110902, -98.150023 27....   \n",
       "3  POLYGON ((-98.196816 27.149046, -98.196816 27....   \n",
       "4  POLYGON ((-97.965741 27.649309, -97.965741 27....   \n",
       "\n",
       "                                     id   geohash  \n",
       "0  8a58013d-4251-4d66-8462-0d78d8268834  9udrcb6g  \n",
       "1  1b8a5a53-2cbd-4bb0-b2e8-1f99e23efc81  9uf2ujnt  \n",
       "2  460713ec-2d40-4468-8173-cd1ddb6e1769  9uf4rmp1  \n",
       "3  dfa95a81-4746-4b09-ad45-f4b00acee49b  9uf4wp4j  \n",
       "4  ecb64084-1bb7-4f7e-aae5-2df8c4beabb6  9ufm7x5d  "
      ]
     },
     "execution_count": 823,
     "metadata": {},
     "output_type": "execute_result"
    }
   ],
   "source": [
    "df_prev.head()"
   ]
  },
  {
   "cell_type": "code",
   "execution_count": null,
   "metadata": {},
   "outputs": [
    {
     "data": {
      "text/html": [
       "<div>\n",
       "<style scoped>\n",
       "    .dataframe tbody tr th:only-of-type {\n",
       "        vertical-align: middle;\n",
       "    }\n",
       "\n",
       "    .dataframe tbody tr th {\n",
       "        vertical-align: top;\n",
       "    }\n",
       "\n",
       "    .dataframe thead th {\n",
       "        text-align: right;\n",
       "    }\n",
       "</style>\n",
       "<table border=\"1\" class=\"dataframe\">\n",
       "  <thead>\n",
       "    <tr style=\"text-align: right;\">\n",
       "      <th></th>\n",
       "      <th>geometry</th>\n",
       "      <th>id</th>\n",
       "      <th>geohash</th>\n",
       "    </tr>\n",
       "  </thead>\n",
       "  <tbody>\n",
       "    <tr>\n",
       "      <th>1006</th>\n",
       "      <td>POLYGON ((-98.04673 26.63848, -98.04673 26.715...</td>\n",
       "      <td>8a58013d-4251-4d66-8462-0d78d8268834</td>\n",
       "      <td>9udrcb6g</td>\n",
       "    </tr>\n",
       "    <tr>\n",
       "      <th>229</th>\n",
       "      <td>POLYGON ((-97.92238 26.83128, -97.92238 26.926...</td>\n",
       "      <td>1b8a5a53-2cbd-4bb0-b2e8-1f99e23efc81</td>\n",
       "      <td>9uf2ujnt</td>\n",
       "    </tr>\n",
       "    <tr>\n",
       "      <th>404</th>\n",
       "      <td>POLYGON ((-98.15002 27.11090, -98.15002 27.173...</td>\n",
       "      <td>460713ec-2d40-4468-8173-cd1ddb6e1769</td>\n",
       "      <td>9uf4rmp1</td>\n",
       "    </tr>\n",
       "    <tr>\n",
       "      <th>356</th>\n",
       "      <td>POLYGON ((-98.19682 27.14905, -98.19682 27.246...</td>\n",
       "      <td>dfa95a81-4746-4b09-ad45-f4b00acee49b</td>\n",
       "      <td>9uf4wp4j</td>\n",
       "    </tr>\n",
       "    <tr>\n",
       "      <th>985</th>\n",
       "      <td>POLYGON ((-97.96574 27.64931, -97.96574 27.711...</td>\n",
       "      <td>ecb64084-1bb7-4f7e-aae5-2df8c4beabb6</td>\n",
       "      <td>9ufm7x5d</td>\n",
       "    </tr>\n",
       "  </tbody>\n",
       "</table>\n",
       "</div>"
      ],
      "text/plain": [
       "                                               geometry  \\\n",
       "1006  POLYGON ((-98.04673 26.63848, -98.04673 26.715...   \n",
       "229   POLYGON ((-97.92238 26.83128, -97.92238 26.926...   \n",
       "404   POLYGON ((-98.15002 27.11090, -98.15002 27.173...   \n",
       "356   POLYGON ((-98.19682 27.14905, -98.19682 27.246...   \n",
       "985   POLYGON ((-97.96574 27.64931, -97.96574 27.711...   \n",
       "\n",
       "                                        id   geohash  \n",
       "1006  8a58013d-4251-4d66-8462-0d78d8268834  9udrcb6g  \n",
       "229   1b8a5a53-2cbd-4bb0-b2e8-1f99e23efc81  9uf2ujnt  \n",
       "404   460713ec-2d40-4468-8173-cd1ddb6e1769  9uf4rmp1  \n",
       "356   dfa95a81-4746-4b09-ad45-f4b00acee49b  9uf4wp4j  \n",
       "985   ecb64084-1bb7-4f7e-aae5-2df8c4beabb6  9ufm7x5d  "
      ]
     },
     "execution_count": 824,
     "metadata": {},
     "output_type": "execute_result"
    }
   ],
   "source": [
    "prev_month_blobs.head()"
   ]
  },
  {
   "cell_type": "code",
   "execution_count": null,
   "metadata": {},
   "outputs": [
    {
     "name": "stdout",
     "output_type": "stream",
     "text": [
      "Number of matching geometries: 10000\n",
      "Missing geometries in retrieved table: 0\n",
      "Extra geometries in retrieved table: 0\n"
     ]
    }
   ],
   "source": [
    "def round_geometry(geom, precision=6):\n",
    "    \"\"\"Round all coordinates of a geometry to a given precision.\"\"\"\n",
    "    return shapely.wkt.loads(shapely.wkt.dumps(geom, rounding_precision=precision))\n",
    "\n",
    "# Convert both to sets of rounded WKT strings\n",
    "set_prev_month_blobs = set(prev_month_blobs['geometry'].apply(lambda g: round_geometry(g, precision=6).wkt))\n",
    "set_df_prev = set(df_prev['geometry'].apply(lambda g: round_geometry(g, precision=6).wkt))\n",
    "\n",
    "# Find common, missing, and extra geometries\n",
    "common_geometries = set_prev_month_blobs & set_df_prev\n",
    "missing_from_retrieved = set_prev_month_blobs - set_df_prev\n",
    "extra_in_retrieved = set_df_prev - set_prev_month_blobs\n",
    "\n",
    "# Print summary\n",
    "print(f\"Number of matching geometries: {len(common_geometries)}\")\n",
    "print(f\"Missing geometries in retrieved table: {len(missing_from_retrieved)}\")\n",
    "print(f\"Extra geometries in retrieved table: {len(extra_in_retrieved)}\")\n",
    "\n",
    "# Show an example missing/extra geometry for debugging\n",
    "if missing_from_retrieved:\n",
    "    print(\"Example missing record:\", next(iter(missing_from_retrieved)))\n",
    "\n",
    "if extra_in_retrieved:\n",
    "    print(\"Example extra record:\", next(iter(extra_in_retrieved)))"
   ]
  },
  {
   "cell_type": "markdown",
   "metadata": {},
   "source": [
    "It worked!"
   ]
  },
  {
   "cell_type": "markdown",
   "metadata": {},
   "source": [
    "### 2. Matching"
   ]
  },
  {
   "cell_type": "markdown",
   "metadata": {},
   "source": [
    "We will match the polygons using GeoPandas."
   ]
  },
  {
   "cell_type": "code",
   "execution_count": null,
   "metadata": {},
   "outputs": [
    {
     "name": "stdout",
     "output_type": "stream",
     "text": [
      "Table matched_results created successfully.\n",
      "Retrieved 10000 records from prev_blobs_wkt.\n",
      "Function `run_parallel_matching` executed in 46.4196 sec, CPU: 69.20%, Memory: 840.50MB\n"
     ]
    }
   ],
   "source": [
    "postgresql_details = h.pg_details()\n",
    "h.run_parallel_matching(table_prev='prev_blobs_wkt', \n",
    "                        table_curr='curr_blobs_wkt', \n",
    "                        output_table='matched_results', \n",
    "                        postgresql_details=postgresql_details, \n",
    "                        db_name='blob_matching', \n",
    "                        num_workers=4, \n",
    "                        batch_size=100)"
   ]
  },
  {
   "cell_type": "code",
   "execution_count": null,
   "metadata": {},
   "outputs": [
    {
     "name": "stdout",
     "output_type": "stream",
     "text": [
      "Retrieved 10000 records from prev_blobs_wkt.\n",
      "Retrieved 10000 records from curr_blobs_wkt.\n",
      "Function `match_geometries` executed in 0.0052 sec, CPU: 21.40%, Memory: 0.47MB\n"
     ]
    },
    {
     "data": {
      "text/plain": [
       "[]"
      ]
     },
     "execution_count": 827,
     "metadata": {},
     "output_type": "execute_result"
    }
   ],
   "source": [
    "# testing logging for matching_geometries\n",
    "df_prev = h._retrieve_pg_table(postgresql_details, 'blob_matching', \"prev_blobs_wkt\", log_enabled=True)\n",
    "df_curr = h._retrieve_pg_table(postgresql_details, 'blob_matching', \"curr_blobs_wkt\", log_enabled=True)\n",
    "\n",
    "# Use a small subset for testing\n",
    "df_prev_sample = df_prev.sample(10, random_state=42)\n",
    "df_curr_sample = df_curr.sample(10, random_state=42)\n",
    "\n",
    "h.match_geometries(df_prev_sample, df_curr_sample)  # Check if this logs matches"
   ]
  },
  {
   "cell_type": "markdown",
   "metadata": {},
   "source": []
  },
  {
   "cell_type": "code",
   "execution_count": 769,
   "metadata": {},
   "outputs": [],
   "source": [
    "prev_month_blobs.to_file('data/prev_month_blobs.geojson')\n",
    "curr_month_blobs.to_file('data/curr_month_blobs.geojson')"
   ]
  },
  {
   "cell_type": "code",
   "execution_count": null,
   "metadata": {},
   "outputs": [],
   "source": []
  },
  {
   "cell_type": "markdown",
   "metadata": {},
   "source": [
    "geohash polygon into a larger region\n",
    "match blobs using multiprocessing (mp.Process) and geopandas\n",
    "find blobs from previous month that do not have a match\n",
    "\n",
    "# 1 imports and setup\n",
    "\n",
    "```python\n",
    "import os, sys, traceback\n",
    "import argparse\n",
    "import cv2\n",
    "import time\n",
    "import numpy as np\n",
    "import pandas as pd\n",
    "import geopandas as gpd\n",
    "from skimage import io, color, measure\n",
    "from tqdm import tqdm\n",
    "from shapely import wkt\n",
    "from shapely.geometry import Point, Polygon\n",
    "from shapely.validation import make_valid\n",
    "import PIL\n",
    "from PIL import Image, ImageDraw, ImageEnhance\n",
    "import uuid\n",
    "import multiprocessing as mp\n",
    "from datetime import datetime\n",
    "from sqlalchemy import or_\n",
    "from sqlmodel import SQLModel, Session, create_engine, select\n",
    "from pathlib import Path\n",
    "```\n",
    "\n",
    "## Key takeaways\n",
    "- Uses Pandas and GeoPandas for data processing.\n",
    "- Uses Shapely for geospatial geometry operations.\n",
    "- Uses multiprocessing (mp) to parallelize the blob-matching process.\n",
    "- Uses SQLAlchemy and SQLModel for database operations.\n",
    "\n",
    "# 2 High-level script overview\n",
    "The script is designed to match blobs (spatial objects) between two months and classify them into different business categories.\n",
    "\n",
    "General Workflow\n",
    "1. Fetch blobs from the previous and current months.\n",
    "1. Convert the region of interest (state, city, county, or geohash) into a list of geohashes.\n",
    "1. Parallelized Matching Process:\n",
    "1. Process multiple geohashes at once using multiprocessing.\n",
    "1. Find corresponding blobs from previous months for each geohash.\n",
    "1. Classify blobs based on construction stage progression.\n",
    "1. Identify blobs that are missing in the current month and \"impute\" them.\n",
    "1. Save results into the database.\n",
    "\n",
    "# 3 Blob classification logic\n",
    "\n",
    "# 4 Blob matching\n",
    "\n",
    "- Matches blobs between months using polygon intersections.\n",
    "- Uses Shapely to validate geometries and check for overlaps.\n",
    "- Returns matched blob IDs.\n",
    "\n",
    "## Multiprocessing Optimization\n",
    "The script parallelizes blob matching by:\n",
    "- Uses multiprocessing (mp.Process) to divide the dataset into smaller batches.\n",
    "- Each batch of blobs is processed in parallel.\n",
    "- Reduces runtime compared to a single-threaded approach.\n",
    "\n",
    "# 5 Handling unmatched blobs\n",
    "- Finds blobs from the previous month that do not have a match in the current month.\n",
    "- These blobs are \"imputed\", meaning they are carried over into the new month.\n",
    "\n",
    "# 6 Main class to orchestrate process\n",
    "- Loads previous and current month blobs.\n",
    "- Converts input regions (state, city, county) into geohashes.\n",
    "\n",
    "# Summary\n",
    "- Parallel processing is used to match blobs.\n",
    "- Blobs are classified based on construction stages.\n",
    "- Unmatched blobs are imputed for continuity.\n",
    "- The script writes results to a database."
   ]
  },
  {
   "cell_type": "markdown",
   "metadata": {},
   "source": []
  }
 ],
 "metadata": {
  "kernelspec": {
   "display_name": "geo",
   "language": "python",
   "name": "python3"
  },
  "language_info": {
   "codemirror_mode": {
    "name": "ipython",
    "version": 3
   },
   "file_extension": ".py",
   "mimetype": "text/x-python",
   "name": "python",
   "nbconvert_exporter": "python",
   "pygments_lexer": "ipython3",
   "version": "3.11.8"
  }
 },
 "nbformat": 4,
 "nbformat_minor": 2
}
