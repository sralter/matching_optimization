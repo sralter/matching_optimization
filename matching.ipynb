{
 "cells": [
  {
   "cell_type": "markdown",
   "metadata": {},
   "source": [
    "# Geospatial Matching Optimization"
   ]
  },
  {
   "cell_type": "markdown",
   "metadata": {},
   "source": [
    "This project is designed to showcase how to improve the speed of a polygon matching procedure. There are three main areas that could benefit from taking a \"geospatial-native\" approach:\n",
    "\n",
    "1. Data encoding and fetching\n",
    "2. Matching\n",
    "3. Storage\n",
    "\n",
    "We will generate synthetic polygon data and use both a non-geospatial-native and geospatial-native approach, comparing execution time for both to see how they differ."
   ]
  },
  {
   "cell_type": "markdown",
   "metadata": {},
   "source": [
    "Note: Make sure that you have PostgreSQL running."
   ]
  },
  {
   "cell_type": "markdown",
   "metadata": {},
   "source": [
    "## Imports"
   ]
  },
  {
   "cell_type": "code",
   "execution_count": 155,
   "metadata": {},
   "outputs": [
    {
     "name": "stdout",
     "output_type": "stream",
     "text": [
      "Created fresh logs/sid_2025-02-26_17-04-31_timing_results.csv\n",
      "Created fresh logs/sid_2025-02-26_17-04-31_timing.log\n"
     ]
    },
    {
     "data": {
      "text/plain": [
       "<module 'helpers' from '/Users/sra/files/projects/matching_optimization/helpers.py'>"
      ]
     },
     "execution_count": 155,
     "metadata": {},
     "output_type": "execute_result"
    }
   ],
   "source": [
    "import geopandas as gpd\n",
    "import pandas as pd\n",
    "import shapely\n",
    "import h3\n",
    "import time\n",
    "import helpers as h\n",
    "import matplotlib.pyplot as plt\n",
    "from shapely.wkt import dumps, loads\n",
    "from pathlib import Path\n",
    "import psycopg2\n",
    "from psycopg2 import sql\n",
    "import psutil\n",
    "\n",
    "# ensure helpers is loaded correctly\n",
    "import importlib\n",
    "importlib.reload(h)"
   ]
  },
  {
   "cell_type": "markdown",
   "metadata": {},
   "source": [
    "## Generate Test Data"
   ]
  },
  {
   "cell_type": "code",
   "execution_count": 156,
   "metadata": {},
   "outputs": [
    {
     "name": "stdout",
     "output_type": "stream",
     "text": [
      "Function `generate_random_polygons` executed in 0.1515 sec, CPU: 18.00%, Memory: 40.36MB\n",
      "Function `generate_random_polygons` executed in 0.1255 sec, CPU: 0.00%, Memory: 1.20MB\n"
     ]
    }
   ],
   "source": [
    "# Create two months of blob data\n",
    "prev_month_blobs = h.generate_random_polygons(n=10000)\n",
    "curr_month_blobs = h.generate_random_polygons(n=10000)"
   ]
  },
  {
   "cell_type": "code",
   "execution_count": 157,
   "metadata": {},
   "outputs": [
    {
     "data": {
      "text/html": [
       "<div>\n",
       "<style scoped>\n",
       "    .dataframe tbody tr th:only-of-type {\n",
       "        vertical-align: middle;\n",
       "    }\n",
       "\n",
       "    .dataframe tbody tr th {\n",
       "        vertical-align: top;\n",
       "    }\n",
       "\n",
       "    .dataframe thead th {\n",
       "        text-align: right;\n",
       "    }\n",
       "</style>\n",
       "<table border=\"1\" class=\"dataframe\">\n",
       "  <thead>\n",
       "    <tr style=\"text-align: right;\">\n",
       "      <th></th>\n",
       "      <th>geometry</th>\n",
       "      <th>id</th>\n",
       "    </tr>\n",
       "  </thead>\n",
       "  <tbody>\n",
       "    <tr>\n",
       "      <th>0</th>\n",
       "      <td>POLYGON ((-160.00100 27.83205, -160.00100 29.2...</td>\n",
       "      <td>447b0308-4bb5-4705-ba81-1adb16d8605b</td>\n",
       "    </tr>\n",
       "    <tr>\n",
       "      <th>1</th>\n",
       "      <td>POLYGON ((101.61974 -16.65312, 101.61974 -15.5...</td>\n",
       "      <td>051d62eb-2c6d-4a0b-b910-a586ff50d1e1</td>\n",
       "    </tr>\n",
       "    <tr>\n",
       "      <th>2</th>\n",
       "      <td>POLYGON ((39.76350 -4.43575, 39.76350 -2.65339...</td>\n",
       "      <td>c4daedbd-dc04-4615-84f1-789a4029a1aa</td>\n",
       "    </tr>\n",
       "    <tr>\n",
       "      <th>3</th>\n",
       "      <td>POLYGON ((-103.84635 -53.55717, -103.84635 -52...</td>\n",
       "      <td>fbe11cbe-b982-426e-8edf-54e128d82a28</td>\n",
       "    </tr>\n",
       "    <tr>\n",
       "      <th>4</th>\n",
       "      <td>POLYGON ((-160.98214 4.16004, -160.98214 5.351...</td>\n",
       "      <td>fe627180-c31b-4ab6-962f-50c65f4c47cd</td>\n",
       "    </tr>\n",
       "  </tbody>\n",
       "</table>\n",
       "</div>"
      ],
      "text/plain": [
       "                                            geometry  \\\n",
       "0  POLYGON ((-160.00100 27.83205, -160.00100 29.2...   \n",
       "1  POLYGON ((101.61974 -16.65312, 101.61974 -15.5...   \n",
       "2  POLYGON ((39.76350 -4.43575, 39.76350 -2.65339...   \n",
       "3  POLYGON ((-103.84635 -53.55717, -103.84635 -52...   \n",
       "4  POLYGON ((-160.98214 4.16004, -160.98214 5.351...   \n",
       "\n",
       "                                     id  \n",
       "0  447b0308-4bb5-4705-ba81-1adb16d8605b  \n",
       "1  051d62eb-2c6d-4a0b-b910-a586ff50d1e1  \n",
       "2  c4daedbd-dc04-4615-84f1-789a4029a1aa  \n",
       "3  fbe11cbe-b982-426e-8edf-54e128d82a28  \n",
       "4  fe627180-c31b-4ab6-962f-50c65f4c47cd  "
      ]
     },
     "execution_count": 157,
     "metadata": {},
     "output_type": "execute_result"
    }
   ],
   "source": [
    "prev_month_blobs.head()"
   ]
  },
  {
   "cell_type": "code",
   "execution_count": 158,
   "metadata": {},
   "outputs": [
    {
     "data": {
      "text/html": [
       "<div>\n",
       "<style scoped>\n",
       "    .dataframe tbody tr th:only-of-type {\n",
       "        vertical-align: middle;\n",
       "    }\n",
       "\n",
       "    .dataframe tbody tr th {\n",
       "        vertical-align: top;\n",
       "    }\n",
       "\n",
       "    .dataframe thead th {\n",
       "        text-align: right;\n",
       "    }\n",
       "</style>\n",
       "<table border=\"1\" class=\"dataframe\">\n",
       "  <thead>\n",
       "    <tr style=\"text-align: right;\">\n",
       "      <th></th>\n",
       "      <th>geometry</th>\n",
       "      <th>id</th>\n",
       "    </tr>\n",
       "  </thead>\n",
       "  <tbody>\n",
       "    <tr>\n",
       "      <th>0</th>\n",
       "      <td>POLYGON ((43.08879 -77.84748, 43.08879 -76.550...</td>\n",
       "      <td>2a491150-7923-447e-81b0-beea42c53971</td>\n",
       "    </tr>\n",
       "    <tr>\n",
       "      <th>1</th>\n",
       "      <td>POLYGON ((-168.16235 -70.49887, -168.16235 -69...</td>\n",
       "      <td>4fb60fe9-d896-4394-a265-45eba0b64695</td>\n",
       "    </tr>\n",
       "    <tr>\n",
       "      <th>2</th>\n",
       "      <td>POLYGON ((-101.17069 26.82229, -101.17069 28.7...</td>\n",
       "      <td>a5ea32df-8b31-4cca-b5b0-32813b3cf34f</td>\n",
       "    </tr>\n",
       "    <tr>\n",
       "      <th>3</th>\n",
       "      <td>POLYGON ((118.19809 28.99926, 118.19809 30.655...</td>\n",
       "      <td>c8f5a899-c63c-4ac6-9607-1fda258314f0</td>\n",
       "    </tr>\n",
       "    <tr>\n",
       "      <th>4</th>\n",
       "      <td>POLYGON ((-7.35884 -21.20598, -7.35884 -19.744...</td>\n",
       "      <td>89f3ce3b-e9d4-4626-939d-a7b96b048a62</td>\n",
       "    </tr>\n",
       "  </tbody>\n",
       "</table>\n",
       "</div>"
      ],
      "text/plain": [
       "                                            geometry  \\\n",
       "0  POLYGON ((43.08879 -77.84748, 43.08879 -76.550...   \n",
       "1  POLYGON ((-168.16235 -70.49887, -168.16235 -69...   \n",
       "2  POLYGON ((-101.17069 26.82229, -101.17069 28.7...   \n",
       "3  POLYGON ((118.19809 28.99926, 118.19809 30.655...   \n",
       "4  POLYGON ((-7.35884 -21.20598, -7.35884 -19.744...   \n",
       "\n",
       "                                     id  \n",
       "0  2a491150-7923-447e-81b0-beea42c53971  \n",
       "1  4fb60fe9-d896-4394-a265-45eba0b64695  \n",
       "2  a5ea32df-8b31-4cca-b5b0-32813b3cf34f  \n",
       "3  c8f5a899-c63c-4ac6-9607-1fda258314f0  \n",
       "4  89f3ce3b-e9d4-4626-939d-a7b96b048a62  "
      ]
     },
     "execution_count": 158,
     "metadata": {},
     "output_type": "execute_result"
    }
   ],
   "source": [
    "curr_month_blobs.head()"
   ]
  },
  {
   "cell_type": "code",
   "execution_count": 159,
   "metadata": {},
   "outputs": [],
   "source": [
    "# make data folder\n",
    "Path('data/').mkdir(exist_ok=True)\n",
    "\n",
    "# save as geoparquet\n",
    "prev_month_blobs.to_parquet('data/prev_month_blobs.parquet')\n",
    "curr_month_blobs.to_parquet('data/curr_month_blobs.parquet')"
   ]
  },
  {
   "cell_type": "code",
   "execution_count": 160,
   "metadata": {},
   "outputs": [
    {
     "data": {
      "image/png": "[encoded data removed]",
      "text/plain": [
       "<Figure size 500x500 with 1 Axes>"
      ]
     },
     "metadata": {},
     "output_type": "display_data"
    }
   ],
   "source": [
    "range_ = 100\n",
    "\n",
    "fig, ax = plt.subplots(figsize=(5, 5))\n",
    "prev_month_blobs.iloc[0:range_].plot(ax=ax)\n",
    "ax.set_title(f'Viewing the first {range_} blobs')\n",
    "plt.tight_layout()\n",
    "\n",
    "plt.show()"
   ]
  },
  {
   "cell_type": "markdown",
   "metadata": {},
   "source": [
    "### Make copy of polygon layer and convert to non-geospatial-native string (WKT) datatype"
   ]
  },
  {
   "cell_type": "code",
   "execution_count": 161,
   "metadata": {},
   "outputs": [],
   "source": [
    "# copy the gdfs\n",
    "prev_month_blobs_wkt = prev_month_blobs.copy()\n",
    "curr_month_blobs_wkt = curr_month_blobs.copy()"
   ]
  },
  {
   "cell_type": "code",
   "execution_count": 162,
   "metadata": {},
   "outputs": [
    {
     "name": "stdout",
     "output_type": "stream",
     "text": [
      "Function `convert_col_to_string` executed in 0.1237 sec, CPU: 54.30%, Memory: 4.16MB\n",
      "Function `convert_col_to_string` executed in 0.0487 sec, CPU: 22.20%, Memory: 10.80MB\n",
      "                                            geometry  \\\n",
      "0  POLYGON ((-160.000995 27.832055, -160.000995 2...   \n",
      "1  POLYGON ((101.619745 -16.65312, 101.619745 -15...   \n",
      "2  POLYGON ((39.7635 -4.435747, 39.7635 -2.65339,...   \n",
      "3  POLYGON ((-103.846347 -53.557165, -103.846347 ...   \n",
      "4  POLYGON ((-160.982142 4.160037, -160.982142 5....   \n",
      "\n",
      "                                     id  \n",
      "0  447b0308-4bb5-4705-ba81-1adb16d8605b  \n",
      "1  051d62eb-2c6d-4a0b-b910-a586ff50d1e1  \n",
      "2  c4daedbd-dc04-4615-84f1-789a4029a1aa  \n",
      "3  fbe11cbe-b982-426e-8edf-54e128d82a28  \n",
      "4  fe627180-c31b-4ab6-962f-50c65f4c47cd  \n"
     ]
    },
    {
     "name": "stderr",
     "output_type": "stream",
     "text": [
      "/Users/sra/files/projects/matching_optimization/helpers.py:146: UserWarning: Geometry column does not contain geometry.\n",
      "  \n",
      "/Users/sra/files/projects/matching_optimization/helpers.py:146: UserWarning: Geometry column does not contain geometry.\n",
      "  \n"
     ]
    }
   ],
   "source": [
    "# Convert WKT versions to strings\n",
    "dfs_to_convert = [prev_month_blobs_wkt, curr_month_blobs_wkt]\n",
    "prev_month_blobs_wkt, curr_month_blobs_wkt = [h.convert_col_to_string(df) for df in dfs_to_convert]\n",
    "\n",
    "# Check result\n",
    "print(prev_month_blobs_wkt.head())"
   ]
  },
  {
   "cell_type": "code",
   "execution_count": 166,
   "metadata": {},
   "outputs": [
    {
     "data": {
      "text/plain": [
       "list"
      ]
     },
     "execution_count": 166,
     "metadata": {},
     "output_type": "execute_result"
    }
   ],
   "source": [
    "type(prev_month_blobs_wkt)"
   ]
  },
  {
   "cell_type": "markdown",
   "metadata": {},
   "source": [
    "### Save in PostgreSQL database"
   ]
  },
  {
   "cell_type": "markdown",
   "metadata": {},
   "source": [
    "1. Set up a PostgreSQL database\n",
    "2. Store the WKT-version of the blobs (i.e. as strings, not geometry)"
   ]
  },
  {
   "cell_type": "code",
   "execution_count": 164,
   "metadata": {},
   "outputs": [
    {
     "name": "stdout",
     "output_type": "stream",
     "text": [
      "Function `df_itertuple` executed in 0.0095 sec, CPU: 46.20%, Memory: 3.36MB\n",
      "Function `df_itertuple` executed in 0.0031 sec, CPU: 42.90%, Memory: 0.00MB\n"
     ]
    }
   ],
   "source": [
    "# Convert to tuples\n",
    "\n",
    "prev_month_blobs_wkt = h.df_itertuple(prev_month_blobs_wkt)\n",
    "curr_month_blobs_wkt = h.df_itertuple(curr_month_blobs_wkt)"
   ]
  },
  {
   "cell_type": "code",
   "execution_count": 165,
   "metadata": {},
   "outputs": [
    {
     "name": "stdout",
     "output_type": "stream",
     "text": [
      "Database blob_matching already exists.\n",
      "Data inserted successfully.\n",
      "df_prev:                                             geometry  \\\n",
      "0  POLYGON ((-158.5966725744266 26.60522886734023...   \n",
      "1  POLYGON ((176.21978409511246 -14.9280088021202...   \n",
      "2  POLYGON ((137.9785558137033 27.41222741599516,...   \n",
      "3  POLYGON ((-57.580964985751486 23.5397270674304...   \n",
      "4  POLYGON ((-66.90923725606675 67.10130112202731...   \n",
      "\n",
      "                                     id  \n",
      "0  1a954e4a-ccd6-43b4-8a40-0c85055d0174  \n",
      "1  534f1521-309b-44c2-b4c4-73c1d65f13b6  \n",
      "2  3dba4ec5-89bc-4a8c-9110-af3937c3ec0b  \n",
      "3  009b12e8-9002-44fd-b285-06bda955aaf2  \n",
      "4  09081e2b-cb99-48b5-aa28-8e820ae78bb3  \n",
      "df_curr:                                             geometry  \\\n",
      "0  POLYGON ((-136.99860799384905 -15.327728065322...   \n",
      "1  POLYGON ((-88.84855651599074 -65.2365588753379...   \n",
      "2  POLYGON ((78.38793774218577 22.894964271778974...   \n",
      "3  POLYGON ((-100.88450978918468 -44.459107566554...   \n",
      "4  POLYGON ((106.46892154657614 89.44615155659699...   \n",
      "\n",
      "                                     id  \n",
      "0  4ae9b2bf-abb5-44ed-90ab-9898e25c1ce6  \n",
      "1  55818b3b-57df-4e6d-ba18-e78d1c1b851e  \n",
      "2  bec2cf4d-08fc-4b22-8249-c77d15cb0f30  \n",
      "3  8c38eccb-d269-4546-b6ef-8b07a0689810  \n",
      "4  e740df9d-289e-4be7-abfd-c8d37e95058f  \n"
     ]
    }
   ],
   "source": [
    "# Define connection details\n",
    "postgresql_details = {\n",
    "    'dbname': 'postgres',  # Use the default database to create the new one\n",
    "    'user': 'postgres',\n",
    "    'password': 'rootroot',\n",
    "    'host': 'localhost',\n",
    "    'port': '5432'\n",
    "}\n",
    "\n",
    "# Step 1: Connect to PostgreSQL and create a new database (if it doesn't exist)\n",
    "conn = psycopg2.connect(\n",
    "    dbname=postgresql_details['dbname'],\n",
    "    user=postgresql_details['user'],\n",
    "    password=postgresql_details['password'],\n",
    "    host=postgresql_details['host'],\n",
    "    port=postgresql_details['port']\n",
    ")\n",
    "cur = conn.cursor()\n",
    "\n",
    "# Commit any active transactions before creating a new database\n",
    "conn.commit()  # This ensures no open transaction block\n",
    "\n",
    "# Set autocommit to True for creating the database (it cannot run inside a transaction block)\n",
    "conn.autocommit = True\n",
    "\n",
    "# Create a new database (only if it doesn't already exist)\n",
    "new_db_name = 'blob_matching'\n",
    "cur.execute(sql.SQL(\"SELECT 1 FROM pg_database WHERE datname = %s\"), [new_db_name])\n",
    "if not cur.fetchone():\n",
    "    cur.execute(sql.SQL(\"CREATE DATABASE {}\").format(sql.Identifier(new_db_name)))\n",
    "    print(f\"Database {new_db_name} created.\")\n",
    "else:\n",
    "    print(f\"Database {new_db_name} already exists.\")\n",
    "\n",
    "# Reset autocommit to False (we want to manage transactions for the rest of the operations)\n",
    "conn.autocommit = False\n",
    "\n",
    "# Close connection for creating the new database\n",
    "cur.close()\n",
    "conn.close()\n",
    "\n",
    "# Step 2: Connect to the newly created database to create a table\n",
    "postgresql_details['dbname'] = new_db_name  # Change to the new database\n",
    "conn = psycopg2.connect(\n",
    "    dbname=postgresql_details['dbname'],\n",
    "    user=postgresql_details['user'],\n",
    "    password=postgresql_details['password'],\n",
    "    host=postgresql_details['host'],\n",
    "    port=postgresql_details['port']\n",
    ")\n",
    "cur = conn.cursor()\n",
    "\n",
    "# Create prev_month and curr_month table if it doesn't exist\n",
    "cur.execute(\"\"\"\n",
    "    CREATE EXTENSION IF NOT EXISTS \"pgcrypto\";\n",
    "    CREATE TABLE IF NOT EXISTS prev_blobs_wkt (\n",
    "        geometry TEXT,\n",
    "        id UUID PRIMARY KEY DEFAULT gen_random_uuid());\n",
    "    CREATE TABLE IF NOT EXISTS curr_blobs_wkt (\n",
    "        geometry TEXT,\n",
    "        id UUID PRIMARY KEY DEFAULT gen_random_uuid());\n",
    "\"\"\")\n",
    "conn.commit()\n",
    "\n",
    "# Step 3: Insert WKT strings into the table\n",
    "cur.executemany('INSERT INTO prev_blobs_wkt (geometry, id) VALUES (%s, %s);', prev_month_blobs_wkt)\n",
    "cur.executemany('INSERT INTO curr_blobs_wkt (geometry, id) VALUES (%s, %s);', curr_month_blobs_wkt)\n",
    "conn.commit()\n",
    "\n",
    "print(\"Data inserted successfully.\")\n",
    "\n",
    "# Step 4: Retrieve data and convert WKT to geometry\n",
    "cur.execute(\"SELECT geometry, id FROM prev_blobs_wkt;\")\n",
    "rows = cur.fetchall()\n",
    "df_prev = pd.DataFrame(rows, columns=[\"geometry\", \"id\"])\n",
    "df_prev[\"geometry\"] = df_prev[\"geometry\"].apply(loads)  # Convert WKT to Shapely geometry\n",
    "print('df_prev:', df_prev.head())\n",
    "\n",
    "cur.execute(\"SELECT geometry, id FROM curr_blobs_wkt;\")\n",
    "rows = cur.fetchall()\n",
    "df_curr = pd.DataFrame(rows, columns=[\"geometry\", \"id\"])\n",
    "df_curr[\"geometry\"] = df_curr[\"geometry\"].apply(loads)  # Convert WKT to Shapely geometry\n",
    "print('df_curr:', df_curr.head())\n",
    "\n",
    "# Step 5: Close the connection\n",
    "cur.close()\n",
    "conn.close()"
   ]
  },
  {
   "cell_type": "markdown",
   "metadata": {},
   "source": [
    "Baseline - Polygon Matching Only"
   ]
  },
  {
   "cell_type": "markdown",
   "metadata": {},
   "source": []
  }
 ],
 "metadata": {
  "kernelspec": {
   "display_name": "geo",
   "language": "python",
   "name": "python3"
  },
  "language_info": {
   "codemirror_mode": {
    "name": "ipython",
    "version": 3
   },
   "file_extension": ".py",
   "mimetype": "text/x-python",
   "name": "python",
   "nbconvert_exporter": "python",
   "pygments_lexer": "ipython3",
   "version": "3.11.8"
  }
 },
 "nbformat": 4,
 "nbformat_minor": 2
}
