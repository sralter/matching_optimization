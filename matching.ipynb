{
 "cells": [
  {
   "cell_type": "markdown",
   "metadata": {},
   "source": [
    "# Geospatial Matching Optimization"
   ]
  },
  {
   "cell_type": "markdown",
   "metadata": {},
   "source": [
    "This project is designed to showcase how to improve the speed of a polygon matching procedure. There are three main areas that could benefit from taking a \"geospatial-native\" approach:\n",
    "\n",
    "1. Data encoding and fetching\n",
    "2. Matching\n",
    "3. Storage\n",
    "\n",
    "We will generate synthetic polygon data and use both a non-geospatial-native and geospatial-native approach, comparing execution time for both to see how they differ."
   ]
  },
  {
   "cell_type": "markdown",
   "metadata": {},
   "source": [
    "Note: Make sure that you have PostgreSQL running."
   ]
  },
  {
   "cell_type": "markdown",
   "metadata": {},
   "source": [
    "## Imports"
   ]
  },
  {
   "cell_type": "code",
   "execution_count": 99,
   "metadata": {},
   "outputs": [
    {
     "name": "stdout",
     "output_type": "stream",
     "text": [
      "Created fresh timing_results.csv\n",
      "Created fresh timing.log\n"
     ]
    },
    {
     "data": {
      "text/plain": [
       "<module 'helpers' from '/Users/sra/files/projects/matching_optimization/helpers.py'>"
      ]
     },
     "execution_count": 99,
     "metadata": {},
     "output_type": "execute_result"
    }
   ],
   "source": [
    "import random\n",
    "import uuid\n",
    "import geopandas as gpd\n",
    "import pandas as pd\n",
    "import shapely\n",
    "from shapely.geometry import Polygon, box\n",
    "import h3\n",
    "import time\n",
    "import helpers as h\n",
    "import matplotlib.pyplot as plt\n",
    "from shapely.wkt import dumps, loads\n",
    "from pathlib import Path\n",
    "import psycopg2\n",
    "from psycopg2 import sql\n",
    "import psutil\n",
    "\n",
    "# ensure helpers is loaded correctly\n",
    "import importlib\n",
    "importlib.reload(h)"
   ]
  },
  {
   "cell_type": "markdown",
   "metadata": {},
   "source": [
    "## Generate Test Data"
   ]
  },
  {
   "cell_type": "code",
   "execution_count": 100,
   "metadata": {},
   "outputs": [],
   "source": [
    "@h.timing_decorator\n",
    "def generate_random_polygons(n=100, bbox=(-180, -90, 180, 90)):\n",
    "    \"\"\"Generate n random polygons inside a bounding box with a unique ID.\"\"\"\n",
    "    minx, miny, maxx, maxy = bbox\n",
    "    polygons = []\n",
    "    ids = []  # List to store UUIDs\n",
    "    for _ in range(n):\n",
    "        x1, y1 = random.uniform(minx, maxx), random.uniform(miny, maxy)\n",
    "        x2, y2 = x1 + random.uniform(1, 2), y1 + random.uniform(1, 2)\n",
    "        polygons.append(box(x1, y1, x2, y2))  # Create rectangle\n",
    "        ids.append(str(uuid.uuid4()))  # Generate unique UUID\n",
    "    gdf = gpd.GeoDataFrame(geometry=polygons, crs=\"EPSG:4326\")\n",
    "    gdf['id'] = ids  # Add the id column\n",
    "    return gdf"
   ]
  },
  {
   "cell_type": "code",
   "execution_count": 101,
   "metadata": {},
   "outputs": [
    {
     "name": "stdout",
     "output_type": "stream",
     "text": [
      "Function `generate_random_polygons` executed in 0.2157 sec, CPU: 14.50%, Memory: 25.66MB\n",
      "Function `generate_random_polygons` executed in 0.2835 sec, CPU: -6.30%, Memory: 36.25MB\n"
     ]
    }
   ],
   "source": [
    "# Create two months of blob data\n",
    "prev_month_blobs = generate_random_polygons(n=10000)\n",
    "curr_month_blobs = generate_random_polygons(n=10000)"
   ]
  },
  {
   "cell_type": "code",
   "execution_count": 102,
   "metadata": {},
   "outputs": [
    {
     "data": {
      "text/html": [
       "<div>\n",
       "<style scoped>\n",
       "    .dataframe tbody tr th:only-of-type {\n",
       "        vertical-align: middle;\n",
       "    }\n",
       "\n",
       "    .dataframe tbody tr th {\n",
       "        vertical-align: top;\n",
       "    }\n",
       "\n",
       "    .dataframe thead th {\n",
       "        text-align: right;\n",
       "    }\n",
       "</style>\n",
       "<table border=\"1\" class=\"dataframe\">\n",
       "  <thead>\n",
       "    <tr style=\"text-align: right;\">\n",
       "      <th></th>\n",
       "      <th>geometry</th>\n",
       "      <th>id</th>\n",
       "    </tr>\n",
       "  </thead>\n",
       "  <tbody>\n",
       "    <tr>\n",
       "      <th>0</th>\n",
       "      <td>POLYGON ((-75.65241 -60.77747, -75.65241 -59.1...</td>\n",
       "      <td>6dcdfcab-53a0-4d56-9545-cd8593746cdd</td>\n",
       "    </tr>\n",
       "    <tr>\n",
       "      <th>1</th>\n",
       "      <td>POLYGON ((-70.79809 -44.44490, -70.79809 -43.3...</td>\n",
       "      <td>3f854120-92fd-42c3-a49c-1b173a4d3acb</td>\n",
       "    </tr>\n",
       "    <tr>\n",
       "      <th>2</th>\n",
       "      <td>POLYGON ((-51.93116 19.67525, -51.93116 21.013...</td>\n",
       "      <td>db281682-f8da-4411-aec0-167b631df114</td>\n",
       "    </tr>\n",
       "    <tr>\n",
       "      <th>3</th>\n",
       "      <td>POLYGON ((36.09145 -49.99846, 36.09145 -48.872...</td>\n",
       "      <td>793ff18d-4110-4946-8e2c-86c67346dd4a</td>\n",
       "    </tr>\n",
       "    <tr>\n",
       "      <th>4</th>\n",
       "      <td>POLYGON ((51.14117 -86.12844, 51.14117 -84.309...</td>\n",
       "      <td>763658a0-ade7-4c9a-9b5b-f2ba1ffa986c</td>\n",
       "    </tr>\n",
       "  </tbody>\n",
       "</table>\n",
       "</div>"
      ],
      "text/plain": [
       "                                            geometry  \\\n",
       "0  POLYGON ((-75.65241 -60.77747, -75.65241 -59.1...   \n",
       "1  POLYGON ((-70.79809 -44.44490, -70.79809 -43.3...   \n",
       "2  POLYGON ((-51.93116 19.67525, -51.93116 21.013...   \n",
       "3  POLYGON ((36.09145 -49.99846, 36.09145 -48.872...   \n",
       "4  POLYGON ((51.14117 -86.12844, 51.14117 -84.309...   \n",
       "\n",
       "                                     id  \n",
       "0  6dcdfcab-53a0-4d56-9545-cd8593746cdd  \n",
       "1  3f854120-92fd-42c3-a49c-1b173a4d3acb  \n",
       "2  db281682-f8da-4411-aec0-167b631df114  \n",
       "3  793ff18d-4110-4946-8e2c-86c67346dd4a  \n",
       "4  763658a0-ade7-4c9a-9b5b-f2ba1ffa986c  "
      ]
     },
     "execution_count": 102,
     "metadata": {},
     "output_type": "execute_result"
    }
   ],
   "source": [
    "prev_month_blobs.head()"
   ]
  },
  {
   "cell_type": "code",
   "execution_count": 110,
   "metadata": {},
   "outputs": [
    {
     "name": "stdout",
     "output_type": "stream",
     "text": [
      "geometry    POLYGON ((-75.65241129239311 -60.7774653415691...\n",
      "id                       6dcdfcab-53a0-4d56-9545-cd8593746cdd\n",
      "Name: 0, dtype: object\n"
     ]
    }
   ],
   "source": [
    "print(prev_month_blobs.iloc[0])"
   ]
  },
  {
   "cell_type": "code",
   "execution_count": 62,
   "metadata": {},
   "outputs": [],
   "source": [
    "# make data folder\n",
    "Path('data/').mkdir(exist_ok=True)\n",
    "\n",
    "# save as geoparquet\n",
    "prev_month_blobs.to_parquet('data/prev_month_blobs.parquet')\n",
    "curr_month_blobs.to_parquet('data/curr_month_blobs.parquet')"
   ]
  },
  {
   "cell_type": "code",
   "execution_count": 63,
   "metadata": {},
   "outputs": [
    {
     "data": {
      "image/png": "[encoded data removed]",
      "text/plain": [
       "<Figure size 500x500 with 1 Axes>"
      ]
     },
     "metadata": {},
     "output_type": "display_data"
    }
   ],
   "source": [
    "range_ = 100\n",
    "\n",
    "fig, ax = plt.subplots(figsize=(5, 5))\n",
    "prev_month_blobs.iloc[0:range_].plot(ax=ax)\n",
    "ax.set_title(f'Viewing the first {range_} blobs')\n",
    "plt.tight_layout()\n",
    "\n",
    "plt.show()"
   ]
  },
  {
   "cell_type": "markdown",
   "metadata": {},
   "source": [
    "### Make copy of polygon layer and convert to non-geospatial-native string (WKT) datatype"
   ]
  },
  {
   "cell_type": "code",
   "execution_count": 64,
   "metadata": {},
   "outputs": [],
   "source": [
    "prev_month_blobs_wkt = prev_month_blobs.copy()\n",
    "curr_month_blobs_wkt = curr_month_blobs.copy()"
   ]
  },
  {
   "cell_type": "code",
   "execution_count": 65,
   "metadata": {},
   "outputs": [
    {
     "name": "stderr",
     "output_type": "stream",
     "text": [
      "/var/folders/n3/q8wb235x57n_sx2q14dsngjr0000gn/T/ipykernel_65202/3905694535.py:1: UserWarning: Geometry column does not contain geometry.\n",
      "  prev_month_blobs_wkt['geometry'] = prev_month_blobs_wkt['geometry'].apply(dumps)\n",
      "/var/folders/n3/q8wb235x57n_sx2q14dsngjr0000gn/T/ipykernel_65202/3905694535.py:2: UserWarning: Geometry column does not contain geometry.\n",
      "  curr_month_blobs_wkt['geometry'] = curr_month_blobs_wkt['geometry'].apply(dumps)\n"
     ]
    }
   ],
   "source": [
    "prev_month_blobs_wkt['geometry'] = prev_month_blobs_wkt['geometry'].apply(dumps)\n",
    "curr_month_blobs_wkt['geometry'] = curr_month_blobs_wkt['geometry'].apply(dumps)"
   ]
  },
  {
   "cell_type": "markdown",
   "metadata": {},
   "source": [
    "### Save in PostgreSQL database"
   ]
  },
  {
   "cell_type": "markdown",
   "metadata": {},
   "source": [
    "1. Set up a PostgreSQL database\n",
    "2. Store the WKT-version of the blobs (i.e. as strings, not geometry)"
   ]
  },
  {
   "cell_type": "code",
   "execution_count": 75,
   "metadata": {},
   "outputs": [],
   "source": [
    "# convert wkt versions to list of tuples for insertion into tables\n",
    "prev_month_blobs_wkt = list(prev_month_blobs_wkt.itertuples(index=False, name=None))\n",
    "curr_month_blobs_wkt = list(curr_month_blobs_wkt.itertuples(index=False, name=None))"
   ]
  },
  {
   "cell_type": "code",
   "execution_count": 76,
   "metadata": {},
   "outputs": [
    {
     "name": "stdout",
     "output_type": "stream",
     "text": [
      "Database blob_matching already exists.\n",
      "Data inserted successfully.\n",
      "df_prev:                                             geometry  \\\n",
      "0  POLYGON ((-158.5966725744266 26.60522886734023...   \n",
      "1  POLYGON ((176.21978409511246 -14.9280088021202...   \n",
      "2  POLYGON ((137.9785558137033 27.41222741599516,...   \n",
      "3  POLYGON ((-57.580964985751486 23.5397270674304...   \n",
      "4  POLYGON ((-66.90923725606675 67.10130112202731...   \n",
      "\n",
      "                                     id  \n",
      "0  1a954e4a-ccd6-43b4-8a40-0c85055d0174  \n",
      "1  534f1521-309b-44c2-b4c4-73c1d65f13b6  \n",
      "2  3dba4ec5-89bc-4a8c-9110-af3937c3ec0b  \n",
      "3  009b12e8-9002-44fd-b285-06bda955aaf2  \n",
      "4  09081e2b-cb99-48b5-aa28-8e820ae78bb3  \n",
      "df_curr:                                             geometry  \\\n",
      "0  POLYGON ((-136.99860799384905 -15.327728065322...   \n",
      "1  POLYGON ((-88.84855651599074 -65.2365588753379...   \n",
      "2  POLYGON ((78.38793774218577 22.894964271778974...   \n",
      "3  POLYGON ((-100.88450978918468 -44.459107566554...   \n",
      "4  POLYGON ((106.46892154657614 89.44615155659699...   \n",
      "\n",
      "                                     id  \n",
      "0  4ae9b2bf-abb5-44ed-90ab-9898e25c1ce6  \n",
      "1  55818b3b-57df-4e6d-ba18-e78d1c1b851e  \n",
      "2  bec2cf4d-08fc-4b22-8249-c77d15cb0f30  \n",
      "3  8c38eccb-d269-4546-b6ef-8b07a0689810  \n",
      "4  e740df9d-289e-4be7-abfd-c8d37e95058f  \n"
     ]
    }
   ],
   "source": [
    "# Define connection details\n",
    "postgresql_details = {\n",
    "    'dbname': 'postgres',  # Use the default database to create the new one\n",
    "    'user': 'postgres',\n",
    "    'password': 'rootroot',\n",
    "    'host': 'localhost',\n",
    "    'port': '5432'\n",
    "}\n",
    "\n",
    "# Step 1: Connect to PostgreSQL and create a new database (if it doesn't exist)\n",
    "conn = psycopg2.connect(\n",
    "    dbname=postgresql_details['dbname'],\n",
    "    user=postgresql_details['user'],\n",
    "    password=postgresql_details['password'],\n",
    "    host=postgresql_details['host'],\n",
    "    port=postgresql_details['port']\n",
    ")\n",
    "cur = conn.cursor()\n",
    "\n",
    "# Commit any active transactions before creating a new database\n",
    "conn.commit()  # This ensures no open transaction block\n",
    "\n",
    "# Set autocommit to True for creating the database (it cannot run inside a transaction block)\n",
    "conn.autocommit = True\n",
    "\n",
    "# Create a new database (only if it doesn't already exist)\n",
    "new_db_name = 'blob_matching'\n",
    "cur.execute(sql.SQL(\"SELECT 1 FROM pg_database WHERE datname = %s\"), [new_db_name])\n",
    "if not cur.fetchone():\n",
    "    cur.execute(sql.SQL(\"CREATE DATABASE {}\").format(sql.Identifier(new_db_name)))\n",
    "    print(f\"Database {new_db_name} created.\")\n",
    "else:\n",
    "    print(f\"Database {new_db_name} already exists.\")\n",
    "\n",
    "# Reset autocommit to False (we want to manage transactions for the rest of the operations)\n",
    "conn.autocommit = False\n",
    "\n",
    "# Close connection for creating the new database\n",
    "cur.close()\n",
    "conn.close()\n",
    "\n",
    "# Step 2: Connect to the newly created database to create a table\n",
    "postgresql_details['dbname'] = new_db_name  # Change to the new database\n",
    "conn = psycopg2.connect(\n",
    "    dbname=postgresql_details['dbname'],\n",
    "    user=postgresql_details['user'],\n",
    "    password=postgresql_details['password'],\n",
    "    host=postgresql_details['host'],\n",
    "    port=postgresql_details['port']\n",
    ")\n",
    "cur = conn.cursor()\n",
    "\n",
    "# Create prev_month and curr_month table if it doesn't exist\n",
    "cur.execute(\"\"\"\n",
    "    CREATE EXTENSION IF NOT EXISTS \"pgcrypto\";\n",
    "    CREATE TABLE IF NOT EXISTS prev_blobs_wkt (\n",
    "        geometry TEXT,\n",
    "        id UUID PRIMARY KEY DEFAULT gen_random_uuid());\n",
    "    CREATE TABLE IF NOT EXISTS curr_blobs_wkt (\n",
    "        geometry TEXT,\n",
    "        id UUID PRIMARY KEY DEFAULT gen_random_uuid());\n",
    "\"\"\")\n",
    "conn.commit()\n",
    "\n",
    "# Step 3: Insert WKT strings into the table\n",
    "cur.executemany('INSERT INTO prev_blobs_wkt (geometry, id) VALUES (%s, %s);', prev_month_blobs_wkt)\n",
    "cur.executemany('INSERT INTO curr_blobs_wkt (geometry, id) VALUES (%s, %s);', curr_month_blobs_wkt)\n",
    "conn.commit()\n",
    "\n",
    "print(\"Data inserted successfully.\")\n",
    "\n",
    "# Step 4: Retrieve data and convert WKT to geometry\n",
    "cur.execute(\"SELECT geometry, id FROM prev_blobs_wkt;\")\n",
    "rows = cur.fetchall()\n",
    "df_prev = pd.DataFrame(rows, columns=[\"geometry\", \"id\"])\n",
    "df_prev[\"geometry\"] = df_prev[\"geometry\"].apply(loads)  # Convert WKT to Shapely geometry\n",
    "print('df_prev:', df_prev.head())\n",
    "\n",
    "cur.execute(\"SELECT geometry, id FROM curr_blobs_wkt;\")\n",
    "rows = cur.fetchall()\n",
    "df_curr = pd.DataFrame(rows, columns=[\"geometry\", \"id\"])\n",
    "df_curr[\"geometry\"] = df_curr[\"geometry\"].apply(loads)  # Convert WKT to Shapely geometry\n",
    "print('df_curr:', df_curr.head())\n",
    "\n",
    "# Step 5: Close the connection\n",
    "cur.close()\n",
    "conn.close()"
   ]
  },
  {
   "cell_type": "markdown",
   "metadata": {},
   "source": [
    "Baseline - Polygon Matching Only"
   ]
  },
  {
   "cell_type": "markdown",
   "metadata": {},
   "source": []
  }
 ],
 "metadata": {
  "kernelspec": {
   "display_name": "geo",
   "language": "python",
   "name": "python3"
  },
  "language_info": {
   "codemirror_mode": {
    "name": "ipython",
    "version": 3
   },
   "file_extension": ".py",
   "mimetype": "text/x-python",
   "name": "python",
   "nbconvert_exporter": "python",
   "pygments_lexer": "ipython3",
   "version": "3.11.8"
  }
 },
 "nbformat": 4,
 "nbformat_minor": 2
}
