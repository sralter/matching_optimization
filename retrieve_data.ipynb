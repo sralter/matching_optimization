{
 "cells": [
  {
   "cell_type": "code",
   "execution_count": 1,
   "metadata": {},
   "outputs": [],
   "source": [
    "from sqlalchemy import create_engine\n",
    "from pathlib import Path\n",
    "import pandas as pd\n",
    "import helpers as h\n",
    "\n",
    "@h.Timer()\n",
    "def retrieve_data():\n",
    "    \"\"\"Downloads appropriate selection of data from PostgreSQL database\"\"\"\n",
    "\n",
    "    with open('data/user.txt', 'r') as file:\n",
    "        user = file.read().strip('\\n')\n",
    "\n",
    "    with open('data/pass.txt', 'r') as file:\n",
    "        pw = file.read().strip('\\n')\n",
    "\n",
    "    with open('data/db_host.txt', 'r') as file:\n",
    "        host = file.read().strip('\\n')\n",
    "\n",
    "    with open('data/db_port.txt', 'r') as file:\n",
    "        port = file.read().strip('\\n')\n",
    "\n",
    "    with open('data/db_name.txt', 'r') as file:\n",
    "        name = file.read().strip('\\n')\n",
    "\n",
    "    engine = create_engine(f'postgresql://{user}:{pw}@{host}:{port}/{name}')\n",
    "\n",
    "    query = \"\"\"SELECT * FROM blob WHERE \"YEAR\" = '2024' AND \"MONTH\" BETWEEN '03' AND '07' limit 100000;\"\"\"\n",
    "\n",
    "    df = pd.read_sql(query, engine)\n",
    "\n",
    "    parquet_path = Path('data/blob_data_100k.parquet')\n",
    "    df.to_parquet(parquet_path, engine='pyarrow')\n",
    "\n",
    "    print(f'Data saved to: {parquet_path}')"
   ]
  },
  {
   "cell_type": "code",
   "execution_count": 2,
   "metadata": {},
   "outputs": [
    {
     "name": "stdout",
     "output_type": "stream",
     "text": [
      "Data saved to: data/blob_data_100k.parquet\n",
      "Function `retrieve_data` executed in 654.5031 sec, CPU: 2.50%, Memory: 1362.84MB\n"
     ]
    }
   ],
   "source": [
    "retrieve_data()"
   ]
  },
  {
   "cell_type": "markdown",
   "metadata": {},
   "source": [
    "21946235 rows that match that criteria of date range."
   ]
  },
  {
   "cell_type": "code",
   "execution_count": 4,
   "metadata": {},
   "outputs": [
    {
     "data": {
      "text/html": [
       "<div>\n",
       "<style scoped>\n",
       "    .dataframe tbody tr th:only-of-type {\n",
       "        vertical-align: middle;\n",
       "    }\n",
       "\n",
       "    .dataframe tbody tr th {\n",
       "        vertical-align: top;\n",
       "    }\n",
       "\n",
       "    .dataframe thead th {\n",
       "        text-align: right;\n",
       "    }\n",
       "</style>\n",
       "<table border=\"1\" class=\"dataframe\">\n",
       "  <thead>\n",
       "    <tr style=\"text-align: right;\">\n",
       "      <th></th>\n",
       "      <th>count_star()</th>\n",
       "    </tr>\n",
       "  </thead>\n",
       "  <tbody>\n",
       "    <tr>\n",
       "      <th>0</th>\n",
       "      <td>100000</td>\n",
       "    </tr>\n",
       "  </tbody>\n",
       "</table>\n",
       "</div>"
      ],
      "text/plain": [
       "   count_star()\n",
       "0        100000"
      ]
     },
     "execution_count": 4,
     "metadata": {},
     "output_type": "execute_result"
    }
   ],
   "source": [
    "# test count(*) of created dataset\n",
    "import duckdb\n",
    "\n",
    "parquet_path = Path('data/blob_data_100k.parquet')\n",
    "\n",
    "check = duckdb.sql(\n",
    "        f\"SELECT count(*) FROM read_parquet('{parquet_path}')\"\n",
    "    ).to_df()\n",
    "\n",
    "check.head()"
   ]
  },
  {
   "cell_type": "code",
   "execution_count": 6,
   "metadata": {},
   "outputs": [
    {
     "data": {
      "text/html": [
       "<div>\n",
       "<style scoped>\n",
       "    .dataframe tbody tr th:only-of-type {\n",
       "        vertical-align: middle;\n",
       "    }\n",
       "\n",
       "    .dataframe tbody tr th {\n",
       "        vertical-align: top;\n",
       "    }\n",
       "\n",
       "    .dataframe thead th {\n",
       "        text-align: right;\n",
       "    }\n",
       "</style>\n",
       "<table border=\"1\" class=\"dataframe\">\n",
       "  <thead>\n",
       "    <tr style=\"text-align: right;\">\n",
       "      <th></th>\n",
       "      <th>count_star()</th>\n",
       "    </tr>\n",
       "  </thead>\n",
       "  <tbody>\n",
       "    <tr>\n",
       "      <th>0</th>\n",
       "      <td>0</td>\n",
       "    </tr>\n",
       "  </tbody>\n",
       "</table>\n",
       "</div>"
      ],
      "text/plain": [
       "   count_star()\n",
       "0             0"
      ]
     },
     "execution_count": 6,
     "metadata": {},
     "output_type": "execute_result"
    }
   ],
   "source": [
    "parquet_path = Path('data/blob_data_100k.parquet')\n",
    "\n",
    "check = duckdb.sql(\n",
    "        f\"\"\"SELECT count(*) FROM read_parquet('{parquet_path}') where \"YEAR\" = '2024' and \"MONTH\" = '03'\"\"\"\n",
    "    ).to_df()\n",
    "\n",
    "check.head()"
   ]
  },
  {
   "cell_type": "code",
   "execution_count": 12,
   "metadata": {},
   "outputs": [
    {
     "data": {
      "text/html": [
       "<div>\n",
       "<style scoped>\n",
       "    .dataframe tbody tr th:only-of-type {\n",
       "        vertical-align: middle;\n",
       "    }\n",
       "\n",
       "    .dataframe tbody tr th {\n",
       "        vertical-align: top;\n",
       "    }\n",
       "\n",
       "    .dataframe thead th {\n",
       "        text-align: right;\n",
       "    }\n",
       "</style>\n",
       "<table border=\"1\" class=\"dataframe\">\n",
       "  <thead>\n",
       "    <tr style=\"text-align: right;\">\n",
       "      <th></th>\n",
       "      <th>BLOB_ID</th>\n",
       "      <th>FULL_IMG_ID</th>\n",
       "      <th>POINT</th>\n",
       "      <th>SIZE</th>\n",
       "      <th>POLYGON_BOUNDRY_BOX</th>\n",
       "      <th>BLOB_POLYGON</th>\n",
       "      <th>GEO_HASHES</th>\n",
       "      <th>CONSTRUCTION_STAGE</th>\n",
       "      <th>BUILDING_TYPE</th>\n",
       "      <th>CS_MODEL_ID</th>\n",
       "      <th>...</th>\n",
       "      <th>IS_DUPLICATE</th>\n",
       "      <th>IS_BLOB_ON_IMAGE_EDGE</th>\n",
       "      <th>IS_VALID</th>\n",
       "      <th>IS_IMPUTED</th>\n",
       "      <th>IS_EXCLUDED</th>\n",
       "      <th>COUNTY</th>\n",
       "      <th>IS_OVERLAPPING_FOOTPRINT</th>\n",
       "      <th>IS_OVERLAPPING_ROAD</th>\n",
       "      <th>FOOTPRINT_ID</th>\n",
       "      <th>ROAD_DATA_ID</th>\n",
       "    </tr>\n",
       "  </thead>\n",
       "  <tbody>\n",
       "    <tr>\n",
       "      <th>0</th>\n",
       "      <td>BID_a7258c95-7e44-424d-a227-1348f791ba39</td>\n",
       "      <td>FIID_58e9d2e6-11aa-4bc1-b1b0-951d312e72f5_2024...</td>\n",
       "      <td>POINT (-98.4602132804818 29.46763817191083)</td>\n",
       "      <td>452</td>\n",
       "      <td>POLYGON ((-98.4602662037037 29.467706018518502...</td>\n",
       "      <td>POLYGON ((-98.4602662037037 29.467645833333318...</td>\n",
       "      <td>9v1zxkr</td>\n",
       "      <td>ROOF</td>\n",
       "      <td>NON-SF</td>\n",
       "      <td>MID_6bf26a1d-f36e-4364-bc9d-d759d5c75d74</td>\n",
       "      <td>...</td>\n",
       "      <td>False</td>\n",
       "      <td>False</td>\n",
       "      <td>True</td>\n",
       "      <td>False</td>\n",
       "      <td>False</td>\n",
       "      <td>BEXAR</td>\n",
       "      <td>True</td>\n",
       "      <td>False</td>\n",
       "      <td>FP_ID_1a055cc6-21f7-416a-90a3-f8afd3e13b1c</td>\n",
       "      <td>None</td>\n",
       "    </tr>\n",
       "    <tr>\n",
       "      <th>1</th>\n",
       "      <td>BID_b433a935-c506-4937-9be8-9b63b87ca696</td>\n",
       "      <td>FIID_58e9d2e6-11aa-4bc1-b1b0-951d312e72f5_2024...</td>\n",
       "      <td>POINT (-98.42449395672409 29.509311504753402)</td>\n",
       "      <td>935</td>\n",
       "      <td>POLYGON ((-98.42457175925924 29.50939120370369...</td>\n",
       "      <td>POLYGON ((-98.42457175925924 29.50937268518517...</td>\n",
       "      <td>9v4pb7c|9v4pbk1</td>\n",
       "      <td>ROOF</td>\n",
       "      <td>RESIDENTAL SF DETACHED</td>\n",
       "      <td>MID_6bf26a1d-f36e-4364-bc9d-d759d5c75d74</td>\n",
       "      <td>...</td>\n",
       "      <td>False</td>\n",
       "      <td>False</td>\n",
       "      <td>True</td>\n",
       "      <td>False</td>\n",
       "      <td>False</td>\n",
       "      <td>BEXAR</td>\n",
       "      <td>True</td>\n",
       "      <td>False</td>\n",
       "      <td>FP_ID_0e97e0c6-451c-4a83-a304-22d6a698cb19</td>\n",
       "      <td>None</td>\n",
       "    </tr>\n",
       "    <tr>\n",
       "      <th>2</th>\n",
       "      <td>BID_d9fa48dd-5ee7-4258-9d56-264d38f2eecc</td>\n",
       "      <td>FIID_87c905a3-ddd6-4a93-84cb-f07be70e1327_2024...</td>\n",
       "      <td>POINT (-96.87599626765075 32.86770283696455)</td>\n",
       "      <td>4396</td>\n",
       "      <td>POLYGON ((-96.87620601851854 32.86782175925923...</td>\n",
       "      <td>POLYGON ((-96.87620601851854 32.86776157407404...</td>\n",
       "      <td>9vg4gx3|9vg4gx2</td>\n",
       "      <td>ROOF</td>\n",
       "      <td>NON-SF</td>\n",
       "      <td>MID_6bf26a1d-f36e-4364-bc9d-d759d5c75d74</td>\n",
       "      <td>...</td>\n",
       "      <td>True</td>\n",
       "      <td>False</td>\n",
       "      <td>True</td>\n",
       "      <td>False</td>\n",
       "      <td>False</td>\n",
       "      <td>DALLAS</td>\n",
       "      <td>True</td>\n",
       "      <td>False</td>\n",
       "      <td>FP_ID_41e0c77e-db4b-4702-bae9-17f823ef2cd8</td>\n",
       "      <td>None</td>\n",
       "    </tr>\n",
       "    <tr>\n",
       "      <th>3</th>\n",
       "      <td>BID_44517c93-b035-42b5-90dd-de2e341aa1d8</td>\n",
       "      <td>FIID_58e9d2e6-11aa-4bc1-b1b0-951d312e72f5_2024...</td>\n",
       "      <td>POINT (-98.42545971924973 29.455358060608745)</td>\n",
       "      <td>623</td>\n",
       "      <td>POLYGON ((-98.4255162037037 29.455418981481465...</td>\n",
       "      <td>POLYGON ((-98.4255162037037 29.455418981481465...</td>\n",
       "      <td>9v4p860</td>\n",
       "      <td>ROOF</td>\n",
       "      <td>BACKGROUND</td>\n",
       "      <td>MID_6bf26a1d-f36e-4364-bc9d-d759d5c75d74</td>\n",
       "      <td>...</td>\n",
       "      <td>False</td>\n",
       "      <td>False</td>\n",
       "      <td>True</td>\n",
       "      <td>False</td>\n",
       "      <td>False</td>\n",
       "      <td>BEXAR</td>\n",
       "      <td>False</td>\n",
       "      <td>False</td>\n",
       "      <td>None</td>\n",
       "      <td>None</td>\n",
       "    </tr>\n",
       "    <tr>\n",
       "      <th>4</th>\n",
       "      <td>BID_cd928abd-adbf-4481-bc2f-627c7e0e27f9</td>\n",
       "      <td>FIID_58e9d2e6-11aa-4bc1-b1b0-951d312e72f5_2024...</td>\n",
       "      <td>POINT (-98.43521898353451 29.502309820768644)</td>\n",
       "      <td>451</td>\n",
       "      <td>POLYGON ((-98.43526620370369 29.50235879629628...</td>\n",
       "      <td>POLYGON ((-98.43526620370369 29.50234953703702...</td>\n",
       "      <td>9v4pb49</td>\n",
       "      <td>ROOF</td>\n",
       "      <td>RESIDENTAL SF DETACHED</td>\n",
       "      <td>MID_6bf26a1d-f36e-4364-bc9d-d759d5c75d74</td>\n",
       "      <td>...</td>\n",
       "      <td>False</td>\n",
       "      <td>False</td>\n",
       "      <td>True</td>\n",
       "      <td>False</td>\n",
       "      <td>False</td>\n",
       "      <td>BEXAR</td>\n",
       "      <td>False</td>\n",
       "      <td>False</td>\n",
       "      <td>None</td>\n",
       "      <td>None</td>\n",
       "    </tr>\n",
       "  </tbody>\n",
       "</table>\n",
       "<p>5 rows × 26 columns</p>\n",
       "</div>"
      ],
      "text/plain": [
       "                                    BLOB_ID  \\\n",
       "0  BID_a7258c95-7e44-424d-a227-1348f791ba39   \n",
       "1  BID_b433a935-c506-4937-9be8-9b63b87ca696   \n",
       "2  BID_d9fa48dd-5ee7-4258-9d56-264d38f2eecc   \n",
       "3  BID_44517c93-b035-42b5-90dd-de2e341aa1d8   \n",
       "4  BID_cd928abd-adbf-4481-bc2f-627c7e0e27f9   \n",
       "\n",
       "                                         FULL_IMG_ID  \\\n",
       "0  FIID_58e9d2e6-11aa-4bc1-b1b0-951d312e72f5_2024...   \n",
       "1  FIID_58e9d2e6-11aa-4bc1-b1b0-951d312e72f5_2024...   \n",
       "2  FIID_87c905a3-ddd6-4a93-84cb-f07be70e1327_2024...   \n",
       "3  FIID_58e9d2e6-11aa-4bc1-b1b0-951d312e72f5_2024...   \n",
       "4  FIID_58e9d2e6-11aa-4bc1-b1b0-951d312e72f5_2024...   \n",
       "\n",
       "                                           POINT  SIZE  \\\n",
       "0    POINT (-98.4602132804818 29.46763817191083)   452   \n",
       "1  POINT (-98.42449395672409 29.509311504753402)   935   \n",
       "2   POINT (-96.87599626765075 32.86770283696455)  4396   \n",
       "3  POINT (-98.42545971924973 29.455358060608745)   623   \n",
       "4  POINT (-98.43521898353451 29.502309820768644)   451   \n",
       "\n",
       "                                 POLYGON_BOUNDRY_BOX  \\\n",
       "0  POLYGON ((-98.4602662037037 29.467706018518502...   \n",
       "1  POLYGON ((-98.42457175925924 29.50939120370369...   \n",
       "2  POLYGON ((-96.87620601851854 32.86782175925923...   \n",
       "3  POLYGON ((-98.4255162037037 29.455418981481465...   \n",
       "4  POLYGON ((-98.43526620370369 29.50235879629628...   \n",
       "\n",
       "                                        BLOB_POLYGON       GEO_HASHES  \\\n",
       "0  POLYGON ((-98.4602662037037 29.467645833333318...          9v1zxkr   \n",
       "1  POLYGON ((-98.42457175925924 29.50937268518517...  9v4pb7c|9v4pbk1   \n",
       "2  POLYGON ((-96.87620601851854 32.86776157407404...  9vg4gx3|9vg4gx2   \n",
       "3  POLYGON ((-98.4255162037037 29.455418981481465...          9v4p860   \n",
       "4  POLYGON ((-98.43526620370369 29.50234953703702...          9v4pb49   \n",
       "\n",
       "  CONSTRUCTION_STAGE           BUILDING_TYPE  \\\n",
       "0               ROOF                  NON-SF   \n",
       "1               ROOF  RESIDENTAL SF DETACHED   \n",
       "2               ROOF                  NON-SF   \n",
       "3               ROOF              BACKGROUND   \n",
       "4               ROOF  RESIDENTAL SF DETACHED   \n",
       "\n",
       "                                CS_MODEL_ID  ... IS_DUPLICATE  \\\n",
       "0  MID_6bf26a1d-f36e-4364-bc9d-d759d5c75d74  ...        False   \n",
       "1  MID_6bf26a1d-f36e-4364-bc9d-d759d5c75d74  ...        False   \n",
       "2  MID_6bf26a1d-f36e-4364-bc9d-d759d5c75d74  ...         True   \n",
       "3  MID_6bf26a1d-f36e-4364-bc9d-d759d5c75d74  ...        False   \n",
       "4  MID_6bf26a1d-f36e-4364-bc9d-d759d5c75d74  ...        False   \n",
       "\n",
       "  IS_BLOB_ON_IMAGE_EDGE IS_VALID IS_IMPUTED IS_EXCLUDED  COUNTY  \\\n",
       "0                 False     True      False       False   BEXAR   \n",
       "1                 False     True      False       False   BEXAR   \n",
       "2                 False     True      False       False  DALLAS   \n",
       "3                 False     True      False       False   BEXAR   \n",
       "4                 False     True      False       False   BEXAR   \n",
       "\n",
       "   IS_OVERLAPPING_FOOTPRINT  IS_OVERLAPPING_ROAD  \\\n",
       "0                      True                False   \n",
       "1                      True                False   \n",
       "2                      True                False   \n",
       "3                     False                False   \n",
       "4                     False                False   \n",
       "\n",
       "                                 FOOTPRINT_ID  ROAD_DATA_ID  \n",
       "0  FP_ID_1a055cc6-21f7-416a-90a3-f8afd3e13b1c          None  \n",
       "1  FP_ID_0e97e0c6-451c-4a83-a304-22d6a698cb19          None  \n",
       "2  FP_ID_41e0c77e-db4b-4702-bae9-17f823ef2cd8          None  \n",
       "3                                        None          None  \n",
       "4                                        None          None  \n",
       "\n",
       "[5 rows x 26 columns]"
      ]
     },
     "execution_count": 12,
     "metadata": {},
     "output_type": "execute_result"
    }
   ],
   "source": [
    "parquet_path = Path('data/blob_data_100k.parquet')\n",
    "\n",
    "df = duckdb.sql(f\"\"\"select * from read_parquet('{parquet_path}') limit 5;\"\"\").to_df()\n",
    "df"
   ]
  },
  {
   "cell_type": "code",
   "execution_count": 13,
   "metadata": {},
   "outputs": [
    {
     "name": "stdout",
     "output_type": "stream",
     "text": [
      "<class 'pandas.core.frame.DataFrame'>\n",
      "RangeIndex: 5 entries, 0 to 4\n",
      "Data columns (total 26 columns):\n",
      " #   Column                    Non-Null Count  Dtype \n",
      "---  ------                    --------------  ----- \n",
      " 0   BLOB_ID                   5 non-null      object\n",
      " 1   FULL_IMG_ID               5 non-null      object\n",
      " 2   POINT                     5 non-null      object\n",
      " 3   SIZE                      5 non-null      int64 \n",
      " 4   POLYGON_BOUNDRY_BOX       5 non-null      object\n",
      " 5   BLOB_POLYGON              5 non-null      object\n",
      " 6   GEO_HASHES                5 non-null      object\n",
      " 7   CONSTRUCTION_STAGE        5 non-null      object\n",
      " 8   BUILDING_TYPE             5 non-null      object\n",
      " 9   CS_MODEL_ID               5 non-null      object\n",
      " 10  BT_MODEL_ID               5 non-null      object\n",
      " 11  CITY                      5 non-null      object\n",
      " 12  STATE                     5 non-null      object\n",
      " 13  YEAR                      5 non-null      object\n",
      " 14  MONTH                     5 non-null      object\n",
      " 15  PREVIOUS_MONTH_BLOB_IDS   0 non-null      object\n",
      " 16  IS_DUPLICATE              5 non-null      bool  \n",
      " 17  IS_BLOB_ON_IMAGE_EDGE     5 non-null      bool  \n",
      " 18  IS_VALID                  5 non-null      bool  \n",
      " 19  IS_IMPUTED                5 non-null      bool  \n",
      " 20  IS_EXCLUDED               5 non-null      bool  \n",
      " 21  COUNTY                    5 non-null      object\n",
      " 22  IS_OVERLAPPING_FOOTPRINT  5 non-null      bool  \n",
      " 23  IS_OVERLAPPING_ROAD       5 non-null      bool  \n",
      " 24  FOOTPRINT_ID              3 non-null      object\n",
      " 25  ROAD_DATA_ID              0 non-null      object\n",
      "dtypes: bool(7), int64(1), object(18)\n",
      "memory usage: 927.0+ bytes\n"
     ]
    }
   ],
   "source": [
    "df.info()"
   ]
  },
  {
   "cell_type": "code",
   "execution_count": 14,
   "metadata": {},
   "outputs": [
    {
     "data": {
      "text/plain": [
       "str"
      ]
     },
     "execution_count": 14,
     "metadata": {},
     "output_type": "execute_result"
    }
   ],
   "source": [
    "type(df['YEAR'].iloc[0])"
   ]
  },
  {
   "cell_type": "code",
   "execution_count": 16,
   "metadata": {},
   "outputs": [
    {
     "data": {
      "text/html": [
       "<div>\n",
       "<style scoped>\n",
       "    .dataframe tbody tr th:only-of-type {\n",
       "        vertical-align: middle;\n",
       "    }\n",
       "\n",
       "    .dataframe tbody tr th {\n",
       "        vertical-align: top;\n",
       "    }\n",
       "\n",
       "    .dataframe thead th {\n",
       "        text-align: right;\n",
       "    }\n",
       "</style>\n",
       "<table border=\"1\" class=\"dataframe\">\n",
       "  <thead>\n",
       "    <tr style=\"text-align: right;\">\n",
       "      <th></th>\n",
       "      <th>count_star()</th>\n",
       "    </tr>\n",
       "  </thead>\n",
       "  <tbody>\n",
       "    <tr>\n",
       "      <th>0</th>\n",
       "      <td>0</td>\n",
       "    </tr>\n",
       "  </tbody>\n",
       "</table>\n",
       "</div>"
      ],
      "text/plain": [
       "   count_star()\n",
       "0             0"
      ]
     },
     "execution_count": 16,
     "metadata": {},
     "output_type": "execute_result"
    }
   ],
   "source": [
    "parquet_path = Path('data/blob_data_100k.parquet')\n",
    "\n",
    "df = duckdb.sql(f\"\"\"select count(*) from read_parquet('{parquet_path}') where \"YEAR\" = '2024' and \"MONTH\" = '03';\"\"\").to_df()\n",
    "df"
   ]
  },
  {
   "cell_type": "code",
   "execution_count": 17,
   "metadata": {},
   "outputs": [
    {
     "name": "stdout",
     "output_type": "stream",
     "text": [
      "┌──────────────────────────┬─────────────┬─────────┬─────────┬─────────┬─────────┐\n",
      "│       column_name        │ column_type │  null   │   key   │ default │  extra  │\n",
      "│         varchar          │   varchar   │ varchar │ varchar │ varchar │ varchar │\n",
      "├──────────────────────────┼─────────────┼─────────┼─────────┼─────────┼─────────┤\n",
      "│ BLOB_ID                  │ VARCHAR     │ YES     │ NULL    │ NULL    │ NULL    │\n",
      "│ FULL_IMG_ID              │ VARCHAR     │ YES     │ NULL    │ NULL    │ NULL    │\n",
      "│ POINT                    │ VARCHAR     │ YES     │ NULL    │ NULL    │ NULL    │\n",
      "│ SIZE                     │ BIGINT      │ YES     │ NULL    │ NULL    │ NULL    │\n",
      "│ POLYGON_BOUNDRY_BOX      │ VARCHAR     │ YES     │ NULL    │ NULL    │ NULL    │\n",
      "│ BLOB_POLYGON             │ VARCHAR     │ YES     │ NULL    │ NULL    │ NULL    │\n",
      "│ GEO_HASHES               │ VARCHAR     │ YES     │ NULL    │ NULL    │ NULL    │\n",
      "│ CONSTRUCTION_STAGE       │ VARCHAR     │ YES     │ NULL    │ NULL    │ NULL    │\n",
      "│ BUILDING_TYPE            │ VARCHAR     │ YES     │ NULL    │ NULL    │ NULL    │\n",
      "│ CS_MODEL_ID              │ VARCHAR     │ YES     │ NULL    │ NULL    │ NULL    │\n",
      "│      ·                   │    ·        │  ·      │  ·      │  ·      │  ·      │\n",
      "│      ·                   │    ·        │  ·      │  ·      │  ·      │  ·      │\n",
      "│      ·                   │    ·        │  ·      │  ·      │  ·      │  ·      │\n",
      "│ IS_DUPLICATE             │ BOOLEAN     │ YES     │ NULL    │ NULL    │ NULL    │\n",
      "│ IS_BLOB_ON_IMAGE_EDGE    │ BOOLEAN     │ YES     │ NULL    │ NULL    │ NULL    │\n",
      "│ IS_VALID                 │ BOOLEAN     │ YES     │ NULL    │ NULL    │ NULL    │\n",
      "│ IS_IMPUTED               │ BOOLEAN     │ YES     │ NULL    │ NULL    │ NULL    │\n",
      "│ IS_EXCLUDED              │ BOOLEAN     │ YES     │ NULL    │ NULL    │ NULL    │\n",
      "│ COUNTY                   │ VARCHAR     │ YES     │ NULL    │ NULL    │ NULL    │\n",
      "│ IS_OVERLAPPING_FOOTPRINT │ BOOLEAN     │ YES     │ NULL    │ NULL    │ NULL    │\n",
      "│ IS_OVERLAPPING_ROAD      │ BOOLEAN     │ YES     │ NULL    │ NULL    │ NULL    │\n",
      "│ FOOTPRINT_ID             │ VARCHAR     │ YES     │ NULL    │ NULL    │ NULL    │\n",
      "│ ROAD_DATA_ID             │ VARCHAR     │ YES     │ NULL    │ NULL    │ NULL    │\n",
      "├──────────────────────────┴─────────────┴─────────┴─────────┴─────────┴─────────┤\n",
      "│ 26 rows (20 shown)                                                   6 columns │\n",
      "└────────────────────────────────────────────────────────────────────────────────┘\n",
      "\n"
     ]
    }
   ],
   "source": [
    "duckdb.sql(f\"DESCRIBE SELECT * FROM read_parquet('{parquet_path}')\").show()\n"
   ]
  },
  {
   "cell_type": "code",
   "execution_count": 18,
   "metadata": {},
   "outputs": [
    {
     "name": "stdout",
     "output_type": "stream",
     "text": [
      "┌─────────┐\n",
      "│  YEAR   │\n",
      "│ varchar │\n",
      "├─────────┤\n",
      "│ 2024    │\n",
      "└─────────┘\n",
      "\n"
     ]
    }
   ],
   "source": [
    "duckdb.sql(f\"\"\"SELECT DISTINCT \"YEAR\" FROM read_parquet('{parquet_path}');\"\"\").show()"
   ]
  },
  {
   "cell_type": "code",
   "execution_count": 19,
   "metadata": {},
   "outputs": [
    {
     "name": "stdout",
     "output_type": "stream",
     "text": [
      "┌─────────┐\n",
      "│  MONTH  │\n",
      "│ varchar │\n",
      "├─────────┤\n",
      "│ 06      │\n",
      "│ 07      │\n",
      "└─────────┘\n",
      "\n"
     ]
    }
   ],
   "source": [
    "duckdb.sql(f\"\"\"SELECT DISTINCT \"MONTH\" FROM read_parquet('{parquet_path}');\"\"\").show()"
   ]
  },
  {
   "cell_type": "code",
   "execution_count": 3,
   "metadata": {},
   "outputs": [
    {
     "data": {
      "text/plain": [
       "0.004556590230624979"
      ]
     },
     "execution_count": 3,
     "metadata": {},
     "output_type": "execute_result"
    }
   ],
   "source": [
    "100000/21946235"
   ]
  },
  {
   "cell_type": "code",
   "execution_count": 20,
   "metadata": {},
   "outputs": [
    {
     "data": {
      "text/plain": [
       "219.46235"
      ]
     },
     "execution_count": 20,
     "metadata": {},
     "output_type": "execute_result"
    }
   ],
   "source": [
    "21946235/100000"
   ]
  },
  {
   "cell_type": "markdown",
   "metadata": {},
   "source": [
    "Create synthetic dataset to test our retrieve data function:"
   ]
  },
  {
   "cell_type": "code",
   "execution_count": 31,
   "metadata": {},
   "outputs": [
    {
     "name": "stdout",
     "output_type": "stream",
     "text": [
      "Function `retrieve_data` executed in 0.0282 sec, CPU: 22.90%, Memory: 1.92MB\n"
     ]
    }
   ],
   "source": [
    "import sqlite3\n",
    "import pandas as pd\n",
    "from sqlalchemy import create_engine\n",
    "from pathlib import Path\n",
    "import os\n",
    "import json\n",
    "import importlib\n",
    "import helpers as h\n",
    "import logging\n",
    "import helpers as h\n",
    "\n",
    "# Reload helpers if needed.\n",
    "importlib.reload(h)\n",
    "\n",
    "# Create a fake dataset with 10,000 rows.\n",
    "num_rows = 10000\n",
    "months = ['03', '04', '05', '06', '07']\n",
    "data = {\n",
    "    \"BLOB_ID\": [f\"blob_{i}\" for i in range(num_rows)],\n",
    "    \"YEAR\": ['2024'] * num_rows,\n",
    "    # Cycle through the months list.\n",
    "    \"MONTH\": [months[i % len(months)] for i in range(num_rows)],\n",
    "    \"VALUE\": [i for i in range(num_rows)],\n",
    "    # Simulate CTID as an integer that increases sequentially.\n",
    "    \"ctid\": [i for i in range(num_rows)]\n",
    "}\n",
    "fake_df = pd.DataFrame(data)\n",
    "\n",
    "# Create a file-based SQLite database.\n",
    "sqlite_db_path = \"fake_blob.db\"\n",
    "engine = create_engine(f\"sqlite:///{sqlite_db_path}\")\n",
    "# Save the fake DataFrame to a table named 'blob'.\n",
    "fake_df.to_sql(\"blob\", engine, if_exists=\"replace\", index=False)\n",
    "\n",
    "# Ensure the data directory exists.\n",
    "os.makedirs(\"data\", exist_ok=True)\n",
    "\n",
    "# Remove any existing checkpoint file to start fresh.\n",
    "checkpoint_path = Path(\"data/chunk_checkpoint.json\")\n",
    "if checkpoint_path.exists():\n",
    "    checkpoint_path.unlink()\n",
    "\n",
    "# Now run our retrieve_data function using the SQLite engine.\n",
    "# In this test, we set chunk_size=2500 to produce 4 chunks.\n",
    "h.retrieve_data(chunk_size=2500, engine_url=f\"sqlite:///{sqlite_db_path}\")"
   ]
  },
  {
   "cell_type": "code",
   "execution_count": null,
   "metadata": {},
   "outputs": [],
   "source": []
  }
 ],
 "metadata": {
  "kernelspec": {
   "display_name": "Python 3",
   "language": "python",
   "name": "python3"
  },
  "language_info": {
   "codemirror_mode": {
    "name": "ipython",
    "version": 3
   },
   "file_extension": ".py",
   "mimetype": "text/x-python",
   "name": "python",
   "nbconvert_exporter": "python",
   "pygments_lexer": "ipython3",
   "version": "3.11.8"
  }
 },
 "nbformat": 4,
 "nbformat_minor": 2
}
