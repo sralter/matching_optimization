{
 "cells": [
  {
   "cell_type": "markdown",
   "metadata": {},
   "source": [
    "# Geospatial Matching Optimization"
   ]
  },
  {
   "cell_type": "markdown",
   "metadata": {},
   "source": [
    "This project is designed to showcase how to improve the speed of a polygon matching procedure. There are two main areas that could benefit from taking a \"geospatial-native\" approach:\n",
    "\n",
    "1. Data encoding, fetching, and storage\n",
    "2. Matching\n",
    "\n",
    "We will generate synthetic polygon data and use both a non-geospatial-native and geospatial-native approach, comparing execution time for both to see how they differ."
   ]
  },
  {
   "cell_type": "markdown",
   "metadata": {},
   "source": [
    "## Imports"
   ]
  },
  {
   "cell_type": "code",
   "execution_count": 104,
   "metadata": {},
   "outputs": [
    {
     "data": {
      "text/plain": [
       "<module 'helpers' from '/Users/sra/files/projects/matching_optimization/helpers.py'>"
      ]
     },
     "execution_count": 104,
     "metadata": {},
     "output_type": "execute_result"
    }
   ],
   "source": [
    "import geopandas as gpd\n",
    "import pandas as pd\n",
    "import shapely\n",
    "import h3\n",
    "import time\n",
    "import helpers as h\n",
    "import matplotlib.pyplot as plt\n",
    "import matplotlib.gridspec as gridspec\n",
    "from shapely.wkt import dumps, loads\n",
    "from pathlib import Path\n",
    "import multiprocessing as mp\n",
    "import datetime\n",
    "import psycopg2\n",
    "from psycopg2 import sql, extras\n",
    "import random\n",
    "\n",
    "# ensure helpers is loaded correctly\n",
    "import importlib\n",
    "importlib.reload(h)"
   ]
  },
  {
   "cell_type": "markdown",
   "metadata": {},
   "source": [
    "## Retrieve Generated Test Data"
   ]
  },
  {
   "cell_type": "code",
   "execution_count": 105,
   "metadata": {},
   "outputs": [],
   "source": [
    "prev_month_blobs = gpd.read_parquet('data/prev_month_blobs.parquet')\n",
    "curr_month_blobs = gpd.read_parquet('data/curr_month_blobs.parquet')"
   ]
  },
  {
   "cell_type": "code",
   "execution_count": 106,
   "metadata": {},
   "outputs": [],
   "source": [
    "# save to geojson to confirm in QGIS\n",
    "blobs_geojson = Path('data/prev_month_blobs.geojson')\n",
    "if not blobs_geojson.is_file():\n",
    "    prev_month_blobs.to_file('data/prev_month_blobs.geojson')\n",
    "    curr_month_blobs.to_file('data/curr_month_blobs.geojson')"
   ]
  },
  {
   "cell_type": "code",
   "execution_count": 107,
   "metadata": {},
   "outputs": [
    {
     "data": {
      "text/html": [
       "<div>\n",
       "<style scoped>\n",
       "    .dataframe tbody tr th:only-of-type {\n",
       "        vertical-align: middle;\n",
       "    }\n",
       "\n",
       "    .dataframe tbody tr th {\n",
       "        vertical-align: top;\n",
       "    }\n",
       "\n",
       "    .dataframe thead th {\n",
       "        text-align: right;\n",
       "    }\n",
       "</style>\n",
       "<table border=\"1\" class=\"dataframe\">\n",
       "  <thead>\n",
       "    <tr style=\"text-align: right;\">\n",
       "      <th></th>\n",
       "      <th>geometry</th>\n",
       "      <th>id</th>\n",
       "      <th>geohash</th>\n",
       "    </tr>\n",
       "  </thead>\n",
       "  <tbody>\n",
       "    <tr>\n",
       "      <th>0</th>\n",
       "      <td>POLYGON ((-81.08952 26.16119, -81.00653 26.161...</td>\n",
       "      <td>1402374e-27f1-49e8-a7c3-93a95ec8f3dd</td>\n",
       "      <td>dhwkge</td>\n",
       "    </tr>\n",
       "    <tr>\n",
       "      <th>1</th>\n",
       "      <td>POLYGON ((-81.40683 26.22605, -81.34945 26.226...</td>\n",
       "      <td>3dfa9be4-80fa-49d2-9bbf-5d265ec2ab82</td>\n",
       "      <td>dhwjk5</td>\n",
       "    </tr>\n",
       "    <tr>\n",
       "      <th>2</th>\n",
       "      <td>POLYGON ((-80.72961 26.28376, -80.65681 26.283...</td>\n",
       "      <td>db957b4b-19cc-4a1b-b8d3-cb935aaa00d8</td>\n",
       "      <td>dhwtef</td>\n",
       "    </tr>\n",
       "    <tr>\n",
       "      <th>3</th>\n",
       "      <td>POLYGON ((-81.27180 26.54483, -81.25209 26.544...</td>\n",
       "      <td>3f7139fb-fe3e-4bb3-851c-3d32d9651283</td>\n",
       "      <td>dhwpnu</td>\n",
       "    </tr>\n",
       "    <tr>\n",
       "      <th>4</th>\n",
       "      <td>POLYGON ((-81.24579 26.66306, -81.15813 26.663...</td>\n",
       "      <td>dab51f2e-9b18-4c14-91c5-956ddb197989</td>\n",
       "      <td>dhwrbj</td>\n",
       "    </tr>\n",
       "  </tbody>\n",
       "</table>\n",
       "</div>"
      ],
      "text/plain": [
       "                                            geometry  \\\n",
       "0  POLYGON ((-81.08952 26.16119, -81.00653 26.161...   \n",
       "1  POLYGON ((-81.40683 26.22605, -81.34945 26.226...   \n",
       "2  POLYGON ((-80.72961 26.28376, -80.65681 26.283...   \n",
       "3  POLYGON ((-81.27180 26.54483, -81.25209 26.544...   \n",
       "4  POLYGON ((-81.24579 26.66306, -81.15813 26.663...   \n",
       "\n",
       "                                     id geohash  \n",
       "0  1402374e-27f1-49e8-a7c3-93a95ec8f3dd  dhwkge  \n",
       "1  3dfa9be4-80fa-49d2-9bbf-5d265ec2ab82  dhwjk5  \n",
       "2  db957b4b-19cc-4a1b-b8d3-cb935aaa00d8  dhwtef  \n",
       "3  3f7139fb-fe3e-4bb3-851c-3d32d9651283  dhwpnu  \n",
       "4  dab51f2e-9b18-4c14-91c5-956ddb197989  dhwrbj  "
      ]
     },
     "execution_count": 107,
     "metadata": {},
     "output_type": "execute_result"
    }
   ],
   "source": [
    "prev_month_blobs.head()"
   ]
  },
  {
   "cell_type": "code",
   "execution_count": 108,
   "metadata": {},
   "outputs": [
    {
     "data": {
      "text/html": [
       "<div>\n",
       "<style scoped>\n",
       "    .dataframe tbody tr th:only-of-type {\n",
       "        vertical-align: middle;\n",
       "    }\n",
       "\n",
       "    .dataframe tbody tr th {\n",
       "        vertical-align: top;\n",
       "    }\n",
       "\n",
       "    .dataframe thead th {\n",
       "        text-align: right;\n",
       "    }\n",
       "</style>\n",
       "<table border=\"1\" class=\"dataframe\">\n",
       "  <thead>\n",
       "    <tr style=\"text-align: right;\">\n",
       "      <th></th>\n",
       "      <th>geometry</th>\n",
       "      <th>id</th>\n",
       "      <th>geohash</th>\n",
       "    </tr>\n",
       "  </thead>\n",
       "  <tbody>\n",
       "    <tr>\n",
       "      <th>0</th>\n",
       "      <td>POLYGON ((-80.81063 25.66323, -80.77111 25.663...</td>\n",
       "      <td>4f667223-d29e-42f0-95cf-0ab2a7e75dd9</td>\n",
       "      <td>dhwd1w</td>\n",
       "    </tr>\n",
       "    <tr>\n",
       "      <th>1</th>\n",
       "      <td>POLYGON ((-80.93598 25.89627, -80.87826 25.896...</td>\n",
       "      <td>9fb9ff1b-0e15-473c-bf43-1d5676c8d2d9</td>\n",
       "      <td>dhw7wg</td>\n",
       "    </tr>\n",
       "    <tr>\n",
       "      <th>2</th>\n",
       "      <td>POLYGON ((-80.88066 26.06503, -80.78273 26.065...</td>\n",
       "      <td>6d594cb2-7142-453a-8f48-786b7338eab2</td>\n",
       "      <td>dhws2d</td>\n",
       "    </tr>\n",
       "    <tr>\n",
       "      <th>3</th>\n",
       "      <td>POLYGON ((-81.12484 26.27857, -81.05907 26.278...</td>\n",
       "      <td>4f159c7f-d4f4-4f12-952b-acc035f62dee</td>\n",
       "      <td>dhwmd9</td>\n",
       "    </tr>\n",
       "    <tr>\n",
       "      <th>4</th>\n",
       "      <td>POLYGON ((-80.59721 26.53227, -80.55925 26.532...</td>\n",
       "      <td>089c3430-0b8f-417d-8f93-43771c6cd84b</td>\n",
       "      <td>dhwxn2</td>\n",
       "    </tr>\n",
       "  </tbody>\n",
       "</table>\n",
       "</div>"
      ],
      "text/plain": [
       "                                            geometry  \\\n",
       "0  POLYGON ((-80.81063 25.66323, -80.77111 25.663...   \n",
       "1  POLYGON ((-80.93598 25.89627, -80.87826 25.896...   \n",
       "2  POLYGON ((-80.88066 26.06503, -80.78273 26.065...   \n",
       "3  POLYGON ((-81.12484 26.27857, -81.05907 26.278...   \n",
       "4  POLYGON ((-80.59721 26.53227, -80.55925 26.532...   \n",
       "\n",
       "                                     id geohash  \n",
       "0  4f667223-d29e-42f0-95cf-0ab2a7e75dd9  dhwd1w  \n",
       "1  9fb9ff1b-0e15-473c-bf43-1d5676c8d2d9  dhw7wg  \n",
       "2  6d594cb2-7142-453a-8f48-786b7338eab2  dhws2d  \n",
       "3  4f159c7f-d4f4-4f12-952b-acc035f62dee  dhwmd9  \n",
       "4  089c3430-0b8f-417d-8f93-43771c6cd84b  dhwxn2  "
      ]
     },
     "execution_count": 108,
     "metadata": {},
     "output_type": "execute_result"
    }
   ],
   "source": [
    "curr_month_blobs.head()"
   ]
  },
  {
   "cell_type": "markdown",
   "metadata": {},
   "source": [
    "We have to redefine the order of the columns:"
   ]
  },
  {
   "cell_type": "code",
   "execution_count": 109,
   "metadata": {},
   "outputs": [
    {
     "data": {
      "text/html": [
       "<div>\n",
       "<style scoped>\n",
       "    .dataframe tbody tr th:only-of-type {\n",
       "        vertical-align: middle;\n",
       "    }\n",
       "\n",
       "    .dataframe tbody tr th {\n",
       "        vertical-align: top;\n",
       "    }\n",
       "\n",
       "    .dataframe thead th {\n",
       "        text-align: right;\n",
       "    }\n",
       "</style>\n",
       "<table border=\"1\" class=\"dataframe\">\n",
       "  <thead>\n",
       "    <tr style=\"text-align: right;\">\n",
       "      <th></th>\n",
       "      <th>geometry</th>\n",
       "      <th>id</th>\n",
       "      <th>geohash</th>\n",
       "    </tr>\n",
       "  </thead>\n",
       "  <tbody>\n",
       "    <tr>\n",
       "      <th>0</th>\n",
       "      <td>POLYGON ((-81.08952 26.16119, -81.00653 26.161...</td>\n",
       "      <td>1402374e-27f1-49e8-a7c3-93a95ec8f3dd</td>\n",
       "      <td>dhwkge</td>\n",
       "    </tr>\n",
       "    <tr>\n",
       "      <th>1</th>\n",
       "      <td>POLYGON ((-81.40683 26.22605, -81.34945 26.226...</td>\n",
       "      <td>3dfa9be4-80fa-49d2-9bbf-5d265ec2ab82</td>\n",
       "      <td>dhwjk5</td>\n",
       "    </tr>\n",
       "    <tr>\n",
       "      <th>2</th>\n",
       "      <td>POLYGON ((-80.72961 26.28376, -80.65681 26.283...</td>\n",
       "      <td>db957b4b-19cc-4a1b-b8d3-cb935aaa00d8</td>\n",
       "      <td>dhwtef</td>\n",
       "    </tr>\n",
       "    <tr>\n",
       "      <th>3</th>\n",
       "      <td>POLYGON ((-81.27180 26.54483, -81.25209 26.544...</td>\n",
       "      <td>3f7139fb-fe3e-4bb3-851c-3d32d9651283</td>\n",
       "      <td>dhwpnu</td>\n",
       "    </tr>\n",
       "    <tr>\n",
       "      <th>4</th>\n",
       "      <td>POLYGON ((-81.24579 26.66306, -81.15813 26.663...</td>\n",
       "      <td>dab51f2e-9b18-4c14-91c5-956ddb197989</td>\n",
       "      <td>dhwrbj</td>\n",
       "    </tr>\n",
       "  </tbody>\n",
       "</table>\n",
       "</div>"
      ],
      "text/plain": [
       "                                            geometry  \\\n",
       "0  POLYGON ((-81.08952 26.16119, -81.00653 26.161...   \n",
       "1  POLYGON ((-81.40683 26.22605, -81.34945 26.226...   \n",
       "2  POLYGON ((-80.72961 26.28376, -80.65681 26.283...   \n",
       "3  POLYGON ((-81.27180 26.54483, -81.25209 26.544...   \n",
       "4  POLYGON ((-81.24579 26.66306, -81.15813 26.663...   \n",
       "\n",
       "                                     id geohash  \n",
       "0  1402374e-27f1-49e8-a7c3-93a95ec8f3dd  dhwkge  \n",
       "1  3dfa9be4-80fa-49d2-9bbf-5d265ec2ab82  dhwjk5  \n",
       "2  db957b4b-19cc-4a1b-b8d3-cb935aaa00d8  dhwtef  \n",
       "3  3f7139fb-fe3e-4bb3-851c-3d32d9651283  dhwpnu  \n",
       "4  dab51f2e-9b18-4c14-91c5-956ddb197989  dhwrbj  "
      ]
     },
     "execution_count": 109,
     "metadata": {},
     "output_type": "execute_result"
    }
   ],
   "source": [
    "prev_month_blobs = prev_month_blobs[['geometry', 'id', 'geohash']]\n",
    "prev_month_blobs.head()"
   ]
  },
  {
   "cell_type": "code",
   "execution_count": 110,
   "metadata": {},
   "outputs": [
    {
     "data": {
      "text/html": [
       "<div>\n",
       "<style scoped>\n",
       "    .dataframe tbody tr th:only-of-type {\n",
       "        vertical-align: middle;\n",
       "    }\n",
       "\n",
       "    .dataframe tbody tr th {\n",
       "        vertical-align: top;\n",
       "    }\n",
       "\n",
       "    .dataframe thead th {\n",
       "        text-align: right;\n",
       "    }\n",
       "</style>\n",
       "<table border=\"1\" class=\"dataframe\">\n",
       "  <thead>\n",
       "    <tr style=\"text-align: right;\">\n",
       "      <th></th>\n",
       "      <th>geometry</th>\n",
       "      <th>id</th>\n",
       "      <th>geohash</th>\n",
       "    </tr>\n",
       "  </thead>\n",
       "  <tbody>\n",
       "    <tr>\n",
       "      <th>0</th>\n",
       "      <td>POLYGON ((-80.81063 25.66323, -80.77111 25.663...</td>\n",
       "      <td>4f667223-d29e-42f0-95cf-0ab2a7e75dd9</td>\n",
       "      <td>dhwd1w</td>\n",
       "    </tr>\n",
       "    <tr>\n",
       "      <th>1</th>\n",
       "      <td>POLYGON ((-80.93598 25.89627, -80.87826 25.896...</td>\n",
       "      <td>9fb9ff1b-0e15-473c-bf43-1d5676c8d2d9</td>\n",
       "      <td>dhw7wg</td>\n",
       "    </tr>\n",
       "    <tr>\n",
       "      <th>2</th>\n",
       "      <td>POLYGON ((-80.88066 26.06503, -80.78273 26.065...</td>\n",
       "      <td>6d594cb2-7142-453a-8f48-786b7338eab2</td>\n",
       "      <td>dhws2d</td>\n",
       "    </tr>\n",
       "    <tr>\n",
       "      <th>3</th>\n",
       "      <td>POLYGON ((-81.12484 26.27857, -81.05907 26.278...</td>\n",
       "      <td>4f159c7f-d4f4-4f12-952b-acc035f62dee</td>\n",
       "      <td>dhwmd9</td>\n",
       "    </tr>\n",
       "    <tr>\n",
       "      <th>4</th>\n",
       "      <td>POLYGON ((-80.59721 26.53227, -80.55925 26.532...</td>\n",
       "      <td>089c3430-0b8f-417d-8f93-43771c6cd84b</td>\n",
       "      <td>dhwxn2</td>\n",
       "    </tr>\n",
       "  </tbody>\n",
       "</table>\n",
       "</div>"
      ],
      "text/plain": [
       "                                            geometry  \\\n",
       "0  POLYGON ((-80.81063 25.66323, -80.77111 25.663...   \n",
       "1  POLYGON ((-80.93598 25.89627, -80.87826 25.896...   \n",
       "2  POLYGON ((-80.88066 26.06503, -80.78273 26.065...   \n",
       "3  POLYGON ((-81.12484 26.27857, -81.05907 26.278...   \n",
       "4  POLYGON ((-80.59721 26.53227, -80.55925 26.532...   \n",
       "\n",
       "                                     id geohash  \n",
       "0  4f667223-d29e-42f0-95cf-0ab2a7e75dd9  dhwd1w  \n",
       "1  9fb9ff1b-0e15-473c-bf43-1d5676c8d2d9  dhw7wg  \n",
       "2  6d594cb2-7142-453a-8f48-786b7338eab2  dhws2d  \n",
       "3  4f159c7f-d4f4-4f12-952b-acc035f62dee  dhwmd9  \n",
       "4  089c3430-0b8f-417d-8f93-43771c6cd84b  dhwxn2  "
      ]
     },
     "execution_count": 110,
     "metadata": {},
     "output_type": "execute_result"
    }
   ],
   "source": [
    "curr_month_blobs = curr_month_blobs[['geometry', 'id', 'geohash']]\n",
    "curr_month_blobs.head()"
   ]
  },
  {
   "cell_type": "code",
   "execution_count": 111,
   "metadata": {},
   "outputs": [],
   "source": [
    "# overwrite them with correct column order\n",
    "# make data folder\n",
    "Path('data/').mkdir(exist_ok=True)\n",
    "\n",
    "# save as geoparquet\n",
    "prev_month_blobs.to_parquet('data/prev_month_blobs.parquet')\n",
    "curr_month_blobs.to_parquet('data/curr_month_blobs.parquet')"
   ]
  },
  {
   "cell_type": "code",
   "execution_count": 112,
   "metadata": {},
   "outputs": [],
   "source": [
    "# range_ = 10000\n",
    "\n",
    "# fig, ax = plt.subplots(figsize=(5, 5))\n",
    "# prev_month_blobs.iloc[0:range_].plot(ax=ax)\n",
    "# ax.set_title(f'Viewing the first {range_} blobs')\n",
    "# plt.tight_layout()\n",
    "\n",
    "# plt.show()"
   ]
  },
  {
   "cell_type": "markdown",
   "metadata": {},
   "source": [
    "## 1. Non-optimized process"
   ]
  },
  {
   "cell_type": "markdown",
   "metadata": {},
   "source": [
    "### 1.1. Data encoding, storage, and fetching"
   ]
  },
  {
   "cell_type": "markdown",
   "metadata": {},
   "source": [
    "We will use PostgreSQL and string storage for geographic information."
   ]
  },
  {
   "cell_type": "markdown",
   "metadata": {},
   "source": [
    "#### Make copy of polygon layer and convert to non-geospatial-native string (WKT) datatype"
   ]
  },
  {
   "cell_type": "code",
   "execution_count": 113,
   "metadata": {},
   "outputs": [],
   "source": [
    "# copy the gdfs\n",
    "prev_month_blobs_wkt = prev_month_blobs.copy()\n",
    "curr_month_blobs_wkt = curr_month_blobs.copy()"
   ]
  },
  {
   "cell_type": "code",
   "execution_count": 114,
   "metadata": {},
   "outputs": [
    {
     "name": "stdout",
     "output_type": "stream",
     "text": [
      "Function `convert_col_to_string` executed in 0.0238 sec, CPU: 8.60%, Memory: 0.00MB\n",
      "Function `convert_col_to_string` executed in 0.0243 sec, CPU: 65.00%, Memory: 32.80MB\n",
      "                                            geometry  \\\n",
      "0  POLYGON ((-81.089524 26.161192, -81.00653 26.1...   \n",
      "1  POLYGON ((-81.406831 26.226052, -81.349453 26....   \n",
      "2  POLYGON ((-80.729608 26.283755, -80.65681 26.2...   \n",
      "3  POLYGON ((-81.271798 26.544828, -81.252089 26....   \n",
      "4  POLYGON ((-81.245791 26.663055, -81.158127 26....   \n",
      "\n",
      "                                     id geohash  \n",
      "0  1402374e-27f1-49e8-a7c3-93a95ec8f3dd  dhwkge  \n",
      "1  3dfa9be4-80fa-49d2-9bbf-5d265ec2ab82  dhwjk5  \n",
      "2  db957b4b-19cc-4a1b-b8d3-cb935aaa00d8  dhwtef  \n",
      "3  3f7139fb-fe3e-4bb3-851c-3d32d9651283  dhwpnu  \n",
      "4  dab51f2e-9b18-4c14-91c5-956ddb197989  dhwrbj  \n"
     ]
    },
    {
     "name": "stderr",
     "output_type": "stream",
     "text": [
      "/Users/sra/files/projects/matching_optimization/helpers.py:408: UserWarning: Geometry column does not contain geometry.\n",
      "  df[col] = df[col].apply(lambda geom: to_wkt(geom) if isinstance(geom, BaseGeometry) else str(geom))\n",
      "/Users/sra/files/projects/matching_optimization/helpers.py:408: UserWarning: Geometry column does not contain geometry.\n",
      "  df[col] = df[col].apply(lambda geom: to_wkt(geom) if isinstance(geom, BaseGeometry) else str(geom))\n"
     ]
    }
   ],
   "source": [
    "# Convert WKT versions to strings\n",
    "dfs_to_convert = [prev_month_blobs_wkt, curr_month_blobs_wkt]\n",
    "prev_month_blobs_wkt, curr_month_blobs_wkt = [h.convert_col_to_string(df) for df in dfs_to_convert]\n",
    "\n",
    "# Check result\n",
    "print(prev_month_blobs_wkt.head())"
   ]
  },
  {
   "cell_type": "markdown",
   "metadata": {},
   "source": [
    "#### Save in PostgreSQL database"
   ]
  },
  {
   "cell_type": "markdown",
   "metadata": {},
   "source": [
    "This is a simple version of what a \"non-geospatial-native\" data ingestion pipeline may look like, with the primary example being that the polygons are stored as strings, not in a spatial-friendly datatype."
   ]
  },
  {
   "cell_type": "code",
   "execution_count": 115,
   "metadata": {},
   "outputs": [
    {
     "name": "stdout",
     "output_type": "stream",
     "text": [
      "Function `df_itertuple` executed in 0.0015 sec, CPU: 20.00%, Memory: 0.00MB\n",
      "Function `df_itertuple` executed in 0.0017 sec, CPU: 50.00%, Memory: 0.00MB\n"
     ]
    }
   ],
   "source": [
    "# Convert to tuples\n",
    "prev_month_blobs_wkt = h.df_itertuple(prev_month_blobs_wkt)\n",
    "curr_month_blobs_wkt = h.df_itertuple(curr_month_blobs_wkt)"
   ]
  },
  {
   "cell_type": "markdown",
   "metadata": {},
   "source": [
    "Create PostgreSQL database if it doesn't exist already. We will be using the default settings. If they need to be adjusted, refer to [`helpers.py`](helpers.py)."
   ]
  },
  {
   "cell_type": "code",
   "execution_count": 116,
   "metadata": {},
   "outputs": [
    {
     "name": "stdout",
     "output_type": "stream",
     "text": [
      "Database blob_matching already exists.\n",
      "Function `create_pg_db` executed in 0.0258 sec, CPU: 0.00%, Memory: 0.00MB\n"
     ]
    }
   ],
   "source": [
    "h.create_pg_db()"
   ]
  },
  {
   "cell_type": "markdown",
   "metadata": {},
   "source": [
    "Create and insert into tables:"
   ]
  },
  {
   "cell_type": "code",
   "execution_count": 117,
   "metadata": {},
   "outputs": [
    {
     "data": {
      "text/html": [
       "<div>\n",
       "<style scoped>\n",
       "    .dataframe tbody tr th:only-of-type {\n",
       "        vertical-align: middle;\n",
       "    }\n",
       "\n",
       "    .dataframe tbody tr th {\n",
       "        vertical-align: top;\n",
       "    }\n",
       "\n",
       "    .dataframe thead th {\n",
       "        text-align: right;\n",
       "    }\n",
       "</style>\n",
       "<table border=\"1\" class=\"dataframe\">\n",
       "  <thead>\n",
       "    <tr style=\"text-align: right;\">\n",
       "      <th></th>\n",
       "      <th>geometry</th>\n",
       "      <th>id</th>\n",
       "      <th>geohash</th>\n",
       "    </tr>\n",
       "  </thead>\n",
       "  <tbody>\n",
       "    <tr>\n",
       "      <th>0</th>\n",
       "      <td>POLYGON ((-81.08952 26.16119, -81.00653 26.161...</td>\n",
       "      <td>1402374e-27f1-49e8-a7c3-93a95ec8f3dd</td>\n",
       "      <td>dhwkge</td>\n",
       "    </tr>\n",
       "  </tbody>\n",
       "</table>\n",
       "</div>"
      ],
      "text/plain": [
       "                                            geometry  \\\n",
       "0  POLYGON ((-81.08952 26.16119, -81.00653 26.161...   \n",
       "\n",
       "                                     id geohash  \n",
       "0  1402374e-27f1-49e8-a7c3-93a95ec8f3dd  dhwkge  "
      ]
     },
     "execution_count": 117,
     "metadata": {},
     "output_type": "execute_result"
    }
   ],
   "source": [
    "prev_month_blobs.head(1)"
   ]
  },
  {
   "cell_type": "code",
   "execution_count": 118,
   "metadata": {},
   "outputs": [
    {
     "data": {
      "text/plain": [
       "('POLYGON ((-81.089524 26.161192, -81.00653 26.161192, -81.00653 26.176908, -81.089524 26.176908, -81.089524 26.161192))',\n",
       " '1402374e-27f1-49e8-a7c3-93a95ec8f3dd',\n",
       " 'dhwkge')"
      ]
     },
     "execution_count": 118,
     "metadata": {},
     "output_type": "execute_result"
    }
   ],
   "source": [
    "prev_month_blobs_wkt[0]"
   ]
  },
  {
   "cell_type": "code",
   "execution_count": 119,
   "metadata": {},
   "outputs": [
    {
     "name": "stdout",
     "output_type": "stream",
     "text": [
      "Table prev_blobs_wkt truncated.\n",
      "Inserted 5000 records into prev_blobs_wkt.\n",
      "Function `create_pg_table` executed in 0.2187 sec, CPU: 0.00%, Memory: 0.00MB\n",
      "Table curr_blobs_wkt truncated.\n",
      "Inserted 5000 records into curr_blobs_wkt.\n",
      "Function `create_pg_table` executed in 0.1961 sec, CPU: 0.00%, Memory: 0.00MB\n"
     ]
    }
   ],
   "source": [
    "h.create_pg_table(table_name='prev_blobs_wkt', data=prev_month_blobs_wkt, truncate=True)\n",
    "h.create_pg_table(table_name='curr_blobs_wkt', data=curr_month_blobs_wkt, truncate=True)"
   ]
  },
  {
   "cell_type": "markdown",
   "metadata": {},
   "source": [
    "Retrieve data as GeoDataFrames to confirm that it worked:"
   ]
  },
  {
   "cell_type": "code",
   "execution_count": 120,
   "metadata": {},
   "outputs": [
    {
     "name": "stdout",
     "output_type": "stream",
     "text": [
      "Retrieved 5000 records from prev_blobs_wkt.\n",
      "Function `retrieve_pg_table` executed in 0.0250 sec, CPU: 0.00%, Memory: 0.00MB\n",
      "Retrieved 5000 records from curr_blobs_wkt.\n",
      "Function `retrieve_pg_table` executed in 0.1252 sec, CPU: 0.00%, Memory: 0.00MB\n"
     ]
    }
   ],
   "source": [
    "df_prev = h.retrieve_pg_table(table_name='prev_blobs_wkt')\n",
    "df_curr = h.retrieve_pg_table(table_name='curr_blobs_wkt')"
   ]
  },
  {
   "cell_type": "markdown",
   "metadata": {},
   "source": [
    "Compare the tables before and after for a sanity check:"
   ]
  },
  {
   "cell_type": "code",
   "execution_count": 121,
   "metadata": {},
   "outputs": [
    {
     "data": {
      "text/html": [
       "<div>\n",
       "<style scoped>\n",
       "    .dataframe tbody tr th:only-of-type {\n",
       "        vertical-align: middle;\n",
       "    }\n",
       "\n",
       "    .dataframe tbody tr th {\n",
       "        vertical-align: top;\n",
       "    }\n",
       "\n",
       "    .dataframe thead th {\n",
       "        text-align: right;\n",
       "    }\n",
       "</style>\n",
       "<table border=\"1\" class=\"dataframe\">\n",
       "  <thead>\n",
       "    <tr style=\"text-align: right;\">\n",
       "      <th></th>\n",
       "      <th>geometry</th>\n",
       "      <th>id</th>\n",
       "      <th>geohash</th>\n",
       "    </tr>\n",
       "  </thead>\n",
       "  <tbody>\n",
       "    <tr>\n",
       "      <th>0</th>\n",
       "      <td>POLYGON ((-81.089524 26.161192, -81.00653 26.1...</td>\n",
       "      <td>1402374e-27f1-49e8-a7c3-93a95ec8f3dd</td>\n",
       "      <td>dhwkge</td>\n",
       "    </tr>\n",
       "    <tr>\n",
       "      <th>1</th>\n",
       "      <td>POLYGON ((-81.406831 26.226052, -81.349453 26....</td>\n",
       "      <td>3dfa9be4-80fa-49d2-9bbf-5d265ec2ab82</td>\n",
       "      <td>dhwjk5</td>\n",
       "    </tr>\n",
       "    <tr>\n",
       "      <th>2</th>\n",
       "      <td>POLYGON ((-80.729608 26.283755, -80.65681 26.2...</td>\n",
       "      <td>db957b4b-19cc-4a1b-b8d3-cb935aaa00d8</td>\n",
       "      <td>dhwtef</td>\n",
       "    </tr>\n",
       "    <tr>\n",
       "      <th>3</th>\n",
       "      <td>POLYGON ((-81.271798 26.544828, -81.252089 26....</td>\n",
       "      <td>3f7139fb-fe3e-4bb3-851c-3d32d9651283</td>\n",
       "      <td>dhwpnu</td>\n",
       "    </tr>\n",
       "    <tr>\n",
       "      <th>4</th>\n",
       "      <td>POLYGON ((-81.245791 26.663055, -81.158127 26....</td>\n",
       "      <td>dab51f2e-9b18-4c14-91c5-956ddb197989</td>\n",
       "      <td>dhwrbj</td>\n",
       "    </tr>\n",
       "  </tbody>\n",
       "</table>\n",
       "</div>"
      ],
      "text/plain": [
       "                                            geometry  \\\n",
       "0  POLYGON ((-81.089524 26.161192, -81.00653 26.1...   \n",
       "1  POLYGON ((-81.406831 26.226052, -81.349453 26....   \n",
       "2  POLYGON ((-80.729608 26.283755, -80.65681 26.2...   \n",
       "3  POLYGON ((-81.271798 26.544828, -81.252089 26....   \n",
       "4  POLYGON ((-81.245791 26.663055, -81.158127 26....   \n",
       "\n",
       "                                     id geohash  \n",
       "0  1402374e-27f1-49e8-a7c3-93a95ec8f3dd  dhwkge  \n",
       "1  3dfa9be4-80fa-49d2-9bbf-5d265ec2ab82  dhwjk5  \n",
       "2  db957b4b-19cc-4a1b-b8d3-cb935aaa00d8  dhwtef  \n",
       "3  3f7139fb-fe3e-4bb3-851c-3d32d9651283  dhwpnu  \n",
       "4  dab51f2e-9b18-4c14-91c5-956ddb197989  dhwrbj  "
      ]
     },
     "execution_count": 121,
     "metadata": {},
     "output_type": "execute_result"
    }
   ],
   "source": [
    "df_prev.head()"
   ]
  },
  {
   "cell_type": "code",
   "execution_count": 122,
   "metadata": {},
   "outputs": [
    {
     "data": {
      "text/html": [
       "<div>\n",
       "<style scoped>\n",
       "    .dataframe tbody tr th:only-of-type {\n",
       "        vertical-align: middle;\n",
       "    }\n",
       "\n",
       "    .dataframe tbody tr th {\n",
       "        vertical-align: top;\n",
       "    }\n",
       "\n",
       "    .dataframe thead th {\n",
       "        text-align: right;\n",
       "    }\n",
       "</style>\n",
       "<table border=\"1\" class=\"dataframe\">\n",
       "  <thead>\n",
       "    <tr style=\"text-align: right;\">\n",
       "      <th></th>\n",
       "      <th>geometry</th>\n",
       "      <th>id</th>\n",
       "      <th>geohash</th>\n",
       "    </tr>\n",
       "  </thead>\n",
       "  <tbody>\n",
       "    <tr>\n",
       "      <th>0</th>\n",
       "      <td>POLYGON ((-81.08952 26.16119, -81.00653 26.161...</td>\n",
       "      <td>1402374e-27f1-49e8-a7c3-93a95ec8f3dd</td>\n",
       "      <td>dhwkge</td>\n",
       "    </tr>\n",
       "    <tr>\n",
       "      <th>1</th>\n",
       "      <td>POLYGON ((-81.40683 26.22605, -81.34945 26.226...</td>\n",
       "      <td>3dfa9be4-80fa-49d2-9bbf-5d265ec2ab82</td>\n",
       "      <td>dhwjk5</td>\n",
       "    </tr>\n",
       "    <tr>\n",
       "      <th>2</th>\n",
       "      <td>POLYGON ((-80.72961 26.28376, -80.65681 26.283...</td>\n",
       "      <td>db957b4b-19cc-4a1b-b8d3-cb935aaa00d8</td>\n",
       "      <td>dhwtef</td>\n",
       "    </tr>\n",
       "    <tr>\n",
       "      <th>3</th>\n",
       "      <td>POLYGON ((-81.27180 26.54483, -81.25209 26.544...</td>\n",
       "      <td>3f7139fb-fe3e-4bb3-851c-3d32d9651283</td>\n",
       "      <td>dhwpnu</td>\n",
       "    </tr>\n",
       "    <tr>\n",
       "      <th>4</th>\n",
       "      <td>POLYGON ((-81.24579 26.66306, -81.15813 26.663...</td>\n",
       "      <td>dab51f2e-9b18-4c14-91c5-956ddb197989</td>\n",
       "      <td>dhwrbj</td>\n",
       "    </tr>\n",
       "  </tbody>\n",
       "</table>\n",
       "</div>"
      ],
      "text/plain": [
       "                                            geometry  \\\n",
       "0  POLYGON ((-81.08952 26.16119, -81.00653 26.161...   \n",
       "1  POLYGON ((-81.40683 26.22605, -81.34945 26.226...   \n",
       "2  POLYGON ((-80.72961 26.28376, -80.65681 26.283...   \n",
       "3  POLYGON ((-81.27180 26.54483, -81.25209 26.544...   \n",
       "4  POLYGON ((-81.24579 26.66306, -81.15813 26.663...   \n",
       "\n",
       "                                     id geohash  \n",
       "0  1402374e-27f1-49e8-a7c3-93a95ec8f3dd  dhwkge  \n",
       "1  3dfa9be4-80fa-49d2-9bbf-5d265ec2ab82  dhwjk5  \n",
       "2  db957b4b-19cc-4a1b-b8d3-cb935aaa00d8  dhwtef  \n",
       "3  3f7139fb-fe3e-4bb3-851c-3d32d9651283  dhwpnu  \n",
       "4  dab51f2e-9b18-4c14-91c5-956ddb197989  dhwrbj  "
      ]
     },
     "execution_count": 122,
     "metadata": {},
     "output_type": "execute_result"
    }
   ],
   "source": [
    "prev_month_blobs.head()"
   ]
  },
  {
   "cell_type": "markdown",
   "metadata": {},
   "source": [
    "Confirm that the original blob dfs and the retrieved dfs are the same length:"
   ]
  },
  {
   "cell_type": "code",
   "execution_count": 123,
   "metadata": {},
   "outputs": [
    {
     "name": "stdout",
     "output_type": "stream",
     "text": [
      "Number of matching geometries: 5000\n",
      "Missing geometries in retrieved table: 0\n",
      "Extra geometries in retrieved table: 0\n"
     ]
    }
   ],
   "source": [
    "def round_geometry(geom, precision=6):\n",
    "    \"\"\"Round all coordinates of a geometry to a given precision.\"\"\"\n",
    "    return shapely.wkt.loads(shapely.wkt.dumps(geom, rounding_precision=precision))\n",
    "\n",
    "# Convert both to sets of rounded WKT strings\n",
    "set_prev_month_blobs = set(prev_month_blobs['geometry'].apply(lambda g: round_geometry(g, precision=6).wkt))\n",
    "set_df_prev = set(df_prev['geometry'].apply(lambda g: round_geometry(g, precision=6).wkt))\n",
    "\n",
    "# Find common, missing, and extra geometries\n",
    "common_geometries = set_prev_month_blobs & set_df_prev\n",
    "missing_from_retrieved = set_prev_month_blobs - set_df_prev\n",
    "extra_in_retrieved = set_df_prev - set_prev_month_blobs\n",
    "\n",
    "# Print summary\n",
    "print(f\"Number of matching geometries: {len(common_geometries)}\")\n",
    "print(f\"Missing geometries in retrieved table: {len(missing_from_retrieved)}\")\n",
    "print(f\"Extra geometries in retrieved table: {len(extra_in_retrieved)}\")\n",
    "\n",
    "# Show an example missing/extra geometry for debugging\n",
    "if missing_from_retrieved:\n",
    "    print(\"Example missing record:\", next(iter(missing_from_retrieved)))\n",
    "\n",
    "if extra_in_retrieved:\n",
    "    print(\"Example extra record:\", next(iter(extra_in_retrieved)))"
   ]
  },
  {
   "cell_type": "markdown",
   "metadata": {},
   "source": [
    "It worked! Now we can proceed to \"matching\" any \"previous\" polygons that overlap with the \"current\" polygons."
   ]
  },
  {
   "cell_type": "markdown",
   "metadata": {},
   "source": [
    "### 1.2. Matching"
   ]
  },
  {
   "cell_type": "markdown",
   "metadata": {},
   "source": [
    "We will match the polygons using GeoPandas."
   ]
  },
  {
   "cell_type": "code",
   "execution_count": null,
   "metadata": {},
   "outputs": [
    {
     "name": "stdout",
     "output_type": "stream",
     "text": [
      "Start time: 2025-03-02 16:26:26.319628\n",
      "Table matched_results created successfully.\n",
      "Total batches to process: 5\n",
      "Dispatched batch 1/5 (20.0% complete)\n",
      "Dispatched batch 2/5 (40.0% complete)\n",
      "Dispatched batch 3/5 (60.0% complete)\n",
      "Dispatched batch 4/5 (80.0% complete)\n",
      "Dispatched batch 5/5 (100.0% complete)\n",
      "Waiting for process 32695 to finish.\n"
     ]
    }
   ],
   "source": [
    "start = datetime.datetime.now()\n",
    "print('Start time:', start)\n",
    "postgresql_details = h.pg_details()\n",
    "h.run_parallel_matching(table_prev='prev_blobs_wkt', \n",
    "                        table_curr='curr_blobs_wkt', \n",
    "                        output_table='matched_results', \n",
    "                        postgresql_details=postgresql_details, \n",
    "                        db_name='blob_matching', \n",
    "                        num_workers=5,\n",
    "                        verbose=2)\n",
    "end = datetime.datetime.now()\n",
    "print('End time:', end)\n",
    "print('Total time:', end - start)"
   ]
  },
  {
   "cell_type": "code",
   "execution_count": null,
   "metadata": {},
   "outputs": [],
   "source": [
    "# # testing logging for matching_geometries\n",
    "# df_prev = h._retrieve_pg_table(postgresql_details, 'blob_matching', \"prev_blobs_wkt\")#, log_enabled=True)\n",
    "# df_curr = h._retrieve_pg_table(postgresql_details, 'blob_matching', \"curr_blobs_wkt\")#, log_enabled=True)\n",
    "\n",
    "# # Use a small subset for testing\n",
    "# # df_prev_sample = df_prev.sample(10, random_state=42)\n",
    "# # df_curr_sample = df_curr.sample(10, random_state=42)\n",
    "\n",
    "# # h.match_geometries(df_prev_sample, df_curr_sample)  # Check if this logs matches\n",
    "# h.match_geometries(df_prev, df_curr)  # Check if this logs matches"
   ]
  },
  {
   "cell_type": "markdown",
   "metadata": {},
   "source": [
    "Confirm that the postgres matching table has the same number of matches:"
   ]
  },
  {
   "cell_type": "code",
   "execution_count": null,
   "metadata": {},
   "outputs": [
    {
     "name": "stdout",
     "output_type": "stream",
     "text": [
      "Total matches in matched_results: 12\n",
      "Function `retrieve_pg_table` executed in 0.0051 sec, CPU: 28.60%, Memory: 0.00MB\n"
     ]
    }
   ],
   "source": [
    "count = h.retrieve_pg_table(table_name='matched_results', count=True)"
   ]
  },
  {
   "cell_type": "code",
   "execution_count": null,
   "metadata": {},
   "outputs": [
    {
     "name": "stdout",
     "output_type": "stream",
     "text": [
      "Converted logs/timing_results.csv to logs/timing_results.parquet\n",
      "Converted logs/timing.log to logs/timing_log.parquet\n",
      "Done.\n"
     ]
    }
   ],
   "source": [
    "# save log files as .parquet\n",
    "h.convert_logs_to_parquet(csv_path=Path('logs/timing_results.csv'),\n",
    "                          log_path=Path('logs/timing.log'))\n",
    "print('Done.')"
   ]
  },
  {
   "cell_type": "markdown",
   "metadata": {},
   "source": [
    "View the overall polygon layers and then some subplots with locations of the matched polygons:"
   ]
  },
  {
   "cell_type": "code",
   "execution_count": 79,
   "metadata": {},
   "outputs": [
    {
     "name": "stdout",
     "output_type": "stream",
     "text": [
      "Retrieved 1000 records from prev_blobs_wkt.\n",
      "Function `retrieve_pg_table` executed in 0.0341 sec, CPU: 29.00%, Memory: 70.73MB\n",
      "Retrieved 1000 records from curr_blobs_wkt.\n",
      "Function `retrieve_pg_table` executed in 0.0120 sec, CPU: 90.00%, Memory: 14.97MB\n",
      "Retrieved 12 records from matched_results.\n"
     ]
    },
    {
     "data": {
      "image/png": "[encoded data removed]",
      "text/plain": [
       "<Figure size 1500x1000 with 6 Axes>"
      ]
     },
     "metadata": {},
     "output_type": "display_data"
    }
   ],
   "source": [
    "# Retrieve tables from PostgreSQL\n",
    "df_prev = h.retrieve_pg_table(table_name='prev_blobs_wkt')\n",
    "df_curr = h.retrieve_pg_table(table_name='curr_blobs_wkt')\n",
    "\n",
    "# Ensure they are GeoDataFrames\n",
    "df_prev = gpd.GeoDataFrame(df_prev, geometry='geometry', crs=\"EPSG:4326\")\n",
    "df_curr = gpd.GeoDataFrame(df_curr, geometry='geometry', crs=\"EPSG:4326\")\n",
    "\n",
    "# Retrieve matches table\n",
    "table_name = 'matched_results'\n",
    "postgresql_details['dbname'] = 'blob_matching'\n",
    "conn = psycopg2.connect(**postgresql_details)\n",
    "cur = conn.cursor()\n",
    "cur.execute(f\"SELECT prev_id, curr_id FROM {table_name};\")\n",
    "rows = cur.fetchall()\n",
    "cur.close()\n",
    "conn.close()\n",
    "\n",
    "# Convert matches to DataFrame\n",
    "matches = pd.DataFrame(rows, columns=[\"prev_id\", \"curr_id\"])\n",
    "print(f\"Retrieved {len(matches)} records from {table_name}.\")\n",
    "\n",
    "# Find matching polygons\n",
    "overlapping_a = df_prev[df_prev['id'].isin(matches['prev_id'])]\n",
    "overlapping_b = df_curr[df_curr['id'].isin(matches['curr_id'])]\n",
    "\n",
    "# Sample 5 overlapping polygons instead of 10\n",
    "sample_size = min(5, len(overlapping_a))  # Limit to 5\n",
    "sample_indices = random.sample(range(len(overlapping_a)), sample_size)\n",
    "sample_a = overlapping_a.iloc[sample_indices]\n",
    "sample_b = overlapping_b.iloc[sample_indices]\n",
    "\n",
    "# Define figure layout with GridSpec (1 row for subplots instead of 2)\n",
    "fig = plt.figure(figsize=(15, 10))\n",
    "gs = gridspec.GridSpec(2, 5, height_ratios=[2, 1], width_ratios=[1, 1, 1, 1, 1])  # 2 rows: main + 1 row of 5 subplots\n",
    "\n",
    "# --- Main Plot: Initial Polygons ---\n",
    "ax_main = plt.subplot(gs[0, :])  # Top row spans all columns\n",
    "df_prev.plot(ax=ax_main, color='lightblue', edgecolor='black', alpha=0.5, label=\"Previous\", zorder=1)\n",
    "df_curr.plot(ax=ax_main, color='lightgreen', edgecolor='black', alpha=0.5, label=\"Current\", zorder=1)\n",
    "\n",
    "# Overlay all sampled polygons with a **thin dashed outline**\n",
    "sample_a.plot(ax=ax_main, color='none', edgecolor='yellow', linewidth=1, linestyle='dashed', zorder=3)\n",
    "sample_b.plot(ax=ax_main, color='none', edgecolor='magenta', linewidth=1, linestyle='dashed', zorder=3)\n",
    "\n",
    "# **Make the Grid Spec polygons stand out (increase linewidth selectively)**\n",
    "highlighted_a = sample_a\n",
    "highlighted_b = sample_b\n",
    "\n",
    "highlighted_a.plot(ax=ax_main, color='none', edgecolor='black', linewidth=10, linestyle='solid', zorder=4)\n",
    "highlighted_b.plot(ax=ax_main, color='none', edgecolor='black', linewidth=10, linestyle='solid', zorder=4)\n",
    "\n",
    "ax_main.set_title(\"Initial Polygons (Highlighted Sampled Polygons)\")\n",
    "\n",
    "# --- Zoomed-in Subplots (Single row of 5 subplots) ---\n",
    "for i, (idx, row) in enumerate(sample_a.iterrows()):\n",
    "    ax = plt.subplot(gs[1, i])  # Now only 1 row (row index `1`)\n",
    "    subset_a = sample_a.iloc[[i]]\n",
    "    subset_b = sample_b.iloc[[i]]\n",
    "\n",
    "    # Plot zoomed-in view\n",
    "    subset_a.plot(ax=ax, color=\"red\", edgecolor=\"black\", alpha=0.5)\n",
    "    subset_b.plot(ax=ax, color=\"orange\", edgecolor=\"black\", alpha=0.5)\n",
    "\n",
    "    # Adjust zoom\n",
    "    bounds = subset_a.geometry.bounds.values[0]  # Get bounding box\n",
    "    buffer = 0.01  # Add a small margin for better visualization\n",
    "    ax.set_xlim(bounds[0] - buffer, bounds[2] + buffer)\n",
    "    ax.set_ylim(bounds[1] - buffer, bounds[3] + buffer)\n",
    "\n",
    "    # Add ID as a title\n",
    "    ax.set_title(f\"ID: {row['id']}\", fontsize=9)\n",
    "    ax.set_xticks([])  # Remove x-axis labels\n",
    "    ax.set_yticks([])  # Remove y-axis labels\n",
    "\n",
    "# Adjust layout and show\n",
    "plt.tight_layout()\n",
    "\n",
    "plt.savefig('figs/overlapping_polygons_map.pdf', bbox_inches='tight')\n",
    "plt.savefig('figs/overlapping_polygons_map.png', bbox_inches='tight')\n",
    "\n",
    "plt.show()"
   ]
  },
  {
   "cell_type": "code",
   "execution_count": null,
   "metadata": {},
   "outputs": [],
   "source": []
  },
  {
   "cell_type": "markdown",
   "metadata": {},
   "source": [
    "## 2. Optimized Approach"
   ]
  },
  {
   "cell_type": "markdown",
   "metadata": {},
   "source": [
    "Having demonstrated a reasonable if not optimized way of matching polygons, we will now make use of geospatial-native tools to hopefully match polygons much more quickly."
   ]
  },
  {
   "cell_type": "markdown",
   "metadata": {},
   "source": [
    "My proposed workflow centers around `DuckDB` and `H3` along with the `.parquet` format to efficiently store, retrieve, and process geospatial data. We will use `Apache Iceberg` as a layer over the parquet file as it allows for more robust table handling.\n",
    "\n",
    "1. Prepare GeodataFrames with H3 Polyfill and parent hexagons at lower resolution.\n",
    "   * Save as an Iceberg table.\n",
    "\n",
    "2. Use DuckDB and the H3 extension to execute spatial SQL queries to find overlapping polygons with H3-based joins.\n",
    "\n",
    "3. Save matching polygon IDs to a new Iceberg table.\n",
    "\n",
    "4. Visualize the results."
   ]
  },
  {
   "cell_type": "markdown",
   "metadata": {},
   "source": [
    "### 2.1. Add H3 data to the blobs"
   ]
  },
  {
   "cell_type": "markdown",
   "metadata": {},
   "source": [
    "H3 is a modern and efficient geospatial index paradigm that divides the world into nested hexagons."
   ]
  },
  {
   "cell_type": "code",
   "execution_count": 902,
   "metadata": {},
   "outputs": [
    {
     "data": {
      "text/html": [
       "<div>\n",
       "<style scoped>\n",
       "    .dataframe tbody tr th:only-of-type {\n",
       "        vertical-align: middle;\n",
       "    }\n",
       "\n",
       "    .dataframe tbody tr th {\n",
       "        vertical-align: top;\n",
       "    }\n",
       "\n",
       "    .dataframe thead th {\n",
       "        text-align: right;\n",
       "    }\n",
       "</style>\n",
       "<table border=\"1\" class=\"dataframe\">\n",
       "  <thead>\n",
       "    <tr style=\"text-align: right;\">\n",
       "      <th></th>\n",
       "      <th>geometry</th>\n",
       "      <th>id</th>\n",
       "      <th>geohash</th>\n",
       "    </tr>\n",
       "  </thead>\n",
       "  <tbody>\n",
       "    <tr>\n",
       "      <th>0</th>\n",
       "      <td>POLYGON ((-81.10504 26.01885, -81.04984 26.018...</td>\n",
       "      <td>6cc95c8a-cbaf-4993-a9ff-4e890c7e45f0</td>\n",
       "      <td>dhwk5h</td>\n",
       "    </tr>\n",
       "    <tr>\n",
       "      <th>1</th>\n",
       "      <td>POLYGON ((-80.91675 26.04190, -80.86358 26.041...</td>\n",
       "      <td>a0fbead2-d8dc-4e05-b364-ab89d020fbfb</td>\n",
       "      <td>dhwkpq</td>\n",
       "    </tr>\n",
       "    <tr>\n",
       "      <th>2</th>\n",
       "      <td>POLYGON ((-80.73525 26.20304, -80.71903 26.203...</td>\n",
       "      <td>b4c64915-35eb-4d74-a211-ce41ad8f21f8</td>\n",
       "      <td>dhwt55</td>\n",
       "    </tr>\n",
       "    <tr>\n",
       "      <th>3</th>\n",
       "      <td>POLYGON ((-80.86288 26.17613, -80.79088 26.176...</td>\n",
       "      <td>d03d2784-ff88-4ed6-b93c-2b52a8a7ecc3</td>\n",
       "      <td>dhwt0s</td>\n",
       "    </tr>\n",
       "    <tr>\n",
       "      <th>4</th>\n",
       "      <td>POLYGON ((-81.28584 26.19397, -81.21442 26.193...</td>\n",
       "      <td>0ce2ca44-0727-4364-978b-da23cd9cd784</td>\n",
       "      <td>dhwjpj</td>\n",
       "    </tr>\n",
       "  </tbody>\n",
       "</table>\n",
       "</div>"
      ],
      "text/plain": [
       "                                            geometry  \\\n",
       "0  POLYGON ((-81.10504 26.01885, -81.04984 26.018...   \n",
       "1  POLYGON ((-80.91675 26.04190, -80.86358 26.041...   \n",
       "2  POLYGON ((-80.73525 26.20304, -80.71903 26.203...   \n",
       "3  POLYGON ((-80.86288 26.17613, -80.79088 26.176...   \n",
       "4  POLYGON ((-81.28584 26.19397, -81.21442 26.193...   \n",
       "\n",
       "                                     id geohash  \n",
       "0  6cc95c8a-cbaf-4993-a9ff-4e890c7e45f0  dhwk5h  \n",
       "1  a0fbead2-d8dc-4e05-b364-ab89d020fbfb  dhwkpq  \n",
       "2  b4c64915-35eb-4d74-a211-ce41ad8f21f8  dhwt55  \n",
       "3  d03d2784-ff88-4ed6-b93c-2b52a8a7ecc3  dhwt0s  \n",
       "4  0ce2ca44-0727-4364-978b-da23cd9cd784  dhwjpj  "
      ]
     },
     "execution_count": 902,
     "metadata": {},
     "output_type": "execute_result"
    }
   ],
   "source": [
    "prev_month_blobs.head()"
   ]
  },
  {
   "cell_type": "code",
   "execution_count": 903,
   "metadata": {},
   "outputs": [],
   "source": [
    "def compute_h3_indices(geometry, centroid_res=6, polyfill_res=9):\n",
    "    \"\"\"\n",
    "    Compute H3 indices for a polygon:\n",
    "    - Single H3 index based on centroid\n",
    "    - Full polygon coverage with H3 polyfill at high resolution\n",
    "    \"\"\"\n",
    "    centroid = geometry.centroid\n",
    "    h3_centroid = h3.geo_to_h3(centroid.y, centroid.x, centroid_res)\n",
    "\n",
    "    # Full coverage using polyfill\n",
    "    h3_polyfill = list(h3.polyfill(geometry.__geo_interface__, polyfill_res))\n",
    "\n",
    "    return h3_centroid, h3_polyfill"
   ]
  },
  {
   "cell_type": "code",
   "execution_count": null,
   "metadata": {},
   "outputs": [],
   "source": [
    "test_prev = prev_month_blobs.copy()\n",
    "test_curr = curr_month_blobs.copy()\n",
    "\n",
    "for gdf in [test_prev, test_curr]:\n",
    "    gdf['h3_centroid'] = gdf['geometry'].apply(lambda geom: compute_h3_indices(geom, 6, 9))"
   ]
  },
  {
   "cell_type": "code",
   "execution_count": 899,
   "metadata": {},
   "outputs": [
    {
     "name": "stdout",
     "output_type": "stream",
     "text": [
      "<class 'geopandas.geodataframe.GeoDataFrame'>\n"
     ]
    },
    {
     "data": {
      "text/html": [
       "<div>\n",
       "<style scoped>\n",
       "    .dataframe tbody tr th:only-of-type {\n",
       "        vertical-align: middle;\n",
       "    }\n",
       "\n",
       "    .dataframe tbody tr th {\n",
       "        vertical-align: top;\n",
       "    }\n",
       "\n",
       "    .dataframe thead th {\n",
       "        text-align: right;\n",
       "    }\n",
       "</style>\n",
       "<table border=\"1\" class=\"dataframe\">\n",
       "  <thead>\n",
       "    <tr style=\"text-align: right;\">\n",
       "      <th></th>\n",
       "      <th>geometry</th>\n",
       "      <th>id</th>\n",
       "      <th>geohash</th>\n",
       "    </tr>\n",
       "  </thead>\n",
       "  <tbody>\n",
       "    <tr>\n",
       "      <th>0</th>\n",
       "      <td>POLYGON ((-81.10504 26.01885, -81.04984 26.018...</td>\n",
       "      <td>6cc95c8a-cbaf-4993-a9ff-4e890c7e45f0</td>\n",
       "      <td>dhwk5h</td>\n",
       "    </tr>\n",
       "    <tr>\n",
       "      <th>1</th>\n",
       "      <td>POLYGON ((-80.91675 26.04190, -80.86358 26.041...</td>\n",
       "      <td>a0fbead2-d8dc-4e05-b364-ab89d020fbfb</td>\n",
       "      <td>dhwkpq</td>\n",
       "    </tr>\n",
       "    <tr>\n",
       "      <th>2</th>\n",
       "      <td>POLYGON ((-80.73525 26.20304, -80.71903 26.203...</td>\n",
       "      <td>b4c64915-35eb-4d74-a211-ce41ad8f21f8</td>\n",
       "      <td>dhwt55</td>\n",
       "    </tr>\n",
       "  </tbody>\n",
       "</table>\n",
       "</div>"
      ],
      "text/plain": [
       "                                            geometry  \\\n",
       "0  POLYGON ((-81.10504 26.01885, -81.04984 26.018...   \n",
       "1  POLYGON ((-80.91675 26.04190, -80.86358 26.041...   \n",
       "2  POLYGON ((-80.73525 26.20304, -80.71903 26.203...   \n",
       "\n",
       "                                     id geohash  \n",
       "0  6cc95c8a-cbaf-4993-a9ff-4e890c7e45f0  dhwk5h  \n",
       "1  a0fbead2-d8dc-4e05-b364-ab89d020fbfb  dhwkpq  \n",
       "2  b4c64915-35eb-4d74-a211-ce41ad8f21f8  dhwt55  "
      ]
     },
     "execution_count": 899,
     "metadata": {},
     "output_type": "execute_result"
    }
   ],
   "source": [
    "print(type(prev_month_blobs))\n",
    "prev_month_blobs.head(3)\n",
    "# prev_month_blobs = gpd.read_parquet('data/prev_month_blobs.parquet')\n",
    "# curr_month_blobs = gpd.read_parquet('data/curr_month_blobs.parquet')"
   ]
  },
  {
   "cell_type": "markdown",
   "metadata": {},
   "source": [
    "# Notes on original process"
   ]
  },
  {
   "cell_type": "markdown",
   "metadata": {},
   "source": [
    "geohash polygon into a larger region\n",
    "match blobs using multiprocessing (mp.Process) and geopandas\n",
    "find blobs from previous month that do not have a match\n",
    "\n",
    "# 1 imports and setup\n",
    "\n",
    "```python\n",
    "import os, sys, traceback\n",
    "import argparse\n",
    "import cv2\n",
    "import time\n",
    "import numpy as np\n",
    "import pandas as pd\n",
    "import geopandas as gpd\n",
    "from skimage import io, color, measure\n",
    "from tqdm import tqdm\n",
    "from shapely import wkt\n",
    "from shapely.geometry import Point, Polygon\n",
    "from shapely.validation import make_valid\n",
    "import PIL\n",
    "from PIL import Image, ImageDraw, ImageEnhance\n",
    "import uuid\n",
    "import multiprocessing as mp\n",
    "from datetime import datetime\n",
    "from sqlalchemy import or_\n",
    "from sqlmodel import SQLModel, Session, create_engine, select\n",
    "from pathlib import Path\n",
    "```\n",
    "\n",
    "## Key takeaways\n",
    "- Uses Pandas and GeoPandas for data processing.\n",
    "- Uses Shapely for geospatial geometry operations.\n",
    "- Uses multiprocessing (mp) to parallelize the blob-matching process.\n",
    "- Uses SQLAlchemy and SQLModel for database operations.\n",
    "\n",
    "# 2 High-level script overview\n",
    "The script is designed to match blobs (spatial objects) between two months and classify them into different business categories.\n",
    "\n",
    "General Workflow\n",
    "1. Fetch blobs from the previous and current months.\n",
    "1. Convert the region of interest (state, city, county, or geohash) into a list of geohashes.\n",
    "1. Parallelized Matching Process:\n",
    "1. Process multiple geohashes at once using multiprocessing.\n",
    "1. Find corresponding blobs from previous months for each geohash.\n",
    "1. Classify blobs based on construction stage progression.\n",
    "1. Identify blobs that are missing in the current month and \"impute\" them.\n",
    "1. Save results into the database.\n",
    "\n",
    "# 3 Blob classification logic\n",
    "\n",
    "# 4 Blob matching\n",
    "\n",
    "- Matches blobs between months using polygon intersections.\n",
    "- Uses Shapely to validate geometries and check for overlaps.\n",
    "- Returns matched blob IDs.\n",
    "\n",
    "## Multiprocessing Optimization\n",
    "The script parallelizes blob matching by:\n",
    "- Uses multiprocessing (mp.Process) to divide the dataset into smaller batches.\n",
    "- Each batch of blobs is processed in parallel.\n",
    "- Reduces runtime compared to a single-threaded approach.\n",
    "\n",
    "# 5 Handling unmatched blobs\n",
    "- Finds blobs from the previous month that do not have a match in the current month.\n",
    "- These blobs are \"imputed\", meaning they are carried over into the new month.\n",
    "\n",
    "# 6 Main class to orchestrate process\n",
    "- Loads previous and current month blobs.\n",
    "- Converts input regions (state, city, county) into geohashes.\n",
    "\n",
    "# Summary\n",
    "- Parallel processing is used to match blobs.\n",
    "- Blobs are classified based on construction stages.\n",
    "- Unmatched blobs are imputed for continuity.\n",
    "- The script writes results to a database."
   ]
  },
  {
   "cell_type": "markdown",
   "metadata": {},
   "source": []
  }
 ],
 "metadata": {
  "kernelspec": {
   "display_name": "Python 3",
   "language": "python",
   "name": "python3"
  },
  "language_info": {
   "codemirror_mode": {
    "name": "ipython",
    "version": 3
   },
   "file_extension": ".py",
   "mimetype": "text/x-python",
   "name": "python",
   "nbconvert_exporter": "python",
   "pygments_lexer": "ipython3",
   "version": "3.11.8"
  }
 },
 "nbformat": 4,
 "nbformat_minor": 2
}
