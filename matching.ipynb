{
 "cells": [
  {
   "cell_type": "markdown",
   "metadata": {},
   "source": [
    "# This project "
   ]
  },
  {
   "cell_type": "markdown",
   "metadata": {},
   "source": [
    "Generate Test Data"
   ]
  },
  {
   "cell_type": "code",
   "execution_count": 2,
   "metadata": {},
   "outputs": [],
   "source": [
    "import random\n",
    "import geopandas as gpd\n",
    "import pandas as pd\n",
    "import shapely\n",
    "from shapely.geometry import Polygon, box\n",
    "import h3\n",
    "import time\n",
    "\n",
    "# Generate random polygons as blobs\n",
    "def generate_random_polygons(n=100, bbox=(-100, -100, 100, 100)):\n",
    "    \"\"\"Generate n random polygons inside a bounding box.\"\"\"\n",
    "    minx, miny, maxx, maxy = bbox\n",
    "    polygons = []\n",
    "    for _ in range(n):\n",
    "        x1, y1 = random.uniform(minx, maxx), random.uniform(miny, maxy)\n",
    "        x2, y2 = x1 + random.uniform(1, 5), y1 + random.uniform(1, 5)\n",
    "        polygons.append(box(x1, y1, x2, y2))  # Create rectangle\n",
    "    return gpd.GeoDataFrame(geometry=polygons, crs=\"EPSG:4326\")\n",
    "\n",
    "# Create two months of blob data\n",
    "prev_month_blobs = generate_random_polygons(n=100)\n",
    "curr_month_blobs = generate_random_polygons(n=100)"
   ]
  },
  {
   "cell_type": "code",
   "execution_count": 5,
   "metadata": {},
   "outputs": [
    {
     "data": {
      "text/html": [
       "<div>\n",
       "<style scoped>\n",
       "    .dataframe tbody tr th:only-of-type {\n",
       "        vertical-align: middle;\n",
       "    }\n",
       "\n",
       "    .dataframe tbody tr th {\n",
       "        vertical-align: top;\n",
       "    }\n",
       "\n",
       "    .dataframe thead th {\n",
       "        text-align: right;\n",
       "    }\n",
       "</style>\n",
       "<table border=\"1\" class=\"dataframe\">\n",
       "  <thead>\n",
       "    <tr style=\"text-align: right;\">\n",
       "      <th></th>\n",
       "      <th>geometry</th>\n",
       "    </tr>\n",
       "  </thead>\n",
       "  <tbody>\n",
       "    <tr>\n",
       "      <th>0</th>\n",
       "      <td>POLYGON ((47.85248 59.34330, 47.85248 62.47185...</td>\n",
       "    </tr>\n",
       "    <tr>\n",
       "      <th>1</th>\n",
       "      <td>POLYGON ((80.47453 97.38805, 80.47453 101.2426...</td>\n",
       "    </tr>\n",
       "    <tr>\n",
       "      <th>2</th>\n",
       "      <td>POLYGON ((-4.74631 9.36677, -4.74631 12.46548,...</td>\n",
       "    </tr>\n",
       "    <tr>\n",
       "      <th>3</th>\n",
       "      <td>POLYGON ((81.75258 -4.82857, 81.75258 -2.24088...</td>\n",
       "    </tr>\n",
       "    <tr>\n",
       "      <th>4</th>\n",
       "      <td>POLYGON ((82.40959 -97.26951, 82.40959 -94.551...</td>\n",
       "    </tr>\n",
       "    <tr>\n",
       "      <th>...</th>\n",
       "      <td>...</td>\n",
       "    </tr>\n",
       "    <tr>\n",
       "      <th>95</th>\n",
       "      <td>POLYGON ((-30.71975 -34.68759, -30.71975 -33.6...</td>\n",
       "    </tr>\n",
       "    <tr>\n",
       "      <th>96</th>\n",
       "      <td>POLYGON ((-13.00488 -74.51371, -13.00488 -72.0...</td>\n",
       "    </tr>\n",
       "    <tr>\n",
       "      <th>97</th>\n",
       "      <td>POLYGON ((38.86018 83.14088, 38.86018 84.20609...</td>\n",
       "    </tr>\n",
       "    <tr>\n",
       "      <th>98</th>\n",
       "      <td>POLYGON ((102.23521 80.32848, 102.23521 84.401...</td>\n",
       "    </tr>\n",
       "    <tr>\n",
       "      <th>99</th>\n",
       "      <td>POLYGON ((53.50586 15.76437, 53.50586 16.78385...</td>\n",
       "    </tr>\n",
       "  </tbody>\n",
       "</table>\n",
       "<p>100 rows × 1 columns</p>\n",
       "</div>"
      ],
      "text/plain": [
       "                                             geometry\n",
       "0   POLYGON ((47.85248 59.34330, 47.85248 62.47185...\n",
       "1   POLYGON ((80.47453 97.38805, 80.47453 101.2426...\n",
       "2   POLYGON ((-4.74631 9.36677, -4.74631 12.46548,...\n",
       "3   POLYGON ((81.75258 -4.82857, 81.75258 -2.24088...\n",
       "4   POLYGON ((82.40959 -97.26951, 82.40959 -94.551...\n",
       "..                                                ...\n",
       "95  POLYGON ((-30.71975 -34.68759, -30.71975 -33.6...\n",
       "96  POLYGON ((-13.00488 -74.51371, -13.00488 -72.0...\n",
       "97  POLYGON ((38.86018 83.14088, 38.86018 84.20609...\n",
       "98  POLYGON ((102.23521 80.32848, 102.23521 84.401...\n",
       "99  POLYGON ((53.50586 15.76437, 53.50586 16.78385...\n",
       "\n",
       "[100 rows x 1 columns]"
      ]
     },
     "execution_count": 5,
     "metadata": {},
     "output_type": "execute_result"
    }
   ],
   "source": [
    "prev_month_blobs"
   ]
  },
  {
   "cell_type": "code",
   "execution_count": 4,
   "metadata": {},
   "outputs": [],
   "source": [
    "import functools\n",
    "\n",
    "def timing_decorator(func):\n",
    "    \"\"\"Decorator to log function execution time.\"\"\"\n",
    "    @functools.wraps(func)\n",
    "    def wrapper(*args, **kwargs):\n",
    "        start_time = time.time()\n",
    "        result = func(*args, **kwargs)\n",
    "        elapsed_time = time.time() - start_time\n",
    "        print(f\"Function `{func.__name__}` took {elapsed_time:.4f} seconds.\")\n",
    "        return result\n",
    "    return wrapper"
   ]
  },
  {
   "cell_type": "markdown",
   "metadata": {},
   "source": [
    "Baseline - Polygon Matching Only"
   ]
  },
  {
   "cell_type": "markdown",
   "metadata": {},
   "source": []
  }
 ],
 "metadata": {
  "kernelspec": {
   "display_name": "geo",
   "language": "python",
   "name": "python3"
  },
  "language_info": {
   "codemirror_mode": {
    "name": "ipython",
    "version": 3
   },
   "file_extension": ".py",
   "mimetype": "text/x-python",
   "name": "python",
   "nbconvert_exporter": "python",
   "pygments_lexer": "ipython3",
   "version": "3.11.8"
  }
 },
 "nbformat": 4,
 "nbformat_minor": 2
}
