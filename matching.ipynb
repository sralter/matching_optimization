{
 "cells": [
  {
   "cell_type": "markdown",
   "metadata": {},
   "source": [
    "# Geospatial Matching Optimization"
   ]
  },
  {
   "cell_type": "markdown",
   "metadata": {},
   "source": [
    "This project is designed to showcase how to improve the speed of a polygon matching procedure. There are two main areas that could benefit from taking a \"geospatial-native\" approach:\n",
    "\n",
    "1. Data encoding, fetching, and storage\n",
    "2. Matching\n",
    "\n",
    "We will generate synthetic polygon data and use both a non-geospatial-native and geospatial-native approach, comparing execution time for both to see how they differ."
   ]
  },
  {
   "cell_type": "markdown",
   "metadata": {},
   "source": [
    "Note: Make sure that you have PostgreSQL running."
   ]
  },
  {
   "cell_type": "markdown",
   "metadata": {},
   "source": [
    "## Imports"
   ]
  },
  {
   "cell_type": "code",
   "execution_count": 91,
   "metadata": {},
   "outputs": [
    {
     "name": "stdout",
     "output_type": "stream",
     "text": [
      "Created fresh logs/sid_2025-02-27_11-55-36_timing_results.csv\n",
      "Created fresh logs/sid_2025-02-27_11-55-36_timing.log\n"
     ]
    },
    {
     "data": {
      "text/plain": [
       "<module 'helpers' from '/Users/sra/files/projects/matching_optimization/helpers.py'>"
      ]
     },
     "execution_count": 91,
     "metadata": {},
     "output_type": "execute_result"
    }
   ],
   "source": [
    "import geopandas as gpd\n",
    "import pandas as pd\n",
    "import shapely\n",
    "import h3\n",
    "import time\n",
    "import helpers as h\n",
    "import matplotlib.pyplot as plt\n",
    "from shapely.wkt import dumps, loads\n",
    "from pathlib import Path\n",
    "\n",
    "# ensure helpers is loaded correctly\n",
    "import importlib\n",
    "importlib.reload(h)"
   ]
  },
  {
   "cell_type": "markdown",
   "metadata": {},
   "source": [
    "## Generate Test Data"
   ]
  },
  {
   "cell_type": "code",
   "execution_count": 231,
   "metadata": {},
   "outputs": [
    {
     "name": "stdout",
     "output_type": "stream",
     "text": [
      "Function `generate_random_polygons` executed in 0.2021 sec, CPU: 38.30%, Memory: 16.31MB\n",
      "Function `generate_random_polygons` executed in 0.1218 sec, CPU: 28.70%, Memory: 2.70MB\n"
     ]
    }
   ],
   "source": [
    "# Create two months of blob data\n",
    "prev_month_blobs = h.generate_random_polygons(n=10000)\n",
    "curr_month_blobs = h.generate_random_polygons(n=10000)"
   ]
  },
  {
   "cell_type": "code",
   "execution_count": 194,
   "metadata": {},
   "outputs": [
    {
     "data": {
      "text/html": [
       "<div>\n",
       "<style scoped>\n",
       "    .dataframe tbody tr th:only-of-type {\n",
       "        vertical-align: middle;\n",
       "    }\n",
       "\n",
       "    .dataframe tbody tr th {\n",
       "        vertical-align: top;\n",
       "    }\n",
       "\n",
       "    .dataframe thead th {\n",
       "        text-align: right;\n",
       "    }\n",
       "</style>\n",
       "<table border=\"1\" class=\"dataframe\">\n",
       "  <thead>\n",
       "    <tr style=\"text-align: right;\">\n",
       "      <th></th>\n",
       "      <th>geometry</th>\n",
       "      <th>id</th>\n",
       "    </tr>\n",
       "  </thead>\n",
       "  <tbody>\n",
       "    <tr>\n",
       "      <th>0</th>\n",
       "      <td>POLYGON ((-67.77737 59.48422, -67.77737 60.922...</td>\n",
       "      <td>7f4dff84-d1b5-4f2c-bf65-77102679ed3b</td>\n",
       "    </tr>\n",
       "    <tr>\n",
       "      <th>1</th>\n",
       "      <td>POLYGON ((26.42248 9.32281, 26.42248 11.29955,...</td>\n",
       "      <td>38dd1028-22a7-48a8-b549-b2b371a3fd64</td>\n",
       "    </tr>\n",
       "    <tr>\n",
       "      <th>2</th>\n",
       "      <td>POLYGON ((34.53971 -70.83667, 34.53971 -69.101...</td>\n",
       "      <td>e228399c-7167-4951-84b6-6d7b28ef5979</td>\n",
       "    </tr>\n",
       "    <tr>\n",
       "      <th>3</th>\n",
       "      <td>POLYGON ((173.13634 -65.81346, 173.13634 -64.1...</td>\n",
       "      <td>5db7eab1-eb05-4986-986b-e5686d582bea</td>\n",
       "    </tr>\n",
       "    <tr>\n",
       "      <th>4</th>\n",
       "      <td>POLYGON ((135.94789 12.84035, 135.94789 14.170...</td>\n",
       "      <td>624b76ae-a2ac-45d5-b42e-688e897bec9b</td>\n",
       "    </tr>\n",
       "  </tbody>\n",
       "</table>\n",
       "</div>"
      ],
      "text/plain": [
       "                                            geometry  \\\n",
       "0  POLYGON ((-67.77737 59.48422, -67.77737 60.922...   \n",
       "1  POLYGON ((26.42248 9.32281, 26.42248 11.29955,...   \n",
       "2  POLYGON ((34.53971 -70.83667, 34.53971 -69.101...   \n",
       "3  POLYGON ((173.13634 -65.81346, 173.13634 -64.1...   \n",
       "4  POLYGON ((135.94789 12.84035, 135.94789 14.170...   \n",
       "\n",
       "                                     id  \n",
       "0  7f4dff84-d1b5-4f2c-bf65-77102679ed3b  \n",
       "1  38dd1028-22a7-48a8-b549-b2b371a3fd64  \n",
       "2  e228399c-7167-4951-84b6-6d7b28ef5979  \n",
       "3  5db7eab1-eb05-4986-986b-e5686d582bea  \n",
       "4  624b76ae-a2ac-45d5-b42e-688e897bec9b  "
      ]
     },
     "execution_count": 194,
     "metadata": {},
     "output_type": "execute_result"
    }
   ],
   "source": [
    "prev_month_blobs.head()"
   ]
  },
  {
   "cell_type": "code",
   "execution_count": 195,
   "metadata": {},
   "outputs": [
    {
     "data": {
      "text/html": [
       "<div>\n",
       "<style scoped>\n",
       "    .dataframe tbody tr th:only-of-type {\n",
       "        vertical-align: middle;\n",
       "    }\n",
       "\n",
       "    .dataframe tbody tr th {\n",
       "        vertical-align: top;\n",
       "    }\n",
       "\n",
       "    .dataframe thead th {\n",
       "        text-align: right;\n",
       "    }\n",
       "</style>\n",
       "<table border=\"1\" class=\"dataframe\">\n",
       "  <thead>\n",
       "    <tr style=\"text-align: right;\">\n",
       "      <th></th>\n",
       "      <th>geometry</th>\n",
       "      <th>id</th>\n",
       "    </tr>\n",
       "  </thead>\n",
       "  <tbody>\n",
       "    <tr>\n",
       "      <th>0</th>\n",
       "      <td>POLYGON ((4.28622 46.11889, 4.28622 47.52923, ...</td>\n",
       "      <td>e09e5f03-4d65-4ac2-baee-0fe57e8f9291</td>\n",
       "    </tr>\n",
       "    <tr>\n",
       "      <th>1</th>\n",
       "      <td>POLYGON ((-173.38761 -68.51772, -173.38761 -66...</td>\n",
       "      <td>1bbbfaac-489f-462a-a855-2cdd7498d016</td>\n",
       "    </tr>\n",
       "    <tr>\n",
       "      <th>2</th>\n",
       "      <td>POLYGON ((-31.44297 15.05155, -31.44297 16.136...</td>\n",
       "      <td>021ecc97-941c-4213-b2c1-d000d8296be8</td>\n",
       "    </tr>\n",
       "    <tr>\n",
       "      <th>3</th>\n",
       "      <td>POLYGON ((61.63457 -29.41362, 61.63457 -27.670...</td>\n",
       "      <td>2e815754-6f99-41ea-a35e-17e78855539a</td>\n",
       "    </tr>\n",
       "    <tr>\n",
       "      <th>4</th>\n",
       "      <td>POLYGON ((109.58164 25.28846, 109.58164 26.892...</td>\n",
       "      <td>7eade105-5c06-49ff-b128-e7213142da05</td>\n",
       "    </tr>\n",
       "  </tbody>\n",
       "</table>\n",
       "</div>"
      ],
      "text/plain": [
       "                                            geometry  \\\n",
       "0  POLYGON ((4.28622 46.11889, 4.28622 47.52923, ...   \n",
       "1  POLYGON ((-173.38761 -68.51772, -173.38761 -66...   \n",
       "2  POLYGON ((-31.44297 15.05155, -31.44297 16.136...   \n",
       "3  POLYGON ((61.63457 -29.41362, 61.63457 -27.670...   \n",
       "4  POLYGON ((109.58164 25.28846, 109.58164 26.892...   \n",
       "\n",
       "                                     id  \n",
       "0  e09e5f03-4d65-4ac2-baee-0fe57e8f9291  \n",
       "1  1bbbfaac-489f-462a-a855-2cdd7498d016  \n",
       "2  021ecc97-941c-4213-b2c1-d000d8296be8  \n",
       "3  2e815754-6f99-41ea-a35e-17e78855539a  \n",
       "4  7eade105-5c06-49ff-b128-e7213142da05  "
      ]
     },
     "execution_count": 195,
     "metadata": {},
     "output_type": "execute_result"
    }
   ],
   "source": [
    "curr_month_blobs.head()"
   ]
  },
  {
   "cell_type": "code",
   "execution_count": 196,
   "metadata": {},
   "outputs": [],
   "source": [
    "# make data folder\n",
    "Path('data/').mkdir(exist_ok=True)\n",
    "\n",
    "# save as geoparquet\n",
    "prev_month_blobs.to_parquet('data/prev_month_blobs.parquet')\n",
    "curr_month_blobs.to_parquet('data/curr_month_blobs.parquet')"
   ]
  },
  {
   "cell_type": "code",
   "execution_count": 197,
   "metadata": {},
   "outputs": [
    {
     "data": {
      "image/png": "[encoded data removed]",
      "text/plain": [
       "<Figure size 500x500 with 1 Axes>"
      ]
     },
     "metadata": {},
     "output_type": "display_data"
    }
   ],
   "source": [
    "range_ = 100\n",
    "\n",
    "fig, ax = plt.subplots(figsize=(5, 5))\n",
    "prev_month_blobs.iloc[0:range_].plot(ax=ax)\n",
    "ax.set_title(f'Viewing the first {range_} blobs')\n",
    "plt.tight_layout()\n",
    "\n",
    "plt.show()"
   ]
  },
  {
   "cell_type": "markdown",
   "metadata": {},
   "source": [
    "## Non-optimized process"
   ]
  },
  {
   "cell_type": "markdown",
   "metadata": {},
   "source": [
    "### 1. Data encoding, storage, and fetching"
   ]
  },
  {
   "cell_type": "markdown",
   "metadata": {},
   "source": [
    "We will use PostgreSQL and string storage for geographic information."
   ]
  },
  {
   "cell_type": "markdown",
   "metadata": {},
   "source": [
    "#### Make copy of polygon layer and convert to non-geospatial-native string (WKT) datatype"
   ]
  },
  {
   "cell_type": "code",
   "execution_count": 198,
   "metadata": {},
   "outputs": [],
   "source": [
    "# copy the gdfs\n",
    "prev_month_blobs_wkt = prev_month_blobs.copy()\n",
    "curr_month_blobs_wkt = curr_month_blobs.copy()"
   ]
  },
  {
   "cell_type": "code",
   "execution_count": 199,
   "metadata": {},
   "outputs": [
    {
     "name": "stdout",
     "output_type": "stream",
     "text": [
      "Function `convert_col_to_string` executed in 0.0471 sec, CPU: 13.50%, Memory: 0.00MB\n",
      "Function `convert_col_to_string` executed in 0.0461 sec, CPU: 23.70%, Memory: 0.00MB\n",
      "                                            geometry  \\\n",
      "0  POLYGON ((-67.777368 59.484217, -67.777368 60....   \n",
      "1  POLYGON ((26.422479 9.322808, 26.422479 11.299...   \n",
      "2  POLYGON ((34.539713 -70.836672, 34.539713 -69....   \n",
      "3  POLYGON ((173.136338 -65.813461, 173.136338 -6...   \n",
      "4  POLYGON ((135.94789 12.840354, 135.94789 14.17...   \n",
      "\n",
      "                                     id  \n",
      "0  7f4dff84-d1b5-4f2c-bf65-77102679ed3b  \n",
      "1  38dd1028-22a7-48a8-b549-b2b371a3fd64  \n",
      "2  e228399c-7167-4951-84b6-6d7b28ef5979  \n",
      "3  5db7eab1-eb05-4986-986b-e5686d582bea  \n",
      "4  624b76ae-a2ac-45d5-b42e-688e897bec9b  \n"
     ]
    },
    {
     "name": "stderr",
     "output_type": "stream",
     "text": [
      "/Users/sra/files/projects/matching_optimization/helpers.py:148: UserWarning: Geometry column does not contain geometry.\n",
      "  def df_itertuple(df: gpd.GeoDataFrame):\n",
      "/Users/sra/files/projects/matching_optimization/helpers.py:148: UserWarning: Geometry column does not contain geometry.\n",
      "  def df_itertuple(df: gpd.GeoDataFrame):\n"
     ]
    }
   ],
   "source": [
    "# Convert WKT versions to strings\n",
    "dfs_to_convert = [prev_month_blobs_wkt, curr_month_blobs_wkt]\n",
    "prev_month_blobs_wkt, curr_month_blobs_wkt = [h.convert_col_to_string(df) for df in dfs_to_convert]\n",
    "\n",
    "# Check result\n",
    "print(prev_month_blobs_wkt.head())"
   ]
  },
  {
   "cell_type": "markdown",
   "metadata": {},
   "source": [
    "### Save in PostgreSQL database"
   ]
  },
  {
   "cell_type": "markdown",
   "metadata": {},
   "source": [
    "This is a simple version of what a \"non-geospatial-native\" data ingestion pipeline may look like, with the primary example being that the polygons are stored as strings, not in a spatial-friendly datatype."
   ]
  },
  {
   "cell_type": "code",
   "execution_count": 200,
   "metadata": {},
   "outputs": [
    {
     "name": "stdout",
     "output_type": "stream",
     "text": [
      "Function `df_itertuple` executed in 0.0019 sec, CPU: 0.00%, Memory: 0.00MB\n",
      "Function `df_itertuple` executed in 0.0012 sec, CPU: 0.00%, Memory: 0.00MB\n"
     ]
    }
   ],
   "source": [
    "# Convert to tuples\n",
    "prev_month_blobs_wkt = h.df_itertuple(prev_month_blobs_wkt)\n",
    "curr_month_blobs_wkt = h.df_itertuple(curr_month_blobs_wkt)"
   ]
  },
  {
   "cell_type": "markdown",
   "metadata": {},
   "source": [
    "Create PostgreSQL database if it doesn't exist already. We will be using the default settings. If they need to be adjusted, refer to [`helpers.py`](helpers.py)."
   ]
  },
  {
   "cell_type": "code",
   "execution_count": 201,
   "metadata": {},
   "outputs": [
    {
     "name": "stdout",
     "output_type": "stream",
     "text": [
      "Database blob_matching already exists.\n",
      "Function `create_pg_db` executed in 0.0308 sec, CPU: 0.00%, Memory: 0.00MB\n"
     ]
    }
   ],
   "source": [
    "h.create_pg_db()"
   ]
  },
  {
   "cell_type": "markdown",
   "metadata": {},
   "source": [
    "Create and insert into tables:"
   ]
  },
  {
   "cell_type": "code",
   "execution_count": 202,
   "metadata": {},
   "outputs": [
    {
     "name": "stdout",
     "output_type": "stream",
     "text": [
      "Table prev_blobs_wkt truncated.\n",
      "Inserted 10000 records into prev_blobs_wkt.\n",
      "Function `create_pg_table` executed in 0.3939 sec, CPU: 0.00%, Memory: 0.00MB\n",
      "Table curr_blobs_wkt truncated.\n",
      "Inserted 10000 records into curr_blobs_wkt.\n",
      "Function `create_pg_table` executed in 0.4047 sec, CPU: 41.30%, Memory: 126.31MB\n"
     ]
    }
   ],
   "source": [
    "h.create_pg_table(table_name='prev_blobs_wkt', data=prev_month_blobs_wkt, truncate=True)\n",
    "h.create_pg_table(table_name='curr_blobs_wkt', data=curr_month_blobs_wkt, truncate=True)"
   ]
  },
  {
   "cell_type": "markdown",
   "metadata": {},
   "source": [
    "Retrieve data as GeoDataFrames to confirm that it worked:"
   ]
  },
  {
   "cell_type": "code",
   "execution_count": 203,
   "metadata": {},
   "outputs": [
    {
     "name": "stdout",
     "output_type": "stream",
     "text": [
      "Retrieved 10000 records from prev_blobs_wkt.\n",
      "Function `retrieve_pg_table` executed in 0.0471 sec, CPU: 29.40%, Memory: 0.00MB\n",
      "Retrieved 10000 records from curr_blobs_wkt.\n",
      "Function `retrieve_pg_table` executed in 0.0404 sec, CPU: 9.00%, Memory: 0.00MB\n"
     ]
    }
   ],
   "source": [
    "df_prev = h.retrieve_pg_table(table_name='prev_blobs_wkt')\n",
    "df_curr = h.retrieve_pg_table(table_name='curr_blobs_wkt')"
   ]
  },
  {
   "cell_type": "markdown",
   "metadata": {},
   "source": [
    "Compare the tables before and after for a sanity check:"
   ]
  },
  {
   "cell_type": "code",
   "execution_count": 204,
   "metadata": {},
   "outputs": [
    {
     "data": {
      "text/html": [
       "<div>\n",
       "<style scoped>\n",
       "    .dataframe tbody tr th:only-of-type {\n",
       "        vertical-align: middle;\n",
       "    }\n",
       "\n",
       "    .dataframe tbody tr th {\n",
       "        vertical-align: top;\n",
       "    }\n",
       "\n",
       "    .dataframe thead th {\n",
       "        text-align: right;\n",
       "    }\n",
       "</style>\n",
       "<table border=\"1\" class=\"dataframe\">\n",
       "  <thead>\n",
       "    <tr style=\"text-align: right;\">\n",
       "      <th></th>\n",
       "      <th>geometry</th>\n",
       "      <th>id</th>\n",
       "    </tr>\n",
       "  </thead>\n",
       "  <tbody>\n",
       "    <tr>\n",
       "      <th>0</th>\n",
       "      <td>POLYGON ((-67.777368 59.484217, -67.777368 60....</td>\n",
       "      <td>7f4dff84-d1b5-4f2c-bf65-77102679ed3b</td>\n",
       "    </tr>\n",
       "    <tr>\n",
       "      <th>1</th>\n",
       "      <td>POLYGON ((26.422479 9.322808, 26.422479 11.299...</td>\n",
       "      <td>38dd1028-22a7-48a8-b549-b2b371a3fd64</td>\n",
       "    </tr>\n",
       "    <tr>\n",
       "      <th>2</th>\n",
       "      <td>POLYGON ((34.539713 -70.836672, 34.539713 -69....</td>\n",
       "      <td>e228399c-7167-4951-84b6-6d7b28ef5979</td>\n",
       "    </tr>\n",
       "    <tr>\n",
       "      <th>3</th>\n",
       "      <td>POLYGON ((173.136338 -65.813461, 173.136338 -6...</td>\n",
       "      <td>5db7eab1-eb05-4986-986b-e5686d582bea</td>\n",
       "    </tr>\n",
       "    <tr>\n",
       "      <th>4</th>\n",
       "      <td>POLYGON ((135.94789 12.840354, 135.94789 14.17...</td>\n",
       "      <td>624b76ae-a2ac-45d5-b42e-688e897bec9b</td>\n",
       "    </tr>\n",
       "  </tbody>\n",
       "</table>\n",
       "</div>"
      ],
      "text/plain": [
       "                                            geometry  \\\n",
       "0  POLYGON ((-67.777368 59.484217, -67.777368 60....   \n",
       "1  POLYGON ((26.422479 9.322808, 26.422479 11.299...   \n",
       "2  POLYGON ((34.539713 -70.836672, 34.539713 -69....   \n",
       "3  POLYGON ((173.136338 -65.813461, 173.136338 -6...   \n",
       "4  POLYGON ((135.94789 12.840354, 135.94789 14.17...   \n",
       "\n",
       "                                     id  \n",
       "0  7f4dff84-d1b5-4f2c-bf65-77102679ed3b  \n",
       "1  38dd1028-22a7-48a8-b549-b2b371a3fd64  \n",
       "2  e228399c-7167-4951-84b6-6d7b28ef5979  \n",
       "3  5db7eab1-eb05-4986-986b-e5686d582bea  \n",
       "4  624b76ae-a2ac-45d5-b42e-688e897bec9b  "
      ]
     },
     "execution_count": 204,
     "metadata": {},
     "output_type": "execute_result"
    }
   ],
   "source": [
    "df_prev.head()"
   ]
  },
  {
   "cell_type": "code",
   "execution_count": 209,
   "metadata": {},
   "outputs": [
    {
     "data": {
      "text/html": [
       "<div>\n",
       "<style scoped>\n",
       "    .dataframe tbody tr th:only-of-type {\n",
       "        vertical-align: middle;\n",
       "    }\n",
       "\n",
       "    .dataframe tbody tr th {\n",
       "        vertical-align: top;\n",
       "    }\n",
       "\n",
       "    .dataframe thead th {\n",
       "        text-align: right;\n",
       "    }\n",
       "</style>\n",
       "<table border=\"1\" class=\"dataframe\">\n",
       "  <thead>\n",
       "    <tr style=\"text-align: right;\">\n",
       "      <th></th>\n",
       "      <th>geometry</th>\n",
       "      <th>id</th>\n",
       "    </tr>\n",
       "  </thead>\n",
       "  <tbody>\n",
       "    <tr>\n",
       "      <th>0</th>\n",
       "      <td>POLYGON ((-67.77737 59.48422, -67.77737 60.922...</td>\n",
       "      <td>7f4dff84-d1b5-4f2c-bf65-77102679ed3b</td>\n",
       "    </tr>\n",
       "    <tr>\n",
       "      <th>1</th>\n",
       "      <td>POLYGON ((26.42248 9.32281, 26.42248 11.29955,...</td>\n",
       "      <td>38dd1028-22a7-48a8-b549-b2b371a3fd64</td>\n",
       "    </tr>\n",
       "    <tr>\n",
       "      <th>2</th>\n",
       "      <td>POLYGON ((34.53971 -70.83667, 34.53971 -69.101...</td>\n",
       "      <td>e228399c-7167-4951-84b6-6d7b28ef5979</td>\n",
       "    </tr>\n",
       "    <tr>\n",
       "      <th>3</th>\n",
       "      <td>POLYGON ((173.13634 -65.81346, 173.13634 -64.1...</td>\n",
       "      <td>5db7eab1-eb05-4986-986b-e5686d582bea</td>\n",
       "    </tr>\n",
       "    <tr>\n",
       "      <th>4</th>\n",
       "      <td>POLYGON ((135.94789 12.84035, 135.94789 14.170...</td>\n",
       "      <td>624b76ae-a2ac-45d5-b42e-688e897bec9b</td>\n",
       "    </tr>\n",
       "  </tbody>\n",
       "</table>\n",
       "</div>"
      ],
      "text/plain": [
       "                                            geometry  \\\n",
       "0  POLYGON ((-67.77737 59.48422, -67.77737 60.922...   \n",
       "1  POLYGON ((26.42248 9.32281, 26.42248 11.29955,...   \n",
       "2  POLYGON ((34.53971 -70.83667, 34.53971 -69.101...   \n",
       "3  POLYGON ((173.13634 -65.81346, 173.13634 -64.1...   \n",
       "4  POLYGON ((135.94789 12.84035, 135.94789 14.170...   \n",
       "\n",
       "                                     id  \n",
       "0  7f4dff84-d1b5-4f2c-bf65-77102679ed3b  \n",
       "1  38dd1028-22a7-48a8-b549-b2b371a3fd64  \n",
       "2  e228399c-7167-4951-84b6-6d7b28ef5979  \n",
       "3  5db7eab1-eb05-4986-986b-e5686d582bea  \n",
       "4  624b76ae-a2ac-45d5-b42e-688e897bec9b  "
      ]
     },
     "execution_count": 209,
     "metadata": {},
     "output_type": "execute_result"
    }
   ],
   "source": [
    "prev_month_blobs.head()"
   ]
  },
  {
   "cell_type": "code",
   "execution_count": 211,
   "metadata": {},
   "outputs": [
    {
     "name": "stdout",
     "output_type": "stream",
     "text": [
      "Number of matching geometries: 10000\n",
      "Missing geometries in retrieved table: 0\n",
      "Extra geometries in retrieved table: 0\n"
     ]
    }
   ],
   "source": [
    "def round_geometry(geom, precision=6):\n",
    "    \"\"\"Round all coordinates of a geometry to a given precision.\"\"\"\n",
    "    return shapely.wkt.loads(shapely.wkt.dumps(geom, rounding_precision=precision))\n",
    "\n",
    "# Convert both to sets of rounded WKT strings\n",
    "set_prev_month_blobs = set(prev_month_blobs['geometry'].apply(lambda g: round_geometry(g, precision=6).wkt))\n",
    "set_df_prev = set(df_prev['geometry'].apply(lambda g: round_geometry(g, precision=6).wkt))\n",
    "\n",
    "# Find common, missing, and extra geometries\n",
    "common_geometries = set_prev_month_blobs & set_df_prev\n",
    "missing_from_retrieved = set_prev_month_blobs - set_df_prev\n",
    "extra_in_retrieved = set_df_prev - set_prev_month_blobs\n",
    "\n",
    "# Print summary\n",
    "print(f\"Number of matching geometries: {len(common_geometries)}\")\n",
    "print(f\"Missing geometries in retrieved table: {len(missing_from_retrieved)}\")\n",
    "print(f\"Extra geometries in retrieved table: {len(extra_in_retrieved)}\")\n",
    "\n",
    "# Show an example missing/extra geometry for debugging\n",
    "if missing_from_retrieved:\n",
    "    print(\"Example missing record:\", next(iter(missing_from_retrieved)))\n",
    "\n",
    "if extra_in_retrieved:\n",
    "    print(\"Example extra record:\", next(iter(extra_in_retrieved)))"
   ]
  },
  {
   "cell_type": "markdown",
   "metadata": {},
   "source": [
    "### 2. Matching"
   ]
  },
  {
   "cell_type": "markdown",
   "metadata": {},
   "source": [
    "We will match the polygons using GeoPandas."
   ]
  },
  {
   "cell_type": "code",
   "execution_count": null,
   "metadata": {},
   "outputs": [],
   "source": []
  },
  {
   "cell_type": "code",
   "execution_count": null,
   "metadata": {},
   "outputs": [],
   "source": []
  },
  {
   "cell_type": "markdown",
   "metadata": {},
   "source": [
    "Baseline - Polygon Matching Only"
   ]
  },
  {
   "cell_type": "markdown",
   "metadata": {},
   "source": []
  },
  {
   "cell_type": "code",
   "execution_count": null,
   "metadata": {},
   "outputs": [],
   "source": []
  },
  {
   "cell_type": "code",
   "execution_count": null,
   "metadata": {},
   "outputs": [],
   "source": []
  },
  {
   "cell_type": "markdown",
   "metadata": {},
   "source": [
    "geohash polygon into a larger region\n",
    "match blobs using multiprocessing (mp.Process) and geopandas\n",
    "find blobs from previous month that do not have a match\n",
    "\n",
    "# 1 imports and setup\n",
    "\n",
    "```python\n",
    "import os, sys, traceback\n",
    "import argparse\n",
    "import cv2\n",
    "import time\n",
    "import numpy as np\n",
    "import pandas as pd\n",
    "import geopandas as gpd\n",
    "from skimage import io, color, measure\n",
    "from tqdm import tqdm\n",
    "from shapely import wkt\n",
    "from shapely.geometry import Point, Polygon\n",
    "from shapely.validation import make_valid\n",
    "import PIL\n",
    "from PIL import Image, ImageDraw, ImageEnhance\n",
    "import uuid\n",
    "import multiprocessing as mp\n",
    "from datetime import datetime\n",
    "from sqlalchemy import or_\n",
    "from sqlmodel import SQLModel, Session, create_engine, select\n",
    "from pathlib import Path\n",
    "```\n",
    "\n",
    "## Key takeaways\n",
    "- Uses Pandas and GeoPandas for data processing.\n",
    "- Uses Shapely for geospatial geometry operations.\n",
    "- Uses multiprocessing (mp) to parallelize the blob-matching process.\n",
    "- Uses SQLAlchemy and SQLModel for database operations.\n",
    "\n",
    "# 2 High-level script overview\n",
    "The script is designed to match blobs (spatial objects) between two months and classify them into different business categories.\n",
    "\n",
    "General Workflow\n",
    "1. Fetch blobs from the previous and current months.\n",
    "1. Convert the region of interest (state, city, county, or geohash) into a list of geohashes.\n",
    "1. Parallelized Matching Process:\n",
    "1. Process multiple geohashes at once using multiprocessing.\n",
    "1. Find corresponding blobs from previous months for each geohash.\n",
    "1. Classify blobs based on construction stage progression.\n",
    "1. Identify blobs that are missing in the current month and \"impute\" them.\n",
    "1. Save results into the database.\n",
    "\n",
    "# 3 Blob classification logic\n",
    "\n",
    "# 4 Blob matching\n",
    "\n",
    "- Matches blobs between months using polygon intersections.\n",
    "- Uses Shapely to validate geometries and check for overlaps.\n",
    "- Returns matched blob IDs.\n",
    "\n",
    "## Multiprocessing Optimization\n",
    "The script parallelizes blob matching by:\n",
    "- Uses multiprocessing (mp.Process) to divide the dataset into smaller batches.\n",
    "- Each batch of blobs is processed in parallel.\n",
    "- Reduces runtime compared to a single-threaded approach.\n",
    "\n",
    "# 5 Handling unmatched blobs\n",
    "- Finds blobs from the previous month that do not have a match in the current month.\n",
    "- These blobs are \"imputed\", meaning they are carried over into the new month.\n",
    "\n",
    "# 6 Main class to orchestrate process\n",
    "- Loads previous and current month blobs.\n",
    "- Converts input regions (state, city, county) into geohashes.\n",
    "\n",
    "# Summary\n",
    "- Parallel processing is used to match blobs.\n",
    "- Blobs are classified based on construction stages.\n",
    "- Unmatched blobs are imputed for continuity.\n",
    "- The script writes results to a database."
   ]
  },
  {
   "cell_type": "markdown",
   "metadata": {},
   "source": []
  }
 ],
 "metadata": {
  "kernelspec": {
   "display_name": "geo",
   "language": "python",
   "name": "python3"
  },
  "language_info": {
   "codemirror_mode": {
    "name": "ipython",
    "version": 3
   },
   "file_extension": ".py",
   "mimetype": "text/x-python",
   "name": "python",
   "nbconvert_exporter": "python",
   "pygments_lexer": "ipython3",
   "version": "3.11.8"
  }
 },
 "nbformat": 4,
 "nbformat_minor": 2
}
