{
 "cells": [
  {
   "cell_type": "markdown",
   "metadata": {},
   "source": [
    "# Geospatial Matching Optimization"
   ]
  },
  {
   "cell_type": "markdown",
   "metadata": {},
   "source": [
    "This project is designed to showcase how to improve the speed of a polygon matching procedure. There are two main areas that could benefit from taking a \"geospatial-native\" approach:\n",
    "\n",
    "1. Data encoding, fetching, and storage\n",
    "2. Matching\n",
    "\n",
    "We will generate synthetic polygon data and use both a non-geospatial-native and geospatial-native approach, comparing execution time for both to see how they differ."
   ]
  },
  {
   "cell_type": "markdown",
   "metadata": {},
   "source": [
    "## Imports"
   ]
  },
  {
   "cell_type": "code",
   "execution_count": 64,
   "metadata": {},
   "outputs": [
    {
     "data": {
      "text/plain": [
       "<module 'helpers' from '/Users/sra/files/projects/matching_optimization/helpers.py'>"
      ]
     },
     "execution_count": 64,
     "metadata": {},
     "output_type": "execute_result"
    }
   ],
   "source": [
    "import geopandas as gpd\n",
    "import pandas as pd\n",
    "import shapely\n",
    "import h3\n",
    "import time\n",
    "import helpers as h\n",
    "import matplotlib.pyplot as plt\n",
    "import matplotlib.gridspec as gridspec\n",
    "from shapely.wkt import dumps, loads\n",
    "from pathlib import Path\n",
    "import multiprocessing as mp\n",
    "import datetime\n",
    "import psycopg2\n",
    "from psycopg2 import sql, extras\n",
    "import random\n",
    "\n",
    "# ensure helpers is loaded correctly\n",
    "import importlib\n",
    "importlib.reload(h)"
   ]
  },
  {
   "cell_type": "markdown",
   "metadata": {},
   "source": [
    "## Retrieve Generated Test Data"
   ]
  },
  {
   "cell_type": "code",
   "execution_count": 27,
   "metadata": {},
   "outputs": [],
   "source": [
    "prev_month_blobs = gpd.read_parquet('data/prev_month_blobs.parquet')\n",
    "curr_month_blobs = gpd.read_parquet('data/curr_month_blobs.parquet')"
   ]
  },
  {
   "cell_type": "code",
   "execution_count": null,
   "metadata": {},
   "outputs": [],
   "source": [
    "# save to geojson to confirm in QGIS\n",
    "blobs_geojson = Path('data/prev_month_blobs.geojson')\n",
    "if not blobs_geojson.is_file():\n",
    "    prev_month_blobs.to_file('data/prev_month_blobs.geojson')\n",
    "    curr_month_blobs.to_file('data/curr_month_blobs.geojson')"
   ]
  },
  {
   "cell_type": "code",
   "execution_count": 29,
   "metadata": {},
   "outputs": [
    {
     "data": {
      "text/html": [
       "<div>\n",
       "<style scoped>\n",
       "    .dataframe tbody tr th:only-of-type {\n",
       "        vertical-align: middle;\n",
       "    }\n",
       "\n",
       "    .dataframe tbody tr th {\n",
       "        vertical-align: top;\n",
       "    }\n",
       "\n",
       "    .dataframe thead th {\n",
       "        text-align: right;\n",
       "    }\n",
       "</style>\n",
       "<table border=\"1\" class=\"dataframe\">\n",
       "  <thead>\n",
       "    <tr style=\"text-align: right;\">\n",
       "      <th></th>\n",
       "      <th>geometry</th>\n",
       "      <th>id</th>\n",
       "      <th>geohash</th>\n",
       "    </tr>\n",
       "  </thead>\n",
       "  <tbody>\n",
       "    <tr>\n",
       "      <th>0</th>\n",
       "      <td>POLYGON ((-81.24892 26.99815, -81.15941 26.998...</td>\n",
       "      <td>b8b6bdb0-998e-4908-abb6-009bc4a35984</td>\n",
       "      <td>dhy3b1su</td>\n",
       "    </tr>\n",
       "    <tr>\n",
       "      <th>1</th>\n",
       "      <td>POLYGON ((-80.90317 27.54858, -80.88212 27.548...</td>\n",
       "      <td>8a2bad09-d800-4e21-b1c9-90bf6bd6cdfc</td>\n",
       "      <td>dhykznxy</td>\n",
       "    </tr>\n",
       "    <tr>\n",
       "      <th>2</th>\n",
       "      <td>POLYGON ((-82.10523 27.80206, -82.01715 27.802...</td>\n",
       "      <td>4612d125-703e-4649-a9b6-8def8bb6cf9a</td>\n",
       "      <td>dhvwkdsz</td>\n",
       "    </tr>\n",
       "    <tr>\n",
       "      <th>3</th>\n",
       "      <td>POLYGON ((-81.73651 28.74404, -81.64225 28.744...</td>\n",
       "      <td>ef540d66-6724-437e-937f-e30589b85ca0</td>\n",
       "      <td>djjgtn7s</td>\n",
       "    </tr>\n",
       "    <tr>\n",
       "      <th>4</th>\n",
       "      <td>POLYGON ((-81.44636 28.78946, -81.37684 28.789...</td>\n",
       "      <td>6c9e8a2a-62d7-4c88-bcbd-b741ee3dcc63</td>\n",
       "      <td>djn5gqjg</td>\n",
       "    </tr>\n",
       "  </tbody>\n",
       "</table>\n",
       "</div>"
      ],
      "text/plain": [
       "                                            geometry  \\\n",
       "0  POLYGON ((-81.24892 26.99815, -81.15941 26.998...   \n",
       "1  POLYGON ((-80.90317 27.54858, -80.88212 27.548...   \n",
       "2  POLYGON ((-82.10523 27.80206, -82.01715 27.802...   \n",
       "3  POLYGON ((-81.73651 28.74404, -81.64225 28.744...   \n",
       "4  POLYGON ((-81.44636 28.78946, -81.37684 28.789...   \n",
       "\n",
       "                                     id   geohash  \n",
       "0  b8b6bdb0-998e-4908-abb6-009bc4a35984  dhy3b1su  \n",
       "1  8a2bad09-d800-4e21-b1c9-90bf6bd6cdfc  dhykznxy  \n",
       "2  4612d125-703e-4649-a9b6-8def8bb6cf9a  dhvwkdsz  \n",
       "3  ef540d66-6724-437e-937f-e30589b85ca0  djjgtn7s  \n",
       "4  6c9e8a2a-62d7-4c88-bcbd-b741ee3dcc63  djn5gqjg  "
      ]
     },
     "execution_count": 29,
     "metadata": {},
     "output_type": "execute_result"
    }
   ],
   "source": [
    "prev_month_blobs.head()"
   ]
  },
  {
   "cell_type": "code",
   "execution_count": 30,
   "metadata": {},
   "outputs": [
    {
     "data": {
      "text/html": [
       "<div>\n",
       "<style scoped>\n",
       "    .dataframe tbody tr th:only-of-type {\n",
       "        vertical-align: middle;\n",
       "    }\n",
       "\n",
       "    .dataframe tbody tr th {\n",
       "        vertical-align: top;\n",
       "    }\n",
       "\n",
       "    .dataframe thead th {\n",
       "        text-align: right;\n",
       "    }\n",
       "</style>\n",
       "<table border=\"1\" class=\"dataframe\">\n",
       "  <thead>\n",
       "    <tr style=\"text-align: right;\">\n",
       "      <th></th>\n",
       "      <th>geometry</th>\n",
       "      <th>id</th>\n",
       "      <th>geohash</th>\n",
       "    </tr>\n",
       "  </thead>\n",
       "  <tbody>\n",
       "    <tr>\n",
       "      <th>0</th>\n",
       "      <td>POLYGON ((-81.24892 26.99815, -81.15941 26.998...</td>\n",
       "      <td>b8b6bdb0-998e-4908-abb6-009bc4a35984</td>\n",
       "      <td>dhy3b1su</td>\n",
       "    </tr>\n",
       "    <tr>\n",
       "      <th>1</th>\n",
       "      <td>POLYGON ((-80.90317 27.54858, -80.88212 27.548...</td>\n",
       "      <td>8a2bad09-d800-4e21-b1c9-90bf6bd6cdfc</td>\n",
       "      <td>dhykznxy</td>\n",
       "    </tr>\n",
       "    <tr>\n",
       "      <th>2</th>\n",
       "      <td>POLYGON ((-82.10523 27.80206, -82.01715 27.802...</td>\n",
       "      <td>4612d125-703e-4649-a9b6-8def8bb6cf9a</td>\n",
       "      <td>dhvwkdsz</td>\n",
       "    </tr>\n",
       "    <tr>\n",
       "      <th>3</th>\n",
       "      <td>POLYGON ((-81.73651 28.74404, -81.64225 28.744...</td>\n",
       "      <td>ef540d66-6724-437e-937f-e30589b85ca0</td>\n",
       "      <td>djjgtn7s</td>\n",
       "    </tr>\n",
       "    <tr>\n",
       "      <th>4</th>\n",
       "      <td>POLYGON ((-81.44636 28.78946, -81.37684 28.789...</td>\n",
       "      <td>6c9e8a2a-62d7-4c88-bcbd-b741ee3dcc63</td>\n",
       "      <td>djn5gqjg</td>\n",
       "    </tr>\n",
       "  </tbody>\n",
       "</table>\n",
       "</div>"
      ],
      "text/plain": [
       "                                            geometry  \\\n",
       "0  POLYGON ((-81.24892 26.99815, -81.15941 26.998...   \n",
       "1  POLYGON ((-80.90317 27.54858, -80.88212 27.548...   \n",
       "2  POLYGON ((-82.10523 27.80206, -82.01715 27.802...   \n",
       "3  POLYGON ((-81.73651 28.74404, -81.64225 28.744...   \n",
       "4  POLYGON ((-81.44636 28.78946, -81.37684 28.789...   \n",
       "\n",
       "                                     id   geohash  \n",
       "0  b8b6bdb0-998e-4908-abb6-009bc4a35984  dhy3b1su  \n",
       "1  8a2bad09-d800-4e21-b1c9-90bf6bd6cdfc  dhykznxy  \n",
       "2  4612d125-703e-4649-a9b6-8def8bb6cf9a  dhvwkdsz  \n",
       "3  ef540d66-6724-437e-937f-e30589b85ca0  djjgtn7s  \n",
       "4  6c9e8a2a-62d7-4c88-bcbd-b741ee3dcc63  djn5gqjg  "
      ]
     },
     "execution_count": 30,
     "metadata": {},
     "output_type": "execute_result"
    }
   ],
   "source": [
    "prev_month_blobs = prev_month_blobs[['geometry', 'id', 'geohash']]\n",
    "prev_month_blobs.head()"
   ]
  },
  {
   "cell_type": "code",
   "execution_count": 31,
   "metadata": {},
   "outputs": [
    {
     "data": {
      "text/html": [
       "<div>\n",
       "<style scoped>\n",
       "    .dataframe tbody tr th:only-of-type {\n",
       "        vertical-align: middle;\n",
       "    }\n",
       "\n",
       "    .dataframe tbody tr th {\n",
       "        vertical-align: top;\n",
       "    }\n",
       "\n",
       "    .dataframe thead th {\n",
       "        text-align: right;\n",
       "    }\n",
       "</style>\n",
       "<table border=\"1\" class=\"dataframe\">\n",
       "  <thead>\n",
       "    <tr style=\"text-align: right;\">\n",
       "      <th></th>\n",
       "      <th>geometry</th>\n",
       "      <th>id</th>\n",
       "      <th>geohash</th>\n",
       "    </tr>\n",
       "  </thead>\n",
       "  <tbody>\n",
       "    <tr>\n",
       "      <th>0</th>\n",
       "      <td>POLYGON ((-80.87950 26.53661, -80.79580 26.536...</td>\n",
       "      <td>dd3750ec-fdb2-412d-9b23-c68c9e7eb5d9</td>\n",
       "      <td>dhwx0qpy</td>\n",
       "    </tr>\n",
       "    <tr>\n",
       "      <th>1</th>\n",
       "      <td>POLYGON ((-81.11957 27.01777, -81.07988 27.017...</td>\n",
       "      <td>9be1cf44-f76a-4ffc-a4e4-c8419a1014a5</td>\n",
       "      <td>dhy3fe2b</td>\n",
       "    </tr>\n",
       "    <tr>\n",
       "      <th>2</th>\n",
       "      <td>POLYGON ((-81.67003 27.44011, -81.61018 27.440...</td>\n",
       "      <td>00342c39-8dcc-4c49-bb8b-24cbdbaca92c</td>\n",
       "      <td>dhvunjrr</td>\n",
       "    </tr>\n",
       "    <tr>\n",
       "      <th>3</th>\n",
       "      <td>POLYGON ((-82.13686 28.15220, -82.10178 28.152...</td>\n",
       "      <td>e551b336-dc67-4d55-a565-c4c7b6f407d0</td>\n",
       "      <td>djj85r48</td>\n",
       "    </tr>\n",
       "    <tr>\n",
       "      <th>4</th>\n",
       "      <td>POLYGON ((-81.95672 29.69183, -81.88506 29.691...</td>\n",
       "      <td>0485c6ef-8d5a-4606-939c-45f7810f1e5c</td>\n",
       "      <td>djm9pg7h</td>\n",
       "    </tr>\n",
       "  </tbody>\n",
       "</table>\n",
       "</div>"
      ],
      "text/plain": [
       "                                            geometry  \\\n",
       "0  POLYGON ((-80.87950 26.53661, -80.79580 26.536...   \n",
       "1  POLYGON ((-81.11957 27.01777, -81.07988 27.017...   \n",
       "2  POLYGON ((-81.67003 27.44011, -81.61018 27.440...   \n",
       "3  POLYGON ((-82.13686 28.15220, -82.10178 28.152...   \n",
       "4  POLYGON ((-81.95672 29.69183, -81.88506 29.691...   \n",
       "\n",
       "                                     id   geohash  \n",
       "0  dd3750ec-fdb2-412d-9b23-c68c9e7eb5d9  dhwx0qpy  \n",
       "1  9be1cf44-f76a-4ffc-a4e4-c8419a1014a5  dhy3fe2b  \n",
       "2  00342c39-8dcc-4c49-bb8b-24cbdbaca92c  dhvunjrr  \n",
       "3  e551b336-dc67-4d55-a565-c4c7b6f407d0  djj85r48  \n",
       "4  0485c6ef-8d5a-4606-939c-45f7810f1e5c  djm9pg7h  "
      ]
     },
     "execution_count": 31,
     "metadata": {},
     "output_type": "execute_result"
    }
   ],
   "source": [
    "curr_month_blobs = curr_month_blobs[['geometry', 'id', 'geohash']]\n",
    "curr_month_blobs.head()"
   ]
  },
  {
   "cell_type": "code",
   "execution_count": 32,
   "metadata": {},
   "outputs": [],
   "source": [
    "# make data folder\n",
    "Path('data/').mkdir(exist_ok=True)\n",
    "\n",
    "# save as geoparquet\n",
    "prev_month_blobs.to_parquet('data/prev_month_blobs.parquet')\n",
    "curr_month_blobs.to_parquet('data/curr_month_blobs.parquet')"
   ]
  },
  {
   "cell_type": "code",
   "execution_count": 33,
   "metadata": {},
   "outputs": [],
   "source": [
    "# range_ = 10000\n",
    "\n",
    "# fig, ax = plt.subplots(figsize=(5, 5))\n",
    "# prev_month_blobs.iloc[0:range_].plot(ax=ax)\n",
    "# ax.set_title(f'Viewing the first {range_} blobs')\n",
    "# plt.tight_layout()\n",
    "\n",
    "# plt.show()"
   ]
  },
  {
   "cell_type": "code",
   "execution_count": 34,
   "metadata": {},
   "outputs": [
    {
     "data": {
      "text/html": [
       "<div>\n",
       "<style scoped>\n",
       "    .dataframe tbody tr th:only-of-type {\n",
       "        vertical-align: middle;\n",
       "    }\n",
       "\n",
       "    .dataframe tbody tr th {\n",
       "        vertical-align: top;\n",
       "    }\n",
       "\n",
       "    .dataframe thead th {\n",
       "        text-align: right;\n",
       "    }\n",
       "</style>\n",
       "<table border=\"1\" class=\"dataframe\">\n",
       "  <thead>\n",
       "    <tr style=\"text-align: right;\">\n",
       "      <th></th>\n",
       "      <th>geometry</th>\n",
       "      <th>id</th>\n",
       "      <th>geohash</th>\n",
       "    </tr>\n",
       "  </thead>\n",
       "  <tbody>\n",
       "    <tr>\n",
       "      <th>0</th>\n",
       "      <td>POLYGON ((-81.24892 26.99815, -81.15941 26.998...</td>\n",
       "      <td>b8b6bdb0-998e-4908-abb6-009bc4a35984</td>\n",
       "      <td>dhy3b1su</td>\n",
       "    </tr>\n",
       "    <tr>\n",
       "      <th>1</th>\n",
       "      <td>POLYGON ((-80.90317 27.54858, -80.88212 27.548...</td>\n",
       "      <td>8a2bad09-d800-4e21-b1c9-90bf6bd6cdfc</td>\n",
       "      <td>dhykznxy</td>\n",
       "    </tr>\n",
       "    <tr>\n",
       "      <th>2</th>\n",
       "      <td>POLYGON ((-82.10523 27.80206, -82.01715 27.802...</td>\n",
       "      <td>4612d125-703e-4649-a9b6-8def8bb6cf9a</td>\n",
       "      <td>dhvwkdsz</td>\n",
       "    </tr>\n",
       "    <tr>\n",
       "      <th>3</th>\n",
       "      <td>POLYGON ((-81.73651 28.74404, -81.64225 28.744...</td>\n",
       "      <td>ef540d66-6724-437e-937f-e30589b85ca0</td>\n",
       "      <td>djjgtn7s</td>\n",
       "    </tr>\n",
       "    <tr>\n",
       "      <th>4</th>\n",
       "      <td>POLYGON ((-81.44636 28.78946, -81.37684 28.789...</td>\n",
       "      <td>6c9e8a2a-62d7-4c88-bcbd-b741ee3dcc63</td>\n",
       "      <td>djn5gqjg</td>\n",
       "    </tr>\n",
       "  </tbody>\n",
       "</table>\n",
       "</div>"
      ],
      "text/plain": [
       "                                            geometry  \\\n",
       "0  POLYGON ((-81.24892 26.99815, -81.15941 26.998...   \n",
       "1  POLYGON ((-80.90317 27.54858, -80.88212 27.548...   \n",
       "2  POLYGON ((-82.10523 27.80206, -82.01715 27.802...   \n",
       "3  POLYGON ((-81.73651 28.74404, -81.64225 28.744...   \n",
       "4  POLYGON ((-81.44636 28.78946, -81.37684 28.789...   \n",
       "\n",
       "                                     id   geohash  \n",
       "0  b8b6bdb0-998e-4908-abb6-009bc4a35984  dhy3b1su  \n",
       "1  8a2bad09-d800-4e21-b1c9-90bf6bd6cdfc  dhykznxy  \n",
       "2  4612d125-703e-4649-a9b6-8def8bb6cf9a  dhvwkdsz  \n",
       "3  ef540d66-6724-437e-937f-e30589b85ca0  djjgtn7s  \n",
       "4  6c9e8a2a-62d7-4c88-bcbd-b741ee3dcc63  djn5gqjg  "
      ]
     },
     "execution_count": 34,
     "metadata": {},
     "output_type": "execute_result"
    }
   ],
   "source": [
    "prev_month_blobs.head()"
   ]
  },
  {
   "cell_type": "markdown",
   "metadata": {},
   "source": [
    "## 1. Non-optimized process"
   ]
  },
  {
   "cell_type": "markdown",
   "metadata": {},
   "source": [
    "### 1.1. Data encoding, storage, and fetching"
   ]
  },
  {
   "cell_type": "markdown",
   "metadata": {},
   "source": [
    "We will use PostgreSQL and string storage for geographic information."
   ]
  },
  {
   "cell_type": "markdown",
   "metadata": {},
   "source": [
    "#### Make copy of polygon layer and convert to non-geospatial-native string (WKT) datatype"
   ]
  },
  {
   "cell_type": "code",
   "execution_count": 35,
   "metadata": {},
   "outputs": [],
   "source": [
    "# copy the gdfs\n",
    "prev_month_blobs_wkt = prev_month_blobs.copy()\n",
    "curr_month_blobs_wkt = curr_month_blobs.copy()"
   ]
  },
  {
   "cell_type": "code",
   "execution_count": 36,
   "metadata": {},
   "outputs": [
    {
     "name": "stdout",
     "output_type": "stream",
     "text": [
      "Function `convert_col_to_string` executed in 0.0097 sec, CPU: 23.70%, Memory: 0.12MB\n",
      "Function `convert_col_to_string` executed in 0.0064 sec, CPU: 50.00%, Memory: 0.30MB\n",
      "                                            geometry  \\\n",
      "0  POLYGON ((-81.24892 26.998154, -81.159413 26.9...   \n",
      "1  POLYGON ((-80.903174 27.548584, -80.882124 27....   \n",
      "2  POLYGON ((-82.105227 27.802065, -82.017149 27....   \n",
      "3  POLYGON ((-81.736515 28.744041, -81.642248 28....   \n",
      "4  POLYGON ((-81.44636 28.789463, -81.376842 28.7...   \n",
      "\n",
      "                                     id   geohash  \n",
      "0  b8b6bdb0-998e-4908-abb6-009bc4a35984  dhy3b1su  \n",
      "1  8a2bad09-d800-4e21-b1c9-90bf6bd6cdfc  dhykznxy  \n",
      "2  4612d125-703e-4649-a9b6-8def8bb6cf9a  dhvwkdsz  \n",
      "3  ef540d66-6724-437e-937f-e30589b85ca0  djjgtn7s  \n",
      "4  6c9e8a2a-62d7-4c88-bcbd-b741ee3dcc63  djn5gqjg  \n"
     ]
    },
    {
     "name": "stderr",
     "output_type": "stream",
     "text": [
      "/Users/sra/files/projects/matching_optimization/helpers.py:408: UserWarning: Geometry column does not contain geometry.\n",
      "  df[col] = df[col].apply(lambda geom: to_wkt(geom) if isinstance(geom, BaseGeometry) else str(geom))\n",
      "/Users/sra/files/projects/matching_optimization/helpers.py:408: UserWarning: Geometry column does not contain geometry.\n",
      "  df[col] = df[col].apply(lambda geom: to_wkt(geom) if isinstance(geom, BaseGeometry) else str(geom))\n"
     ]
    }
   ],
   "source": [
    "# Convert WKT versions to strings\n",
    "dfs_to_convert = [prev_month_blobs_wkt, curr_month_blobs_wkt]\n",
    "prev_month_blobs_wkt, curr_month_blobs_wkt = [h.convert_col_to_string(df) for df in dfs_to_convert]\n",
    "\n",
    "# Check result\n",
    "print(prev_month_blobs_wkt.head())"
   ]
  },
  {
   "cell_type": "markdown",
   "metadata": {},
   "source": [
    "#### Save in PostgreSQL database"
   ]
  },
  {
   "cell_type": "markdown",
   "metadata": {},
   "source": [
    "This is a simple version of what a \"non-geospatial-native\" data ingestion pipeline may look like, with the primary example being that the polygons are stored as strings, not in a spatial-friendly datatype."
   ]
  },
  {
   "cell_type": "code",
   "execution_count": 37,
   "metadata": {},
   "outputs": [
    {
     "name": "stdout",
     "output_type": "stream",
     "text": [
      "Function `df_itertuple` executed in 0.0002 sec, CPU: 100.00%, Memory: 0.00MB\n",
      "Function `df_itertuple` executed in 0.0003 sec, CPU: 0.00%, Memory: 0.02MB\n"
     ]
    }
   ],
   "source": [
    "# Convert to tuples\n",
    "prev_month_blobs_wkt = h.df_itertuple(prev_month_blobs_wkt)\n",
    "curr_month_blobs_wkt = h.df_itertuple(curr_month_blobs_wkt)"
   ]
  },
  {
   "cell_type": "markdown",
   "metadata": {},
   "source": [
    "Create PostgreSQL database if it doesn't exist already. We will be using the default settings. If they need to be adjusted, refer to [`helpers.py`](helpers.py)."
   ]
  },
  {
   "cell_type": "code",
   "execution_count": 38,
   "metadata": {},
   "outputs": [
    {
     "name": "stdout",
     "output_type": "stream",
     "text": [
      "Database blob_matching already exists.\n",
      "Function `create_pg_db` executed in 0.0290 sec, CPU: 0.00%, Memory: 0.30MB\n"
     ]
    }
   ],
   "source": [
    "h.create_pg_db()"
   ]
  },
  {
   "cell_type": "markdown",
   "metadata": {},
   "source": [
    "Create and insert into tables:"
   ]
  },
  {
   "cell_type": "code",
   "execution_count": 39,
   "metadata": {},
   "outputs": [
    {
     "data": {
      "text/html": [
       "<div>\n",
       "<style scoped>\n",
       "    .dataframe tbody tr th:only-of-type {\n",
       "        vertical-align: middle;\n",
       "    }\n",
       "\n",
       "    .dataframe tbody tr th {\n",
       "        vertical-align: top;\n",
       "    }\n",
       "\n",
       "    .dataframe thead th {\n",
       "        text-align: right;\n",
       "    }\n",
       "</style>\n",
       "<table border=\"1\" class=\"dataframe\">\n",
       "  <thead>\n",
       "    <tr style=\"text-align: right;\">\n",
       "      <th></th>\n",
       "      <th>geometry</th>\n",
       "      <th>id</th>\n",
       "      <th>geohash</th>\n",
       "    </tr>\n",
       "  </thead>\n",
       "  <tbody>\n",
       "    <tr>\n",
       "      <th>0</th>\n",
       "      <td>POLYGON ((-81.24892 26.99815, -81.15941 26.998...</td>\n",
       "      <td>b8b6bdb0-998e-4908-abb6-009bc4a35984</td>\n",
       "      <td>dhy3b1su</td>\n",
       "    </tr>\n",
       "  </tbody>\n",
       "</table>\n",
       "</div>"
      ],
      "text/plain": [
       "                                            geometry  \\\n",
       "0  POLYGON ((-81.24892 26.99815, -81.15941 26.998...   \n",
       "\n",
       "                                     id   geohash  \n",
       "0  b8b6bdb0-998e-4908-abb6-009bc4a35984  dhy3b1su  "
      ]
     },
     "execution_count": 39,
     "metadata": {},
     "output_type": "execute_result"
    }
   ],
   "source": [
    "prev_month_blobs.head(1)"
   ]
  },
  {
   "cell_type": "code",
   "execution_count": 40,
   "metadata": {},
   "outputs": [
    {
     "data": {
      "text/plain": [
       "('POLYGON ((-81.24892 26.998154, -81.159413 26.998154, -81.159413 27.072767, -81.24892 27.072767, -81.24892 26.998154))',\n",
       " 'b8b6bdb0-998e-4908-abb6-009bc4a35984',\n",
       " 'dhy3b1su')"
      ]
     },
     "execution_count": 40,
     "metadata": {},
     "output_type": "execute_result"
    }
   ],
   "source": [
    "prev_month_blobs_wkt[0]"
   ]
  },
  {
   "cell_type": "code",
   "execution_count": 41,
   "metadata": {},
   "outputs": [
    {
     "name": "stdout",
     "output_type": "stream",
     "text": [
      "Table prev_blobs_wkt truncated.\n",
      "Inserted 1000 records into prev_blobs_wkt.\n",
      "Function `create_pg_table` executed in 0.0708 sec, CPU: 0.00%, Memory: 0.00MB\n",
      "Table curr_blobs_wkt truncated.\n",
      "Inserted 1000 records into curr_blobs_wkt.\n",
      "Function `create_pg_table` executed in 0.0434 sec, CPU: 0.00%, Memory: 0.00MB\n"
     ]
    }
   ],
   "source": [
    "h.create_pg_table(table_name='prev_blobs_wkt', data=prev_month_blobs_wkt, truncate=True)\n",
    "h.create_pg_table(table_name='curr_blobs_wkt', data=curr_month_blobs_wkt, truncate=True)"
   ]
  },
  {
   "cell_type": "markdown",
   "metadata": {},
   "source": [
    "Retrieve data as GeoDataFrames to confirm that it worked:"
   ]
  },
  {
   "cell_type": "code",
   "execution_count": 42,
   "metadata": {},
   "outputs": [
    {
     "name": "stdout",
     "output_type": "stream",
     "text": [
      "Retrieved 1000 records from prev_blobs_wkt.\n",
      "Function `retrieve_pg_table` executed in 0.0111 sec, CPU: 0.00%, Memory: 0.00MB\n",
      "Retrieved 1000 records from curr_blobs_wkt.\n",
      "Function `retrieve_pg_table` executed in 0.0074 sec, CPU: 0.00%, Memory: 0.00MB\n"
     ]
    }
   ],
   "source": [
    "df_prev = h.retrieve_pg_table(table_name='prev_blobs_wkt')\n",
    "df_curr = h.retrieve_pg_table(table_name='curr_blobs_wkt')"
   ]
  },
  {
   "cell_type": "markdown",
   "metadata": {},
   "source": [
    "Compare the tables before and after for a sanity check:"
   ]
  },
  {
   "cell_type": "code",
   "execution_count": 43,
   "metadata": {},
   "outputs": [
    {
     "data": {
      "text/html": [
       "<div>\n",
       "<style scoped>\n",
       "    .dataframe tbody tr th:only-of-type {\n",
       "        vertical-align: middle;\n",
       "    }\n",
       "\n",
       "    .dataframe tbody tr th {\n",
       "        vertical-align: top;\n",
       "    }\n",
       "\n",
       "    .dataframe thead th {\n",
       "        text-align: right;\n",
       "    }\n",
       "</style>\n",
       "<table border=\"1\" class=\"dataframe\">\n",
       "  <thead>\n",
       "    <tr style=\"text-align: right;\">\n",
       "      <th></th>\n",
       "      <th>geometry</th>\n",
       "      <th>id</th>\n",
       "      <th>geohash</th>\n",
       "    </tr>\n",
       "  </thead>\n",
       "  <tbody>\n",
       "    <tr>\n",
       "      <th>0</th>\n",
       "      <td>POLYGON ((-81.24892 26.998154, -81.159413 26.9...</td>\n",
       "      <td>b8b6bdb0-998e-4908-abb6-009bc4a35984</td>\n",
       "      <td>dhy3b1su</td>\n",
       "    </tr>\n",
       "    <tr>\n",
       "      <th>1</th>\n",
       "      <td>POLYGON ((-80.903174 27.548584, -80.882124 27....</td>\n",
       "      <td>8a2bad09-d800-4e21-b1c9-90bf6bd6cdfc</td>\n",
       "      <td>dhykznxy</td>\n",
       "    </tr>\n",
       "    <tr>\n",
       "      <th>2</th>\n",
       "      <td>POLYGON ((-82.105227 27.802065, -82.017149 27....</td>\n",
       "      <td>4612d125-703e-4649-a9b6-8def8bb6cf9a</td>\n",
       "      <td>dhvwkdsz</td>\n",
       "    </tr>\n",
       "    <tr>\n",
       "      <th>3</th>\n",
       "      <td>POLYGON ((-81.736515 28.744041, -81.642248 28....</td>\n",
       "      <td>ef540d66-6724-437e-937f-e30589b85ca0</td>\n",
       "      <td>djjgtn7s</td>\n",
       "    </tr>\n",
       "    <tr>\n",
       "      <th>4</th>\n",
       "      <td>POLYGON ((-81.44636 28.789463, -81.376842 28.7...</td>\n",
       "      <td>6c9e8a2a-62d7-4c88-bcbd-b741ee3dcc63</td>\n",
       "      <td>djn5gqjg</td>\n",
       "    </tr>\n",
       "  </tbody>\n",
       "</table>\n",
       "</div>"
      ],
      "text/plain": [
       "                                            geometry  \\\n",
       "0  POLYGON ((-81.24892 26.998154, -81.159413 26.9...   \n",
       "1  POLYGON ((-80.903174 27.548584, -80.882124 27....   \n",
       "2  POLYGON ((-82.105227 27.802065, -82.017149 27....   \n",
       "3  POLYGON ((-81.736515 28.744041, -81.642248 28....   \n",
       "4  POLYGON ((-81.44636 28.789463, -81.376842 28.7...   \n",
       "\n",
       "                                     id   geohash  \n",
       "0  b8b6bdb0-998e-4908-abb6-009bc4a35984  dhy3b1su  \n",
       "1  8a2bad09-d800-4e21-b1c9-90bf6bd6cdfc  dhykznxy  \n",
       "2  4612d125-703e-4649-a9b6-8def8bb6cf9a  dhvwkdsz  \n",
       "3  ef540d66-6724-437e-937f-e30589b85ca0  djjgtn7s  \n",
       "4  6c9e8a2a-62d7-4c88-bcbd-b741ee3dcc63  djn5gqjg  "
      ]
     },
     "execution_count": 43,
     "metadata": {},
     "output_type": "execute_result"
    }
   ],
   "source": [
    "df_prev.head()"
   ]
  },
  {
   "cell_type": "code",
   "execution_count": 44,
   "metadata": {},
   "outputs": [
    {
     "data": {
      "text/html": [
       "<div>\n",
       "<style scoped>\n",
       "    .dataframe tbody tr th:only-of-type {\n",
       "        vertical-align: middle;\n",
       "    }\n",
       "\n",
       "    .dataframe tbody tr th {\n",
       "        vertical-align: top;\n",
       "    }\n",
       "\n",
       "    .dataframe thead th {\n",
       "        text-align: right;\n",
       "    }\n",
       "</style>\n",
       "<table border=\"1\" class=\"dataframe\">\n",
       "  <thead>\n",
       "    <tr style=\"text-align: right;\">\n",
       "      <th></th>\n",
       "      <th>geometry</th>\n",
       "      <th>id</th>\n",
       "      <th>geohash</th>\n",
       "    </tr>\n",
       "  </thead>\n",
       "  <tbody>\n",
       "    <tr>\n",
       "      <th>0</th>\n",
       "      <td>POLYGON ((-81.24892 26.99815, -81.15941 26.998...</td>\n",
       "      <td>b8b6bdb0-998e-4908-abb6-009bc4a35984</td>\n",
       "      <td>dhy3b1su</td>\n",
       "    </tr>\n",
       "    <tr>\n",
       "      <th>1</th>\n",
       "      <td>POLYGON ((-80.90317 27.54858, -80.88212 27.548...</td>\n",
       "      <td>8a2bad09-d800-4e21-b1c9-90bf6bd6cdfc</td>\n",
       "      <td>dhykznxy</td>\n",
       "    </tr>\n",
       "    <tr>\n",
       "      <th>2</th>\n",
       "      <td>POLYGON ((-82.10523 27.80206, -82.01715 27.802...</td>\n",
       "      <td>4612d125-703e-4649-a9b6-8def8bb6cf9a</td>\n",
       "      <td>dhvwkdsz</td>\n",
       "    </tr>\n",
       "    <tr>\n",
       "      <th>3</th>\n",
       "      <td>POLYGON ((-81.73651 28.74404, -81.64225 28.744...</td>\n",
       "      <td>ef540d66-6724-437e-937f-e30589b85ca0</td>\n",
       "      <td>djjgtn7s</td>\n",
       "    </tr>\n",
       "    <tr>\n",
       "      <th>4</th>\n",
       "      <td>POLYGON ((-81.44636 28.78946, -81.37684 28.789...</td>\n",
       "      <td>6c9e8a2a-62d7-4c88-bcbd-b741ee3dcc63</td>\n",
       "      <td>djn5gqjg</td>\n",
       "    </tr>\n",
       "  </tbody>\n",
       "</table>\n",
       "</div>"
      ],
      "text/plain": [
       "                                            geometry  \\\n",
       "0  POLYGON ((-81.24892 26.99815, -81.15941 26.998...   \n",
       "1  POLYGON ((-80.90317 27.54858, -80.88212 27.548...   \n",
       "2  POLYGON ((-82.10523 27.80206, -82.01715 27.802...   \n",
       "3  POLYGON ((-81.73651 28.74404, -81.64225 28.744...   \n",
       "4  POLYGON ((-81.44636 28.78946, -81.37684 28.789...   \n",
       "\n",
       "                                     id   geohash  \n",
       "0  b8b6bdb0-998e-4908-abb6-009bc4a35984  dhy3b1su  \n",
       "1  8a2bad09-d800-4e21-b1c9-90bf6bd6cdfc  dhykznxy  \n",
       "2  4612d125-703e-4649-a9b6-8def8bb6cf9a  dhvwkdsz  \n",
       "3  ef540d66-6724-437e-937f-e30589b85ca0  djjgtn7s  \n",
       "4  6c9e8a2a-62d7-4c88-bcbd-b741ee3dcc63  djn5gqjg  "
      ]
     },
     "execution_count": 44,
     "metadata": {},
     "output_type": "execute_result"
    }
   ],
   "source": [
    "prev_month_blobs.head()"
   ]
  },
  {
   "cell_type": "markdown",
   "metadata": {},
   "source": [
    "Confirm that the original blob dfs and the retrieved dfs are the same:"
   ]
  },
  {
   "cell_type": "code",
   "execution_count": 45,
   "metadata": {},
   "outputs": [
    {
     "name": "stdout",
     "output_type": "stream",
     "text": [
      "Number of matching geometries: 1000\n",
      "Missing geometries in retrieved table: 0\n",
      "Extra geometries in retrieved table: 0\n"
     ]
    }
   ],
   "source": [
    "def round_geometry(geom, precision=6):\n",
    "    \"\"\"Round all coordinates of a geometry to a given precision.\"\"\"\n",
    "    return shapely.wkt.loads(shapely.wkt.dumps(geom, rounding_precision=precision))\n",
    "\n",
    "# Convert both to sets of rounded WKT strings\n",
    "set_prev_month_blobs = set(prev_month_blobs['geometry'].apply(lambda g: round_geometry(g, precision=6).wkt))\n",
    "set_df_prev = set(df_prev['geometry'].apply(lambda g: round_geometry(g, precision=6).wkt))\n",
    "\n",
    "# Find common, missing, and extra geometries\n",
    "common_geometries = set_prev_month_blobs & set_df_prev\n",
    "missing_from_retrieved = set_prev_month_blobs - set_df_prev\n",
    "extra_in_retrieved = set_df_prev - set_prev_month_blobs\n",
    "\n",
    "# Print summary\n",
    "print(f\"Number of matching geometries: {len(common_geometries)}\")\n",
    "print(f\"Missing geometries in retrieved table: {len(missing_from_retrieved)}\")\n",
    "print(f\"Extra geometries in retrieved table: {len(extra_in_retrieved)}\")\n",
    "\n",
    "# Show an example missing/extra geometry for debugging\n",
    "if missing_from_retrieved:\n",
    "    print(\"Example missing record:\", next(iter(missing_from_retrieved)))\n",
    "\n",
    "if extra_in_retrieved:\n",
    "    print(\"Example extra record:\", next(iter(extra_in_retrieved)))"
   ]
  },
  {
   "cell_type": "markdown",
   "metadata": {},
   "source": [
    "It worked! Now we can proceed to \"matching\" any \"previous\" polygons that overlap with the \"current\" polygons."
   ]
  },
  {
   "cell_type": "markdown",
   "metadata": {},
   "source": [
    "### 1.2. Matching"
   ]
  },
  {
   "cell_type": "markdown",
   "metadata": {},
   "source": [
    "We will match the polygons using GeoPandas."
   ]
  },
  {
   "cell_type": "code",
   "execution_count": 46,
   "metadata": {},
   "outputs": [
    {
     "name": "stdout",
     "output_type": "stream",
     "text": [
      "Start time: 2025-03-02 15:29:07.592578\n",
      "Table matched_results created successfully.\n",
      "Total batches to process: 1\n",
      "Dispatched batch 1/1 (100.0% complete)\n",
      "Waiting for process 10648 to finish.\n",
      "match_geometries: 10% of rows processed, 0 matches found\n",
      "match_geometries: 20% of rows processed, 2 matches found\n",
      "match_geometries: 30% of rows processed, 3 matches found\n",
      "match_geometries: 40% of rows processed, 5 matches found\n",
      "match_geometries: 50% of rows processed, 6 matches found\n",
      "match_geometries: 60% of rows processed, 9 matches found\n",
      "match_geometries: 70% of rows processed, 10 matches found\n",
      "match_geometries: 80% of rows processed, 10 matches found\n",
      "match_geometries: 90% of rows processed, 11 matches found\n",
      "match_geometries: 100% of rows processed, 12 matches found\n",
      "Logging listener has shut down.\n",
      "Function `run_parallel_matching` executed in 21.5779 sec, CPU: 36.50%, Memory: 191.14MB\n",
      "End time: 2025-03-02 15:29:29.171485\n",
      "Total time: 0:00:21.578907\n"
     ]
    }
   ],
   "source": [
    "start = datetime.datetime.now()\n",
    "print('Start time:', start)\n",
    "postgresql_details = h.pg_details()\n",
    "h.run_parallel_matching(table_prev='prev_blobs_wkt', \n",
    "                        table_curr='curr_blobs_wkt', \n",
    "                        output_table='matched_results', \n",
    "                        postgresql_details=postgresql_details, \n",
    "                        db_name='blob_matching', \n",
    "                        num_workers=5,\n",
    "                        verbose=2)\n",
    "end = datetime.datetime.now()\n",
    "print('End time:', end)\n",
    "print('Total time:', end - start)"
   ]
  },
  {
   "cell_type": "code",
   "execution_count": 47,
   "metadata": {},
   "outputs": [],
   "source": [
    "# # testing logging for matching_geometries\n",
    "# df_prev = h._retrieve_pg_table(postgresql_details, 'blob_matching', \"prev_blobs_wkt\")#, log_enabled=True)\n",
    "# df_curr = h._retrieve_pg_table(postgresql_details, 'blob_matching', \"curr_blobs_wkt\")#, log_enabled=True)\n",
    "\n",
    "# # Use a small subset for testing\n",
    "# # df_prev_sample = df_prev.sample(10, random_state=42)\n",
    "# # df_curr_sample = df_curr.sample(10, random_state=42)\n",
    "\n",
    "# # h.match_geometries(df_prev_sample, df_curr_sample)  # Check if this logs matches\n",
    "# h.match_geometries(df_prev, df_curr)  # Check if this logs matches"
   ]
  },
  {
   "cell_type": "markdown",
   "metadata": {},
   "source": [
    "Confirm that the postgres matching table has the same number of matches:"
   ]
  },
  {
   "cell_type": "code",
   "execution_count": 48,
   "metadata": {},
   "outputs": [
    {
     "name": "stdout",
     "output_type": "stream",
     "text": [
      "Total matches in matched_results: 12\n",
      "Function `retrieve_pg_table` executed in 0.0051 sec, CPU: 28.60%, Memory: 0.00MB\n"
     ]
    }
   ],
   "source": [
    "count = h.retrieve_pg_table(table_name='matched_results', count=True)"
   ]
  },
  {
   "cell_type": "code",
   "execution_count": 49,
   "metadata": {},
   "outputs": [
    {
     "name": "stdout",
     "output_type": "stream",
     "text": [
      "Converted logs/timing_results.csv to logs/timing_results.parquet\n",
      "Converted logs/timing.log to logs/timing_log.parquet\n",
      "Done.\n"
     ]
    }
   ],
   "source": [
    "# save log files as .parquet\n",
    "h.convert_logs_to_parquet(csv_path=Path('logs/timing_results.csv'),\n",
    "                          log_path=Path('logs/timing.log'))\n",
    "print('Done.')"
   ]
  },
  {
   "cell_type": "markdown",
   "metadata": {},
   "source": [
    "View the overall polygon layers and then some subplots with locations of the matched polygons:"
   ]
  },
  {
   "cell_type": "code",
   "execution_count": null,
   "metadata": {},
   "outputs": [
    {
     "name": "stdout",
     "output_type": "stream",
     "text": [
      "Retrieved 1000 records from prev_blobs_wkt.\n",
      "Function `retrieve_pg_table` executed in 0.0344 sec, CPU: 44.00%, Memory: 58.86MB\n",
      "Retrieved 1000 records from curr_blobs_wkt.\n",
      "Function `retrieve_pg_table` executed in 0.0143 sec, CPU: 0.00%, Memory: 17.41MB\n",
      "Retrieved 12 records from matched_results.\n"
     ]
    },
    {
     "name": "stderr",
     "output_type": "stream",
     "text": [
      "/var/folders/n3/q8wb235x57n_sx2q14dsngjr0000gn/T/ipykernel_8427/3701104119.py:47: UserWarning: Legend does not support handles for PatchCollection instances.\n",
      "See: https://matplotlib.org/stable/tutorials/intermediate/legend_guide.html#implementing-a-custom-legend-handler\n",
      "  ax_main.legend()\n",
      "/var/folders/n3/q8wb235x57n_sx2q14dsngjr0000gn/T/ipykernel_8427/3701104119.py:47: UserWarning: No artists with labels found to put in legend.  Note that artists whose label start with an underscore are ignored when legend() is called with no argument.\n",
      "  ax_main.legend()\n"
     ]
    },
    {
     "ename": "IndexError",
     "evalue": "index 4 is out of bounds for axis 1 with size 4",
     "output_type": "error",
     "traceback": [
      "\u001b[0;31m---------------------------------------------------------------------------\u001b[0m",
      "\u001b[0;31mIndexError\u001b[0m                                Traceback (most recent call last)",
      "Cell \u001b[0;32mIn[71], line 51\u001b[0m\n\u001b[1;32m     49\u001b[0m \u001b[38;5;66;03m# --- Zoomed-in Subplots (2nd and 3rd row) ---\u001b[39;00m\n\u001b[1;32m     50\u001b[0m \u001b[38;5;28;01mfor\u001b[39;00m i, (idx, row) \u001b[38;5;129;01min\u001b[39;00m \u001b[38;5;28menumerate\u001b[39m(sample_a\u001b[38;5;241m.\u001b[39miterrows()):\n\u001b[0;32m---> 51\u001b[0m     ax \u001b[38;5;241m=\u001b[39m plt\u001b[38;5;241m.\u001b[39msubplot(\u001b[43mgs\u001b[49m\u001b[43m[\u001b[49m\u001b[43m(\u001b[49m\u001b[43mi\u001b[49m\u001b[43m \u001b[49m\u001b[38;5;241;43m/\u001b[39;49m\u001b[38;5;241;43m/\u001b[39;49m\u001b[43m \u001b[49m\u001b[38;5;241;43m5\u001b[39;49m\u001b[43m)\u001b[49m\u001b[43m \u001b[49m\u001b[38;5;241;43m+\u001b[39;49m\u001b[43m \u001b[49m\u001b[38;5;241;43m1\u001b[39;49m\u001b[43m,\u001b[49m\u001b[43m \u001b[49m\u001b[43mi\u001b[49m\u001b[43m \u001b[49m\u001b[38;5;241;43m%\u001b[39;49m\u001b[43m \u001b[49m\u001b[38;5;241;43m5\u001b[39;49m\u001b[43m]\u001b[49m)  \u001b[38;5;66;03m# Distribute across rows 2 and 3\u001b[39;00m\n\u001b[1;32m     52\u001b[0m     subset_a \u001b[38;5;241m=\u001b[39m sample_a\u001b[38;5;241m.\u001b[39miloc[[i]]\n\u001b[1;32m     53\u001b[0m     subset_b \u001b[38;5;241m=\u001b[39m sample_b\u001b[38;5;241m.\u001b[39miloc[[i]]\n",
      "File \u001b[0;32m/Applications/Anaconda/anaconda3/envs/geo/lib/python3.11/site-packages/matplotlib/gridspec.py:242\u001b[0m, in \u001b[0;36mGridSpecBase.__getitem__\u001b[0;34m(self, key)\u001b[0m\n\u001b[1;32m    239\u001b[0m     \u001b[38;5;28;01mexcept\u001b[39;00m \u001b[38;5;167;01mValueError\u001b[39;00m \u001b[38;5;28;01mas\u001b[39;00m err:\n\u001b[1;32m    240\u001b[0m         \u001b[38;5;28;01mraise\u001b[39;00m \u001b[38;5;167;01mValueError\u001b[39;00m(\u001b[38;5;124m\"\u001b[39m\u001b[38;5;124mUnrecognized subplot spec\u001b[39m\u001b[38;5;124m\"\u001b[39m) \u001b[38;5;28;01mfrom\u001b[39;00m \u001b[38;5;21;01merr\u001b[39;00m\n\u001b[1;32m    241\u001b[0m     num1, num2 \u001b[38;5;241m=\u001b[39m np\u001b[38;5;241m.\u001b[39mravel_multi_index(\n\u001b[0;32m--> 242\u001b[0m         [_normalize(k1, nrows, \u001b[38;5;241m0\u001b[39m), \u001b[43m_normalize\u001b[49m\u001b[43m(\u001b[49m\u001b[43mk2\u001b[49m\u001b[43m,\u001b[49m\u001b[43m \u001b[49m\u001b[43mncols\u001b[49m\u001b[43m,\u001b[49m\u001b[43m \u001b[49m\u001b[38;5;241;43m1\u001b[39;49m\u001b[43m)\u001b[49m],\n\u001b[1;32m    243\u001b[0m         (nrows, ncols))\n\u001b[1;32m    244\u001b[0m \u001b[38;5;28;01melse\u001b[39;00m:  \u001b[38;5;66;03m# Single key\u001b[39;00m\n\u001b[1;32m    245\u001b[0m     num1, num2 \u001b[38;5;241m=\u001b[39m _normalize(key, nrows \u001b[38;5;241m*\u001b[39m ncols, \u001b[38;5;28;01mNone\u001b[39;00m)\n",
      "File \u001b[0;32m/Applications/Anaconda/anaconda3/envs/geo/lib/python3.11/site-packages/matplotlib/gridspec.py:230\u001b[0m, in \u001b[0;36mGridSpecBase.__getitem__.<locals>._normalize\u001b[0;34m(key, size, axis)\u001b[0m\n\u001b[1;32m    228\u001b[0m     \u001b[38;5;28;01mreturn\u001b[39;00m key, key\n\u001b[1;32m    229\u001b[0m \u001b[38;5;28;01melif\u001b[39;00m axis \u001b[38;5;129;01mis\u001b[39;00m \u001b[38;5;129;01mnot\u001b[39;00m \u001b[38;5;28;01mNone\u001b[39;00m:\n\u001b[0;32m--> 230\u001b[0m     \u001b[38;5;28;01mraise\u001b[39;00m \u001b[38;5;167;01mIndexError\u001b[39;00m(\u001b[38;5;124mf\u001b[39m\u001b[38;5;124m\"\u001b[39m\u001b[38;5;124mindex \u001b[39m\u001b[38;5;132;01m{\u001b[39;00morig_key\u001b[38;5;132;01m}\u001b[39;00m\u001b[38;5;124m is out of bounds for \u001b[39m\u001b[38;5;124m\"\u001b[39m\n\u001b[1;32m    231\u001b[0m                      \u001b[38;5;124mf\u001b[39m\u001b[38;5;124m\"\u001b[39m\u001b[38;5;124maxis \u001b[39m\u001b[38;5;132;01m{\u001b[39;00maxis\u001b[38;5;132;01m}\u001b[39;00m\u001b[38;5;124m with size \u001b[39m\u001b[38;5;132;01m{\u001b[39;00msize\u001b[38;5;132;01m}\u001b[39;00m\u001b[38;5;124m\"\u001b[39m)\n\u001b[1;32m    232\u001b[0m \u001b[38;5;28;01melse\u001b[39;00m:  \u001b[38;5;66;03m# flat index\u001b[39;00m\n\u001b[1;32m    233\u001b[0m     \u001b[38;5;28;01mraise\u001b[39;00m \u001b[38;5;167;01mIndexError\u001b[39;00m(\u001b[38;5;124mf\u001b[39m\u001b[38;5;124m\"\u001b[39m\u001b[38;5;124mindex \u001b[39m\u001b[38;5;132;01m{\u001b[39;00morig_key\u001b[38;5;132;01m}\u001b[39;00m\u001b[38;5;124m is out of bounds for \u001b[39m\u001b[38;5;124m\"\u001b[39m\n\u001b[1;32m    234\u001b[0m                      \u001b[38;5;124mf\u001b[39m\u001b[38;5;124m\"\u001b[39m\u001b[38;5;124mGridSpec with size \u001b[39m\u001b[38;5;132;01m{\u001b[39;00msize\u001b[38;5;132;01m}\u001b[39;00m\u001b[38;5;124m\"\u001b[39m)\n",
      "\u001b[0;31mIndexError\u001b[0m: index 4 is out of bounds for axis 1 with size 4"
     ]
    },
    {
     "data": {
      "image/png": "[encoded data removed]",
      "text/plain": [
       "<Figure size 1500x1400 with 5 Axes>"
      ]
     },
     "metadata": {},
     "output_type": "display_data"
    }
   ],
   "source": [
    "# Retrieve tables from PostgreSQL\n",
    "df_prev = h.retrieve_pg_table(table_name='prev_blobs_wkt')\n",
    "df_curr = h.retrieve_pg_table(table_name='curr_blobs_wkt')\n",
    "\n",
    "# Ensure they are GeoDataFrames\n",
    "df_prev = gpd.GeoDataFrame(df_prev, geometry='geometry', crs=\"EPSG:4326\")\n",
    "df_curr = gpd.GeoDataFrame(df_curr, geometry='geometry', crs=\"EPSG:4326\")\n",
    "\n",
    "# Retrieve matches table\n",
    "table_name = 'matched_results'\n",
    "postgresql_details['dbname'] = 'blob_matching'\n",
    "conn = psycopg2.connect(**postgresql_details)\n",
    "cur = conn.cursor()\n",
    "cur.execute(f\"SELECT prev_id, curr_id FROM {table_name};\")\n",
    "rows = cur.fetchall()\n",
    "cur.close()\n",
    "conn.close()\n",
    "\n",
    "# Convert matches to DataFrame\n",
    "matches = pd.DataFrame(rows, columns=[\"prev_id\", \"curr_id\"])\n",
    "print(f\"Retrieved {len(matches)} records from {table_name}.\")\n",
    "\n",
    "# Find matching polygons\n",
    "overlapping_a = df_prev[df_prev['id'].isin(matches['prev_id'])]\n",
    "overlapping_b = df_curr[df_curr['id'].isin(matches['curr_id'])]\n",
    "\n",
    "# Sample 10 overlapping polygons\n",
    "sample_size = min(10, len(overlapping_a))  # Ensure we don't sample more than available\n",
    "sample_indices = random.sample(range(len(overlapping_a)), sample_size)\n",
    "sample_a = overlapping_a.iloc[sample_indices]\n",
    "sample_b = overlapping_b.iloc[sample_indices]\n",
    "\n",
    "# Define figure layout with GridSpec\n",
    "fig = plt.figure(figsize=(15, 14))\n",
    "gs = gridspec.GridSpec(3, 4, height_ratios=[2, 1, 1], width_ratios=[1, 1, 1, 1])  \n",
    "\n",
    "# --- Main Plot: Initial Polygons ---\n",
    "ax_main = plt.subplot(gs[0, :])  # Top row spans all columns\n",
    "df_prev.plot(ax=ax_main, color='lightblue', edgecolor='black', alpha=0.5, label=\"Previous\", zorder=1)#, linewidth=5)\n",
    "df_curr.plot(ax=ax_main, color='lightgreen', edgecolor='black', alpha=0.5, label=\"Current\", zorder=1)#, linewidth=5)\n",
    "\n",
    "# Overlay highlighted sampled polygons with a thick outline\n",
    "sample_a.plot(ax=ax_main, color='none', edgecolor='yellow', linewidth=3, linestyle='dashed', label=\"Sampled Prev\", zorder=3)\n",
    "sample_b.plot(ax=ax_main, color='none', edgecolor='magenta', linewidth=3, linestyle='dashed', label=\"Sampled Curr\", zorder=3)\n",
    "\n",
    "ax_main.set_title(\"Initial Polygons (Sampled Polygons Highlighted)\")\n",
    "ax_main.legend()\n",
    "\n",
    "# --- Zoomed-in Subplots (2nd and 3rd row) ---\n",
    "for i, (idx, row) in enumerate(sample_a.iterrows()):\n",
    "    ax = plt.subplot(gs[(i // 5) + 1, i % 5])  # Distribute across rows 2 and 3\n",
    "    subset_a = sample_a.iloc[[i]]\n",
    "    subset_b = sample_b.iloc[[i]]\n",
    "\n",
    "    # Plot zoomed-in view\n",
    "    subset_a.plot(ax=ax, color=\"red\", edgecolor=\"black\", alpha=0.5)\n",
    "    subset_b.plot(ax=ax, color=\"orange\", edgecolor=\"black\", alpha=0.5)\n",
    "\n",
    "    # Adjust zoom\n",
    "    bounds = subset_a.geometry.bounds.values[0]  # Get bounding box\n",
    "    buffer = 0.01  # Add a small margin for better visualization\n",
    "    ax.set_xlim(bounds[0] - buffer, bounds[2] + buffer)\n",
    "    ax.set_ylim(bounds[1] - buffer, bounds[3] + buffer)\n",
    "\n",
    "    # Add ID as a title\n",
    "    ax.set_title(f\"ID: {row['id']}\", fontsize=9)\n",
    "    ax.set_xticks([])  # Remove x-axis labels\n",
    "    ax.set_yticks([])  # Remove y-axis labels\n",
    "\n",
    "# Adjust layout and show\n",
    "plt.tight_layout()\n",
    "plt.show()"
   ]
  },
  {
   "cell_type": "code",
   "execution_count": 65,
   "metadata": {},
   "outputs": [
    {
     "name": "stdout",
     "output_type": "stream",
     "text": [
      "Retrieved 1000 records from prev_blobs_wkt.\n",
      "Function `retrieve_pg_table` executed in 0.0363 sec, CPU: 32.10%, Memory: 35.23MB\n",
      "Retrieved 1000 records from curr_blobs_wkt.\n",
      "Function `retrieve_pg_table` executed in 0.0091 sec, CPU: 33.40%, Memory: 0.20MB\n",
      "Retrieved 15 records from matched_results.\n",
      "Retrieved 1000 records from prev_blobs_wkt.\n",
      "Function `retrieve_pg_table` executed in 0.0082 sec, CPU: 0.00%, Memory: 2.34MB\n",
      "Retrieved 1000 records from curr_blobs_wkt.\n",
      "Function `retrieve_pg_table` executed in 0.0080 sec, CPU: 0.00%, Memory: 0.00MB\n",
      "Retrieved 12 records from matched_results.\n"
     ]
    },
    {
     "ename": "IndexError",
     "evalue": "index 4 is out of bounds for axis 1 with size 4",
     "output_type": "error",
     "traceback": [
      "\u001b[0;31m---------------------------------------------------------------------------\u001b[0m",
      "\u001b[0;31mIndexError\u001b[0m                                Traceback (most recent call last)",
      "Cell \u001b[0;32mIn[65], line 73\u001b[0m\n\u001b[1;32m     71\u001b[0m \u001b[38;5;66;03m# --- Zoomed-in Subplots (Grid of 2 rows x 5 columns) ---\u001b[39;00m\n\u001b[1;32m     72\u001b[0m \u001b[38;5;28;01mfor\u001b[39;00m i, (idx, row) \u001b[38;5;129;01min\u001b[39;00m \u001b[38;5;28menumerate\u001b[39m(sample_a\u001b[38;5;241m.\u001b[39miterrows()):\n\u001b[0;32m---> 73\u001b[0m     ax \u001b[38;5;241m=\u001b[39m plt\u001b[38;5;241m.\u001b[39msubplot(\u001b[43mgs\u001b[49m\u001b[43m[\u001b[49m\u001b[43m(\u001b[49m\u001b[43mi\u001b[49m\u001b[43m \u001b[49m\u001b[38;5;241;43m/\u001b[39;49m\u001b[38;5;241;43m/\u001b[39;49m\u001b[43m \u001b[49m\u001b[38;5;241;43m5\u001b[39;49m\u001b[43m)\u001b[49m\u001b[43m \u001b[49m\u001b[38;5;241;43m+\u001b[39;49m\u001b[43m \u001b[49m\u001b[38;5;241;43m1\u001b[39;49m\u001b[43m,\u001b[49m\u001b[43m \u001b[49m\u001b[43mi\u001b[49m\u001b[43m \u001b[49m\u001b[38;5;241;43m%\u001b[39;49m\u001b[43m \u001b[49m\u001b[38;5;241;43m5\u001b[39;49m\u001b[43m]\u001b[49m)  \u001b[38;5;66;03m# Distribute across rows 2 and 3\u001b[39;00m\n\u001b[1;32m     74\u001b[0m     subset_a \u001b[38;5;241m=\u001b[39m sample_a\u001b[38;5;241m.\u001b[39miloc[[i]]\n\u001b[1;32m     75\u001b[0m     subset_b \u001b[38;5;241m=\u001b[39m sample_b\u001b[38;5;241m.\u001b[39miloc[[i]]\n",
      "File \u001b[0;32m/Applications/Anaconda/anaconda3/envs/geo/lib/python3.11/site-packages/matplotlib/gridspec.py:242\u001b[0m, in \u001b[0;36mGridSpecBase.__getitem__\u001b[0;34m(self, key)\u001b[0m\n\u001b[1;32m    239\u001b[0m     \u001b[38;5;28;01mexcept\u001b[39;00m \u001b[38;5;167;01mValueError\u001b[39;00m \u001b[38;5;28;01mas\u001b[39;00m err:\n\u001b[1;32m    240\u001b[0m         \u001b[38;5;28;01mraise\u001b[39;00m \u001b[38;5;167;01mValueError\u001b[39;00m(\u001b[38;5;124m\"\u001b[39m\u001b[38;5;124mUnrecognized subplot spec\u001b[39m\u001b[38;5;124m\"\u001b[39m) \u001b[38;5;28;01mfrom\u001b[39;00m \u001b[38;5;21;01merr\u001b[39;00m\n\u001b[1;32m    241\u001b[0m     num1, num2 \u001b[38;5;241m=\u001b[39m np\u001b[38;5;241m.\u001b[39mravel_multi_index(\n\u001b[0;32m--> 242\u001b[0m         [_normalize(k1, nrows, \u001b[38;5;241m0\u001b[39m), \u001b[43m_normalize\u001b[49m\u001b[43m(\u001b[49m\u001b[43mk2\u001b[49m\u001b[43m,\u001b[49m\u001b[43m \u001b[49m\u001b[43mncols\u001b[49m\u001b[43m,\u001b[49m\u001b[43m \u001b[49m\u001b[38;5;241;43m1\u001b[39;49m\u001b[43m)\u001b[49m],\n\u001b[1;32m    243\u001b[0m         (nrows, ncols))\n\u001b[1;32m    244\u001b[0m \u001b[38;5;28;01melse\u001b[39;00m:  \u001b[38;5;66;03m# Single key\u001b[39;00m\n\u001b[1;32m    245\u001b[0m     num1, num2 \u001b[38;5;241m=\u001b[39m _normalize(key, nrows \u001b[38;5;241m*\u001b[39m ncols, \u001b[38;5;28;01mNone\u001b[39;00m)\n",
      "File \u001b[0;32m/Applications/Anaconda/anaconda3/envs/geo/lib/python3.11/site-packages/matplotlib/gridspec.py:230\u001b[0m, in \u001b[0;36mGridSpecBase.__getitem__.<locals>._normalize\u001b[0;34m(key, size, axis)\u001b[0m\n\u001b[1;32m    228\u001b[0m     \u001b[38;5;28;01mreturn\u001b[39;00m key, key\n\u001b[1;32m    229\u001b[0m \u001b[38;5;28;01melif\u001b[39;00m axis \u001b[38;5;129;01mis\u001b[39;00m \u001b[38;5;129;01mnot\u001b[39;00m \u001b[38;5;28;01mNone\u001b[39;00m:\n\u001b[0;32m--> 230\u001b[0m     \u001b[38;5;28;01mraise\u001b[39;00m \u001b[38;5;167;01mIndexError\u001b[39;00m(\u001b[38;5;124mf\u001b[39m\u001b[38;5;124m\"\u001b[39m\u001b[38;5;124mindex \u001b[39m\u001b[38;5;132;01m{\u001b[39;00morig_key\u001b[38;5;132;01m}\u001b[39;00m\u001b[38;5;124m is out of bounds for \u001b[39m\u001b[38;5;124m\"\u001b[39m\n\u001b[1;32m    231\u001b[0m                      \u001b[38;5;124mf\u001b[39m\u001b[38;5;124m\"\u001b[39m\u001b[38;5;124maxis \u001b[39m\u001b[38;5;132;01m{\u001b[39;00maxis\u001b[38;5;132;01m}\u001b[39;00m\u001b[38;5;124m with size \u001b[39m\u001b[38;5;132;01m{\u001b[39;00msize\u001b[38;5;132;01m}\u001b[39;00m\u001b[38;5;124m\"\u001b[39m)\n\u001b[1;32m    232\u001b[0m \u001b[38;5;28;01melse\u001b[39;00m:  \u001b[38;5;66;03m# flat index\u001b[39;00m\n\u001b[1;32m    233\u001b[0m     \u001b[38;5;28;01mraise\u001b[39;00m \u001b[38;5;167;01mIndexError\u001b[39;00m(\u001b[38;5;124mf\u001b[39m\u001b[38;5;124m\"\u001b[39m\u001b[38;5;124mindex \u001b[39m\u001b[38;5;132;01m{\u001b[39;00morig_key\u001b[38;5;132;01m}\u001b[39;00m\u001b[38;5;124m is out of bounds for \u001b[39m\u001b[38;5;124m\"\u001b[39m\n\u001b[1;32m    234\u001b[0m                      \u001b[38;5;124mf\u001b[39m\u001b[38;5;124m\"\u001b[39m\u001b[38;5;124mGridSpec with size \u001b[39m\u001b[38;5;132;01m{\u001b[39;00msize\u001b[38;5;132;01m}\u001b[39;00m\u001b[38;5;124m\"\u001b[39m)\n",
      "\u001b[0;31mIndexError\u001b[0m: index 4 is out of bounds for axis 1 with size 4"
     ]
    },
    {
     "data": {
      "image/png": "[encoded data removed]",
      "text/plain": [
       "<Figure size 1500x1200 with 6 Axes>"
      ]
     },
     "metadata": {},
     "output_type": "display_data"
    }
   ],
   "source": [
    "df_prev = h.retrieve_pg_table(table_name='prev_blobs_wkt')\n",
    "df_curr = h.retrieve_pg_table(table_name='curr_blobs_wkt')\n",
    "\n",
    "# ensure they are geodataframes\n",
    "df_prev = gpd.GeoDataFrame(df_prev, geometry='geometry', crs=\"EPSG:4326\")\n",
    "df_curr = gpd.GeoDataFrame(df_curr, geometry='geometry', crs=\"EPSG:4326\")\n",
    "\n",
    "# retrieve matches table\n",
    "table_name = 'matched_results'\n",
    "postgresql_details['dbname'] = 'blob_matching'\n",
    "conn = psycopg2.connect(**postgresql_details)\n",
    "cur = conn.cursor()\n",
    "# retrieve data\n",
    "cur.execute(sql.SQL(f\"SELECT prev_id, curr_id FROM {table_name};\"))\n",
    "rows = cur.fetchall()\n",
    "cur.close()\n",
    "conn.close()\n",
    "# Convert to DataFrame & reapply geometry\n",
    "matches = pd.DataFrame(rows, columns=[\"prev_id\", \"curr_id\"])\n",
    "# df[\"geometry\"] = df[\"geometry\"].apply(loads)  # Convert WKT to Shapely geometry\n",
    "print(f\"Retrieved {len(table_name)} records from {table_name}.\")\n",
    "\n",
    "# Retrieve tables from PostgreSQL\n",
    "df_prev = h.retrieve_pg_table(table_name='prev_blobs_wkt')\n",
    "df_curr = h.retrieve_pg_table(table_name='curr_blobs_wkt')\n",
    "\n",
    "# Ensure they are GeoDataFrames\n",
    "df_prev = gpd.GeoDataFrame(df_prev, geometry='geometry', crs=\"EPSG:4326\")\n",
    "df_curr = gpd.GeoDataFrame(df_curr, geometry='geometry', crs=\"EPSG:4326\")\n",
    "\n",
    "# Retrieve matches table\n",
    "table_name = 'matched_results'\n",
    "postgresql_details['dbname'] = 'blob_matching'\n",
    "conn = psycopg2.connect(**postgresql_details)\n",
    "cur = conn.cursor()\n",
    "cur.execute(f\"SELECT prev_id, curr_id FROM {table_name};\")\n",
    "rows = cur.fetchall()\n",
    "cur.close()\n",
    "conn.close()\n",
    "\n",
    "# Convert matches to DataFrame\n",
    "matches = pd.DataFrame(rows, columns=[\"prev_id\", \"curr_id\"])\n",
    "print(f\"Retrieved {len(matches)} records from {table_name}.\")\n",
    "\n",
    "# Find matching polygons\n",
    "overlapping_a = df_prev[df_prev['id'].isin(matches['prev_id'])]\n",
    "overlapping_b = df_curr[df_curr['id'].isin(matches['curr_id'])]\n",
    "\n",
    "# Sample 10 overlapping polygons\n",
    "sample_size = min(10, len(overlapping_a))  # Ensure we don't sample more than available\n",
    "sample_indices = random.sample(range(len(overlapping_a)), sample_size)\n",
    "sample_a = overlapping_a.iloc[sample_indices]\n",
    "sample_b = overlapping_b.iloc[sample_indices]\n",
    "\n",
    "# Define the figure with GridSpec layout\n",
    "fig = plt.figure(figsize=(15, 12))\n",
    "gs = gridspec.GridSpec(3, 4, height_ratios=[2, 1, 1], width_ratios=[1, 1, 1, 1])  # Bigger main plots, smaller zoomed plots\n",
    "\n",
    "# --- Main Plot: All polygons (occupies top left) ---\n",
    "ax_main1 = plt.subplot(gs[0, 0:2])  # Spans first two columns\n",
    "df_prev.plot(ax=ax_main1, color='lightblue', edgecolor='black')\n",
    "df_curr.plot(ax=ax_main1, color='lightgreen', edgecolor='black', alpha=0.5)\n",
    "ax_main1.set_title(\"Initial Polygons\")\n",
    "\n",
    "# --- Main Plot: Overlapping polygons (occupies top right) ---\n",
    "ax_main2 = plt.subplot(gs[0, 2:4])  # Spans last two columns\n",
    "overlapping_a.plot(ax=ax_main2, color='red', edgecolor='black')\n",
    "overlapping_b.plot(ax=ax_main2, color='orange', edgecolor='black', alpha=0.5)\n",
    "ax_main2.set_title(\"Overlapping Polygons\")\n",
    "\n",
    "# --- Zoomed-in Subplots (Grid of 2 rows x 5 columns) ---\n",
    "for i, (idx, row) in enumerate(sample_a.iterrows()):\n",
    "    ax = plt.subplot(gs[(i // 5) + 1, i % 5])  # Distribute across rows 2 and 3\n",
    "    subset_a = sample_a.iloc[[i]]\n",
    "    subset_b = sample_b.iloc[[i]]\n",
    "\n",
    "    # Plot zoomed-in view\n",
    "    subset_a.plot(ax=ax, color=\"red\", edgecolor=\"black\")\n",
    "    subset_b.plot(ax=ax, color=\"orange\", edgecolor=\"black\", alpha=0.5)\n",
    "    \n",
    "    # Adjust zoom\n",
    "    bounds = subset_a.geometry.bounds.values[0]  # Get bounding box\n",
    "    buffer = 0.01  # Add a small margin for better visualization\n",
    "    ax.set_xlim(bounds[0] - buffer, bounds[2] + buffer)\n",
    "    ax.set_ylim(bounds[1] - buffer, bounds[3] + buffer)\n",
    "\n",
    "    ax.set_title(f\"Zoom {i+1}\")\n",
    "    ax.set_xticks([])  # Remove x-axis labels\n",
    "    ax.set_yticks([])  # Remove y-axis labels\n",
    "\n",
    "# Adjust layout and show\n",
    "plt.tight_layout()\n",
    "plt.show()"
   ]
  },
  {
   "cell_type": "markdown",
   "metadata": {},
   "source": [
    "## 2. Optimized Approach"
   ]
  },
  {
   "cell_type": "markdown",
   "metadata": {},
   "source": [
    "Having demonstrated a reasonable if not optimized way of matching polygons, we will now make use of geospatial-native tools to hopefully match polygons much more quickly."
   ]
  },
  {
   "cell_type": "markdown",
   "metadata": {},
   "source": [
    "My proposed workflow centers around `DuckDB` and `H3` along with the `.parquet` format to efficiently store, retrieve, and process geospatial data. We will use `Apache Iceberg` as a layer over the parquet file as it allows for more robust table handling.\n",
    "\n",
    "1. Prepare GeodataFrames with H3 Polyfill and parent hexagons at lower resolution.\n",
    "   * Save as an Iceberg table.\n",
    "\n",
    "2. Use DuckDB and the H3 extension to execute spatial SQL queries to find overlapping polygons with H3-based joins.\n",
    "\n",
    "3. Save matching polygon IDs to a new Iceberg table.\n",
    "\n",
    "4. Visualize the results."
   ]
  },
  {
   "cell_type": "markdown",
   "metadata": {},
   "source": [
    "### 2.1. Add H3 data to the blobs"
   ]
  },
  {
   "cell_type": "markdown",
   "metadata": {},
   "source": [
    "H3 is a modern and efficient geospatial index paradigm that divides the world into nested hexagons."
   ]
  },
  {
   "cell_type": "code",
   "execution_count": 902,
   "metadata": {},
   "outputs": [
    {
     "data": {
      "text/html": [
       "<div>\n",
       "<style scoped>\n",
       "    .dataframe tbody tr th:only-of-type {\n",
       "        vertical-align: middle;\n",
       "    }\n",
       "\n",
       "    .dataframe tbody tr th {\n",
       "        vertical-align: top;\n",
       "    }\n",
       "\n",
       "    .dataframe thead th {\n",
       "        text-align: right;\n",
       "    }\n",
       "</style>\n",
       "<table border=\"1\" class=\"dataframe\">\n",
       "  <thead>\n",
       "    <tr style=\"text-align: right;\">\n",
       "      <th></th>\n",
       "      <th>geometry</th>\n",
       "      <th>id</th>\n",
       "      <th>geohash</th>\n",
       "    </tr>\n",
       "  </thead>\n",
       "  <tbody>\n",
       "    <tr>\n",
       "      <th>0</th>\n",
       "      <td>POLYGON ((-81.10504 26.01885, -81.04984 26.018...</td>\n",
       "      <td>6cc95c8a-cbaf-4993-a9ff-4e890c7e45f0</td>\n",
       "      <td>dhwk5h</td>\n",
       "    </tr>\n",
       "    <tr>\n",
       "      <th>1</th>\n",
       "      <td>POLYGON ((-80.91675 26.04190, -80.86358 26.041...</td>\n",
       "      <td>a0fbead2-d8dc-4e05-b364-ab89d020fbfb</td>\n",
       "      <td>dhwkpq</td>\n",
       "    </tr>\n",
       "    <tr>\n",
       "      <th>2</th>\n",
       "      <td>POLYGON ((-80.73525 26.20304, -80.71903 26.203...</td>\n",
       "      <td>b4c64915-35eb-4d74-a211-ce41ad8f21f8</td>\n",
       "      <td>dhwt55</td>\n",
       "    </tr>\n",
       "    <tr>\n",
       "      <th>3</th>\n",
       "      <td>POLYGON ((-80.86288 26.17613, -80.79088 26.176...</td>\n",
       "      <td>d03d2784-ff88-4ed6-b93c-2b52a8a7ecc3</td>\n",
       "      <td>dhwt0s</td>\n",
       "    </tr>\n",
       "    <tr>\n",
       "      <th>4</th>\n",
       "      <td>POLYGON ((-81.28584 26.19397, -81.21442 26.193...</td>\n",
       "      <td>0ce2ca44-0727-4364-978b-da23cd9cd784</td>\n",
       "      <td>dhwjpj</td>\n",
       "    </tr>\n",
       "  </tbody>\n",
       "</table>\n",
       "</div>"
      ],
      "text/plain": [
       "                                            geometry  \\\n",
       "0  POLYGON ((-81.10504 26.01885, -81.04984 26.018...   \n",
       "1  POLYGON ((-80.91675 26.04190, -80.86358 26.041...   \n",
       "2  POLYGON ((-80.73525 26.20304, -80.71903 26.203...   \n",
       "3  POLYGON ((-80.86288 26.17613, -80.79088 26.176...   \n",
       "4  POLYGON ((-81.28584 26.19397, -81.21442 26.193...   \n",
       "\n",
       "                                     id geohash  \n",
       "0  6cc95c8a-cbaf-4993-a9ff-4e890c7e45f0  dhwk5h  \n",
       "1  a0fbead2-d8dc-4e05-b364-ab89d020fbfb  dhwkpq  \n",
       "2  b4c64915-35eb-4d74-a211-ce41ad8f21f8  dhwt55  \n",
       "3  d03d2784-ff88-4ed6-b93c-2b52a8a7ecc3  dhwt0s  \n",
       "4  0ce2ca44-0727-4364-978b-da23cd9cd784  dhwjpj  "
      ]
     },
     "execution_count": 902,
     "metadata": {},
     "output_type": "execute_result"
    }
   ],
   "source": [
    "prev_month_blobs.head()"
   ]
  },
  {
   "cell_type": "code",
   "execution_count": 903,
   "metadata": {},
   "outputs": [],
   "source": [
    "def compute_h3_indices(geometry, centroid_res=6, polyfill_res=9):\n",
    "    \"\"\"\n",
    "    Compute H3 indices for a polygon:\n",
    "    - Single H3 index based on centroid\n",
    "    - Full polygon coverage with H3 polyfill at high resolution\n",
    "    \"\"\"\n",
    "    centroid = geometry.centroid\n",
    "    h3_centroid = h3.geo_to_h3(centroid.y, centroid.x, centroid_res)\n",
    "\n",
    "    # Full coverage using polyfill\n",
    "    h3_polyfill = list(h3.polyfill(geometry.__geo_interface__, polyfill_res))\n",
    "\n",
    "    return h3_centroid, h3_polyfill"
   ]
  },
  {
   "cell_type": "code",
   "execution_count": null,
   "metadata": {},
   "outputs": [],
   "source": [
    "test_prev = prev_month_blobs.copy()\n",
    "test_curr = curr_month_blobs.copy()\n",
    "\n",
    "for gdf in [test_prev, test_curr]:\n",
    "    gdf['h3_centroid'] = gdf['geometry'].apply(lambda geom: compute_h3_indices(geom, 6, 9))"
   ]
  },
  {
   "cell_type": "code",
   "execution_count": 899,
   "metadata": {},
   "outputs": [
    {
     "name": "stdout",
     "output_type": "stream",
     "text": [
      "<class 'geopandas.geodataframe.GeoDataFrame'>\n"
     ]
    },
    {
     "data": {
      "text/html": [
       "<div>\n",
       "<style scoped>\n",
       "    .dataframe tbody tr th:only-of-type {\n",
       "        vertical-align: middle;\n",
       "    }\n",
       "\n",
       "    .dataframe tbody tr th {\n",
       "        vertical-align: top;\n",
       "    }\n",
       "\n",
       "    .dataframe thead th {\n",
       "        text-align: right;\n",
       "    }\n",
       "</style>\n",
       "<table border=\"1\" class=\"dataframe\">\n",
       "  <thead>\n",
       "    <tr style=\"text-align: right;\">\n",
       "      <th></th>\n",
       "      <th>geometry</th>\n",
       "      <th>id</th>\n",
       "      <th>geohash</th>\n",
       "    </tr>\n",
       "  </thead>\n",
       "  <tbody>\n",
       "    <tr>\n",
       "      <th>0</th>\n",
       "      <td>POLYGON ((-81.10504 26.01885, -81.04984 26.018...</td>\n",
       "      <td>6cc95c8a-cbaf-4993-a9ff-4e890c7e45f0</td>\n",
       "      <td>dhwk5h</td>\n",
       "    </tr>\n",
       "    <tr>\n",
       "      <th>1</th>\n",
       "      <td>POLYGON ((-80.91675 26.04190, -80.86358 26.041...</td>\n",
       "      <td>a0fbead2-d8dc-4e05-b364-ab89d020fbfb</td>\n",
       "      <td>dhwkpq</td>\n",
       "    </tr>\n",
       "    <tr>\n",
       "      <th>2</th>\n",
       "      <td>POLYGON ((-80.73525 26.20304, -80.71903 26.203...</td>\n",
       "      <td>b4c64915-35eb-4d74-a211-ce41ad8f21f8</td>\n",
       "      <td>dhwt55</td>\n",
       "    </tr>\n",
       "  </tbody>\n",
       "</table>\n",
       "</div>"
      ],
      "text/plain": [
       "                                            geometry  \\\n",
       "0  POLYGON ((-81.10504 26.01885, -81.04984 26.018...   \n",
       "1  POLYGON ((-80.91675 26.04190, -80.86358 26.041...   \n",
       "2  POLYGON ((-80.73525 26.20304, -80.71903 26.203...   \n",
       "\n",
       "                                     id geohash  \n",
       "0  6cc95c8a-cbaf-4993-a9ff-4e890c7e45f0  dhwk5h  \n",
       "1  a0fbead2-d8dc-4e05-b364-ab89d020fbfb  dhwkpq  \n",
       "2  b4c64915-35eb-4d74-a211-ce41ad8f21f8  dhwt55  "
      ]
     },
     "execution_count": 899,
     "metadata": {},
     "output_type": "execute_result"
    }
   ],
   "source": [
    "print(type(prev_month_blobs))\n",
    "prev_month_blobs.head(3)\n",
    "# prev_month_blobs = gpd.read_parquet('data/prev_month_blobs.parquet')\n",
    "# curr_month_blobs = gpd.read_parquet('data/curr_month_blobs.parquet')"
   ]
  },
  {
   "cell_type": "markdown",
   "metadata": {},
   "source": [
    "# Notes on original process"
   ]
  },
  {
   "cell_type": "markdown",
   "metadata": {},
   "source": [
    "geohash polygon into a larger region\n",
    "match blobs using multiprocessing (mp.Process) and geopandas\n",
    "find blobs from previous month that do not have a match\n",
    "\n",
    "# 1 imports and setup\n",
    "\n",
    "```python\n",
    "import os, sys, traceback\n",
    "import argparse\n",
    "import cv2\n",
    "import time\n",
    "import numpy as np\n",
    "import pandas as pd\n",
    "import geopandas as gpd\n",
    "from skimage import io, color, measure\n",
    "from tqdm import tqdm\n",
    "from shapely import wkt\n",
    "from shapely.geometry import Point, Polygon\n",
    "from shapely.validation import make_valid\n",
    "import PIL\n",
    "from PIL import Image, ImageDraw, ImageEnhance\n",
    "import uuid\n",
    "import multiprocessing as mp\n",
    "from datetime import datetime\n",
    "from sqlalchemy import or_\n",
    "from sqlmodel import SQLModel, Session, create_engine, select\n",
    "from pathlib import Path\n",
    "```\n",
    "\n",
    "## Key takeaways\n",
    "- Uses Pandas and GeoPandas for data processing.\n",
    "- Uses Shapely for geospatial geometry operations.\n",
    "- Uses multiprocessing (mp) to parallelize the blob-matching process.\n",
    "- Uses SQLAlchemy and SQLModel for database operations.\n",
    "\n",
    "# 2 High-level script overview\n",
    "The script is designed to match blobs (spatial objects) between two months and classify them into different business categories.\n",
    "\n",
    "General Workflow\n",
    "1. Fetch blobs from the previous and current months.\n",
    "1. Convert the region of interest (state, city, county, or geohash) into a list of geohashes.\n",
    "1. Parallelized Matching Process:\n",
    "1. Process multiple geohashes at once using multiprocessing.\n",
    "1. Find corresponding blobs from previous months for each geohash.\n",
    "1. Classify blobs based on construction stage progression.\n",
    "1. Identify blobs that are missing in the current month and \"impute\" them.\n",
    "1. Save results into the database.\n",
    "\n",
    "# 3 Blob classification logic\n",
    "\n",
    "# 4 Blob matching\n",
    "\n",
    "- Matches blobs between months using polygon intersections.\n",
    "- Uses Shapely to validate geometries and check for overlaps.\n",
    "- Returns matched blob IDs.\n",
    "\n",
    "## Multiprocessing Optimization\n",
    "The script parallelizes blob matching by:\n",
    "- Uses multiprocessing (mp.Process) to divide the dataset into smaller batches.\n",
    "- Each batch of blobs is processed in parallel.\n",
    "- Reduces runtime compared to a single-threaded approach.\n",
    "\n",
    "# 5 Handling unmatched blobs\n",
    "- Finds blobs from the previous month that do not have a match in the current month.\n",
    "- These blobs are \"imputed\", meaning they are carried over into the new month.\n",
    "\n",
    "# 6 Main class to orchestrate process\n",
    "- Loads previous and current month blobs.\n",
    "- Converts input regions (state, city, county) into geohashes.\n",
    "\n",
    "# Summary\n",
    "- Parallel processing is used to match blobs.\n",
    "- Blobs are classified based on construction stages.\n",
    "- Unmatched blobs are imputed for continuity.\n",
    "- The script writes results to a database."
   ]
  },
  {
   "cell_type": "markdown",
   "metadata": {},
   "source": []
  }
 ],
 "metadata": {
  "kernelspec": {
   "display_name": "Python 3",
   "language": "python",
   "name": "python3"
  },
  "language_info": {
   "codemirror_mode": {
    "name": "ipython",
    "version": 3
   },
   "file_extension": ".py",
   "mimetype": "text/x-python",
   "name": "python",
   "nbconvert_exporter": "python",
   "pygments_lexer": "ipython3",
   "version": "3.11.8"
  }
 },
 "nbformat": 4,
 "nbformat_minor": 2
}
