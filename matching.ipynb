{
 "cells": [
  {
   "cell_type": "markdown",
   "metadata": {},
   "source": [
    "# Geospatial Matching Optimization"
   ]
  },
  {
   "cell_type": "markdown",
   "metadata": {},
   "source": [
    "This project is designed to showcase how to improve the speed of a polygon matching procedure. There are three main areas that could benefit from taking a \"geospatial-native\" approach:\n",
    "\n",
    "1. Data encoding and fetching\n",
    "2. Matching\n",
    "3. Storage\n",
    "\n",
    "We will generate synthetic polygon data and use both a non-geospatial-native and geospatial-native approach, comparing execution time for both to see how they differ."
   ]
  },
  {
   "cell_type": "markdown",
   "metadata": {},
   "source": [
    "Note: Make sure that you have PostgreSQL running."
   ]
  },
  {
   "cell_type": "markdown",
   "metadata": {},
   "source": [
    "## Imports"
   ]
  },
  {
   "cell_type": "code",
   "execution_count": 192,
   "metadata": {},
   "outputs": [
    {
     "name": "stdout",
     "output_type": "stream",
     "text": [
      "Created fresh logs/sid_2025-02-26_21-46-31_timing_results.csv\n",
      "Created fresh logs/sid_2025-02-26_21-46-31_timing.log\n"
     ]
    },
    {
     "data": {
      "text/plain": [
       "<module 'helpers' from '/Users/sra/files/projects/matching_optimization/helpers.py'>"
      ]
     },
     "execution_count": 192,
     "metadata": {},
     "output_type": "execute_result"
    }
   ],
   "source": [
    "import geopandas as gpd\n",
    "import pandas as pd\n",
    "import shapely\n",
    "import h3\n",
    "import time\n",
    "import helpers as h\n",
    "import matplotlib.pyplot as plt\n",
    "from shapely.wkt import dumps, loads\n",
    "from pathlib import Path\n",
    "\n",
    "# ensure helpers is loaded correctly\n",
    "import importlib\n",
    "importlib.reload(h)"
   ]
  },
  {
   "cell_type": "markdown",
   "metadata": {},
   "source": [
    "## Generate Test Data"
   ]
  },
  {
   "cell_type": "code",
   "execution_count": 193,
   "metadata": {},
   "outputs": [
    {
     "name": "stdout",
     "output_type": "stream",
     "text": [
      "Function `generate_random_polygons` executed in 0.1431 sec, CPU: 20.60%, Memory: 11.61MB\n",
      "Function `generate_random_polygons` executed in 0.1205 sec, CPU: 20.20%, Memory: 0.31MB\n"
     ]
    }
   ],
   "source": [
    "# Create two months of blob data\n",
    "prev_month_blobs = h.generate_random_polygons(n=10000)\n",
    "curr_month_blobs = h.generate_random_polygons(n=10000)"
   ]
  },
  {
   "cell_type": "code",
   "execution_count": 194,
   "metadata": {},
   "outputs": [
    {
     "data": {
      "text/html": [
       "<div>\n",
       "<style scoped>\n",
       "    .dataframe tbody tr th:only-of-type {\n",
       "        vertical-align: middle;\n",
       "    }\n",
       "\n",
       "    .dataframe tbody tr th {\n",
       "        vertical-align: top;\n",
       "    }\n",
       "\n",
       "    .dataframe thead th {\n",
       "        text-align: right;\n",
       "    }\n",
       "</style>\n",
       "<table border=\"1\" class=\"dataframe\">\n",
       "  <thead>\n",
       "    <tr style=\"text-align: right;\">\n",
       "      <th></th>\n",
       "      <th>geometry</th>\n",
       "      <th>id</th>\n",
       "    </tr>\n",
       "  </thead>\n",
       "  <tbody>\n",
       "    <tr>\n",
       "      <th>0</th>\n",
       "      <td>POLYGON ((-67.77737 59.48422, -67.77737 60.922...</td>\n",
       "      <td>7f4dff84-d1b5-4f2c-bf65-77102679ed3b</td>\n",
       "    </tr>\n",
       "    <tr>\n",
       "      <th>1</th>\n",
       "      <td>POLYGON ((26.42248 9.32281, 26.42248 11.29955,...</td>\n",
       "      <td>38dd1028-22a7-48a8-b549-b2b371a3fd64</td>\n",
       "    </tr>\n",
       "    <tr>\n",
       "      <th>2</th>\n",
       "      <td>POLYGON ((34.53971 -70.83667, 34.53971 -69.101...</td>\n",
       "      <td>e228399c-7167-4951-84b6-6d7b28ef5979</td>\n",
       "    </tr>\n",
       "    <tr>\n",
       "      <th>3</th>\n",
       "      <td>POLYGON ((173.13634 -65.81346, 173.13634 -64.1...</td>\n",
       "      <td>5db7eab1-eb05-4986-986b-e5686d582bea</td>\n",
       "    </tr>\n",
       "    <tr>\n",
       "      <th>4</th>\n",
       "      <td>POLYGON ((135.94789 12.84035, 135.94789 14.170...</td>\n",
       "      <td>624b76ae-a2ac-45d5-b42e-688e897bec9b</td>\n",
       "    </tr>\n",
       "  </tbody>\n",
       "</table>\n",
       "</div>"
      ],
      "text/plain": [
       "                                            geometry  \\\n",
       "0  POLYGON ((-67.77737 59.48422, -67.77737 60.922...   \n",
       "1  POLYGON ((26.42248 9.32281, 26.42248 11.29955,...   \n",
       "2  POLYGON ((34.53971 -70.83667, 34.53971 -69.101...   \n",
       "3  POLYGON ((173.13634 -65.81346, 173.13634 -64.1...   \n",
       "4  POLYGON ((135.94789 12.84035, 135.94789 14.170...   \n",
       "\n",
       "                                     id  \n",
       "0  7f4dff84-d1b5-4f2c-bf65-77102679ed3b  \n",
       "1  38dd1028-22a7-48a8-b549-b2b371a3fd64  \n",
       "2  e228399c-7167-4951-84b6-6d7b28ef5979  \n",
       "3  5db7eab1-eb05-4986-986b-e5686d582bea  \n",
       "4  624b76ae-a2ac-45d5-b42e-688e897bec9b  "
      ]
     },
     "execution_count": 194,
     "metadata": {},
     "output_type": "execute_result"
    }
   ],
   "source": [
    "prev_month_blobs.head()"
   ]
  },
  {
   "cell_type": "code",
   "execution_count": 195,
   "metadata": {},
   "outputs": [
    {
     "data": {
      "text/html": [
       "<div>\n",
       "<style scoped>\n",
       "    .dataframe tbody tr th:only-of-type {\n",
       "        vertical-align: middle;\n",
       "    }\n",
       "\n",
       "    .dataframe tbody tr th {\n",
       "        vertical-align: top;\n",
       "    }\n",
       "\n",
       "    .dataframe thead th {\n",
       "        text-align: right;\n",
       "    }\n",
       "</style>\n",
       "<table border=\"1\" class=\"dataframe\">\n",
       "  <thead>\n",
       "    <tr style=\"text-align: right;\">\n",
       "      <th></th>\n",
       "      <th>geometry</th>\n",
       "      <th>id</th>\n",
       "    </tr>\n",
       "  </thead>\n",
       "  <tbody>\n",
       "    <tr>\n",
       "      <th>0</th>\n",
       "      <td>POLYGON ((4.28622 46.11889, 4.28622 47.52923, ...</td>\n",
       "      <td>e09e5f03-4d65-4ac2-baee-0fe57e8f9291</td>\n",
       "    </tr>\n",
       "    <tr>\n",
       "      <th>1</th>\n",
       "      <td>POLYGON ((-173.38761 -68.51772, -173.38761 -66...</td>\n",
       "      <td>1bbbfaac-489f-462a-a855-2cdd7498d016</td>\n",
       "    </tr>\n",
       "    <tr>\n",
       "      <th>2</th>\n",
       "      <td>POLYGON ((-31.44297 15.05155, -31.44297 16.136...</td>\n",
       "      <td>021ecc97-941c-4213-b2c1-d000d8296be8</td>\n",
       "    </tr>\n",
       "    <tr>\n",
       "      <th>3</th>\n",
       "      <td>POLYGON ((61.63457 -29.41362, 61.63457 -27.670...</td>\n",
       "      <td>2e815754-6f99-41ea-a35e-17e78855539a</td>\n",
       "    </tr>\n",
       "    <tr>\n",
       "      <th>4</th>\n",
       "      <td>POLYGON ((109.58164 25.28846, 109.58164 26.892...</td>\n",
       "      <td>7eade105-5c06-49ff-b128-e7213142da05</td>\n",
       "    </tr>\n",
       "  </tbody>\n",
       "</table>\n",
       "</div>"
      ],
      "text/plain": [
       "                                            geometry  \\\n",
       "0  POLYGON ((4.28622 46.11889, 4.28622 47.52923, ...   \n",
       "1  POLYGON ((-173.38761 -68.51772, -173.38761 -66...   \n",
       "2  POLYGON ((-31.44297 15.05155, -31.44297 16.136...   \n",
       "3  POLYGON ((61.63457 -29.41362, 61.63457 -27.670...   \n",
       "4  POLYGON ((109.58164 25.28846, 109.58164 26.892...   \n",
       "\n",
       "                                     id  \n",
       "0  e09e5f03-4d65-4ac2-baee-0fe57e8f9291  \n",
       "1  1bbbfaac-489f-462a-a855-2cdd7498d016  \n",
       "2  021ecc97-941c-4213-b2c1-d000d8296be8  \n",
       "3  2e815754-6f99-41ea-a35e-17e78855539a  \n",
       "4  7eade105-5c06-49ff-b128-e7213142da05  "
      ]
     },
     "execution_count": 195,
     "metadata": {},
     "output_type": "execute_result"
    }
   ],
   "source": [
    "curr_month_blobs.head()"
   ]
  },
  {
   "cell_type": "code",
   "execution_count": 196,
   "metadata": {},
   "outputs": [],
   "source": [
    "# make data folder\n",
    "Path('data/').mkdir(exist_ok=True)\n",
    "\n",
    "# save as geoparquet\n",
    "prev_month_blobs.to_parquet('data/prev_month_blobs.parquet')\n",
    "curr_month_blobs.to_parquet('data/curr_month_blobs.parquet')"
   ]
  },
  {
   "cell_type": "code",
   "execution_count": 197,
   "metadata": {},
   "outputs": [
    {
     "data": {
      "image/png": "[encoded data removed]",
      "text/plain": [
       "<Figure size 500x500 with 1 Axes>"
      ]
     },
     "metadata": {},
     "output_type": "display_data"
    }
   ],
   "source": [
    "range_ = 100\n",
    "\n",
    "fig, ax = plt.subplots(figsize=(5, 5))\n",
    "prev_month_blobs.iloc[0:range_].plot(ax=ax)\n",
    "ax.set_title(f'Viewing the first {range_} blobs')\n",
    "plt.tight_layout()\n",
    "\n",
    "plt.show()"
   ]
  },
  {
   "cell_type": "markdown",
   "metadata": {},
   "source": [
    "### Make copy of polygon layer and convert to non-geospatial-native string (WKT) datatype"
   ]
  },
  {
   "cell_type": "code",
   "execution_count": 198,
   "metadata": {},
   "outputs": [],
   "source": [
    "# copy the gdfs\n",
    "prev_month_blobs_wkt = prev_month_blobs.copy()\n",
    "curr_month_blobs_wkt = curr_month_blobs.copy()"
   ]
  },
  {
   "cell_type": "code",
   "execution_count": 199,
   "metadata": {},
   "outputs": [
    {
     "name": "stdout",
     "output_type": "stream",
     "text": [
      "Function `convert_col_to_string` executed in 0.0471 sec, CPU: 13.50%, Memory: 0.00MB\n",
      "Function `convert_col_to_string` executed in 0.0461 sec, CPU: 23.70%, Memory: 0.00MB\n",
      "                                            geometry  \\\n",
      "0  POLYGON ((-67.777368 59.484217, -67.777368 60....   \n",
      "1  POLYGON ((26.422479 9.322808, 26.422479 11.299...   \n",
      "2  POLYGON ((34.539713 -70.836672, 34.539713 -69....   \n",
      "3  POLYGON ((173.136338 -65.813461, 173.136338 -6...   \n",
      "4  POLYGON ((135.94789 12.840354, 135.94789 14.17...   \n",
      "\n",
      "                                     id  \n",
      "0  7f4dff84-d1b5-4f2c-bf65-77102679ed3b  \n",
      "1  38dd1028-22a7-48a8-b549-b2b371a3fd64  \n",
      "2  e228399c-7167-4951-84b6-6d7b28ef5979  \n",
      "3  5db7eab1-eb05-4986-986b-e5686d582bea  \n",
      "4  624b76ae-a2ac-45d5-b42e-688e897bec9b  \n"
     ]
    },
    {
     "name": "stderr",
     "output_type": "stream",
     "text": [
      "/Users/sra/files/projects/matching_optimization/helpers.py:148: UserWarning: Geometry column does not contain geometry.\n",
      "  def df_itertuple(df: gpd.GeoDataFrame):\n",
      "/Users/sra/files/projects/matching_optimization/helpers.py:148: UserWarning: Geometry column does not contain geometry.\n",
      "  def df_itertuple(df: gpd.GeoDataFrame):\n"
     ]
    }
   ],
   "source": [
    "# Convert WKT versions to strings\n",
    "dfs_to_convert = [prev_month_blobs_wkt, curr_month_blobs_wkt]\n",
    "prev_month_blobs_wkt, curr_month_blobs_wkt = [h.convert_col_to_string(df) for df in dfs_to_convert]\n",
    "\n",
    "# Check result\n",
    "print(prev_month_blobs_wkt.head())"
   ]
  },
  {
   "cell_type": "markdown",
   "metadata": {},
   "source": [
    "### Save in PostgreSQL database"
   ]
  },
  {
   "cell_type": "markdown",
   "metadata": {},
   "source": [
    "This is a simple version of what a \"non-geospatial-native\" data ingestion pipeline may look like, with the primary example being that the polygons are stored as strings, not in a spatial-friendly datatype."
   ]
  },
  {
   "cell_type": "code",
   "execution_count": 200,
   "metadata": {},
   "outputs": [
    {
     "name": "stdout",
     "output_type": "stream",
     "text": [
      "Function `df_itertuple` executed in 0.0019 sec, CPU: 0.00%, Memory: 0.00MB\n",
      "Function `df_itertuple` executed in 0.0012 sec, CPU: 0.00%, Memory: 0.00MB\n"
     ]
    }
   ],
   "source": [
    "# Convert to tuples\n",
    "prev_month_blobs_wkt = h.df_itertuple(prev_month_blobs_wkt)\n",
    "curr_month_blobs_wkt = h.df_itertuple(curr_month_blobs_wkt)"
   ]
  },
  {
   "cell_type": "markdown",
   "metadata": {},
   "source": [
    "Create PostgreSQL database if it doesn't exist already. We will be using the default settings. If they need to be adjusted, refer to [`helpers.py`](helpers.py)."
   ]
  },
  {
   "cell_type": "code",
   "execution_count": 201,
   "metadata": {},
   "outputs": [
    {
     "name": "stdout",
     "output_type": "stream",
     "text": [
      "Database blob_matching already exists.\n",
      "Function `create_pg_db` executed in 0.0308 sec, CPU: 0.00%, Memory: 0.00MB\n"
     ]
    }
   ],
   "source": [
    "h.create_pg_db()"
   ]
  },
  {
   "cell_type": "markdown",
   "metadata": {},
   "source": [
    "Create and insert into tables:"
   ]
  },
  {
   "cell_type": "code",
   "execution_count": 202,
   "metadata": {},
   "outputs": [
    {
     "name": "stdout",
     "output_type": "stream",
     "text": [
      "Table prev_blobs_wkt truncated.\n",
      "Inserted 10000 records into prev_blobs_wkt.\n",
      "Function `create_pg_table` executed in 0.3939 sec, CPU: 0.00%, Memory: 0.00MB\n",
      "Table curr_blobs_wkt truncated.\n",
      "Inserted 10000 records into curr_blobs_wkt.\n",
      "Function `create_pg_table` executed in 0.4047 sec, CPU: 41.30%, Memory: 126.31MB\n"
     ]
    }
   ],
   "source": [
    "h.create_pg_table(table_name='prev_blobs_wkt', data=prev_month_blobs_wkt, truncate=True)\n",
    "h.create_pg_table(table_name='curr_blobs_wkt', data=curr_month_blobs_wkt, truncate=True)"
   ]
  },
  {
   "cell_type": "markdown",
   "metadata": {},
   "source": [
    "Retrieve data as GeoDataFrames to confirm that it worked:"
   ]
  },
  {
   "cell_type": "code",
   "execution_count": 203,
   "metadata": {},
   "outputs": [
    {
     "name": "stdout",
     "output_type": "stream",
     "text": [
      "Retrieved 10000 records from prev_blobs_wkt.\n",
      "Function `retrieve_pg_table` executed in 0.0471 sec, CPU: 29.40%, Memory: 0.00MB\n",
      "Retrieved 10000 records from curr_blobs_wkt.\n",
      "Function `retrieve_pg_table` executed in 0.0404 sec, CPU: 9.00%, Memory: 0.00MB\n"
     ]
    }
   ],
   "source": [
    "df_prev = h.retrieve_pg_table(table_name='prev_blobs_wkt')\n",
    "df_curr = h.retrieve_pg_table(table_name='curr_blobs_wkt')"
   ]
  },
  {
   "cell_type": "code",
   "execution_count": 204,
   "metadata": {},
   "outputs": [
    {
     "data": {
      "text/html": [
       "<div>\n",
       "<style scoped>\n",
       "    .dataframe tbody tr th:only-of-type {\n",
       "        vertical-align: middle;\n",
       "    }\n",
       "\n",
       "    .dataframe tbody tr th {\n",
       "        vertical-align: top;\n",
       "    }\n",
       "\n",
       "    .dataframe thead th {\n",
       "        text-align: right;\n",
       "    }\n",
       "</style>\n",
       "<table border=\"1\" class=\"dataframe\">\n",
       "  <thead>\n",
       "    <tr style=\"text-align: right;\">\n",
       "      <th></th>\n",
       "      <th>geometry</th>\n",
       "      <th>id</th>\n",
       "    </tr>\n",
       "  </thead>\n",
       "  <tbody>\n",
       "    <tr>\n",
       "      <th>0</th>\n",
       "      <td>POLYGON ((-67.777368 59.484217, -67.777368 60....</td>\n",
       "      <td>7f4dff84-d1b5-4f2c-bf65-77102679ed3b</td>\n",
       "    </tr>\n",
       "    <tr>\n",
       "      <th>1</th>\n",
       "      <td>POLYGON ((26.422479 9.322808, 26.422479 11.299...</td>\n",
       "      <td>38dd1028-22a7-48a8-b549-b2b371a3fd64</td>\n",
       "    </tr>\n",
       "    <tr>\n",
       "      <th>2</th>\n",
       "      <td>POLYGON ((34.539713 -70.836672, 34.539713 -69....</td>\n",
       "      <td>e228399c-7167-4951-84b6-6d7b28ef5979</td>\n",
       "    </tr>\n",
       "    <tr>\n",
       "      <th>3</th>\n",
       "      <td>POLYGON ((173.136338 -65.813461, 173.136338 -6...</td>\n",
       "      <td>5db7eab1-eb05-4986-986b-e5686d582bea</td>\n",
       "    </tr>\n",
       "    <tr>\n",
       "      <th>4</th>\n",
       "      <td>POLYGON ((135.94789 12.840354, 135.94789 14.17...</td>\n",
       "      <td>624b76ae-a2ac-45d5-b42e-688e897bec9b</td>\n",
       "    </tr>\n",
       "  </tbody>\n",
       "</table>\n",
       "</div>"
      ],
      "text/plain": [
       "                                            geometry  \\\n",
       "0  POLYGON ((-67.777368 59.484217, -67.777368 60....   \n",
       "1  POLYGON ((26.422479 9.322808, 26.422479 11.299...   \n",
       "2  POLYGON ((34.539713 -70.836672, 34.539713 -69....   \n",
       "3  POLYGON ((173.136338 -65.813461, 173.136338 -6...   \n",
       "4  POLYGON ((135.94789 12.840354, 135.94789 14.17...   \n",
       "\n",
       "                                     id  \n",
       "0  7f4dff84-d1b5-4f2c-bf65-77102679ed3b  \n",
       "1  38dd1028-22a7-48a8-b549-b2b371a3fd64  \n",
       "2  e228399c-7167-4951-84b6-6d7b28ef5979  \n",
       "3  5db7eab1-eb05-4986-986b-e5686d582bea  \n",
       "4  624b76ae-a2ac-45d5-b42e-688e897bec9b  "
      ]
     },
     "execution_count": 204,
     "metadata": {},
     "output_type": "execute_result"
    }
   ],
   "source": [
    "df_prev.head()"
   ]
  },
  {
   "cell_type": "code",
   "execution_count": 205,
   "metadata": {},
   "outputs": [
    {
     "ename": "TypeError",
     "evalue": "list indices must be integers or slices, not str",
     "output_type": "error",
     "traceback": [
      "\u001b[0;31m---------------------------------------------------------------------------\u001b[0m",
      "\u001b[0;31mTypeError\u001b[0m                                 Traceback (most recent call last)",
      "Cell \u001b[0;32mIn[205], line 2\u001b[0m\n\u001b[1;32m      1\u001b[0m set_df_prev_geom \u001b[38;5;241m=\u001b[39m \u001b[38;5;28mset\u001b[39m(df_prev[\u001b[38;5;124m'\u001b[39m\u001b[38;5;124mgeometry\u001b[39m\u001b[38;5;124m'\u001b[39m])\n\u001b[0;32m----> 2\u001b[0m set_prev_month_blobs_wkt \u001b[38;5;241m=\u001b[39m \u001b[38;5;28mset\u001b[39m(\u001b[43mprev_month_blobs_wkt\u001b[49m\u001b[43m[\u001b[49m\u001b[38;5;124;43m'\u001b[39;49m\u001b[38;5;124;43mgeometry\u001b[39;49m\u001b[38;5;124;43m'\u001b[39;49m\u001b[43m]\u001b[49m)\n\u001b[1;32m      4\u001b[0m set_df_prev_geom \u001b[38;5;241m&\u001b[39m set_prev_month_blobs_wkt\n",
      "\u001b[0;31mTypeError\u001b[0m: list indices must be integers or slices, not str"
     ]
    }
   ],
   "source": [
    "set_df_prev_geom = set(df_prev['geometry'])\n",
    "set_prev_month_blobs_wkt = set(prev_month_blobs_wkt['geometry'])\n",
    "\n",
    "set_df_prev_geom & set_prev_month_blobs_wkt"
   ]
  },
  {
   "cell_type": "code",
   "execution_count": null,
   "metadata": {},
   "outputs": [],
   "source": []
  },
  {
   "cell_type": "code",
   "execution_count": null,
   "metadata": {},
   "outputs": [],
   "source": []
  },
  {
   "cell_type": "code",
   "execution_count": null,
   "metadata": {},
   "outputs": [],
   "source": []
  },
  {
   "cell_type": "code",
   "execution_count": 165,
   "metadata": {},
   "outputs": [
    {
     "name": "stdout",
     "output_type": "stream",
     "text": [
      "Database blob_matching already exists.\n",
      "Data inserted successfully.\n",
      "df_prev:                                             geometry  \\\n",
      "0  POLYGON ((-158.5966725744266 26.60522886734023...   \n",
      "1  POLYGON ((176.21978409511246 -14.9280088021202...   \n",
      "2  POLYGON ((137.9785558137033 27.41222741599516,...   \n",
      "3  POLYGON ((-57.580964985751486 23.5397270674304...   \n",
      "4  POLYGON ((-66.90923725606675 67.10130112202731...   \n",
      "\n",
      "                                     id  \n",
      "0  1a954e4a-ccd6-43b4-8a40-0c85055d0174  \n",
      "1  534f1521-309b-44c2-b4c4-73c1d65f13b6  \n",
      "2  3dba4ec5-89bc-4a8c-9110-af3937c3ec0b  \n",
      "3  009b12e8-9002-44fd-b285-06bda955aaf2  \n",
      "4  09081e2b-cb99-48b5-aa28-8e820ae78bb3  \n",
      "df_curr:                                             geometry  \\\n",
      "0  POLYGON ((-136.99860799384905 -15.327728065322...   \n",
      "1  POLYGON ((-88.84855651599074 -65.2365588753379...   \n",
      "2  POLYGON ((78.38793774218577 22.894964271778974...   \n",
      "3  POLYGON ((-100.88450978918468 -44.459107566554...   \n",
      "4  POLYGON ((106.46892154657614 89.44615155659699...   \n",
      "\n",
      "                                     id  \n",
      "0  4ae9b2bf-abb5-44ed-90ab-9898e25c1ce6  \n",
      "1  55818b3b-57df-4e6d-ba18-e78d1c1b851e  \n",
      "2  bec2cf4d-08fc-4b22-8249-c77d15cb0f30  \n",
      "3  8c38eccb-d269-4546-b6ef-8b07a0689810  \n",
      "4  e740df9d-289e-4be7-abfd-c8d37e95058f  \n"
     ]
    }
   ],
   "source": [
    "# Define connection details\n",
    "postgresql_details = {\n",
    "    'dbname': 'postgres',  # Use the default database to create the new one\n",
    "    'user': 'postgres',\n",
    "    'password': 'rootroot',\n",
    "    'host': 'localhost',\n",
    "    'port': '5432'\n",
    "}\n",
    "\n",
    "# Step 1: Connect to PostgreSQL and create a new database (if it doesn't exist)\n",
    "conn = psycopg2.connect(\n",
    "    dbname=postgresql_details['dbname'],\n",
    "    user=postgresql_details['user'],\n",
    "    password=postgresql_details['password'],\n",
    "    host=postgresql_details['host'],\n",
    "    port=postgresql_details['port']\n",
    ")\n",
    "cur = conn.cursor()\n",
    "\n",
    "# Commit any active transactions before creating a new database\n",
    "conn.commit()  # This ensures no open transaction block\n",
    "\n",
    "# Set autocommit to True for creating the database (it cannot run inside a transaction block)\n",
    "conn.autocommit = True\n",
    "\n",
    "# Create a new database (only if it doesn't already exist)\n",
    "new_db_name = 'blob_matching'\n",
    "cur.execute(sql.SQL(\"SELECT 1 FROM pg_database WHERE datname = %s\"), [new_db_name])\n",
    "if not cur.fetchone():\n",
    "    cur.execute(sql.SQL(\"CREATE DATABASE {}\").format(sql.Identifier(new_db_name)))\n",
    "    print(f\"Database {new_db_name} created.\")\n",
    "else:\n",
    "    print(f\"Database {new_db_name} already exists.\")\n",
    "\n",
    "# Reset autocommit to False (we want to manage transactions for the rest of the operations)\n",
    "conn.autocommit = False\n",
    "\n",
    "# Close connection for creating the new database\n",
    "cur.close()\n",
    "conn.close()\n",
    "\n",
    "# Step 2: Connect to the newly created database to create a table\n",
    "postgresql_details['dbname'] = new_db_name  # Change to the new database\n",
    "conn = psycopg2.connect(\n",
    "    dbname=postgresql_details['dbname'],\n",
    "    user=postgresql_details['user'],\n",
    "    password=postgresql_details['password'],\n",
    "    host=postgresql_details['host'],\n",
    "    port=postgresql_details['port']\n",
    ")\n",
    "cur = conn.cursor()\n",
    "\n",
    "# Create prev_month and curr_month table if it doesn't exist\n",
    "cur.execute(\"\"\"\n",
    "    CREATE EXTENSION IF NOT EXISTS \"pgcrypto\";\n",
    "    CREATE TABLE IF NOT EXISTS prev_blobs_wkt (\n",
    "        geometry TEXT,\n",
    "        id UUID PRIMARY KEY DEFAULT gen_random_uuid());\n",
    "    CREATE TABLE IF NOT EXISTS curr_blobs_wkt (\n",
    "        geometry TEXT,\n",
    "        id UUID PRIMARY KEY DEFAULT gen_random_uuid());\n",
    "\"\"\")\n",
    "conn.commit()\n",
    "\n",
    "# Step 3: Insert WKT strings into the table\n",
    "cur.executemany('INSERT INTO prev_blobs_wkt (geometry, id) VALUES (%s, %s);', prev_month_blobs_wkt)\n",
    "cur.executemany('INSERT INTO curr_blobs_wkt (geometry, id) VALUES (%s, %s);', curr_month_blobs_wkt)\n",
    "conn.commit()\n",
    "\n",
    "print(\"Data inserted successfully.\")\n",
    "\n",
    "# Step 4: Retrieve data and convert WKT to geometry\n",
    "cur.execute(\"SELECT geometry, id FROM prev_blobs_wkt;\")\n",
    "rows = cur.fetchall()\n",
    "df_prev = pd.DataFrame(rows, columns=[\"geometry\", \"id\"])\n",
    "df_prev[\"geometry\"] = df_prev[\"geometry\"].apply(loads)  # Convert WKT to Shapely geometry\n",
    "print('df_prev:', df_prev.head())\n",
    "\n",
    "cur.execute(\"SELECT geometry, id FROM curr_blobs_wkt;\")\n",
    "rows = cur.fetchall()\n",
    "df_curr = pd.DataFrame(rows, columns=[\"geometry\", \"id\"])\n",
    "df_curr[\"geometry\"] = df_curr[\"geometry\"].apply(loads)  # Convert WKT to Shapely geometry\n",
    "print('df_curr:', df_curr.head())\n",
    "\n",
    "# Step 5: Close the connection\n",
    "cur.close()\n",
    "conn.close()"
   ]
  },
  {
   "cell_type": "markdown",
   "metadata": {},
   "source": [
    "Baseline - Polygon Matching Only"
   ]
  },
  {
   "cell_type": "markdown",
   "metadata": {},
   "source": []
  }
 ],
 "metadata": {
  "kernelspec": {
   "display_name": "geo",
   "language": "python",
   "name": "python3"
  },
  "language_info": {
   "codemirror_mode": {
    "name": "ipython",
    "version": 3
   },
   "file_extension": ".py",
   "mimetype": "text/x-python",
   "name": "python",
   "nbconvert_exporter": "python",
   "pygments_lexer": "ipython3",
   "version": "3.11.8"
  }
 },
 "nbformat": 4,
 "nbformat_minor": 2
}
