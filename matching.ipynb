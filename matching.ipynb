{
 "cells": [
  {
   "cell_type": "markdown",
   "metadata": {},
   "source": [
    "# Geospatial Matching Optimization"
   ]
  },
  {
   "cell_type": "markdown",
   "metadata": {},
   "source": [
    "This project is designed to showcase how to improve the speed of a polygon matching procedure. There are two main areas that could benefit from taking a \"geospatial-native\" approach:\n",
    "\n",
    "1. Data encoding, fetching, and storage\n",
    "2. Matching\n",
    "\n",
    "We will generate synthetic polygon data and use both a non-geospatial-native and geospatial-native approach, comparing execution time for both to see how they differ."
   ]
  },
  {
   "cell_type": "markdown",
   "metadata": {},
   "source": [
    "Note: Make sure that you have PostgreSQL running."
   ]
  },
  {
   "cell_type": "markdown",
   "metadata": {},
   "source": [
    "## Imports"
   ]
  },
  {
   "cell_type": "code",
   "execution_count": 847,
   "metadata": {},
   "outputs": [
    {
     "data": {
      "text/plain": [
       "<module 'helpers' from '/Users/sra/files/projects/matching_optimization/helpers.py'>"
      ]
     },
     "execution_count": 847,
     "metadata": {},
     "output_type": "execute_result"
    }
   ],
   "source": [
    "import geopandas as gpd\n",
    "import pandas as pd\n",
    "import shapely\n",
    "import h3\n",
    "import time\n",
    "import helpers as h\n",
    "import matplotlib.pyplot as plt\n",
    "from shapely.wkt import dumps, loads\n",
    "from pathlib import Path\n",
    "import multiprocessing as mp\n",
    "\n",
    "# ensure helpers is loaded correctly\n",
    "import importlib\n",
    "importlib.reload(h)"
   ]
  },
  {
   "cell_type": "markdown",
   "metadata": {},
   "source": [
    "## Retrieve Generated Test Data"
   ]
  },
  {
   "cell_type": "code",
   "execution_count": null,
   "metadata": {},
   "outputs": [],
   "source": [
    "prev_month_blobs = gpd.read"
   ]
  },
  {
   "cell_type": "code",
   "execution_count": 848,
   "metadata": {},
   "outputs": [
    {
     "name": "stdout",
     "output_type": "stream",
     "text": [
      "Function `generate_random_polygons` executed in 7.7752 sec, CPU: 8.20%, Memory: 1158.61MB\n",
      "Function `generate_random_polygons` executed in 7.8338 sec, CPU: 26.80%, Memory: 44.73MB\n"
     ]
    }
   ],
   "source": [
    "# Create two blobs of data\n",
    "prev_month_blobs = h.generate_random_polygons(n=10000)\n",
    "curr_month_blobs = h.generate_random_polygons(n=10000)"
   ]
  },
  {
   "cell_type": "code",
   "execution_count": 849,
   "metadata": {},
   "outputs": [
    {
     "data": {
      "text/html": [
       "<div>\n",
       "<style scoped>\n",
       "    .dataframe tbody tr th:only-of-type {\n",
       "        vertical-align: middle;\n",
       "    }\n",
       "\n",
       "    .dataframe tbody tr th {\n",
       "        vertical-align: top;\n",
       "    }\n",
       "\n",
       "    .dataframe thead th {\n",
       "        text-align: right;\n",
       "    }\n",
       "</style>\n",
       "<table border=\"1\" class=\"dataframe\">\n",
       "  <thead>\n",
       "    <tr style=\"text-align: right;\">\n",
       "      <th></th>\n",
       "      <th>geometry</th>\n",
       "      <th>id</th>\n",
       "      <th>geohash</th>\n",
       "    </tr>\n",
       "  </thead>\n",
       "  <tbody>\n",
       "    <tr>\n",
       "      <th>1481</th>\n",
       "      <td>POLYGON ((-98.33318 26.85044, -98.33318 26.883...</td>\n",
       "      <td>fddab117-f6ab-4881-8127-128ac4ae58b9</td>\n",
       "      <td>9uf0g4</td>\n",
       "    </tr>\n",
       "    <tr>\n",
       "      <th>7075</th>\n",
       "      <td>POLYGON ((-98.40704 26.96788, -98.40704 27.030...</td>\n",
       "      <td>bde1cd5c-8ac8-475c-b84b-c5cb93266430</td>\n",
       "      <td>9uf195</td>\n",
       "    </tr>\n",
       "    <tr>\n",
       "      <th>3128</th>\n",
       "      <td>POLYGON ((-98.53842 27.13548, -98.53842 27.222...</td>\n",
       "      <td>6853fb1d-7c65-420e-be8c-16c7a8ecf600</td>\n",
       "      <td>9ucfwe</td>\n",
       "    </tr>\n",
       "    <tr>\n",
       "      <th>2845</th>\n",
       "      <td>POLYGON ((-98.37208 27.25487, -98.37208 27.304...</td>\n",
       "      <td>80103b0a-b02f-4601-85f1-869910b993ac</td>\n",
       "      <td>9uf51y</td>\n",
       "    </tr>\n",
       "    <tr>\n",
       "      <th>7152</th>\n",
       "      <td>POLYGON ((-98.61008 27.28281, -98.61008 27.293...</td>\n",
       "      <td>23a91e74-7db6-4115-abee-86ca0141cea3</td>\n",
       "      <td>9ucghr</td>\n",
       "    </tr>\n",
       "  </tbody>\n",
       "</table>\n",
       "</div>"
      ],
      "text/plain": [
       "                                               geometry  \\\n",
       "1481  POLYGON ((-98.33318 26.85044, -98.33318 26.883...   \n",
       "7075  POLYGON ((-98.40704 26.96788, -98.40704 27.030...   \n",
       "3128  POLYGON ((-98.53842 27.13548, -98.53842 27.222...   \n",
       "2845  POLYGON ((-98.37208 27.25487, -98.37208 27.304...   \n",
       "7152  POLYGON ((-98.61008 27.28281, -98.61008 27.293...   \n",
       "\n",
       "                                        id geohash  \n",
       "1481  fddab117-f6ab-4881-8127-128ac4ae58b9  9uf0g4  \n",
       "7075  bde1cd5c-8ac8-475c-b84b-c5cb93266430  9uf195  \n",
       "3128  6853fb1d-7c65-420e-be8c-16c7a8ecf600  9ucfwe  \n",
       "2845  80103b0a-b02f-4601-85f1-869910b993ac  9uf51y  \n",
       "7152  23a91e74-7db6-4115-abee-86ca0141cea3  9ucghr  "
      ]
     },
     "execution_count": 849,
     "metadata": {},
     "output_type": "execute_result"
    }
   ],
   "source": [
    "prev_month_blobs.head()"
   ]
  },
  {
   "cell_type": "code",
   "execution_count": 850,
   "metadata": {},
   "outputs": [
    {
     "data": {
      "text/html": [
       "<div>\n",
       "<style scoped>\n",
       "    .dataframe tbody tr th:only-of-type {\n",
       "        vertical-align: middle;\n",
       "    }\n",
       "\n",
       "    .dataframe tbody tr th {\n",
       "        vertical-align: top;\n",
       "    }\n",
       "\n",
       "    .dataframe thead th {\n",
       "        text-align: right;\n",
       "    }\n",
       "</style>\n",
       "<table border=\"1\" class=\"dataframe\">\n",
       "  <thead>\n",
       "    <tr style=\"text-align: right;\">\n",
       "      <th></th>\n",
       "      <th>geometry</th>\n",
       "      <th>id</th>\n",
       "      <th>geohash</th>\n",
       "    </tr>\n",
       "  </thead>\n",
       "  <tbody>\n",
       "    <tr>\n",
       "      <th>9272</th>\n",
       "      <td>POLYGON ((-81.14114 27.05090, -81.14114 27.140...</td>\n",
       "      <td>473effa9-7024-4216-9b36-1e5b2d161626</td>\n",
       "      <td>dhy64s</td>\n",
       "    </tr>\n",
       "    <tr>\n",
       "      <th>8705</th>\n",
       "      <td>POLYGON ((-81.16978 27.28284, -81.16978 27.327...</td>\n",
       "      <td>ac7c1af1-6313-4b1d-89a0-c2511dc92620</td>\n",
       "      <td>dhy734</td>\n",
       "    </tr>\n",
       "    <tr>\n",
       "      <th>9306</th>\n",
       "      <td>POLYGON ((-81.45964 27.40301, -81.45964 27.498...</td>\n",
       "      <td>12a411d1-fb8a-482a-964d-6044de891a2b</td>\n",
       "      <td>dhyh4t</td>\n",
       "    </tr>\n",
       "    <tr>\n",
       "      <th>5612</th>\n",
       "      <td>POLYGON ((-81.07037 27.58944, -81.07037 27.599...</td>\n",
       "      <td>d21a8f9e-2ef9-4a76-a87b-696b2981b7fd</td>\n",
       "      <td>dhykgz</td>\n",
       "    </tr>\n",
       "    <tr>\n",
       "      <th>8262</th>\n",
       "      <td>POLYGON ((-81.47784 27.73694, -81.47784 27.824...</td>\n",
       "      <td>6cbd5348-7fb7-48b5-b1e3-24c04f942f1b</td>\n",
       "      <td>dhyn41</td>\n",
       "    </tr>\n",
       "  </tbody>\n",
       "</table>\n",
       "</div>"
      ],
      "text/plain": [
       "                                               geometry  \\\n",
       "9272  POLYGON ((-81.14114 27.05090, -81.14114 27.140...   \n",
       "8705  POLYGON ((-81.16978 27.28284, -81.16978 27.327...   \n",
       "9306  POLYGON ((-81.45964 27.40301, -81.45964 27.498...   \n",
       "5612  POLYGON ((-81.07037 27.58944, -81.07037 27.599...   \n",
       "8262  POLYGON ((-81.47784 27.73694, -81.47784 27.824...   \n",
       "\n",
       "                                        id geohash  \n",
       "9272  473effa9-7024-4216-9b36-1e5b2d161626  dhy64s  \n",
       "8705  ac7c1af1-6313-4b1d-89a0-c2511dc92620  dhy734  \n",
       "9306  12a411d1-fb8a-482a-964d-6044de891a2b  dhyh4t  \n",
       "5612  d21a8f9e-2ef9-4a76-a87b-696b2981b7fd  dhykgz  \n",
       "8262  6cbd5348-7fb7-48b5-b1e3-24c04f942f1b  dhyn41  "
      ]
     },
     "execution_count": 850,
     "metadata": {},
     "output_type": "execute_result"
    }
   ],
   "source": [
    "curr_month_blobs.head()"
   ]
  },
  {
   "cell_type": "code",
   "execution_count": 851,
   "metadata": {},
   "outputs": [],
   "source": [
    "# make data folder\n",
    "Path('data/').mkdir(exist_ok=True)\n",
    "\n",
    "# save as geoparquet\n",
    "prev_month_blobs.to_parquet('data/prev_month_blobs.parquet')\n",
    "curr_month_blobs.to_parquet('data/curr_month_blobs.parquet')"
   ]
  },
  {
   "cell_type": "code",
   "execution_count": 852,
   "metadata": {},
   "outputs": [],
   "source": [
    "# range_ = 10000\n",
    "\n",
    "# fig, ax = plt.subplots(figsize=(5, 5))\n",
    "# prev_month_blobs.iloc[0:range_].plot(ax=ax)\n",
    "# ax.set_title(f'Viewing the first {range_} blobs')\n",
    "# plt.tight_layout()\n",
    "\n",
    "# plt.show()"
   ]
  },
  {
   "cell_type": "code",
   "execution_count": 853,
   "metadata": {},
   "outputs": [
    {
     "data": {
      "text/html": [
       "<div>\n",
       "<style scoped>\n",
       "    .dataframe tbody tr th:only-of-type {\n",
       "        vertical-align: middle;\n",
       "    }\n",
       "\n",
       "    .dataframe tbody tr th {\n",
       "        vertical-align: top;\n",
       "    }\n",
       "\n",
       "    .dataframe thead th {\n",
       "        text-align: right;\n",
       "    }\n",
       "</style>\n",
       "<table border=\"1\" class=\"dataframe\">\n",
       "  <thead>\n",
       "    <tr style=\"text-align: right;\">\n",
       "      <th></th>\n",
       "      <th>geometry</th>\n",
       "      <th>id</th>\n",
       "      <th>geohash</th>\n",
       "    </tr>\n",
       "  </thead>\n",
       "  <tbody>\n",
       "    <tr>\n",
       "      <th>1481</th>\n",
       "      <td>POLYGON ((-98.33318 26.85044, -98.33318 26.883...</td>\n",
       "      <td>fddab117-f6ab-4881-8127-128ac4ae58b9</td>\n",
       "      <td>9uf0g4</td>\n",
       "    </tr>\n",
       "    <tr>\n",
       "      <th>7075</th>\n",
       "      <td>POLYGON ((-98.40704 26.96788, -98.40704 27.030...</td>\n",
       "      <td>bde1cd5c-8ac8-475c-b84b-c5cb93266430</td>\n",
       "      <td>9uf195</td>\n",
       "    </tr>\n",
       "    <tr>\n",
       "      <th>3128</th>\n",
       "      <td>POLYGON ((-98.53842 27.13548, -98.53842 27.222...</td>\n",
       "      <td>6853fb1d-7c65-420e-be8c-16c7a8ecf600</td>\n",
       "      <td>9ucfwe</td>\n",
       "    </tr>\n",
       "    <tr>\n",
       "      <th>2845</th>\n",
       "      <td>POLYGON ((-98.37208 27.25487, -98.37208 27.304...</td>\n",
       "      <td>80103b0a-b02f-4601-85f1-869910b993ac</td>\n",
       "      <td>9uf51y</td>\n",
       "    </tr>\n",
       "    <tr>\n",
       "      <th>7152</th>\n",
       "      <td>POLYGON ((-98.61008 27.28281, -98.61008 27.293...</td>\n",
       "      <td>23a91e74-7db6-4115-abee-86ca0141cea3</td>\n",
       "      <td>9ucghr</td>\n",
       "    </tr>\n",
       "  </tbody>\n",
       "</table>\n",
       "</div>"
      ],
      "text/plain": [
       "                                               geometry  \\\n",
       "1481  POLYGON ((-98.33318 26.85044, -98.33318 26.883...   \n",
       "7075  POLYGON ((-98.40704 26.96788, -98.40704 27.030...   \n",
       "3128  POLYGON ((-98.53842 27.13548, -98.53842 27.222...   \n",
       "2845  POLYGON ((-98.37208 27.25487, -98.37208 27.304...   \n",
       "7152  POLYGON ((-98.61008 27.28281, -98.61008 27.293...   \n",
       "\n",
       "                                        id geohash  \n",
       "1481  fddab117-f6ab-4881-8127-128ac4ae58b9  9uf0g4  \n",
       "7075  bde1cd5c-8ac8-475c-b84b-c5cb93266430  9uf195  \n",
       "3128  6853fb1d-7c65-420e-be8c-16c7a8ecf600  9ucfwe  \n",
       "2845  80103b0a-b02f-4601-85f1-869910b993ac  9uf51y  \n",
       "7152  23a91e74-7db6-4115-abee-86ca0141cea3  9ucghr  "
      ]
     },
     "execution_count": 853,
     "metadata": {},
     "output_type": "execute_result"
    }
   ],
   "source": [
    "prev_month_blobs.head()"
   ]
  },
  {
   "cell_type": "markdown",
   "metadata": {},
   "source": [
    "## Non-optimized process"
   ]
  },
  {
   "cell_type": "markdown",
   "metadata": {},
   "source": [
    "### 1. Data encoding, storage, and fetching"
   ]
  },
  {
   "cell_type": "markdown",
   "metadata": {},
   "source": [
    "We will use PostgreSQL and string storage for geographic information."
   ]
  },
  {
   "cell_type": "markdown",
   "metadata": {},
   "source": [
    "#### Make copy of polygon layer and convert to non-geospatial-native string (WKT) datatype"
   ]
  },
  {
   "cell_type": "code",
   "execution_count": 854,
   "metadata": {},
   "outputs": [],
   "source": [
    "# copy the gdfs\n",
    "prev_month_blobs_wkt = prev_month_blobs.copy()\n",
    "curr_month_blobs_wkt = curr_month_blobs.copy()"
   ]
  },
  {
   "cell_type": "code",
   "execution_count": 855,
   "metadata": {},
   "outputs": [
    {
     "name": "stdout",
     "output_type": "stream",
     "text": [
      "Function `convert_col_to_string` executed in 0.0498 sec, CPU: 42.90%, Memory: 3.64MB\n",
      "Function `convert_col_to_string` executed in 0.0481 sec, CPU: 0.00%, Memory: 0.06MB\n",
      "                                               geometry  \\\n",
      "1481  POLYGON ((-98.333176 26.850443, -98.333176 26....   \n",
      "7075  POLYGON ((-98.407035 26.967882, -98.407035 27....   \n",
      "3128  POLYGON ((-98.538421 27.135484, -98.538421 27....   \n",
      "2845  POLYGON ((-98.372078 27.25487, -98.372078 27.3...   \n",
      "7152  POLYGON ((-98.610077 27.282811, -98.610077 27....   \n",
      "\n",
      "                                        id geohash  \n",
      "1481  fddab117-f6ab-4881-8127-128ac4ae58b9  9uf0g4  \n",
      "7075  bde1cd5c-8ac8-475c-b84b-c5cb93266430  9uf195  \n",
      "3128  6853fb1d-7c65-420e-be8c-16c7a8ecf600  9ucfwe  \n",
      "2845  80103b0a-b02f-4601-85f1-869910b993ac  9uf51y  \n",
      "7152  23a91e74-7db6-4115-abee-86ca0141cea3  9ucghr  \n"
     ]
    },
    {
     "name": "stderr",
     "output_type": "stream",
     "text": [
      "/Users/sra/files/projects/matching_optimization/helpers.py:306: UserWarning: Geometry column does not contain geometry.\n",
      "  df[col] = df[col].apply(lambda geom: to_wkt(geom) if isinstance(geom, BaseGeometry) else str(geom))\n",
      "/Users/sra/files/projects/matching_optimization/helpers.py:306: UserWarning: Geometry column does not contain geometry.\n",
      "  df[col] = df[col].apply(lambda geom: to_wkt(geom) if isinstance(geom, BaseGeometry) else str(geom))\n"
     ]
    }
   ],
   "source": [
    "# Convert WKT versions to strings\n",
    "dfs_to_convert = [prev_month_blobs_wkt, curr_month_blobs_wkt]\n",
    "prev_month_blobs_wkt, curr_month_blobs_wkt = [h.convert_col_to_string(df) for df in dfs_to_convert]\n",
    "\n",
    "# Check result\n",
    "print(prev_month_blobs_wkt.head())"
   ]
  },
  {
   "cell_type": "markdown",
   "metadata": {},
   "source": [
    "### Save in PostgreSQL database"
   ]
  },
  {
   "cell_type": "markdown",
   "metadata": {},
   "source": [
    "This is a simple version of what a \"non-geospatial-native\" data ingestion pipeline may look like, with the primary example being that the polygons are stored as strings, not in a spatial-friendly datatype."
   ]
  },
  {
   "cell_type": "code",
   "execution_count": 856,
   "metadata": {},
   "outputs": [
    {
     "name": "stdout",
     "output_type": "stream",
     "text": [
      "Function `df_itertuple` executed in 0.0033 sec, CPU: 0.00%, Memory: 0.00MB\n",
      "Function `df_itertuple` executed in 0.0027 sec, CPU: 0.00%, Memory: 0.00MB\n"
     ]
    }
   ],
   "source": [
    "# Convert to tuples\n",
    "prev_month_blobs_wkt = h.df_itertuple(prev_month_blobs_wkt)\n",
    "curr_month_blobs_wkt = h.df_itertuple(curr_month_blobs_wkt)"
   ]
  },
  {
   "cell_type": "markdown",
   "metadata": {},
   "source": [
    "Create PostgreSQL database if it doesn't exist already. We will be using the default settings. If they need to be adjusted, refer to [`helpers.py`](helpers.py)."
   ]
  },
  {
   "cell_type": "code",
   "execution_count": 857,
   "metadata": {},
   "outputs": [
    {
     "name": "stdout",
     "output_type": "stream",
     "text": [
      "Database blob_matching already exists.\n",
      "Function `create_pg_db` executed in 0.0263 sec, CPU: 0.00%, Memory: 0.00MB\n"
     ]
    }
   ],
   "source": [
    "h.create_pg_db()"
   ]
  },
  {
   "cell_type": "markdown",
   "metadata": {},
   "source": [
    "Create and insert into tables:"
   ]
  },
  {
   "cell_type": "code",
   "execution_count": 858,
   "metadata": {},
   "outputs": [
    {
     "data": {
      "text/html": [
       "<div>\n",
       "<style scoped>\n",
       "    .dataframe tbody tr th:only-of-type {\n",
       "        vertical-align: middle;\n",
       "    }\n",
       "\n",
       "    .dataframe tbody tr th {\n",
       "        vertical-align: top;\n",
       "    }\n",
       "\n",
       "    .dataframe thead th {\n",
       "        text-align: right;\n",
       "    }\n",
       "</style>\n",
       "<table border=\"1\" class=\"dataframe\">\n",
       "  <thead>\n",
       "    <tr style=\"text-align: right;\">\n",
       "      <th></th>\n",
       "      <th>geometry</th>\n",
       "      <th>id</th>\n",
       "      <th>geohash</th>\n",
       "    </tr>\n",
       "  </thead>\n",
       "  <tbody>\n",
       "    <tr>\n",
       "      <th>1481</th>\n",
       "      <td>POLYGON ((-98.33318 26.85044, -98.33318 26.883...</td>\n",
       "      <td>fddab117-f6ab-4881-8127-128ac4ae58b9</td>\n",
       "      <td>9uf0g4</td>\n",
       "    </tr>\n",
       "  </tbody>\n",
       "</table>\n",
       "</div>"
      ],
      "text/plain": [
       "                                               geometry  \\\n",
       "1481  POLYGON ((-98.33318 26.85044, -98.33318 26.883...   \n",
       "\n",
       "                                        id geohash  \n",
       "1481  fddab117-f6ab-4881-8127-128ac4ae58b9  9uf0g4  "
      ]
     },
     "execution_count": 858,
     "metadata": {},
     "output_type": "execute_result"
    }
   ],
   "source": [
    "prev_month_blobs.head(1)"
   ]
  },
  {
   "cell_type": "code",
   "execution_count": 859,
   "metadata": {},
   "outputs": [
    {
     "data": {
      "text/plain": [
       "('POLYGON ((-98.333176 26.850443, -98.333176 26.883512, -98.275705 26.883512, -98.275705 26.850443, -98.333176 26.850443))',\n",
       " 'fddab117-f6ab-4881-8127-128ac4ae58b9',\n",
       " '9uf0g4')"
      ]
     },
     "execution_count": 859,
     "metadata": {},
     "output_type": "execute_result"
    }
   ],
   "source": [
    "prev_month_blobs_wkt[0]"
   ]
  },
  {
   "cell_type": "code",
   "execution_count": 860,
   "metadata": {},
   "outputs": [
    {
     "name": "stdout",
     "output_type": "stream",
     "text": [
      "Table prev_blobs_wkt truncated.\n",
      "Inserted 10000 records into prev_blobs_wkt.\n",
      "Function `create_pg_table` executed in 0.4013 sec, CPU: 0.00%, Memory: 0.00MB\n",
      "Table curr_blobs_wkt truncated.\n",
      "Inserted 10000 records into curr_blobs_wkt.\n",
      "Function `create_pg_table` executed in 0.3766 sec, CPU: 29.00%, Memory: 39.94MB\n"
     ]
    }
   ],
   "source": [
    "h.create_pg_table(table_name='prev_blobs_wkt', data=prev_month_blobs_wkt, truncate=True)\n",
    "h.create_pg_table(table_name='curr_blobs_wkt', data=curr_month_blobs_wkt, truncate=True)"
   ]
  },
  {
   "cell_type": "markdown",
   "metadata": {},
   "source": [
    "Retrieve data as GeoDataFrames to confirm that it worked:"
   ]
  },
  {
   "cell_type": "code",
   "execution_count": 861,
   "metadata": {},
   "outputs": [
    {
     "name": "stdout",
     "output_type": "stream",
     "text": [
      "Retrieved 10000 records from prev_blobs_wkt.\n",
      "Function `retrieve_pg_table` executed in 0.0460 sec, CPU: 3.90%, Memory: 1.58MB\n",
      "Retrieved 10000 records from curr_blobs_wkt.\n",
      "Function `retrieve_pg_table` executed in 0.0436 sec, CPU: 0.00%, Memory: 0.00MB\n"
     ]
    }
   ],
   "source": [
    "df_prev = h.retrieve_pg_table(table_name='prev_blobs_wkt')\n",
    "df_curr = h.retrieve_pg_table(table_name='curr_blobs_wkt')"
   ]
  },
  {
   "cell_type": "markdown",
   "metadata": {},
   "source": [
    "Compare the tables before and after for a sanity check:"
   ]
  },
  {
   "cell_type": "code",
   "execution_count": 862,
   "metadata": {},
   "outputs": [
    {
     "data": {
      "text/html": [
       "<div>\n",
       "<style scoped>\n",
       "    .dataframe tbody tr th:only-of-type {\n",
       "        vertical-align: middle;\n",
       "    }\n",
       "\n",
       "    .dataframe tbody tr th {\n",
       "        vertical-align: top;\n",
       "    }\n",
       "\n",
       "    .dataframe thead th {\n",
       "        text-align: right;\n",
       "    }\n",
       "</style>\n",
       "<table border=\"1\" class=\"dataframe\">\n",
       "  <thead>\n",
       "    <tr style=\"text-align: right;\">\n",
       "      <th></th>\n",
       "      <th>geometry</th>\n",
       "      <th>id</th>\n",
       "      <th>geohash</th>\n",
       "    </tr>\n",
       "  </thead>\n",
       "  <tbody>\n",
       "    <tr>\n",
       "      <th>0</th>\n",
       "      <td>POLYGON ((-98.333176 26.850443, -98.333176 26....</td>\n",
       "      <td>fddab117-f6ab-4881-8127-128ac4ae58b9</td>\n",
       "      <td>9uf0g4</td>\n",
       "    </tr>\n",
       "    <tr>\n",
       "      <th>1</th>\n",
       "      <td>POLYGON ((-98.407035 26.967882, -98.407035 27....</td>\n",
       "      <td>bde1cd5c-8ac8-475c-b84b-c5cb93266430</td>\n",
       "      <td>9uf195</td>\n",
       "    </tr>\n",
       "    <tr>\n",
       "      <th>2</th>\n",
       "      <td>POLYGON ((-98.538421 27.135484, -98.538421 27....</td>\n",
       "      <td>6853fb1d-7c65-420e-be8c-16c7a8ecf600</td>\n",
       "      <td>9ucfwe</td>\n",
       "    </tr>\n",
       "    <tr>\n",
       "      <th>3</th>\n",
       "      <td>POLYGON ((-98.372078 27.25487, -98.372078 27.3...</td>\n",
       "      <td>80103b0a-b02f-4601-85f1-869910b993ac</td>\n",
       "      <td>9uf51y</td>\n",
       "    </tr>\n",
       "    <tr>\n",
       "      <th>4</th>\n",
       "      <td>POLYGON ((-98.610077 27.282811, -98.610077 27....</td>\n",
       "      <td>23a91e74-7db6-4115-abee-86ca0141cea3</td>\n",
       "      <td>9ucghr</td>\n",
       "    </tr>\n",
       "  </tbody>\n",
       "</table>\n",
       "</div>"
      ],
      "text/plain": [
       "                                            geometry  \\\n",
       "0  POLYGON ((-98.333176 26.850443, -98.333176 26....   \n",
       "1  POLYGON ((-98.407035 26.967882, -98.407035 27....   \n",
       "2  POLYGON ((-98.538421 27.135484, -98.538421 27....   \n",
       "3  POLYGON ((-98.372078 27.25487, -98.372078 27.3...   \n",
       "4  POLYGON ((-98.610077 27.282811, -98.610077 27....   \n",
       "\n",
       "                                     id geohash  \n",
       "0  fddab117-f6ab-4881-8127-128ac4ae58b9  9uf0g4  \n",
       "1  bde1cd5c-8ac8-475c-b84b-c5cb93266430  9uf195  \n",
       "2  6853fb1d-7c65-420e-be8c-16c7a8ecf600  9ucfwe  \n",
       "3  80103b0a-b02f-4601-85f1-869910b993ac  9uf51y  \n",
       "4  23a91e74-7db6-4115-abee-86ca0141cea3  9ucghr  "
      ]
     },
     "execution_count": 862,
     "metadata": {},
     "output_type": "execute_result"
    }
   ],
   "source": [
    "df_prev.head()"
   ]
  },
  {
   "cell_type": "code",
   "execution_count": 863,
   "metadata": {},
   "outputs": [
    {
     "data": {
      "text/html": [
       "<div>\n",
       "<style scoped>\n",
       "    .dataframe tbody tr th:only-of-type {\n",
       "        vertical-align: middle;\n",
       "    }\n",
       "\n",
       "    .dataframe tbody tr th {\n",
       "        vertical-align: top;\n",
       "    }\n",
       "\n",
       "    .dataframe thead th {\n",
       "        text-align: right;\n",
       "    }\n",
       "</style>\n",
       "<table border=\"1\" class=\"dataframe\">\n",
       "  <thead>\n",
       "    <tr style=\"text-align: right;\">\n",
       "      <th></th>\n",
       "      <th>geometry</th>\n",
       "      <th>id</th>\n",
       "      <th>geohash</th>\n",
       "    </tr>\n",
       "  </thead>\n",
       "  <tbody>\n",
       "    <tr>\n",
       "      <th>1481</th>\n",
       "      <td>POLYGON ((-98.33318 26.85044, -98.33318 26.883...</td>\n",
       "      <td>fddab117-f6ab-4881-8127-128ac4ae58b9</td>\n",
       "      <td>9uf0g4</td>\n",
       "    </tr>\n",
       "    <tr>\n",
       "      <th>7075</th>\n",
       "      <td>POLYGON ((-98.40704 26.96788, -98.40704 27.030...</td>\n",
       "      <td>bde1cd5c-8ac8-475c-b84b-c5cb93266430</td>\n",
       "      <td>9uf195</td>\n",
       "    </tr>\n",
       "    <tr>\n",
       "      <th>3128</th>\n",
       "      <td>POLYGON ((-98.53842 27.13548, -98.53842 27.222...</td>\n",
       "      <td>6853fb1d-7c65-420e-be8c-16c7a8ecf600</td>\n",
       "      <td>9ucfwe</td>\n",
       "    </tr>\n",
       "    <tr>\n",
       "      <th>2845</th>\n",
       "      <td>POLYGON ((-98.37208 27.25487, -98.37208 27.304...</td>\n",
       "      <td>80103b0a-b02f-4601-85f1-869910b993ac</td>\n",
       "      <td>9uf51y</td>\n",
       "    </tr>\n",
       "    <tr>\n",
       "      <th>7152</th>\n",
       "      <td>POLYGON ((-98.61008 27.28281, -98.61008 27.293...</td>\n",
       "      <td>23a91e74-7db6-4115-abee-86ca0141cea3</td>\n",
       "      <td>9ucghr</td>\n",
       "    </tr>\n",
       "  </tbody>\n",
       "</table>\n",
       "</div>"
      ],
      "text/plain": [
       "                                               geometry  \\\n",
       "1481  POLYGON ((-98.33318 26.85044, -98.33318 26.883...   \n",
       "7075  POLYGON ((-98.40704 26.96788, -98.40704 27.030...   \n",
       "3128  POLYGON ((-98.53842 27.13548, -98.53842 27.222...   \n",
       "2845  POLYGON ((-98.37208 27.25487, -98.37208 27.304...   \n",
       "7152  POLYGON ((-98.61008 27.28281, -98.61008 27.293...   \n",
       "\n",
       "                                        id geohash  \n",
       "1481  fddab117-f6ab-4881-8127-128ac4ae58b9  9uf0g4  \n",
       "7075  bde1cd5c-8ac8-475c-b84b-c5cb93266430  9uf195  \n",
       "3128  6853fb1d-7c65-420e-be8c-16c7a8ecf600  9ucfwe  \n",
       "2845  80103b0a-b02f-4601-85f1-869910b993ac  9uf51y  \n",
       "7152  23a91e74-7db6-4115-abee-86ca0141cea3  9ucghr  "
      ]
     },
     "execution_count": 863,
     "metadata": {},
     "output_type": "execute_result"
    }
   ],
   "source": [
    "prev_month_blobs.head()"
   ]
  },
  {
   "cell_type": "code",
   "execution_count": 864,
   "metadata": {},
   "outputs": [
    {
     "name": "stdout",
     "output_type": "stream",
     "text": [
      "Number of matching geometries: 10000\n",
      "Missing geometries in retrieved table: 0\n",
      "Extra geometries in retrieved table: 0\n"
     ]
    }
   ],
   "source": [
    "def round_geometry(geom, precision=6):\n",
    "    \"\"\"Round all coordinates of a geometry to a given precision.\"\"\"\n",
    "    return shapely.wkt.loads(shapely.wkt.dumps(geom, rounding_precision=precision))\n",
    "\n",
    "# Convert both to sets of rounded WKT strings\n",
    "set_prev_month_blobs = set(prev_month_blobs['geometry'].apply(lambda g: round_geometry(g, precision=6).wkt))\n",
    "set_df_prev = set(df_prev['geometry'].apply(lambda g: round_geometry(g, precision=6).wkt))\n",
    "\n",
    "# Find common, missing, and extra geometries\n",
    "common_geometries = set_prev_month_blobs & set_df_prev\n",
    "missing_from_retrieved = set_prev_month_blobs - set_df_prev\n",
    "extra_in_retrieved = set_df_prev - set_prev_month_blobs\n",
    "\n",
    "# Print summary\n",
    "print(f\"Number of matching geometries: {len(common_geometries)}\")\n",
    "print(f\"Missing geometries in retrieved table: {len(missing_from_retrieved)}\")\n",
    "print(f\"Extra geometries in retrieved table: {len(extra_in_retrieved)}\")\n",
    "\n",
    "# Show an example missing/extra geometry for debugging\n",
    "if missing_from_retrieved:\n",
    "    print(\"Example missing record:\", next(iter(missing_from_retrieved)))\n",
    "\n",
    "if extra_in_retrieved:\n",
    "    print(\"Example extra record:\", next(iter(extra_in_retrieved)))"
   ]
  },
  {
   "cell_type": "markdown",
   "metadata": {},
   "source": [
    "It worked!"
   ]
  },
  {
   "cell_type": "markdown",
   "metadata": {},
   "source": [
    "### 2. Matching"
   ]
  },
  {
   "cell_type": "markdown",
   "metadata": {},
   "source": [
    "We will match the polygons using GeoPandas."
   ]
  },
  {
   "cell_type": "code",
   "execution_count": 865,
   "metadata": {},
   "outputs": [
    {
     "name": "stdout",
     "output_type": "stream",
     "text": [
      "Table matched_results created successfully.\n",
      "Retrieved 10000 records from prev_blobs_wkt.\n",
      "Function `match_geometries` executed in 0.0045 sec, CPU: 13.40%, Memory: 0.72MB\n",
      "Function `match_geometries` executed in 0.0067 sec, CPU: 29.10%, Memory: 0.72MB\n",
      "Function `match_geometries` executed in 0.0043 sec, CPU: 79.90%, Memory: 0.12MB\n",
      "Function `match_geometries` executed in 0.0054 sec, CPU: 18.20%, Memory: 0.11MB\n",
      "Function `match_geometries` executed in 0.0060 sec, CPU: 60.90%, Memory: 4.98MB\n",
      "Function `run_parallel_matching` executed in 42.3933 sec, CPU: 64.80%, Memory: 317.17MB\n"
     ]
    }
   ],
   "source": [
    "postgresql_details = h.pg_details()\n",
    "h.run_parallel_matching(table_prev='prev_blobs_wkt', \n",
    "                        table_curr='curr_blobs_wkt', \n",
    "                        output_table='matched_results', \n",
    "                        postgresql_details=postgresql_details, \n",
    "                        db_name='blob_matching', \n",
    "                        num_workers=4, \n",
    "                        batch_size=100)"
   ]
  },
  {
   "cell_type": "code",
   "execution_count": null,
   "metadata": {},
   "outputs": [
    {
     "name": "stdout",
     "output_type": "stream",
     "text": [
      "Retrieved 10000 records from prev_blobs_wkt.\n",
      "Retrieved 10000 records from curr_blobs_wkt.\n",
      "Function `match_geometries` executed in 0.0052 sec, CPU: 21.40%, Memory: 0.47MB\n"
     ]
    },
    {
     "data": {
      "text/plain": [
       "[]"
      ]
     },
     "execution_count": 827,
     "metadata": {},
     "output_type": "execute_result"
    }
   ],
   "source": [
    "# testing logging for matching_geometries\n",
    "df_prev = h._retrieve_pg_table(postgresql_details, 'blob_matching', \"prev_blobs_wkt\", log_enabled=True)\n",
    "df_curr = h._retrieve_pg_table(postgresql_details, 'blob_matching', \"curr_blobs_wkt\", log_enabled=True)\n",
    "\n",
    "# Use a small subset for testing\n",
    "df_prev_sample = df_prev.sample(10, random_state=42)\n",
    "df_curr_sample = df_curr.sample(10, random_state=42)\n",
    "\n",
    "h.match_geometries(df_prev_sample, df_curr_sample)  # Check if this logs matches"
   ]
  },
  {
   "cell_type": "markdown",
   "metadata": {},
   "source": []
  },
  {
   "cell_type": "code",
   "execution_count": 866,
   "metadata": {},
   "outputs": [],
   "source": [
    "prev_month_blobs.to_file('data/prev_month_blobs.geojson')\n",
    "curr_month_blobs.to_file('data/curr_month_blobs.geojson')"
   ]
  },
  {
   "cell_type": "code",
   "execution_count": null,
   "metadata": {},
   "outputs": [],
   "source": []
  },
  {
   "cell_type": "markdown",
   "metadata": {},
   "source": [
    "geohash polygon into a larger region\n",
    "match blobs using multiprocessing (mp.Process) and geopandas\n",
    "find blobs from previous month that do not have a match\n",
    "\n",
    "# 1 imports and setup\n",
    "\n",
    "```python\n",
    "import os, sys, traceback\n",
    "import argparse\n",
    "import cv2\n",
    "import time\n",
    "import numpy as np\n",
    "import pandas as pd\n",
    "import geopandas as gpd\n",
    "from skimage import io, color, measure\n",
    "from tqdm import tqdm\n",
    "from shapely import wkt\n",
    "from shapely.geometry import Point, Polygon\n",
    "from shapely.validation import make_valid\n",
    "import PIL\n",
    "from PIL import Image, ImageDraw, ImageEnhance\n",
    "import uuid\n",
    "import multiprocessing as mp\n",
    "from datetime import datetime\n",
    "from sqlalchemy import or_\n",
    "from sqlmodel import SQLModel, Session, create_engine, select\n",
    "from pathlib import Path\n",
    "```\n",
    "\n",
    "## Key takeaways\n",
    "- Uses Pandas and GeoPandas for data processing.\n",
    "- Uses Shapely for geospatial geometry operations.\n",
    "- Uses multiprocessing (mp) to parallelize the blob-matching process.\n",
    "- Uses SQLAlchemy and SQLModel for database operations.\n",
    "\n",
    "# 2 High-level script overview\n",
    "The script is designed to match blobs (spatial objects) between two months and classify them into different business categories.\n",
    "\n",
    "General Workflow\n",
    "1. Fetch blobs from the previous and current months.\n",
    "1. Convert the region of interest (state, city, county, or geohash) into a list of geohashes.\n",
    "1. Parallelized Matching Process:\n",
    "1. Process multiple geohashes at once using multiprocessing.\n",
    "1. Find corresponding blobs from previous months for each geohash.\n",
    "1. Classify blobs based on construction stage progression.\n",
    "1. Identify blobs that are missing in the current month and \"impute\" them.\n",
    "1. Save results into the database.\n",
    "\n",
    "# 3 Blob classification logic\n",
    "\n",
    "# 4 Blob matching\n",
    "\n",
    "- Matches blobs between months using polygon intersections.\n",
    "- Uses Shapely to validate geometries and check for overlaps.\n",
    "- Returns matched blob IDs.\n",
    "\n",
    "## Multiprocessing Optimization\n",
    "The script parallelizes blob matching by:\n",
    "- Uses multiprocessing (mp.Process) to divide the dataset into smaller batches.\n",
    "- Each batch of blobs is processed in parallel.\n",
    "- Reduces runtime compared to a single-threaded approach.\n",
    "\n",
    "# 5 Handling unmatched blobs\n",
    "- Finds blobs from the previous month that do not have a match in the current month.\n",
    "- These blobs are \"imputed\", meaning they are carried over into the new month.\n",
    "\n",
    "# 6 Main class to orchestrate process\n",
    "- Loads previous and current month blobs.\n",
    "- Converts input regions (state, city, county) into geohashes.\n",
    "\n",
    "# Summary\n",
    "- Parallel processing is used to match blobs.\n",
    "- Blobs are classified based on construction stages.\n",
    "- Unmatched blobs are imputed for continuity.\n",
    "- The script writes results to a database."
   ]
  },
  {
   "cell_type": "markdown",
   "metadata": {},
   "source": []
  }
 ],
 "metadata": {
  "kernelspec": {
   "display_name": "geo",
   "language": "python",
   "name": "python3"
  },
  "language_info": {
   "codemirror_mode": {
    "name": "ipython",
    "version": 3
   },
   "file_extension": ".py",
   "mimetype": "text/x-python",
   "name": "python",
   "nbconvert_exporter": "python",
   "pygments_lexer": "ipython3",
   "version": "3.11.8"
  }
 },
 "nbformat": 4,
 "nbformat_minor": 2
}
