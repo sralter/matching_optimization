{
 "cells": [
  {
   "cell_type": "markdown",
   "metadata": {},
   "source": [
    "# Geospatial Matching Optimization"
   ]
  },
  {
   "cell_type": "markdown",
   "metadata": {},
   "source": [
    "This project is designed to showcase how to improve the speed of a polygon matching procedure. There are two main areas that could benefit from taking a \"geospatial-native\" approach:\n",
    "\n",
    "1. Data encoding, fetching, and storage\n",
    "2. Matching\n",
    "\n",
    "We will generate synthetic polygon data and use both a non-geospatial-native and geospatial-native approach, comparing execution time for both to see how they differ."
   ]
  },
  {
   "cell_type": "markdown",
   "metadata": {},
   "source": [
    "## Imports"
   ]
  },
  {
   "cell_type": "code",
   "execution_count": 874,
   "metadata": {},
   "outputs": [
    {
     "name": "stdout",
     "output_type": "stream",
     "text": [
      "Created fresh logs/timing_results.csv\n",
      "Created fresh logs/timing.log\n"
     ]
    },
    {
     "data": {
      "text/plain": [
       "<module 'helpers' from '/Users/sra/files/projects/matching_optimization/helpers.py'>"
      ]
     },
     "execution_count": 874,
     "metadata": {},
     "output_type": "execute_result"
    }
   ],
   "source": [
    "import geopandas as gpd\n",
    "import pandas as pd\n",
    "import shapely\n",
    "import h3\n",
    "import time\n",
    "import helpers as h\n",
    "import matplotlib.pyplot as plt\n",
    "from shapely.wkt import dumps, loads\n",
    "from pathlib import Path\n",
    "import multiprocessing as mp\n",
    "\n",
    "# ensure helpers is loaded correctly\n",
    "import importlib\n",
    "importlib.reload(h)"
   ]
  },
  {
   "cell_type": "markdown",
   "metadata": {},
   "source": [
    "## Retrieve Generated Test Data"
   ]
  },
  {
   "cell_type": "code",
   "execution_count": 875,
   "metadata": {},
   "outputs": [],
   "source": [
    "prev_month_blobs = gpd.read_parquet('data/prev_month_blobs.parquet')\n",
    "curr_month_blobs = gpd.read_parquet('data/curr_month_blobs.parquet')"
   ]
  },
  {
   "cell_type": "code",
   "execution_count": 896,
   "metadata": {},
   "outputs": [],
   "source": [
    "# save to geojson to confirm in QGIS\n",
    "prev_month_blobs.to_file('data/prev_month_blobs.geojson')\n",
    "curr_month_blobs.to_file('data/curr_month_blobs.geojson')"
   ]
  },
  {
   "cell_type": "code",
   "execution_count": 876,
   "metadata": {},
   "outputs": [
    {
     "data": {
      "text/html": [
       "<div>\n",
       "<style scoped>\n",
       "    .dataframe tbody tr th:only-of-type {\n",
       "        vertical-align: middle;\n",
       "    }\n",
       "\n",
       "    .dataframe tbody tr th {\n",
       "        vertical-align: top;\n",
       "    }\n",
       "\n",
       "    .dataframe thead th {\n",
       "        text-align: right;\n",
       "    }\n",
       "</style>\n",
       "<table border=\"1\" class=\"dataframe\">\n",
       "  <thead>\n",
       "    <tr style=\"text-align: right;\">\n",
       "      <th></th>\n",
       "      <th>id</th>\n",
       "      <th>geohash</th>\n",
       "      <th>geometry</th>\n",
       "    </tr>\n",
       "  </thead>\n",
       "  <tbody>\n",
       "    <tr>\n",
       "      <th>0</th>\n",
       "      <td>6cc95c8a-cbaf-4993-a9ff-4e890c7e45f0</td>\n",
       "      <td>dhwk5h</td>\n",
       "      <td>POLYGON ((-81.10504 26.01885, -81.04984 26.018...</td>\n",
       "    </tr>\n",
       "    <tr>\n",
       "      <th>1</th>\n",
       "      <td>a0fbead2-d8dc-4e05-b364-ab89d020fbfb</td>\n",
       "      <td>dhwkpq</td>\n",
       "      <td>POLYGON ((-80.91675 26.04190, -80.86358 26.041...</td>\n",
       "    </tr>\n",
       "    <tr>\n",
       "      <th>2</th>\n",
       "      <td>b4c64915-35eb-4d74-a211-ce41ad8f21f8</td>\n",
       "      <td>dhwt55</td>\n",
       "      <td>POLYGON ((-80.73525 26.20304, -80.71903 26.203...</td>\n",
       "    </tr>\n",
       "    <tr>\n",
       "      <th>3</th>\n",
       "      <td>d03d2784-ff88-4ed6-b93c-2b52a8a7ecc3</td>\n",
       "      <td>dhwt0s</td>\n",
       "      <td>POLYGON ((-80.86288 26.17613, -80.79088 26.176...</td>\n",
       "    </tr>\n",
       "    <tr>\n",
       "      <th>4</th>\n",
       "      <td>0ce2ca44-0727-4364-978b-da23cd9cd784</td>\n",
       "      <td>dhwjpj</td>\n",
       "      <td>POLYGON ((-81.28584 26.19397, -81.21442 26.193...</td>\n",
       "    </tr>\n",
       "  </tbody>\n",
       "</table>\n",
       "</div>"
      ],
      "text/plain": [
       "                                     id geohash  \\\n",
       "0  6cc95c8a-cbaf-4993-a9ff-4e890c7e45f0  dhwk5h   \n",
       "1  a0fbead2-d8dc-4e05-b364-ab89d020fbfb  dhwkpq   \n",
       "2  b4c64915-35eb-4d74-a211-ce41ad8f21f8  dhwt55   \n",
       "3  d03d2784-ff88-4ed6-b93c-2b52a8a7ecc3  dhwt0s   \n",
       "4  0ce2ca44-0727-4364-978b-da23cd9cd784  dhwjpj   \n",
       "\n",
       "                                            geometry  \n",
       "0  POLYGON ((-81.10504 26.01885, -81.04984 26.018...  \n",
       "1  POLYGON ((-80.91675 26.04190, -80.86358 26.041...  \n",
       "2  POLYGON ((-80.73525 26.20304, -80.71903 26.203...  \n",
       "3  POLYGON ((-80.86288 26.17613, -80.79088 26.176...  \n",
       "4  POLYGON ((-81.28584 26.19397, -81.21442 26.193...  "
      ]
     },
     "execution_count": 876,
     "metadata": {},
     "output_type": "execute_result"
    }
   ],
   "source": [
    "prev_month_blobs.head()"
   ]
  },
  {
   "cell_type": "code",
   "execution_count": 877,
   "metadata": {},
   "outputs": [
    {
     "data": {
      "text/html": [
       "<div>\n",
       "<style scoped>\n",
       "    .dataframe tbody tr th:only-of-type {\n",
       "        vertical-align: middle;\n",
       "    }\n",
       "\n",
       "    .dataframe tbody tr th {\n",
       "        vertical-align: top;\n",
       "    }\n",
       "\n",
       "    .dataframe thead th {\n",
       "        text-align: right;\n",
       "    }\n",
       "</style>\n",
       "<table border=\"1\" class=\"dataframe\">\n",
       "  <thead>\n",
       "    <tr style=\"text-align: right;\">\n",
       "      <th></th>\n",
       "      <th>geometry</th>\n",
       "      <th>id</th>\n",
       "      <th>geohash</th>\n",
       "    </tr>\n",
       "  </thead>\n",
       "  <tbody>\n",
       "    <tr>\n",
       "      <th>0</th>\n",
       "      <td>POLYGON ((-81.10504 26.01885, -81.04984 26.018...</td>\n",
       "      <td>6cc95c8a-cbaf-4993-a9ff-4e890c7e45f0</td>\n",
       "      <td>dhwk5h</td>\n",
       "    </tr>\n",
       "    <tr>\n",
       "      <th>1</th>\n",
       "      <td>POLYGON ((-80.91675 26.04190, -80.86358 26.041...</td>\n",
       "      <td>a0fbead2-d8dc-4e05-b364-ab89d020fbfb</td>\n",
       "      <td>dhwkpq</td>\n",
       "    </tr>\n",
       "    <tr>\n",
       "      <th>2</th>\n",
       "      <td>POLYGON ((-80.73525 26.20304, -80.71903 26.203...</td>\n",
       "      <td>b4c64915-35eb-4d74-a211-ce41ad8f21f8</td>\n",
       "      <td>dhwt55</td>\n",
       "    </tr>\n",
       "    <tr>\n",
       "      <th>3</th>\n",
       "      <td>POLYGON ((-80.86288 26.17613, -80.79088 26.176...</td>\n",
       "      <td>d03d2784-ff88-4ed6-b93c-2b52a8a7ecc3</td>\n",
       "      <td>dhwt0s</td>\n",
       "    </tr>\n",
       "    <tr>\n",
       "      <th>4</th>\n",
       "      <td>POLYGON ((-81.28584 26.19397, -81.21442 26.193...</td>\n",
       "      <td>0ce2ca44-0727-4364-978b-da23cd9cd784</td>\n",
       "      <td>dhwjpj</td>\n",
       "    </tr>\n",
       "  </tbody>\n",
       "</table>\n",
       "</div>"
      ],
      "text/plain": [
       "                                            geometry  \\\n",
       "0  POLYGON ((-81.10504 26.01885, -81.04984 26.018...   \n",
       "1  POLYGON ((-80.91675 26.04190, -80.86358 26.041...   \n",
       "2  POLYGON ((-80.73525 26.20304, -80.71903 26.203...   \n",
       "3  POLYGON ((-80.86288 26.17613, -80.79088 26.176...   \n",
       "4  POLYGON ((-81.28584 26.19397, -81.21442 26.193...   \n",
       "\n",
       "                                     id geohash  \n",
       "0  6cc95c8a-cbaf-4993-a9ff-4e890c7e45f0  dhwk5h  \n",
       "1  a0fbead2-d8dc-4e05-b364-ab89d020fbfb  dhwkpq  \n",
       "2  b4c64915-35eb-4d74-a211-ce41ad8f21f8  dhwt55  \n",
       "3  d03d2784-ff88-4ed6-b93c-2b52a8a7ecc3  dhwt0s  \n",
       "4  0ce2ca44-0727-4364-978b-da23cd9cd784  dhwjpj  "
      ]
     },
     "execution_count": 877,
     "metadata": {},
     "output_type": "execute_result"
    }
   ],
   "source": [
    "prev_month_blobs = prev_month_blobs[['geometry', 'id', 'geohash']]\n",
    "prev_month_blobs.head()"
   ]
  },
  {
   "cell_type": "code",
   "execution_count": 878,
   "metadata": {},
   "outputs": [
    {
     "data": {
      "text/html": [
       "<div>\n",
       "<style scoped>\n",
       "    .dataframe tbody tr th:only-of-type {\n",
       "        vertical-align: middle;\n",
       "    }\n",
       "\n",
       "    .dataframe tbody tr th {\n",
       "        vertical-align: top;\n",
       "    }\n",
       "\n",
       "    .dataframe thead th {\n",
       "        text-align: right;\n",
       "    }\n",
       "</style>\n",
       "<table border=\"1\" class=\"dataframe\">\n",
       "  <thead>\n",
       "    <tr style=\"text-align: right;\">\n",
       "      <th></th>\n",
       "      <th>geometry</th>\n",
       "      <th>id</th>\n",
       "      <th>geohash</th>\n",
       "    </tr>\n",
       "  </thead>\n",
       "  <tbody>\n",
       "    <tr>\n",
       "      <th>0</th>\n",
       "      <td>POLYGON ((-81.16204 27.42279, -81.06833 27.422...</td>\n",
       "      <td>8868a43b-d996-4161-bad3-ea183054f958</td>\n",
       "      <td>dhyk4n</td>\n",
       "    </tr>\n",
       "    <tr>\n",
       "      <th>1</th>\n",
       "      <td>POLYGON ((-81.27418 27.57132, -81.25813 27.571...</td>\n",
       "      <td>1497d096-de50-4351-b33b-89904d705a8e</td>\n",
       "      <td>dhyjn9</td>\n",
       "    </tr>\n",
       "    <tr>\n",
       "      <th>2</th>\n",
       "      <td>POLYGON ((-81.37152 27.86817, -81.31272 27.868...</td>\n",
       "      <td>741e60b6-255b-4031-8a98-54b1ef47b033</td>\n",
       "      <td>dhynv0</td>\n",
       "    </tr>\n",
       "    <tr>\n",
       "      <th>3</th>\n",
       "      <td>POLYGON ((-81.74995 27.95319, -81.66345 27.953...</td>\n",
       "      <td>a8949814-3139-4a48-9aed-19922fc7806b</td>\n",
       "      <td>dhvzk9</td>\n",
       "    </tr>\n",
       "    <tr>\n",
       "      <th>4</th>\n",
       "      <td>POLYGON ((-81.16827 28.08530, -81.09784 28.085...</td>\n",
       "      <td>5cb981af-0ab4-4087-87b4-0d8e622675d4</td>\n",
       "      <td>dhyrcy</td>\n",
       "    </tr>\n",
       "  </tbody>\n",
       "</table>\n",
       "</div>"
      ],
      "text/plain": [
       "                                            geometry  \\\n",
       "0  POLYGON ((-81.16204 27.42279, -81.06833 27.422...   \n",
       "1  POLYGON ((-81.27418 27.57132, -81.25813 27.571...   \n",
       "2  POLYGON ((-81.37152 27.86817, -81.31272 27.868...   \n",
       "3  POLYGON ((-81.74995 27.95319, -81.66345 27.953...   \n",
       "4  POLYGON ((-81.16827 28.08530, -81.09784 28.085...   \n",
       "\n",
       "                                     id geohash  \n",
       "0  8868a43b-d996-4161-bad3-ea183054f958  dhyk4n  \n",
       "1  1497d096-de50-4351-b33b-89904d705a8e  dhyjn9  \n",
       "2  741e60b6-255b-4031-8a98-54b1ef47b033  dhynv0  \n",
       "3  a8949814-3139-4a48-9aed-19922fc7806b  dhvzk9  \n",
       "4  5cb981af-0ab4-4087-87b4-0d8e622675d4  dhyrcy  "
      ]
     },
     "execution_count": 878,
     "metadata": {},
     "output_type": "execute_result"
    }
   ],
   "source": [
    "curr_month_blobs = curr_month_blobs[['geometry', 'id', 'geohash']]\n",
    "curr_month_blobs.head()"
   ]
  },
  {
   "cell_type": "code",
   "execution_count": 879,
   "metadata": {},
   "outputs": [],
   "source": [
    "# make data folder\n",
    "Path('data/').mkdir(exist_ok=True)\n",
    "\n",
    "# save as geoparquet\n",
    "prev_month_blobs.to_parquet('data/prev_month_blobs.parquet')\n",
    "curr_month_blobs.to_parquet('data/curr_month_blobs.parquet')"
   ]
  },
  {
   "cell_type": "code",
   "execution_count": 880,
   "metadata": {},
   "outputs": [],
   "source": [
    "# range_ = 10000\n",
    "\n",
    "# fig, ax = plt.subplots(figsize=(5, 5))\n",
    "# prev_month_blobs.iloc[0:range_].plot(ax=ax)\n",
    "# ax.set_title(f'Viewing the first {range_} blobs')\n",
    "# plt.tight_layout()\n",
    "\n",
    "# plt.show()"
   ]
  },
  {
   "cell_type": "code",
   "execution_count": 881,
   "metadata": {},
   "outputs": [
    {
     "data": {
      "text/html": [
       "<div>\n",
       "<style scoped>\n",
       "    .dataframe tbody tr th:only-of-type {\n",
       "        vertical-align: middle;\n",
       "    }\n",
       "\n",
       "    .dataframe tbody tr th {\n",
       "        vertical-align: top;\n",
       "    }\n",
       "\n",
       "    .dataframe thead th {\n",
       "        text-align: right;\n",
       "    }\n",
       "</style>\n",
       "<table border=\"1\" class=\"dataframe\">\n",
       "  <thead>\n",
       "    <tr style=\"text-align: right;\">\n",
       "      <th></th>\n",
       "      <th>geometry</th>\n",
       "      <th>id</th>\n",
       "      <th>geohash</th>\n",
       "    </tr>\n",
       "  </thead>\n",
       "  <tbody>\n",
       "    <tr>\n",
       "      <th>0</th>\n",
       "      <td>POLYGON ((-81.10504 26.01885, -81.04984 26.018...</td>\n",
       "      <td>6cc95c8a-cbaf-4993-a9ff-4e890c7e45f0</td>\n",
       "      <td>dhwk5h</td>\n",
       "    </tr>\n",
       "    <tr>\n",
       "      <th>1</th>\n",
       "      <td>POLYGON ((-80.91675 26.04190, -80.86358 26.041...</td>\n",
       "      <td>a0fbead2-d8dc-4e05-b364-ab89d020fbfb</td>\n",
       "      <td>dhwkpq</td>\n",
       "    </tr>\n",
       "    <tr>\n",
       "      <th>2</th>\n",
       "      <td>POLYGON ((-80.73525 26.20304, -80.71903 26.203...</td>\n",
       "      <td>b4c64915-35eb-4d74-a211-ce41ad8f21f8</td>\n",
       "      <td>dhwt55</td>\n",
       "    </tr>\n",
       "    <tr>\n",
       "      <th>3</th>\n",
       "      <td>POLYGON ((-80.86288 26.17613, -80.79088 26.176...</td>\n",
       "      <td>d03d2784-ff88-4ed6-b93c-2b52a8a7ecc3</td>\n",
       "      <td>dhwt0s</td>\n",
       "    </tr>\n",
       "    <tr>\n",
       "      <th>4</th>\n",
       "      <td>POLYGON ((-81.28584 26.19397, -81.21442 26.193...</td>\n",
       "      <td>0ce2ca44-0727-4364-978b-da23cd9cd784</td>\n",
       "      <td>dhwjpj</td>\n",
       "    </tr>\n",
       "  </tbody>\n",
       "</table>\n",
       "</div>"
      ],
      "text/plain": [
       "                                            geometry  \\\n",
       "0  POLYGON ((-81.10504 26.01885, -81.04984 26.018...   \n",
       "1  POLYGON ((-80.91675 26.04190, -80.86358 26.041...   \n",
       "2  POLYGON ((-80.73525 26.20304, -80.71903 26.203...   \n",
       "3  POLYGON ((-80.86288 26.17613, -80.79088 26.176...   \n",
       "4  POLYGON ((-81.28584 26.19397, -81.21442 26.193...   \n",
       "\n",
       "                                     id geohash  \n",
       "0  6cc95c8a-cbaf-4993-a9ff-4e890c7e45f0  dhwk5h  \n",
       "1  a0fbead2-d8dc-4e05-b364-ab89d020fbfb  dhwkpq  \n",
       "2  b4c64915-35eb-4d74-a211-ce41ad8f21f8  dhwt55  \n",
       "3  d03d2784-ff88-4ed6-b93c-2b52a8a7ecc3  dhwt0s  \n",
       "4  0ce2ca44-0727-4364-978b-da23cd9cd784  dhwjpj  "
      ]
     },
     "execution_count": 881,
     "metadata": {},
     "output_type": "execute_result"
    }
   ],
   "source": [
    "prev_month_blobs.head()"
   ]
  },
  {
   "cell_type": "markdown",
   "metadata": {},
   "source": [
    "## Non-optimized process"
   ]
  },
  {
   "cell_type": "markdown",
   "metadata": {},
   "source": [
    "### 1. Data encoding, storage, and fetching"
   ]
  },
  {
   "cell_type": "markdown",
   "metadata": {},
   "source": [
    "We will use PostgreSQL and string storage for geographic information."
   ]
  },
  {
   "cell_type": "markdown",
   "metadata": {},
   "source": [
    "#### Make copy of polygon layer and convert to non-geospatial-native string (WKT) datatype"
   ]
  },
  {
   "cell_type": "code",
   "execution_count": 882,
   "metadata": {},
   "outputs": [],
   "source": [
    "# copy the gdfs\n",
    "prev_month_blobs_wkt = prev_month_blobs.copy()\n",
    "curr_month_blobs_wkt = curr_month_blobs.copy()"
   ]
  },
  {
   "cell_type": "code",
   "execution_count": 883,
   "metadata": {},
   "outputs": [
    {
     "name": "stdout",
     "output_type": "stream",
     "text": [
      "Function `convert_col_to_string` executed in 0.1768 sec, CPU: 34.70%, Memory: 46.09MB\n",
      "Function `convert_col_to_string` executed in 0.0982 sec, CPU: 3.60%, Memory: 7.62MB\n",
      "                                            geometry  \\\n",
      "0  POLYGON ((-81.105035 26.018852, -81.049837 26....   \n",
      "1  POLYGON ((-80.916747 26.041903, -80.863581 26....   \n",
      "2  POLYGON ((-80.735253 26.20304, -80.719034 26.2...   \n",
      "3  POLYGON ((-80.862883 26.176126, -80.790882 26....   \n",
      "4  POLYGON ((-81.285842 26.193967, -81.214424 26....   \n",
      "\n",
      "                                     id geohash  \n",
      "0  6cc95c8a-cbaf-4993-a9ff-4e890c7e45f0  dhwk5h  \n",
      "1  a0fbead2-d8dc-4e05-b364-ab89d020fbfb  dhwkpq  \n",
      "2  b4c64915-35eb-4d74-a211-ce41ad8f21f8  dhwt55  \n",
      "3  d03d2784-ff88-4ed6-b93c-2b52a8a7ecc3  dhwt0s  \n",
      "4  0ce2ca44-0727-4364-978b-da23cd9cd784  dhwjpj  \n"
     ]
    },
    {
     "name": "stderr",
     "output_type": "stream",
     "text": [
      "/Users/sra/files/projects/matching_optimization/helpers.py:319: UserWarning: Geometry column does not contain geometry.\n",
      "  list: A list of tuples representing the rows of the dataframe.\n",
      "/Users/sra/files/projects/matching_optimization/helpers.py:319: UserWarning: Geometry column does not contain geometry.\n",
      "  list: A list of tuples representing the rows of the dataframe.\n"
     ]
    }
   ],
   "source": [
    "# Convert WKT versions to strings\n",
    "dfs_to_convert = [prev_month_blobs_wkt, curr_month_blobs_wkt]\n",
    "prev_month_blobs_wkt, curr_month_blobs_wkt = [h.convert_col_to_string(df) for df in dfs_to_convert]\n",
    "\n",
    "# Check result\n",
    "print(prev_month_blobs_wkt.head())"
   ]
  },
  {
   "cell_type": "markdown",
   "metadata": {},
   "source": [
    "### Save in PostgreSQL database"
   ]
  },
  {
   "cell_type": "markdown",
   "metadata": {},
   "source": [
    "This is a simple version of what a \"non-geospatial-native\" data ingestion pipeline may look like, with the primary example being that the polygons are stored as strings, not in a spatial-friendly datatype."
   ]
  },
  {
   "cell_type": "code",
   "execution_count": 884,
   "metadata": {},
   "outputs": [
    {
     "name": "stdout",
     "output_type": "stream",
     "text": [
      "Function `df_itertuple` executed in 0.0052 sec, CPU: 40.00%, Memory: 0.00MB\n",
      "Function `df_itertuple` executed in 0.0039 sec, CPU: 0.00%, Memory: 0.00MB\n"
     ]
    }
   ],
   "source": [
    "# Convert to tuples\n",
    "prev_month_blobs_wkt = h.df_itertuple(prev_month_blobs_wkt)\n",
    "curr_month_blobs_wkt = h.df_itertuple(curr_month_blobs_wkt)"
   ]
  },
  {
   "cell_type": "markdown",
   "metadata": {},
   "source": [
    "Create PostgreSQL database if it doesn't exist already. We will be using the default settings. If they need to be adjusted, refer to [`helpers.py`](helpers.py)."
   ]
  },
  {
   "cell_type": "code",
   "execution_count": 885,
   "metadata": {},
   "outputs": [
    {
     "name": "stdout",
     "output_type": "stream",
     "text": [
      "Database blob_matching already exists.\n",
      "Function `create_pg_db` executed in 0.1154 sec, CPU: 0.00%, Memory: 0.00MB\n"
     ]
    }
   ],
   "source": [
    "h.create_pg_db()"
   ]
  },
  {
   "cell_type": "markdown",
   "metadata": {},
   "source": [
    "Create and insert into tables:"
   ]
  },
  {
   "cell_type": "code",
   "execution_count": 886,
   "metadata": {},
   "outputs": [
    {
     "data": {
      "text/html": [
       "<div>\n",
       "<style scoped>\n",
       "    .dataframe tbody tr th:only-of-type {\n",
       "        vertical-align: middle;\n",
       "    }\n",
       "\n",
       "    .dataframe tbody tr th {\n",
       "        vertical-align: top;\n",
       "    }\n",
       "\n",
       "    .dataframe thead th {\n",
       "        text-align: right;\n",
       "    }\n",
       "</style>\n",
       "<table border=\"1\" class=\"dataframe\">\n",
       "  <thead>\n",
       "    <tr style=\"text-align: right;\">\n",
       "      <th></th>\n",
       "      <th>geometry</th>\n",
       "      <th>id</th>\n",
       "      <th>geohash</th>\n",
       "    </tr>\n",
       "  </thead>\n",
       "  <tbody>\n",
       "    <tr>\n",
       "      <th>0</th>\n",
       "      <td>POLYGON ((-81.10504 26.01885, -81.04984 26.018...</td>\n",
       "      <td>6cc95c8a-cbaf-4993-a9ff-4e890c7e45f0</td>\n",
       "      <td>dhwk5h</td>\n",
       "    </tr>\n",
       "  </tbody>\n",
       "</table>\n",
       "</div>"
      ],
      "text/plain": [
       "                                            geometry  \\\n",
       "0  POLYGON ((-81.10504 26.01885, -81.04984 26.018...   \n",
       "\n",
       "                                     id geohash  \n",
       "0  6cc95c8a-cbaf-4993-a9ff-4e890c7e45f0  dhwk5h  "
      ]
     },
     "execution_count": 886,
     "metadata": {},
     "output_type": "execute_result"
    }
   ],
   "source": [
    "prev_month_blobs.head(1)"
   ]
  },
  {
   "cell_type": "code",
   "execution_count": 887,
   "metadata": {},
   "outputs": [
    {
     "data": {
      "text/plain": [
       "('POLYGON ((-81.105035 26.018852, -81.049837 26.018852, -81.049837 26.064626, -81.105035 26.064626, -81.105035 26.018852))',\n",
       " '6cc95c8a-cbaf-4993-a9ff-4e890c7e45f0',\n",
       " 'dhwk5h')"
      ]
     },
     "execution_count": 887,
     "metadata": {},
     "output_type": "execute_result"
    }
   ],
   "source": [
    "prev_month_blobs_wkt[0]"
   ]
  },
  {
   "cell_type": "code",
   "execution_count": 888,
   "metadata": {},
   "outputs": [
    {
     "name": "stdout",
     "output_type": "stream",
     "text": [
      "Table prev_blobs_wkt truncated.\n",
      "Inserted 10000 records into prev_blobs_wkt.\n",
      "Function `create_pg_table` executed in 0.6406 sec, CPU: 36.00%, Memory: 43.38MB\n",
      "Table curr_blobs_wkt truncated.\n",
      "Inserted 10000 records into curr_blobs_wkt.\n",
      "Function `create_pg_table` executed in 0.5478 sec, CPU: 7.60%, Memory: 8.34MB\n"
     ]
    }
   ],
   "source": [
    "h.create_pg_table(table_name='prev_blobs_wkt', data=prev_month_blobs_wkt, truncate=True)\n",
    "h.create_pg_table(table_name='curr_blobs_wkt', data=curr_month_blobs_wkt, truncate=True)"
   ]
  },
  {
   "cell_type": "markdown",
   "metadata": {},
   "source": [
    "Retrieve data as GeoDataFrames to confirm that it worked:"
   ]
  },
  {
   "cell_type": "code",
   "execution_count": 889,
   "metadata": {},
   "outputs": [
    {
     "name": "stdout",
     "output_type": "stream",
     "text": [
      "Retrieved 10000 records from prev_blobs_wkt.\n",
      "Function `retrieve_pg_table` executed in 0.0774 sec, CPU: 14.30%, Memory: 0.72MB\n",
      "Retrieved 10000 records from curr_blobs_wkt.\n",
      "Function `retrieve_pg_table` executed in 0.0718 sec, CPU: 22.60%, Memory: 0.47MB\n"
     ]
    }
   ],
   "source": [
    "df_prev = h.retrieve_pg_table(table_name='prev_blobs_wkt')\n",
    "df_curr = h.retrieve_pg_table(table_name='curr_blobs_wkt')"
   ]
  },
  {
   "cell_type": "markdown",
   "metadata": {},
   "source": [
    "Compare the tables before and after for a sanity check:"
   ]
  },
  {
   "cell_type": "code",
   "execution_count": 890,
   "metadata": {},
   "outputs": [
    {
     "data": {
      "text/html": [
       "<div>\n",
       "<style scoped>\n",
       "    .dataframe tbody tr th:only-of-type {\n",
       "        vertical-align: middle;\n",
       "    }\n",
       "\n",
       "    .dataframe tbody tr th {\n",
       "        vertical-align: top;\n",
       "    }\n",
       "\n",
       "    .dataframe thead th {\n",
       "        text-align: right;\n",
       "    }\n",
       "</style>\n",
       "<table border=\"1\" class=\"dataframe\">\n",
       "  <thead>\n",
       "    <tr style=\"text-align: right;\">\n",
       "      <th></th>\n",
       "      <th>geometry</th>\n",
       "      <th>id</th>\n",
       "      <th>geohash</th>\n",
       "    </tr>\n",
       "  </thead>\n",
       "  <tbody>\n",
       "    <tr>\n",
       "      <th>0</th>\n",
       "      <td>POLYGON ((-81.105035 26.018852, -81.049837 26....</td>\n",
       "      <td>6cc95c8a-cbaf-4993-a9ff-4e890c7e45f0</td>\n",
       "      <td>dhwk5h</td>\n",
       "    </tr>\n",
       "    <tr>\n",
       "      <th>1</th>\n",
       "      <td>POLYGON ((-80.916747 26.041903, -80.863581 26....</td>\n",
       "      <td>a0fbead2-d8dc-4e05-b364-ab89d020fbfb</td>\n",
       "      <td>dhwkpq</td>\n",
       "    </tr>\n",
       "    <tr>\n",
       "      <th>2</th>\n",
       "      <td>POLYGON ((-80.735253 26.20304, -80.719034 26.2...</td>\n",
       "      <td>b4c64915-35eb-4d74-a211-ce41ad8f21f8</td>\n",
       "      <td>dhwt55</td>\n",
       "    </tr>\n",
       "    <tr>\n",
       "      <th>3</th>\n",
       "      <td>POLYGON ((-80.862883 26.176126, -80.790882 26....</td>\n",
       "      <td>d03d2784-ff88-4ed6-b93c-2b52a8a7ecc3</td>\n",
       "      <td>dhwt0s</td>\n",
       "    </tr>\n",
       "    <tr>\n",
       "      <th>4</th>\n",
       "      <td>POLYGON ((-81.285842 26.193967, -81.214424 26....</td>\n",
       "      <td>0ce2ca44-0727-4364-978b-da23cd9cd784</td>\n",
       "      <td>dhwjpj</td>\n",
       "    </tr>\n",
       "  </tbody>\n",
       "</table>\n",
       "</div>"
      ],
      "text/plain": [
       "                                            geometry  \\\n",
       "0  POLYGON ((-81.105035 26.018852, -81.049837 26....   \n",
       "1  POLYGON ((-80.916747 26.041903, -80.863581 26....   \n",
       "2  POLYGON ((-80.735253 26.20304, -80.719034 26.2...   \n",
       "3  POLYGON ((-80.862883 26.176126, -80.790882 26....   \n",
       "4  POLYGON ((-81.285842 26.193967, -81.214424 26....   \n",
       "\n",
       "                                     id geohash  \n",
       "0  6cc95c8a-cbaf-4993-a9ff-4e890c7e45f0  dhwk5h  \n",
       "1  a0fbead2-d8dc-4e05-b364-ab89d020fbfb  dhwkpq  \n",
       "2  b4c64915-35eb-4d74-a211-ce41ad8f21f8  dhwt55  \n",
       "3  d03d2784-ff88-4ed6-b93c-2b52a8a7ecc3  dhwt0s  \n",
       "4  0ce2ca44-0727-4364-978b-da23cd9cd784  dhwjpj  "
      ]
     },
     "execution_count": 890,
     "metadata": {},
     "output_type": "execute_result"
    }
   ],
   "source": [
    "df_prev.head()"
   ]
  },
  {
   "cell_type": "code",
   "execution_count": 891,
   "metadata": {},
   "outputs": [
    {
     "data": {
      "text/html": [
       "<div>\n",
       "<style scoped>\n",
       "    .dataframe tbody tr th:only-of-type {\n",
       "        vertical-align: middle;\n",
       "    }\n",
       "\n",
       "    .dataframe tbody tr th {\n",
       "        vertical-align: top;\n",
       "    }\n",
       "\n",
       "    .dataframe thead th {\n",
       "        text-align: right;\n",
       "    }\n",
       "</style>\n",
       "<table border=\"1\" class=\"dataframe\">\n",
       "  <thead>\n",
       "    <tr style=\"text-align: right;\">\n",
       "      <th></th>\n",
       "      <th>geometry</th>\n",
       "      <th>id</th>\n",
       "      <th>geohash</th>\n",
       "    </tr>\n",
       "  </thead>\n",
       "  <tbody>\n",
       "    <tr>\n",
       "      <th>0</th>\n",
       "      <td>POLYGON ((-81.10504 26.01885, -81.04984 26.018...</td>\n",
       "      <td>6cc95c8a-cbaf-4993-a9ff-4e890c7e45f0</td>\n",
       "      <td>dhwk5h</td>\n",
       "    </tr>\n",
       "    <tr>\n",
       "      <th>1</th>\n",
       "      <td>POLYGON ((-80.91675 26.04190, -80.86358 26.041...</td>\n",
       "      <td>a0fbead2-d8dc-4e05-b364-ab89d020fbfb</td>\n",
       "      <td>dhwkpq</td>\n",
       "    </tr>\n",
       "    <tr>\n",
       "      <th>2</th>\n",
       "      <td>POLYGON ((-80.73525 26.20304, -80.71903 26.203...</td>\n",
       "      <td>b4c64915-35eb-4d74-a211-ce41ad8f21f8</td>\n",
       "      <td>dhwt55</td>\n",
       "    </tr>\n",
       "    <tr>\n",
       "      <th>3</th>\n",
       "      <td>POLYGON ((-80.86288 26.17613, -80.79088 26.176...</td>\n",
       "      <td>d03d2784-ff88-4ed6-b93c-2b52a8a7ecc3</td>\n",
       "      <td>dhwt0s</td>\n",
       "    </tr>\n",
       "    <tr>\n",
       "      <th>4</th>\n",
       "      <td>POLYGON ((-81.28584 26.19397, -81.21442 26.193...</td>\n",
       "      <td>0ce2ca44-0727-4364-978b-da23cd9cd784</td>\n",
       "      <td>dhwjpj</td>\n",
       "    </tr>\n",
       "  </tbody>\n",
       "</table>\n",
       "</div>"
      ],
      "text/plain": [
       "                                            geometry  \\\n",
       "0  POLYGON ((-81.10504 26.01885, -81.04984 26.018...   \n",
       "1  POLYGON ((-80.91675 26.04190, -80.86358 26.041...   \n",
       "2  POLYGON ((-80.73525 26.20304, -80.71903 26.203...   \n",
       "3  POLYGON ((-80.86288 26.17613, -80.79088 26.176...   \n",
       "4  POLYGON ((-81.28584 26.19397, -81.21442 26.193...   \n",
       "\n",
       "                                     id geohash  \n",
       "0  6cc95c8a-cbaf-4993-a9ff-4e890c7e45f0  dhwk5h  \n",
       "1  a0fbead2-d8dc-4e05-b364-ab89d020fbfb  dhwkpq  \n",
       "2  b4c64915-35eb-4d74-a211-ce41ad8f21f8  dhwt55  \n",
       "3  d03d2784-ff88-4ed6-b93c-2b52a8a7ecc3  dhwt0s  \n",
       "4  0ce2ca44-0727-4364-978b-da23cd9cd784  dhwjpj  "
      ]
     },
     "execution_count": 891,
     "metadata": {},
     "output_type": "execute_result"
    }
   ],
   "source": [
    "prev_month_blobs.head()"
   ]
  },
  {
   "cell_type": "markdown",
   "metadata": {},
   "source": [
    "Confirm that the original blob dfs and the retrieved dfs are the same:"
   ]
  },
  {
   "cell_type": "code",
   "execution_count": 892,
   "metadata": {},
   "outputs": [
    {
     "name": "stdout",
     "output_type": "stream",
     "text": [
      "Number of matching geometries: 10000\n",
      "Missing geometries in retrieved table: 0\n",
      "Extra geometries in retrieved table: 0\n"
     ]
    }
   ],
   "source": [
    "def round_geometry(geom, precision=6):\n",
    "    \"\"\"Round all coordinates of a geometry to a given precision.\"\"\"\n",
    "    return shapely.wkt.loads(shapely.wkt.dumps(geom, rounding_precision=precision))\n",
    "\n",
    "# Convert both to sets of rounded WKT strings\n",
    "set_prev_month_blobs = set(prev_month_blobs['geometry'].apply(lambda g: round_geometry(g, precision=6).wkt))\n",
    "set_df_prev = set(df_prev['geometry'].apply(lambda g: round_geometry(g, precision=6).wkt))\n",
    "\n",
    "# Find common, missing, and extra geometries\n",
    "common_geometries = set_prev_month_blobs & set_df_prev\n",
    "missing_from_retrieved = set_prev_month_blobs - set_df_prev\n",
    "extra_in_retrieved = set_df_prev - set_prev_month_blobs\n",
    "\n",
    "# Print summary\n",
    "print(f\"Number of matching geometries: {len(common_geometries)}\")\n",
    "print(f\"Missing geometries in retrieved table: {len(missing_from_retrieved)}\")\n",
    "print(f\"Extra geometries in retrieved table: {len(extra_in_retrieved)}\")\n",
    "\n",
    "# Show an example missing/extra geometry for debugging\n",
    "if missing_from_retrieved:\n",
    "    print(\"Example missing record:\", next(iter(missing_from_retrieved)))\n",
    "\n",
    "if extra_in_retrieved:\n",
    "    print(\"Example extra record:\", next(iter(extra_in_retrieved)))"
   ]
  },
  {
   "cell_type": "markdown",
   "metadata": {},
   "source": [
    "It worked! Now we can proceed to \"matching\" any \"previous\" polygons that overlap with the \"current\" polygons."
   ]
  },
  {
   "cell_type": "markdown",
   "metadata": {},
   "source": [
    "### 2. Matching"
   ]
  },
  {
   "cell_type": "markdown",
   "metadata": {},
   "source": [
    "We will match the polygons using GeoPandas."
   ]
  },
  {
   "cell_type": "code",
   "execution_count": 893,
   "metadata": {},
   "outputs": [
    {
     "name": "stdout",
     "output_type": "stream",
     "text": [
      "Table matched_results created successfully.\n",
      "Retrieved 10000 records from prev_blobs_wkt.\n",
      "Function `match_geometries` executed in 0.0120 sec, CPU: 3.50%, Memory: 1.09MB\n",
      "Function `match_geometries` executed in 0.0123 sec, CPU: 10.20%, Memory: 1.91MB\n",
      "Function `match_geometries` executed in 0.0127 sec, CPU: 17.90%, Memory: 0.27MB\n",
      "Function `match_geometries` executed in 0.0190 sec, CPU: 3.70%, Memory: 4.66MB\n",
      "Function `match_geometries` executed in 0.0222 sec, CPU: 17.60%, Memory: 1.02MB\n",
      "Function `match_geometries` executed in 0.0120 sec, CPU: 2.40%, Memory: 0.33MB\n",
      "Function `match_geometries` executed in 0.0199 sec, CPU: 9.40%, Memory: 3.11MB\n",
      "Function `match_geometries` executed in 0.0130 sec, CPU: 10.80%, Memory: 1.95MB\n",
      "Function `match_geometries` executed in 0.0148 sec, CPU: 6.90%, Memory: 0.92MB\n",
      "Function `match_geometries` executed in 0.0146 sec, CPU: 4.60%, Memory: 0.98MB\n",
      "Function `match_geometries` executed in 0.0245 sec, CPU: 6.00%, Memory: 2.09MB\n",
      "Function `run_parallel_matching` executed in 115.8288 sec, CPU: 38.00%, Memory: 435.84MB\n"
     ]
    }
   ],
   "source": [
    "postgresql_details = h.pg_details()\n",
    "h.run_parallel_matching(table_prev='prev_blobs_wkt', \n",
    "                        table_curr='curr_blobs_wkt', \n",
    "                        output_table='matched_results', \n",
    "                        postgresql_details=postgresql_details, \n",
    "                        db_name='blob_matching', \n",
    "                        num_workers=4, \n",
    "                        batch_size=100)"
   ]
  },
  {
   "cell_type": "code",
   "execution_count": 894,
   "metadata": {},
   "outputs": [],
   "source": [
    "# # testing logging for matching_geometries\n",
    "# df_prev = h._retrieve_pg_table(postgresql_details, 'blob_matching', \"prev_blobs_wkt\", log_enabled=True)\n",
    "# df_curr = h._retrieve_pg_table(postgresql_details, 'blob_matching', \"curr_blobs_wkt\", log_enabled=True)\n",
    "\n",
    "# # Use a small subset for testing\n",
    "# df_prev_sample = df_prev.sample(10, random_state=42)\n",
    "# df_curr_sample = df_curr.sample(10, random_state=42)\n",
    "\n",
    "# h.match_geometries(df_prev_sample, df_curr_sample)  # Check if this logs matches"
   ]
  },
  {
   "cell_type": "markdown",
   "metadata": {},
   "source": [
    "## Optimized Approach"
   ]
  },
  {
   "cell_type": "markdown",
   "metadata": {},
   "source": [
    "Having demonstrated a reasonable if not optimized way of matching polygons, we will now make use of geospatial-native tools to hopefully match polygons much more quickly."
   ]
  },
  {
   "cell_type": "code",
   "execution_count": null,
   "metadata": {},
   "outputs": [],
   "source": []
  },
  {
   "cell_type": "markdown",
   "metadata": {},
   "source": [
    "geohash polygon into a larger region\n",
    "match blobs using multiprocessing (mp.Process) and geopandas\n",
    "find blobs from previous month that do not have a match\n",
    "\n",
    "# 1 imports and setup\n",
    "\n",
    "```python\n",
    "import os, sys, traceback\n",
    "import argparse\n",
    "import cv2\n",
    "import time\n",
    "import numpy as np\n",
    "import pandas as pd\n",
    "import geopandas as gpd\n",
    "from skimage import io, color, measure\n",
    "from tqdm import tqdm\n",
    "from shapely import wkt\n",
    "from shapely.geometry import Point, Polygon\n",
    "from shapely.validation import make_valid\n",
    "import PIL\n",
    "from PIL import Image, ImageDraw, ImageEnhance\n",
    "import uuid\n",
    "import multiprocessing as mp\n",
    "from datetime import datetime\n",
    "from sqlalchemy import or_\n",
    "from sqlmodel import SQLModel, Session, create_engine, select\n",
    "from pathlib import Path\n",
    "```\n",
    "\n",
    "## Key takeaways\n",
    "- Uses Pandas and GeoPandas for data processing.\n",
    "- Uses Shapely for geospatial geometry operations.\n",
    "- Uses multiprocessing (mp) to parallelize the blob-matching process.\n",
    "- Uses SQLAlchemy and SQLModel for database operations.\n",
    "\n",
    "# 2 High-level script overview\n",
    "The script is designed to match blobs (spatial objects) between two months and classify them into different business categories.\n",
    "\n",
    "General Workflow\n",
    "1. Fetch blobs from the previous and current months.\n",
    "1. Convert the region of interest (state, city, county, or geohash) into a list of geohashes.\n",
    "1. Parallelized Matching Process:\n",
    "1. Process multiple geohashes at once using multiprocessing.\n",
    "1. Find corresponding blobs from previous months for each geohash.\n",
    "1. Classify blobs based on construction stage progression.\n",
    "1. Identify blobs that are missing in the current month and \"impute\" them.\n",
    "1. Save results into the database.\n",
    "\n",
    "# 3 Blob classification logic\n",
    "\n",
    "# 4 Blob matching\n",
    "\n",
    "- Matches blobs between months using polygon intersections.\n",
    "- Uses Shapely to validate geometries and check for overlaps.\n",
    "- Returns matched blob IDs.\n",
    "\n",
    "## Multiprocessing Optimization\n",
    "The script parallelizes blob matching by:\n",
    "- Uses multiprocessing (mp.Process) to divide the dataset into smaller batches.\n",
    "- Each batch of blobs is processed in parallel.\n",
    "- Reduces runtime compared to a single-threaded approach.\n",
    "\n",
    "# 5 Handling unmatched blobs\n",
    "- Finds blobs from the previous month that do not have a match in the current month.\n",
    "- These blobs are \"imputed\", meaning they are carried over into the new month.\n",
    "\n",
    "# 6 Main class to orchestrate process\n",
    "- Loads previous and current month blobs.\n",
    "- Converts input regions (state, city, county) into geohashes.\n",
    "\n",
    "# Summary\n",
    "- Parallel processing is used to match blobs.\n",
    "- Blobs are classified based on construction stages.\n",
    "- Unmatched blobs are imputed for continuity.\n",
    "- The script writes results to a database."
   ]
  },
  {
   "cell_type": "markdown",
   "metadata": {},
   "source": []
  }
 ],
 "metadata": {
  "kernelspec": {
   "display_name": "geo",
   "language": "python",
   "name": "python3"
  },
  "language_info": {
   "codemirror_mode": {
    "name": "ipython",
    "version": 3
   },
   "file_extension": ".py",
   "mimetype": "text/x-python",
   "name": "python",
   "nbconvert_exporter": "python",
   "pygments_lexer": "ipython3",
   "version": "3.11.8"
  }
 },
 "nbformat": 4,
 "nbformat_minor": 2
}
