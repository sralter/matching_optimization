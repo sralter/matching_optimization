{
 "cells": [
  {
   "cell_type": "markdown",
   "metadata": {},
   "source": [
    "Generate Test Data"
   ]
  },
  {
   "cell_type": "code",
   "execution_count": 3,
   "metadata": {},
   "outputs": [],
   "source": [
    "import random\n",
    "import geopandas as gpd\n",
    "import pandas as pd\n",
    "import shapely\n",
    "from shapely.geometry import Polygon, box\n",
    "import h3\n",
    "import time\n",
    "\n",
    "# Generate random polygons as blobs\n",
    "def generate_random_polygons(n=100, bbox=(-100, -100, 100, 100)):\n",
    "    \"\"\"Generate n random polygons inside a bounding box.\"\"\"\n",
    "    minx, miny, maxx, maxy = bbox\n",
    "    polygons = []\n",
    "    for _ in range(n):\n",
    "        x1, y1 = random.uniform(minx, maxx), random.uniform(miny, maxy)\n",
    "        x2, y2 = x1 + random.uniform(1, 5), y1 + random.uniform(1, 5)\n",
    "        polygons.append(box(x1, y1, x2, y2))  # Create rectangle\n",
    "    return gpd.GeoDataFrame(geometry=polygons, crs=\"EPSG:4326\")\n",
    "\n",
    "# Create two months of blob data\n",
    "prev_month_blobs = generate_random_polygons(n=100)\n",
    "curr_month_blobs = generate_random_polygons(n=100)"
   ]
  },
  {
   "cell_type": "code",
   "execution_count": null,
   "metadata": {},
   "outputs": [],
   "source": [
    "import functools\n",
    "\n",
    "def timing_decorator(func):\n",
    "    \"\"\"Decorator to log function execution time.\"\"\"\n",
    "    @functools.wraps(func)\n",
    "    def wrapper(*args, **kwargs):\n",
    "        start_time = time.time()\n",
    "        result = func(*args, **kwargs)\n",
    "        elapsed_time = time.time() - start_time\n",
    "        print(f\"Function `{func.__name__}` took {elapsed_time:.4f} seconds.\")\n",
    "        return result\n",
    "    return wrapper"
   ]
  },
  {
   "cell_type": "markdown",
   "metadata": {},
   "source": [
    "Baseline - Polygon Matching Only"
   ]
  },
  {
   "cell_type": "markdown",
   "metadata": {},
   "source": []
  }
 ],
 "metadata": {
  "kernelspec": {
   "display_name": "geo",
   "language": "python",
   "name": "python3"
  },
  "language_info": {
   "codemirror_mode": {
    "name": "ipython",
    "version": 3
   },
   "file_extension": ".py",
   "mimetype": "text/x-python",
   "name": "python",
   "nbconvert_exporter": "python",
   "pygments_lexer": "ipython3",
   "version": "3.11.8"
  }
 },
 "nbformat": 4,
 "nbformat_minor": 2
}
