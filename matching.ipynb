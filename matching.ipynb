{
 "cells": [
  {
   "cell_type": "markdown",
   "metadata": {},
   "source": [
    "# Geospatial Matching Optimization"
   ]
  },
  {
   "cell_type": "markdown",
   "metadata": {},
   "source": [
    "This project is designed to showcase how to improve the speed of a polygon matching procedure. There are two main areas that could benefit from taking a \"geospatial-native\" approach:\n",
    "\n",
    "1. Data encoding, fetching, and storage\n",
    "2. Matching\n",
    "\n",
    "We will generate synthetic polygon data and use both a non-geospatial-native and geospatial-native approach, comparing execution time for both to see how they differ."
   ]
  },
  {
   "cell_type": "markdown",
   "metadata": {},
   "source": [
    "Note: Make sure that you have PostgreSQL running."
   ]
  },
  {
   "cell_type": "markdown",
   "metadata": {},
   "source": [
    "## Imports"
   ]
  },
  {
   "cell_type": "code",
   "execution_count": 597,
   "metadata": {},
   "outputs": [
    {
     "data": {
      "text/plain": [
       "<module 'helpers' from '/Users/sra/files/projects/matching_optimization/helpers.py'>"
      ]
     },
     "execution_count": 597,
     "metadata": {},
     "output_type": "execute_result"
    }
   ],
   "source": [
    "import geopandas as gpd\n",
    "import pandas as pd\n",
    "import shapely\n",
    "import h3\n",
    "import time\n",
    "import helpers as h\n",
    "import matplotlib.pyplot as plt\n",
    "from shapely.wkt import dumps, loads\n",
    "from pathlib import Path\n",
    "import multiprocessing as mp\n",
    "\n",
    "# ensure helpers is loaded correctly\n",
    "import importlib\n",
    "importlib.reload(h)"
   ]
  },
  {
   "cell_type": "markdown",
   "metadata": {},
   "source": [
    "## Generate Test Data"
   ]
  },
  {
   "cell_type": "code",
   "execution_count": 598,
   "metadata": {},
   "outputs": [
    {
     "name": "stdout",
     "output_type": "stream",
     "text": [
      "Function `generate_random_polygons` executed in 7.9995 sec, CPU: 12.20%, Memory: 100.91MB\n",
      "Function `generate_random_polygons` executed in 8.0313 sec, CPU: 31.50%, Memory: 75.55MB\n"
     ]
    }
   ],
   "source": [
    "# Create two blobs of data\n",
    "prev_month_blobs = h.generate_random_polygons(n=10000)\n",
    "curr_month_blobs = h.generate_random_polygons(n=10000)"
   ]
  },
  {
   "cell_type": "code",
   "execution_count": 599,
   "metadata": {},
   "outputs": [
    {
     "data": {
      "text/html": [
       "<div>\n",
       "<style scoped>\n",
       "    .dataframe tbody tr th:only-of-type {\n",
       "        vertical-align: middle;\n",
       "    }\n",
       "\n",
       "    .dataframe tbody tr th {\n",
       "        vertical-align: top;\n",
       "    }\n",
       "\n",
       "    .dataframe thead th {\n",
       "        text-align: right;\n",
       "    }\n",
       "</style>\n",
       "<table border=\"1\" class=\"dataframe\">\n",
       "  <thead>\n",
       "    <tr style=\"text-align: right;\">\n",
       "      <th></th>\n",
       "      <th>geometry</th>\n",
       "      <th>id</th>\n",
       "      <th>geohash</th>\n",
       "    </tr>\n",
       "  </thead>\n",
       "  <tbody>\n",
       "    <tr>\n",
       "      <th>885</th>\n",
       "      <td>POLYGON ((-81.74629 27.21993, -81.74629 27.220...</td>\n",
       "      <td>f1ea62f8-8a4e-4287-a466-08ec0c317ad3</td>\n",
       "      <td>dhvfgg61</td>\n",
       "    </tr>\n",
       "    <tr>\n",
       "      <th>5442</th>\n",
       "      <td>POLYGON ((-81.24467 27.52294, -81.24467 27.523...</td>\n",
       "      <td>9385f950-5f40-438a-8a04-924184052eb6</td>\n",
       "      <td>dhyhx4rt</td>\n",
       "    </tr>\n",
       "    <tr>\n",
       "      <th>7700</th>\n",
       "      <td>POLYGON ((-81.33568 27.52908, -81.33568 27.529...</td>\n",
       "      <td>b3b43333-08ba-40fb-b71d-fdf41e889b86</td>\n",
       "      <td>dhyht5t4</td>\n",
       "    </tr>\n",
       "    <tr>\n",
       "      <th>3916</th>\n",
       "      <td>POLYGON ((-80.97548 27.64739, -80.97548 27.647...</td>\n",
       "      <td>6db32f10-668e-49f5-8dda-a5a813395337</td>\n",
       "      <td>dhymm35d</td>\n",
       "    </tr>\n",
       "    <tr>\n",
       "      <th>2040</th>\n",
       "      <td>POLYGON ((-81.07487 27.73192, -81.07487 27.732...</td>\n",
       "      <td>a2a6d1e6-ebc9-4e68-b628-0ee51f194802</td>\n",
       "      <td>dhymg07p</td>\n",
       "    </tr>\n",
       "  </tbody>\n",
       "</table>\n",
       "</div>"
      ],
      "text/plain": [
       "                                               geometry  \\\n",
       "885   POLYGON ((-81.74629 27.21993, -81.74629 27.220...   \n",
       "5442  POLYGON ((-81.24467 27.52294, -81.24467 27.523...   \n",
       "7700  POLYGON ((-81.33568 27.52908, -81.33568 27.529...   \n",
       "3916  POLYGON ((-80.97548 27.64739, -80.97548 27.647...   \n",
       "2040  POLYGON ((-81.07487 27.73192, -81.07487 27.732...   \n",
       "\n",
       "                                        id   geohash  \n",
       "885   f1ea62f8-8a4e-4287-a466-08ec0c317ad3  dhvfgg61  \n",
       "5442  9385f950-5f40-438a-8a04-924184052eb6  dhyhx4rt  \n",
       "7700  b3b43333-08ba-40fb-b71d-fdf41e889b86  dhyht5t4  \n",
       "3916  6db32f10-668e-49f5-8dda-a5a813395337  dhymm35d  \n",
       "2040  a2a6d1e6-ebc9-4e68-b628-0ee51f194802  dhymg07p  "
      ]
     },
     "execution_count": 599,
     "metadata": {},
     "output_type": "execute_result"
    }
   ],
   "source": [
    "prev_month_blobs.head()"
   ]
  },
  {
   "cell_type": "code",
   "execution_count": 600,
   "metadata": {},
   "outputs": [
    {
     "data": {
      "text/html": [
       "<div>\n",
       "<style scoped>\n",
       "    .dataframe tbody tr th:only-of-type {\n",
       "        vertical-align: middle;\n",
       "    }\n",
       "\n",
       "    .dataframe tbody tr th {\n",
       "        vertical-align: top;\n",
       "    }\n",
       "\n",
       "    .dataframe thead th {\n",
       "        text-align: right;\n",
       "    }\n",
       "</style>\n",
       "<table border=\"1\" class=\"dataframe\">\n",
       "  <thead>\n",
       "    <tr style=\"text-align: right;\">\n",
       "      <th></th>\n",
       "      <th>geometry</th>\n",
       "      <th>id</th>\n",
       "      <th>geohash</th>\n",
       "    </tr>\n",
       "  </thead>\n",
       "  <tbody>\n",
       "    <tr>\n",
       "      <th>8489</th>\n",
       "      <td>POLYGON ((-98.43519 26.76248, -98.43519 26.762...</td>\n",
       "      <td>45e67537-93b7-4ca3-aa28-58e581e005d0</td>\n",
       "      <td>9uf00pcx</td>\n",
       "    </tr>\n",
       "    <tr>\n",
       "      <th>5469</th>\n",
       "      <td>POLYGON ((-98.59041 26.96246, -98.59041 26.962...</td>\n",
       "      <td>951a24eb-1c74-4c49-84f7-99776992f246</td>\n",
       "      <td>9uccks2u</td>\n",
       "    </tr>\n",
       "    <tr>\n",
       "      <th>5637</th>\n",
       "      <td>POLYGON ((-98.43162 27.01086, -98.43162 27.011...</td>\n",
       "      <td>f738c3b4-b97f-4a3d-a468-bbc87057472c</td>\n",
       "      <td>9uf18jk8</td>\n",
       "    </tr>\n",
       "    <tr>\n",
       "      <th>2809</th>\n",
       "      <td>POLYGON ((-98.52477 27.15353, -98.52477 27.154...</td>\n",
       "      <td>d8f96695-b930-4954-90c0-4da9d7d6b47f</td>\n",
       "      <td>9ucfqp0x</td>\n",
       "    </tr>\n",
       "    <tr>\n",
       "      <th>8606</th>\n",
       "      <td>POLYGON ((-98.52997 27.20496, -98.52997 27.205...</td>\n",
       "      <td>73867cdf-2752-4629-b673-f574a3e514ef</td>\n",
       "      <td>9ucfvbsc</td>\n",
       "    </tr>\n",
       "  </tbody>\n",
       "</table>\n",
       "</div>"
      ],
      "text/plain": [
       "                                               geometry  \\\n",
       "8489  POLYGON ((-98.43519 26.76248, -98.43519 26.762...   \n",
       "5469  POLYGON ((-98.59041 26.96246, -98.59041 26.962...   \n",
       "5637  POLYGON ((-98.43162 27.01086, -98.43162 27.011...   \n",
       "2809  POLYGON ((-98.52477 27.15353, -98.52477 27.154...   \n",
       "8606  POLYGON ((-98.52997 27.20496, -98.52997 27.205...   \n",
       "\n",
       "                                        id   geohash  \n",
       "8489  45e67537-93b7-4ca3-aa28-58e581e005d0  9uf00pcx  \n",
       "5469  951a24eb-1c74-4c49-84f7-99776992f246  9uccks2u  \n",
       "5637  f738c3b4-b97f-4a3d-a468-bbc87057472c  9uf18jk8  \n",
       "2809  d8f96695-b930-4954-90c0-4da9d7d6b47f  9ucfqp0x  \n",
       "8606  73867cdf-2752-4629-b673-f574a3e514ef  9ucfvbsc  "
      ]
     },
     "execution_count": 600,
     "metadata": {},
     "output_type": "execute_result"
    }
   ],
   "source": [
    "curr_month_blobs.head()"
   ]
  },
  {
   "cell_type": "code",
   "execution_count": 601,
   "metadata": {},
   "outputs": [],
   "source": [
    "# make data folder\n",
    "Path('data/').mkdir(exist_ok=True)\n",
    "\n",
    "# save as geoparquet\n",
    "prev_month_blobs.to_parquet('data/prev_month_blobs.parquet')\n",
    "curr_month_blobs.to_parquet('data/curr_month_blobs.parquet')"
   ]
  },
  {
   "cell_type": "code",
   "execution_count": 602,
   "metadata": {},
   "outputs": [],
   "source": [
    "# range_ = 10000\n",
    "\n",
    "# fig, ax = plt.subplots(figsize=(5, 5))\n",
    "# prev_month_blobs.iloc[0:range_].plot(ax=ax)\n",
    "# ax.set_title(f'Viewing the first {range_} blobs')\n",
    "# plt.tight_layout()\n",
    "\n",
    "# plt.show()"
   ]
  },
  {
   "cell_type": "code",
   "execution_count": 603,
   "metadata": {},
   "outputs": [
    {
     "data": {
      "text/html": [
       "<div>\n",
       "<style scoped>\n",
       "    .dataframe tbody tr th:only-of-type {\n",
       "        vertical-align: middle;\n",
       "    }\n",
       "\n",
       "    .dataframe tbody tr th {\n",
       "        vertical-align: top;\n",
       "    }\n",
       "\n",
       "    .dataframe thead th {\n",
       "        text-align: right;\n",
       "    }\n",
       "</style>\n",
       "<table border=\"1\" class=\"dataframe\">\n",
       "  <thead>\n",
       "    <tr style=\"text-align: right;\">\n",
       "      <th></th>\n",
       "      <th>geometry</th>\n",
       "      <th>id</th>\n",
       "      <th>geohash</th>\n",
       "    </tr>\n",
       "  </thead>\n",
       "  <tbody>\n",
       "    <tr>\n",
       "      <th>885</th>\n",
       "      <td>POLYGON ((-81.74629 27.21993, -81.74629 27.220...</td>\n",
       "      <td>f1ea62f8-8a4e-4287-a466-08ec0c317ad3</td>\n",
       "      <td>dhvfgg61</td>\n",
       "    </tr>\n",
       "    <tr>\n",
       "      <th>5442</th>\n",
       "      <td>POLYGON ((-81.24467 27.52294, -81.24467 27.523...</td>\n",
       "      <td>9385f950-5f40-438a-8a04-924184052eb6</td>\n",
       "      <td>dhyhx4rt</td>\n",
       "    </tr>\n",
       "    <tr>\n",
       "      <th>7700</th>\n",
       "      <td>POLYGON ((-81.33568 27.52908, -81.33568 27.529...</td>\n",
       "      <td>b3b43333-08ba-40fb-b71d-fdf41e889b86</td>\n",
       "      <td>dhyht5t4</td>\n",
       "    </tr>\n",
       "    <tr>\n",
       "      <th>3916</th>\n",
       "      <td>POLYGON ((-80.97548 27.64739, -80.97548 27.647...</td>\n",
       "      <td>6db32f10-668e-49f5-8dda-a5a813395337</td>\n",
       "      <td>dhymm35d</td>\n",
       "    </tr>\n",
       "    <tr>\n",
       "      <th>2040</th>\n",
       "      <td>POLYGON ((-81.07487 27.73192, -81.07487 27.732...</td>\n",
       "      <td>a2a6d1e6-ebc9-4e68-b628-0ee51f194802</td>\n",
       "      <td>dhymg07p</td>\n",
       "    </tr>\n",
       "  </tbody>\n",
       "</table>\n",
       "</div>"
      ],
      "text/plain": [
       "                                               geometry  \\\n",
       "885   POLYGON ((-81.74629 27.21993, -81.74629 27.220...   \n",
       "5442  POLYGON ((-81.24467 27.52294, -81.24467 27.523...   \n",
       "7700  POLYGON ((-81.33568 27.52908, -81.33568 27.529...   \n",
       "3916  POLYGON ((-80.97548 27.64739, -80.97548 27.647...   \n",
       "2040  POLYGON ((-81.07487 27.73192, -81.07487 27.732...   \n",
       "\n",
       "                                        id   geohash  \n",
       "885   f1ea62f8-8a4e-4287-a466-08ec0c317ad3  dhvfgg61  \n",
       "5442  9385f950-5f40-438a-8a04-924184052eb6  dhyhx4rt  \n",
       "7700  b3b43333-08ba-40fb-b71d-fdf41e889b86  dhyht5t4  \n",
       "3916  6db32f10-668e-49f5-8dda-a5a813395337  dhymm35d  \n",
       "2040  a2a6d1e6-ebc9-4e68-b628-0ee51f194802  dhymg07p  "
      ]
     },
     "execution_count": 603,
     "metadata": {},
     "output_type": "execute_result"
    }
   ],
   "source": [
    "prev_month_blobs.head()"
   ]
  },
  {
   "cell_type": "markdown",
   "metadata": {},
   "source": [
    "## Non-optimized process"
   ]
  },
  {
   "cell_type": "markdown",
   "metadata": {},
   "source": [
    "### 1. Data encoding, storage, and fetching"
   ]
  },
  {
   "cell_type": "markdown",
   "metadata": {},
   "source": [
    "We will use PostgreSQL and string storage for geographic information."
   ]
  },
  {
   "cell_type": "markdown",
   "metadata": {},
   "source": [
    "#### Make copy of polygon layer and convert to non-geospatial-native string (WKT) datatype"
   ]
  },
  {
   "cell_type": "code",
   "execution_count": 604,
   "metadata": {},
   "outputs": [],
   "source": [
    "# copy the gdfs\n",
    "prev_month_blobs_wkt = prev_month_blobs.copy()\n",
    "curr_month_blobs_wkt = curr_month_blobs.copy()"
   ]
  },
  {
   "cell_type": "code",
   "execution_count": 605,
   "metadata": {},
   "outputs": [
    {
     "name": "stdout",
     "output_type": "stream",
     "text": [
      "Function `convert_col_to_string` executed in 0.0513 sec, CPU: 11.00%, Memory: 0.17MB\n",
      "Function `convert_col_to_string` executed in 0.0524 sec, CPU: 59.50%, Memory: 55.05MB\n",
      "                                               geometry  \\\n",
      "885   POLYGON ((-81.746292 27.21993, -81.746292 27.2...   \n",
      "5442  POLYGON ((-81.24467 27.522945, -81.24467 27.52...   \n",
      "7700  POLYGON ((-81.335681 27.52908, -81.335681 27.5...   \n",
      "3916  POLYGON ((-80.975485 27.647386, -80.975485 27....   \n",
      "2040  POLYGON ((-81.074867 27.731919, -81.074867 27....   \n",
      "\n",
      "                                        id   geohash  \n",
      "885   f1ea62f8-8a4e-4287-a466-08ec0c317ad3  dhvfgg61  \n",
      "5442  9385f950-5f40-438a-8a04-924184052eb6  dhyhx4rt  \n",
      "7700  b3b43333-08ba-40fb-b71d-fdf41e889b86  dhyht5t4  \n",
      "3916  6db32f10-668e-49f5-8dda-a5a813395337  dhymm35d  \n",
      "2040  a2a6d1e6-ebc9-4e68-b628-0ee51f194802  dhymg07p  \n"
     ]
    },
    {
     "name": "stderr",
     "output_type": "stream",
     "text": [
      "/Users/sra/files/projects/matching_optimization/helpers.py:305: UserWarning: Geometry column does not contain geometry.\n",
      "  return df\n",
      "/Users/sra/files/projects/matching_optimization/helpers.py:305: UserWarning: Geometry column does not contain geometry.\n",
      "  return df\n"
     ]
    }
   ],
   "source": [
    "# Convert WKT versions to strings\n",
    "dfs_to_convert = [prev_month_blobs_wkt, curr_month_blobs_wkt]\n",
    "prev_month_blobs_wkt, curr_month_blobs_wkt = [h.convert_col_to_string(df) for df in dfs_to_convert]\n",
    "\n",
    "# Check result\n",
    "print(prev_month_blobs_wkt.head())"
   ]
  },
  {
   "cell_type": "markdown",
   "metadata": {},
   "source": [
    "### Save in PostgreSQL database"
   ]
  },
  {
   "cell_type": "markdown",
   "metadata": {},
   "source": [
    "This is a simple version of what a \"non-geospatial-native\" data ingestion pipeline may look like, with the primary example being that the polygons are stored as strings, not in a spatial-friendly datatype."
   ]
  },
  {
   "cell_type": "code",
   "execution_count": 606,
   "metadata": {},
   "outputs": [
    {
     "name": "stdout",
     "output_type": "stream",
     "text": [
      "Function `df_itertuple` executed in 0.0031 sec, CPU: 16.70%, Memory: 0.05MB\n",
      "Function `df_itertuple` executed in 0.0026 sec, CPU: 0.00%, Memory: 0.00MB\n"
     ]
    }
   ],
   "source": [
    "# Convert to tuples\n",
    "prev_month_blobs_wkt = h.df_itertuple(prev_month_blobs_wkt)\n",
    "curr_month_blobs_wkt = h.df_itertuple(curr_month_blobs_wkt)"
   ]
  },
  {
   "cell_type": "markdown",
   "metadata": {},
   "source": [
    "Create PostgreSQL database if it doesn't exist already. We will be using the default settings. If they need to be adjusted, refer to [`helpers.py`](helpers.py)."
   ]
  },
  {
   "cell_type": "code",
   "execution_count": 607,
   "metadata": {},
   "outputs": [
    {
     "name": "stdout",
     "output_type": "stream",
     "text": [
      "Database blob_matching already exists.\n",
      "Function `create_pg_db` executed in 0.0783 sec, CPU: 0.00%, Memory: 0.00MB\n"
     ]
    }
   ],
   "source": [
    "h.create_pg_db()"
   ]
  },
  {
   "cell_type": "markdown",
   "metadata": {},
   "source": [
    "Create and insert into tables:"
   ]
  },
  {
   "cell_type": "code",
   "execution_count": 608,
   "metadata": {},
   "outputs": [
    {
     "data": {
      "text/html": [
       "<div>\n",
       "<style scoped>\n",
       "    .dataframe tbody tr th:only-of-type {\n",
       "        vertical-align: middle;\n",
       "    }\n",
       "\n",
       "    .dataframe tbody tr th {\n",
       "        vertical-align: top;\n",
       "    }\n",
       "\n",
       "    .dataframe thead th {\n",
       "        text-align: right;\n",
       "    }\n",
       "</style>\n",
       "<table border=\"1\" class=\"dataframe\">\n",
       "  <thead>\n",
       "    <tr style=\"text-align: right;\">\n",
       "      <th></th>\n",
       "      <th>geometry</th>\n",
       "      <th>id</th>\n",
       "      <th>geohash</th>\n",
       "    </tr>\n",
       "  </thead>\n",
       "  <tbody>\n",
       "    <tr>\n",
       "      <th>885</th>\n",
       "      <td>POLYGON ((-81.74629 27.21993, -81.74629 27.220...</td>\n",
       "      <td>f1ea62f8-8a4e-4287-a466-08ec0c317ad3</td>\n",
       "      <td>dhvfgg61</td>\n",
       "    </tr>\n",
       "  </tbody>\n",
       "</table>\n",
       "</div>"
      ],
      "text/plain": [
       "                                              geometry  \\\n",
       "885  POLYGON ((-81.74629 27.21993, -81.74629 27.220...   \n",
       "\n",
       "                                       id   geohash  \n",
       "885  f1ea62f8-8a4e-4287-a466-08ec0c317ad3  dhvfgg61  "
      ]
     },
     "execution_count": 608,
     "metadata": {},
     "output_type": "execute_result"
    }
   ],
   "source": [
    "prev_month_blobs.head(1)"
   ]
  },
  {
   "cell_type": "code",
   "execution_count": 609,
   "metadata": {},
   "outputs": [
    {
     "data": {
      "text/plain": [
       "('POLYGON ((-81.746292 27.21993, -81.746292 27.220622, -81.746108 27.220622, -81.746108 27.21993, -81.746292 27.21993))',\n",
       " 'f1ea62f8-8a4e-4287-a466-08ec0c317ad3',\n",
       " 'dhvfgg61')"
      ]
     },
     "execution_count": 609,
     "metadata": {},
     "output_type": "execute_result"
    }
   ],
   "source": [
    "prev_month_blobs_wkt[0]"
   ]
  },
  {
   "cell_type": "code",
   "execution_count": 610,
   "metadata": {},
   "outputs": [
    {
     "name": "stdout",
     "output_type": "stream",
     "text": [
      "Table prev_blobs_wkt truncated.\n",
      "Inserted 10000 records into prev_blobs_wkt.\n",
      "Function `create_pg_table` executed in 0.4114 sec, CPU: 0.00%, Memory: 0.00MB\n",
      "Table curr_blobs_wkt truncated.\n",
      "Inserted 10000 records into curr_blobs_wkt.\n",
      "Function `create_pg_table` executed in 0.4642 sec, CPU: 39.20%, Memory: 45.73MB\n"
     ]
    }
   ],
   "source": [
    "h.create_pg_table(table_name='prev_blobs_wkt', data=prev_month_blobs_wkt, truncate=True)\n",
    "h.create_pg_table(table_name='curr_blobs_wkt', data=curr_month_blobs_wkt, truncate=True)"
   ]
  },
  {
   "cell_type": "markdown",
   "metadata": {},
   "source": [
    "Retrieve data as GeoDataFrames to confirm that it worked:"
   ]
  },
  {
   "cell_type": "code",
   "execution_count": 611,
   "metadata": {},
   "outputs": [
    {
     "name": "stdout",
     "output_type": "stream",
     "text": [
      "Retrieved 10000 records from prev_blobs_wkt.\n",
      "Function `retrieve_pg_table` executed in 0.0504 sec, CPU: 9.50%, Memory: 0.95MB\n",
      "Retrieved 10000 records from curr_blobs_wkt.\n",
      "Function `retrieve_pg_table` executed in 0.0446 sec, CPU: 0.00%, Memory: 0.00MB\n"
     ]
    }
   ],
   "source": [
    "df_prev = h.retrieve_pg_table(table_name='prev_blobs_wkt')\n",
    "df_curr = h.retrieve_pg_table(table_name='curr_blobs_wkt')"
   ]
  },
  {
   "cell_type": "markdown",
   "metadata": {},
   "source": [
    "Compare the tables before and after for a sanity check:"
   ]
  },
  {
   "cell_type": "code",
   "execution_count": 612,
   "metadata": {},
   "outputs": [
    {
     "data": {
      "text/html": [
       "<div>\n",
       "<style scoped>\n",
       "    .dataframe tbody tr th:only-of-type {\n",
       "        vertical-align: middle;\n",
       "    }\n",
       "\n",
       "    .dataframe tbody tr th {\n",
       "        vertical-align: top;\n",
       "    }\n",
       "\n",
       "    .dataframe thead th {\n",
       "        text-align: right;\n",
       "    }\n",
       "</style>\n",
       "<table border=\"1\" class=\"dataframe\">\n",
       "  <thead>\n",
       "    <tr style=\"text-align: right;\">\n",
       "      <th></th>\n",
       "      <th>geometry</th>\n",
       "      <th>id</th>\n",
       "      <th>geohash</th>\n",
       "    </tr>\n",
       "  </thead>\n",
       "  <tbody>\n",
       "    <tr>\n",
       "      <th>0</th>\n",
       "      <td>POLYGON ((-81.746292 27.21993, -81.746292 27.2...</td>\n",
       "      <td>f1ea62f8-8a4e-4287-a466-08ec0c317ad3</td>\n",
       "      <td>dhvfgg61</td>\n",
       "    </tr>\n",
       "    <tr>\n",
       "      <th>1</th>\n",
       "      <td>POLYGON ((-81.24467 27.522945, -81.24467 27.52...</td>\n",
       "      <td>9385f950-5f40-438a-8a04-924184052eb6</td>\n",
       "      <td>dhyhx4rt</td>\n",
       "    </tr>\n",
       "    <tr>\n",
       "      <th>2</th>\n",
       "      <td>POLYGON ((-81.335681 27.52908, -81.335681 27.5...</td>\n",
       "      <td>b3b43333-08ba-40fb-b71d-fdf41e889b86</td>\n",
       "      <td>dhyht5t4</td>\n",
       "    </tr>\n",
       "    <tr>\n",
       "      <th>3</th>\n",
       "      <td>POLYGON ((-80.975485 27.647386, -80.975485 27....</td>\n",
       "      <td>6db32f10-668e-49f5-8dda-a5a813395337</td>\n",
       "      <td>dhymm35d</td>\n",
       "    </tr>\n",
       "    <tr>\n",
       "      <th>4</th>\n",
       "      <td>POLYGON ((-81.074867 27.731919, -81.074867 27....</td>\n",
       "      <td>a2a6d1e6-ebc9-4e68-b628-0ee51f194802</td>\n",
       "      <td>dhymg07p</td>\n",
       "    </tr>\n",
       "  </tbody>\n",
       "</table>\n",
       "</div>"
      ],
      "text/plain": [
       "                                            geometry  \\\n",
       "0  POLYGON ((-81.746292 27.21993, -81.746292 27.2...   \n",
       "1  POLYGON ((-81.24467 27.522945, -81.24467 27.52...   \n",
       "2  POLYGON ((-81.335681 27.52908, -81.335681 27.5...   \n",
       "3  POLYGON ((-80.975485 27.647386, -80.975485 27....   \n",
       "4  POLYGON ((-81.074867 27.731919, -81.074867 27....   \n",
       "\n",
       "                                     id   geohash  \n",
       "0  f1ea62f8-8a4e-4287-a466-08ec0c317ad3  dhvfgg61  \n",
       "1  9385f950-5f40-438a-8a04-924184052eb6  dhyhx4rt  \n",
       "2  b3b43333-08ba-40fb-b71d-fdf41e889b86  dhyht5t4  \n",
       "3  6db32f10-668e-49f5-8dda-a5a813395337  dhymm35d  \n",
       "4  a2a6d1e6-ebc9-4e68-b628-0ee51f194802  dhymg07p  "
      ]
     },
     "execution_count": 612,
     "metadata": {},
     "output_type": "execute_result"
    }
   ],
   "source": [
    "df_prev.head()"
   ]
  },
  {
   "cell_type": "code",
   "execution_count": 613,
   "metadata": {},
   "outputs": [
    {
     "data": {
      "text/html": [
       "<div>\n",
       "<style scoped>\n",
       "    .dataframe tbody tr th:only-of-type {\n",
       "        vertical-align: middle;\n",
       "    }\n",
       "\n",
       "    .dataframe tbody tr th {\n",
       "        vertical-align: top;\n",
       "    }\n",
       "\n",
       "    .dataframe thead th {\n",
       "        text-align: right;\n",
       "    }\n",
       "</style>\n",
       "<table border=\"1\" class=\"dataframe\">\n",
       "  <thead>\n",
       "    <tr style=\"text-align: right;\">\n",
       "      <th></th>\n",
       "      <th>geometry</th>\n",
       "      <th>id</th>\n",
       "      <th>geohash</th>\n",
       "    </tr>\n",
       "  </thead>\n",
       "  <tbody>\n",
       "    <tr>\n",
       "      <th>885</th>\n",
       "      <td>POLYGON ((-81.74629 27.21993, -81.74629 27.220...</td>\n",
       "      <td>f1ea62f8-8a4e-4287-a466-08ec0c317ad3</td>\n",
       "      <td>dhvfgg61</td>\n",
       "    </tr>\n",
       "    <tr>\n",
       "      <th>5442</th>\n",
       "      <td>POLYGON ((-81.24467 27.52294, -81.24467 27.523...</td>\n",
       "      <td>9385f950-5f40-438a-8a04-924184052eb6</td>\n",
       "      <td>dhyhx4rt</td>\n",
       "    </tr>\n",
       "    <tr>\n",
       "      <th>7700</th>\n",
       "      <td>POLYGON ((-81.33568 27.52908, -81.33568 27.529...</td>\n",
       "      <td>b3b43333-08ba-40fb-b71d-fdf41e889b86</td>\n",
       "      <td>dhyht5t4</td>\n",
       "    </tr>\n",
       "    <tr>\n",
       "      <th>3916</th>\n",
       "      <td>POLYGON ((-80.97548 27.64739, -80.97548 27.647...</td>\n",
       "      <td>6db32f10-668e-49f5-8dda-a5a813395337</td>\n",
       "      <td>dhymm35d</td>\n",
       "    </tr>\n",
       "    <tr>\n",
       "      <th>2040</th>\n",
       "      <td>POLYGON ((-81.07487 27.73192, -81.07487 27.732...</td>\n",
       "      <td>a2a6d1e6-ebc9-4e68-b628-0ee51f194802</td>\n",
       "      <td>dhymg07p</td>\n",
       "    </tr>\n",
       "  </tbody>\n",
       "</table>\n",
       "</div>"
      ],
      "text/plain": [
       "                                               geometry  \\\n",
       "885   POLYGON ((-81.74629 27.21993, -81.74629 27.220...   \n",
       "5442  POLYGON ((-81.24467 27.52294, -81.24467 27.523...   \n",
       "7700  POLYGON ((-81.33568 27.52908, -81.33568 27.529...   \n",
       "3916  POLYGON ((-80.97548 27.64739, -80.97548 27.647...   \n",
       "2040  POLYGON ((-81.07487 27.73192, -81.07487 27.732...   \n",
       "\n",
       "                                        id   geohash  \n",
       "885   f1ea62f8-8a4e-4287-a466-08ec0c317ad3  dhvfgg61  \n",
       "5442  9385f950-5f40-438a-8a04-924184052eb6  dhyhx4rt  \n",
       "7700  b3b43333-08ba-40fb-b71d-fdf41e889b86  dhyht5t4  \n",
       "3916  6db32f10-668e-49f5-8dda-a5a813395337  dhymm35d  \n",
       "2040  a2a6d1e6-ebc9-4e68-b628-0ee51f194802  dhymg07p  "
      ]
     },
     "execution_count": 613,
     "metadata": {},
     "output_type": "execute_result"
    }
   ],
   "source": [
    "prev_month_blobs.head()"
   ]
  },
  {
   "cell_type": "code",
   "execution_count": 614,
   "metadata": {},
   "outputs": [
    {
     "name": "stdout",
     "output_type": "stream",
     "text": [
      "Number of matching geometries: 10000\n",
      "Missing geometries in retrieved table: 0\n",
      "Extra geometries in retrieved table: 0\n"
     ]
    }
   ],
   "source": [
    "def round_geometry(geom, precision=6):\n",
    "    \"\"\"Round all coordinates of a geometry to a given precision.\"\"\"\n",
    "    return shapely.wkt.loads(shapely.wkt.dumps(geom, rounding_precision=precision))\n",
    "\n",
    "# Convert both to sets of rounded WKT strings\n",
    "set_prev_month_blobs = set(prev_month_blobs['geometry'].apply(lambda g: round_geometry(g, precision=6).wkt))\n",
    "set_df_prev = set(df_prev['geometry'].apply(lambda g: round_geometry(g, precision=6).wkt))\n",
    "\n",
    "# Find common, missing, and extra geometries\n",
    "common_geometries = set_prev_month_blobs & set_df_prev\n",
    "missing_from_retrieved = set_prev_month_blobs - set_df_prev\n",
    "extra_in_retrieved = set_df_prev - set_prev_month_blobs\n",
    "\n",
    "# Print summary\n",
    "print(f\"Number of matching geometries: {len(common_geometries)}\")\n",
    "print(f\"Missing geometries in retrieved table: {len(missing_from_retrieved)}\")\n",
    "print(f\"Extra geometries in retrieved table: {len(extra_in_retrieved)}\")\n",
    "\n",
    "# Show an example missing/extra geometry for debugging\n",
    "if missing_from_retrieved:\n",
    "    print(\"Example missing record:\", next(iter(missing_from_retrieved)))\n",
    "\n",
    "if extra_in_retrieved:\n",
    "    print(\"Example extra record:\", next(iter(extra_in_retrieved)))"
   ]
  },
  {
   "cell_type": "markdown",
   "metadata": {},
   "source": [
    "It worked!"
   ]
  },
  {
   "cell_type": "markdown",
   "metadata": {},
   "source": [
    "### 2. Matching"
   ]
  },
  {
   "cell_type": "markdown",
   "metadata": {},
   "source": [
    "We will match the polygons using GeoPandas."
   ]
  },
  {
   "cell_type": "code",
   "execution_count": 615,
   "metadata": {},
   "outputs": [
    {
     "name": "stdout",
     "output_type": "stream",
     "text": [
      "Table matched_results created successfully.\n",
      "Retrieved 10000 records from prev_blobs_wkt.\n"
     ]
    },
    {
     "name": "stderr",
     "output_type": "stream",
     "text": [
      "Traceback (most recent call last):\n",
      "  File \"<string>\", line 1, in <module>\n",
      "  File \"<frozen importlib._bootstrap>\", line 1176, in _find_and_load\n",
      "  File \"<frozen importlib._bootstrap>\", line 1147, in _find_and_load_unlocked\n",
      "  File \"<frozen importlib._bootstrap>\", line 690, in _load_unlocked\n",
      "  File \"<frozen importlib._bootstrap_external>\", line 936, in exec_module\n",
      "  File \"<frozen importlib._bootstrap_external>\", line 1042, in get_code\n",
      "KeyboardInterrupt\n",
      "Traceback (most recent call last):\n",
      "Traceback (most recent call last):\n",
      "  File \"<string>\", line 1, in <module>\n",
      "  File \"<string>\", line 1, in <module>\n",
      "  File \"/Applications/Anaconda/anaconda3/envs/geo/lib/python3.11/multiprocessing/spawn.py\", line 122, in spawn_main\n",
      "  File \"/Applications/Anaconda/anaconda3/envs/geo/lib/python3.11/multiprocessing/spawn.py\", line 122, in spawn_main\n",
      "Traceback (most recent call last):\n",
      "  File \"<string>\", line 1, in <module>\n",
      "  File \"/Applications/Anaconda/anaconda3/envs/geo/lib/python3.11/multiprocessing/spawn.py\", line 122, in spawn_main\n",
      "    exitcode = _main(fd, parent_sentinel)\n",
      "    exitcode = _main(fd, parent_sentinel)\n",
      "    exitcode = _main(fd, parent_sentinel)\n",
      "                    ^^^   ^^^^^^^^^^^^^^^^^^^^^^^\n",
      "  File \"/Applications/Anaconda/anaconda3/envs/geo/lib/python3.11/multiprocessing/spawn.py\", line 132, in _main\n",
      "         ^^^^^^^^^^^^^^^^^^^^^^^^^^\n",
      "  File \"/Applications/Anaconda/anaconda3/envs/geo/lib/python3.11/multiprocessing/spawn.py\", line 132, in _main\n",
      "    self = reduction.pickle.load(from_parent)\n",
      "           ^^^^^^^^^^^^^^^^^^^^^^^^^^^^^^^^^^\n",
      "  File \"/Users/sra/files/projects/matching_optimization/helpers.py\", line 219, in <module>\n",
      "             ^^^^^^^^^^^^^^^^^^^^^^^^^^\n",
      "  File \"/Applications/Anaconda/anaconda3/envs/geo/lib/python3.11/multiprocessing/spawn.py\", line 132, in _main\n",
      "    self = reduction.pickle.load(from_parent)\n",
      "    self = reduction.pickle.load(from_parent)\n",
      "                 ^^ ^^ ^^ ^^ ^^ ^^^^^^^^^^^^^^^^^^^^^^^^^^^^^^^^^^^^\n",
      "^^  File \"/Users/sra/files/projects/matching_optimization/helpers.py\", line 219, in <module>\n",
      "^^^^^^^^^^^^^^^^^^^^\n",
      "  File \"/Users/sra/files/projects/matching_optimization/helpers.py\", line 219, in <module>\n",
      "    admin_boundaries: gpd.GeoDataFrame = gpd.read_file('data/conus_admin.parquet'), \n",
      "                                         ^^^^^^^^^^^^^^^^^^^^^^^^^^^^^^^^^^^^^^^^^\n",
      "  File \"/Applications/Anaconda/anaconda3/envs/geo/lib/python3.11/site-packages/geopandas/io/file.py\", line 289, in _read_file\n",
      "    admin_boundaries: gpd.GeoDataFrame = gpd.read_file('data/conus_admin.parquet'), \n",
      "    admin_boundaries: gpd.GeoDataFrame = gpd.read_file('data/conus_admin.parquet'), \n",
      "                                         ^^^^^^^^^^^^^^^^^^^^^^^^^^^^^       ^    ^ ^ ^ ^ ^ ^ ^ ^ ^ ^ ^ \n",
      "         File \"/Applications/Anaconda/anaconda3/envs/geo/lib/python3.11/site-packages/geopandas/io/file.py\", line 289, in _read_file\n",
      "            ^^^^^^^^^^^^^^^^^^^^^^^^^^^^^^^^^^^^^^^^^\n",
      "  File \"/Applications/Anaconda/anaconda3/envs/geo/lib/python3.11/site-packages/geopandas/io/file.py\", line 289, in _read_file\n",
      "    return _read_file_fiona(\n",
      "           ^^^^^^^^^^^^^^^^^\n",
      "        return _read_file_fiona(  File \"/Applications/Anaconda/anaconda3/envs/geo/lib/python3.11/site-packages/geopandas/io/file.py\", line 372, in _read_file_fiona\n",
      "\n",
      "   return _read_file_fiona( \n",
      "          ^ ^ ^ ^ ^ ^ ^ ^ ^^^^^^^^^^^^^^^^^^\n",
      "^^^^^^^^\n",
      "  File \"/Applications/Anaconda/anaconda3/envs/geo/lib/python3.11/site-packages/geopandas/io/file.py\", line 372, in _read_file_fiona\n",
      "  File \"/Applications/Anaconda/anaconda3/envs/geo/lib/python3.11/site-packages/geopandas/io/file.py\", line 372, in _read_file_fiona\n",
      "    df = GeoDataFrame.from_features(\n",
      "         ^^^^^^^^^^^^^^^^^^^^^^^^^^^\n",
      "  File \"/Applications/Anaconda/anaconda3/envs/geo/lib/python3.11/site-packages/geopandas/geodataframe.py\", line 644, in from_features\n",
      "    df = GeoDataFrame.from_features(\n",
      "    df = GeoDataFrame.from_features(\n",
      "               ^ ^ ^ ^^^^^^^^^^^^^^^^^^^^^^^^^^^^^^^^^^^^^^^^^^^^^^^^\n",
      "^^^\n",
      "  File \"/Applications/Anaconda/anaconda3/envs/geo/lib/python3.11/site-packages/geopandas/geodataframe.py\", line 644, in from_features\n",
      "  File \"/Applications/Anaconda/anaconda3/envs/geo/lib/python3.11/site-packages/geopandas/geodataframe.py\", line 644, in from_features\n",
      "    \"geometry\": shape(feature[\"geometry\"]) if feature[\"geometry\"] else None\n",
      "    \"geometry\": shape(feature[\"geometry\"]) if feature[\"geometry\"] else None\n",
      "                    ^ ^ ^ ^ ^ ^ ^ ^ ^ ^ ^ ^ ^^^^^^^^^^^^^^^^^^^^^^^^^^^^\n",
      "^^^^^^^    ^^^^^  File \"/Applications/Anaconda/anaconda3/envs/geo/lib/python3.11/site-packages/shapely/geometry/geo.py\", line 107, in shape\n",
      "\n",
      "  File \"/Applications/Anaconda/anaconda3/envs/geo/lib/python3.11/site-packages/shapely/geometry/geo.py\", line 107, in shape\n",
      "\"geometry\": shape(feature[\"geometry\"]) if feature[\"geometry\"] else None\n",
      "                ^^^^^^^^^^^^^^^^^^^^^^^^^^\n",
      "  File \"/Applications/Anaconda/anaconda3/envs/geo/lib/python3.11/site-packages/shapely/geometry/geo.py\", line 56, in shape\n",
      "    def shape(context):\n",
      "    \n",
      "    return MultiPolygon([[c[0], c[1:]] for c in ob[\"coordinates\"]])\n",
      "KeyboardInterrupt\n",
      "        return MultiPolygon([[c[0], c[1:]] for c in ob[\"coordinates\"]])       ^^^^\n",
      "^^^^^^^^^^^^^^^^^^^^^^^^^^^^^^^^^^^^^^^^^^^^^^^^^^^^\n",
      "KeyboardInterrupt\n",
      "           ^^^^^^^^^^^^^^^^^^^^^^^^^^^^^^^^^^^^^^^^^^^^^^^^^^^^^^^^\n",
      "  File \"/Applications/Anaconda/anaconda3/envs/geo/lib/python3.11/site-packages/shapely/geometry/multipolygon.py\", line 84, in __new__\n",
      "    p = polygon.Polygon(shell, holes)\n",
      "        ^^^^^^^^^^^^^^^^^^^^^^^^^^^^^\n",
      "  File \"/Applications/Anaconda/anaconda3/envs/geo/lib/python3.11/site-packages/shapely/geometry/polygon.py\", line 230, in __new__\n",
      "    shell = LinearRing(shell)\n",
      "            ^^^^^^^^^^^^^^^^^\n",
      "  File \"/Applications/Anaconda/anaconda3/envs/geo/lib/python3.11/site-packages/shapely/geometry/polygon.py\", line 93, in __new__\n",
      "    coordinates = np.array([_coords(o) for o in coordinates])\n",
      "                           ^^^^^^^^^^^^^^^^^^^^^^^^^^^^^^^^^\n",
      "  File \"/Applications/Anaconda/anaconda3/envs/geo/lib/python3.11/site-packages/shapely/geometry/polygon.py\", line 93, in <listcomp>\n",
      "    coordinates = np.array([_coords(o) for o in coordinates])\n",
      "                            ^^^^^^^^^^\n",
      "  File \"/Applications/Anaconda/anaconda3/envs/geo/lib/python3.11/site-packages/shapely/geometry/polygon.py\", line 91, in _coords\n",
      "    return [float(c) for c in o]\n",
      "           ^^^^^^^^^^^^^^^^^^^^^\n",
      "  File \"/Applications/Anaconda/anaconda3/envs/geo/lib/python3.11/site-packages/shapely/geometry/polygon.py\", line 91, in <listcomp>\n",
      "    return [float(c) for c in o]\n",
      "\n",
      "KeyboardInterrupt\n"
     ]
    },
    {
     "ename": "KeyboardInterrupt",
     "evalue": "",
     "output_type": "error",
     "traceback": [
      "\u001b[0;31m---------------------------------------------------------------------------\u001b[0m",
      "\u001b[0;31mKeyboardInterrupt\u001b[0m                         Traceback (most recent call last)",
      "Cell \u001b[0;32mIn[615], line 2\u001b[0m\n\u001b[1;32m      1\u001b[0m postgresql_details \u001b[38;5;241m=\u001b[39m h\u001b[38;5;241m.\u001b[39mpg_details()\n\u001b[0;32m----> 2\u001b[0m \u001b[43mh\u001b[49m\u001b[38;5;241;43m.\u001b[39;49m\u001b[43mrun_parallel_matching\u001b[49m\u001b[43m(\u001b[49m\u001b[43mtable_prev\u001b[49m\u001b[38;5;241;43m=\u001b[39;49m\u001b[38;5;124;43m'\u001b[39;49m\u001b[38;5;124;43mprev_blobs_wkt\u001b[39;49m\u001b[38;5;124;43m'\u001b[39;49m\u001b[43m,\u001b[49m\u001b[43m \u001b[49m\n\u001b[1;32m      3\u001b[0m \u001b[43m                        \u001b[49m\u001b[43mtable_curr\u001b[49m\u001b[38;5;241;43m=\u001b[39;49m\u001b[38;5;124;43m'\u001b[39;49m\u001b[38;5;124;43mcurr_blobs_wkt\u001b[39;49m\u001b[38;5;124;43m'\u001b[39;49m\u001b[43m,\u001b[49m\u001b[43m \u001b[49m\n\u001b[1;32m      4\u001b[0m \u001b[43m                        \u001b[49m\u001b[43moutput_table\u001b[49m\u001b[38;5;241;43m=\u001b[39;49m\u001b[38;5;124;43m'\u001b[39;49m\u001b[38;5;124;43mmatched_results\u001b[39;49m\u001b[38;5;124;43m'\u001b[39;49m\u001b[43m,\u001b[49m\u001b[43m \u001b[49m\n\u001b[1;32m      5\u001b[0m \u001b[43m                        \u001b[49m\u001b[43mpostgresql_details\u001b[49m\u001b[38;5;241;43m=\u001b[39;49m\u001b[43mpostgresql_details\u001b[49m\u001b[43m,\u001b[49m\u001b[43m \u001b[49m\n\u001b[1;32m      6\u001b[0m \u001b[43m                        \u001b[49m\u001b[43mdb_name\u001b[49m\u001b[38;5;241;43m=\u001b[39;49m\u001b[38;5;124;43m'\u001b[39;49m\u001b[38;5;124;43mblob_matching\u001b[39;49m\u001b[38;5;124;43m'\u001b[39;49m\u001b[43m,\u001b[49m\u001b[43m \u001b[49m\n\u001b[1;32m      7\u001b[0m \u001b[43m                        \u001b[49m\u001b[43mnum_workers\u001b[49m\u001b[38;5;241;43m=\u001b[39;49m\u001b[38;5;241;43m4\u001b[39;49m\u001b[43m,\u001b[49m\u001b[43m \u001b[49m\n\u001b[1;32m      8\u001b[0m \u001b[43m                        \u001b[49m\u001b[43mbatch_size\u001b[49m\u001b[38;5;241;43m=\u001b[39;49m\u001b[38;5;241;43m100\u001b[39;49m\u001b[43m)\u001b[49m\n",
      "File \u001b[0;32m~/files/projects/matching_optimization/helpers.py:82\u001b[0m, in \u001b[0;36mTimer.__call__.<locals>.wrapper\u001b[0;34m(*args, **kwargs)\u001b[0m\n\u001b[1;32m     79\u001b[0m cpu_start \u001b[38;5;241m=\u001b[39m psutil\u001b[38;5;241m.\u001b[39mcpu_percent(interval\u001b[38;5;241m=\u001b[39m\u001b[38;5;28;01mNone\u001b[39;00m) \u001b[38;5;28;01mif\u001b[39;00m \u001b[38;5;28mself\u001b[39m\u001b[38;5;241m.\u001b[39mtrack_resources \u001b[38;5;28;01melse\u001b[39;00m \u001b[38;5;28;01mNone\u001b[39;00m\n\u001b[1;32m     80\u001b[0m mem_start \u001b[38;5;241m=\u001b[39m psutil\u001b[38;5;241m.\u001b[39mvirtual_memory()\u001b[38;5;241m.\u001b[39mused \u001b[38;5;241m/\u001b[39m (\u001b[38;5;241m1024\u001b[39m \u001b[38;5;241m*\u001b[39m\u001b[38;5;241m*\u001b[39m \u001b[38;5;241m2\u001b[39m) \u001b[38;5;28;01mif\u001b[39;00m \u001b[38;5;28mself\u001b[39m\u001b[38;5;241m.\u001b[39mtrack_resources \u001b[38;5;28;01melse\u001b[39;00m \u001b[38;5;28;01mNone\u001b[39;00m\n\u001b[0;32m---> 82\u001b[0m result \u001b[38;5;241m=\u001b[39m \u001b[43mfunc\u001b[49m\u001b[43m(\u001b[49m\u001b[38;5;241;43m*\u001b[39;49m\u001b[43margs\u001b[49m\u001b[43m,\u001b[49m\u001b[43m \u001b[49m\u001b[38;5;241;43m*\u001b[39;49m\u001b[38;5;241;43m*\u001b[39;49m\u001b[43mkwargs\u001b[49m\u001b[43m)\u001b[49m\n\u001b[1;32m     84\u001b[0m elapsed_time \u001b[38;5;241m=\u001b[39m time\u001b[38;5;241m.\u001b[39mtime() \u001b[38;5;241m-\u001b[39m start_time\n\u001b[1;32m     85\u001b[0m cpu_end \u001b[38;5;241m=\u001b[39m psutil\u001b[38;5;241m.\u001b[39mcpu_percent(interval\u001b[38;5;241m=\u001b[39m\u001b[38;5;28;01mNone\u001b[39;00m) \u001b[38;5;28;01mif\u001b[39;00m \u001b[38;5;28mself\u001b[39m\u001b[38;5;241m.\u001b[39mtrack_resources \u001b[38;5;28;01melse\u001b[39;00m \u001b[38;5;28;01mNone\u001b[39;00m\n",
      "File \u001b[0;32m~/files/projects/matching_optimization/helpers.py:841\u001b[0m, in \u001b[0;36mrun_parallel_matching\u001b[0;34m(table_prev, table_curr, output_table, postgresql_details, db_name, num_workers, batch_size)\u001b[0m\n\u001b[1;32m    839\u001b[0m \u001b[38;5;28;01mwhile\u001b[39;00m \u001b[38;5;28mlen\u001b[39m(processes) \u001b[38;5;241m>\u001b[39m\u001b[38;5;241m=\u001b[39m num_workers:\n\u001b[1;32m    840\u001b[0m     \u001b[38;5;28;01mfor\u001b[39;00m p \u001b[38;5;129;01min\u001b[39;00m processes:\n\u001b[0;32m--> 841\u001b[0m         \u001b[43mp\u001b[49m\u001b[38;5;241;43m.\u001b[39;49m\u001b[43mjoin\u001b[49m\u001b[43m(\u001b[49m\u001b[43mtimeout\u001b[49m\u001b[38;5;241;43m=\u001b[39;49m\u001b[38;5;241;43m0.1\u001b[39;49m\u001b[43m)\u001b[49m  \u001b[38;5;66;03m# Check if process is finished\u001b[39;00m\n\u001b[1;32m    842\u001b[0m     processes \u001b[38;5;241m=\u001b[39m [p \u001b[38;5;28;01mfor\u001b[39;00m p \u001b[38;5;129;01min\u001b[39;00m processes \u001b[38;5;28;01mif\u001b[39;00m p\u001b[38;5;241m.\u001b[39mis_alive()]  \u001b[38;5;66;03m# Remove completed processes\u001b[39;00m\n\u001b[1;32m    844\u001b[0m p \u001b[38;5;241m=\u001b[39m mp\u001b[38;5;241m.\u001b[39mProcess(target\u001b[38;5;241m=\u001b[39mprocess_batch, args\u001b[38;5;241m=\u001b[39m(chunk, table_prev, table_curr, postgresql_details, db_name, output_table, logger))\n",
      "File \u001b[0;32m/Applications/Anaconda/anaconda3/envs/geo/lib/python3.11/multiprocessing/process.py:149\u001b[0m, in \u001b[0;36mBaseProcess.join\u001b[0;34m(self, timeout)\u001b[0m\n\u001b[1;32m    147\u001b[0m \u001b[38;5;28;01massert\u001b[39;00m \u001b[38;5;28mself\u001b[39m\u001b[38;5;241m.\u001b[39m_parent_pid \u001b[38;5;241m==\u001b[39m os\u001b[38;5;241m.\u001b[39mgetpid(), \u001b[38;5;124m'\u001b[39m\u001b[38;5;124mcan only join a child process\u001b[39m\u001b[38;5;124m'\u001b[39m\n\u001b[1;32m    148\u001b[0m \u001b[38;5;28;01massert\u001b[39;00m \u001b[38;5;28mself\u001b[39m\u001b[38;5;241m.\u001b[39m_popen \u001b[38;5;129;01mis\u001b[39;00m \u001b[38;5;129;01mnot\u001b[39;00m \u001b[38;5;28;01mNone\u001b[39;00m, \u001b[38;5;124m'\u001b[39m\u001b[38;5;124mcan only join a started process\u001b[39m\u001b[38;5;124m'\u001b[39m\n\u001b[0;32m--> 149\u001b[0m res \u001b[38;5;241m=\u001b[39m \u001b[38;5;28;43mself\u001b[39;49m\u001b[38;5;241;43m.\u001b[39;49m\u001b[43m_popen\u001b[49m\u001b[38;5;241;43m.\u001b[39;49m\u001b[43mwait\u001b[49m\u001b[43m(\u001b[49m\u001b[43mtimeout\u001b[49m\u001b[43m)\u001b[49m\n\u001b[1;32m    150\u001b[0m \u001b[38;5;28;01mif\u001b[39;00m res \u001b[38;5;129;01mis\u001b[39;00m \u001b[38;5;129;01mnot\u001b[39;00m \u001b[38;5;28;01mNone\u001b[39;00m:\n\u001b[1;32m    151\u001b[0m     _children\u001b[38;5;241m.\u001b[39mdiscard(\u001b[38;5;28mself\u001b[39m)\n",
      "File \u001b[0;32m/Applications/Anaconda/anaconda3/envs/geo/lib/python3.11/multiprocessing/popen_fork.py:40\u001b[0m, in \u001b[0;36mPopen.wait\u001b[0;34m(self, timeout)\u001b[0m\n\u001b[1;32m     38\u001b[0m \u001b[38;5;28;01mif\u001b[39;00m timeout \u001b[38;5;129;01mis\u001b[39;00m \u001b[38;5;129;01mnot\u001b[39;00m \u001b[38;5;28;01mNone\u001b[39;00m:\n\u001b[1;32m     39\u001b[0m     \u001b[38;5;28;01mfrom\u001b[39;00m \u001b[38;5;21;01mmultiprocessing\u001b[39;00m\u001b[38;5;21;01m.\u001b[39;00m\u001b[38;5;21;01mconnection\u001b[39;00m \u001b[38;5;28;01mimport\u001b[39;00m wait\n\u001b[0;32m---> 40\u001b[0m     \u001b[38;5;28;01mif\u001b[39;00m \u001b[38;5;129;01mnot\u001b[39;00m \u001b[43mwait\u001b[49m\u001b[43m(\u001b[49m\u001b[43m[\u001b[49m\u001b[38;5;28;43mself\u001b[39;49m\u001b[38;5;241;43m.\u001b[39;49m\u001b[43msentinel\u001b[49m\u001b[43m]\u001b[49m\u001b[43m,\u001b[49m\u001b[43m \u001b[49m\u001b[43mtimeout\u001b[49m\u001b[43m)\u001b[49m:\n\u001b[1;32m     41\u001b[0m         \u001b[38;5;28;01mreturn\u001b[39;00m \u001b[38;5;28;01mNone\u001b[39;00m\n\u001b[1;32m     42\u001b[0m \u001b[38;5;66;03m# This shouldn't block if wait() returned successfully.\u001b[39;00m\n",
      "File \u001b[0;32m/Applications/Anaconda/anaconda3/envs/geo/lib/python3.11/multiprocessing/connection.py:947\u001b[0m, in \u001b[0;36mwait\u001b[0;34m(object_list, timeout)\u001b[0m\n\u001b[1;32m    944\u001b[0m     deadline \u001b[38;5;241m=\u001b[39m time\u001b[38;5;241m.\u001b[39mmonotonic() \u001b[38;5;241m+\u001b[39m timeout\n\u001b[1;32m    946\u001b[0m \u001b[38;5;28;01mwhile\u001b[39;00m \u001b[38;5;28;01mTrue\u001b[39;00m:\n\u001b[0;32m--> 947\u001b[0m     ready \u001b[38;5;241m=\u001b[39m \u001b[43mselector\u001b[49m\u001b[38;5;241;43m.\u001b[39;49m\u001b[43mselect\u001b[49m\u001b[43m(\u001b[49m\u001b[43mtimeout\u001b[49m\u001b[43m)\u001b[49m\n\u001b[1;32m    948\u001b[0m     \u001b[38;5;28;01mif\u001b[39;00m ready:\n\u001b[1;32m    949\u001b[0m         \u001b[38;5;28;01mreturn\u001b[39;00m [key\u001b[38;5;241m.\u001b[39mfileobj \u001b[38;5;28;01mfor\u001b[39;00m (key, events) \u001b[38;5;129;01min\u001b[39;00m ready]\n",
      "File \u001b[0;32m/Applications/Anaconda/anaconda3/envs/geo/lib/python3.11/selectors.py:415\u001b[0m, in \u001b[0;36m_PollLikeSelector.select\u001b[0;34m(self, timeout)\u001b[0m\n\u001b[1;32m    413\u001b[0m ready \u001b[38;5;241m=\u001b[39m []\n\u001b[1;32m    414\u001b[0m \u001b[38;5;28;01mtry\u001b[39;00m:\n\u001b[0;32m--> 415\u001b[0m     fd_event_list \u001b[38;5;241m=\u001b[39m \u001b[38;5;28mself\u001b[39m\u001b[38;5;241m.\u001b[39m_selector\u001b[38;5;241m.\u001b[39mpoll(timeout)\n\u001b[1;32m    416\u001b[0m \u001b[38;5;28;01mexcept\u001b[39;00m \u001b[38;5;167;01mInterruptedError\u001b[39;00m:\n\u001b[1;32m    417\u001b[0m     \u001b[38;5;28;01mreturn\u001b[39;00m ready\n",
      "\u001b[0;31mKeyboardInterrupt\u001b[0m: "
     ]
    }
   ],
   "source": [
    "postgresql_details = h.pg_details()\n",
    "h.run_parallel_matching(table_prev='prev_blobs_wkt', \n",
    "                        table_curr='curr_blobs_wkt', \n",
    "                        output_table='matched_results', \n",
    "                        postgresql_details=postgresql_details, \n",
    "                        db_name='blob_matching', \n",
    "                        num_workers=4, \n",
    "                        batch_size=100)"
   ]
  },
  {
   "cell_type": "code",
   "execution_count": null,
   "metadata": {},
   "outputs": [],
   "source": []
  },
  {
   "cell_type": "markdown",
   "metadata": {},
   "source": []
  },
  {
   "cell_type": "code",
   "execution_count": null,
   "metadata": {},
   "outputs": [],
   "source": []
  },
  {
   "cell_type": "code",
   "execution_count": null,
   "metadata": {},
   "outputs": [],
   "source": []
  },
  {
   "cell_type": "markdown",
   "metadata": {},
   "source": [
    "geohash polygon into a larger region\n",
    "match blobs using multiprocessing (mp.Process) and geopandas\n",
    "find blobs from previous month that do not have a match\n",
    "\n",
    "# 1 imports and setup\n",
    "\n",
    "```python\n",
    "import os, sys, traceback\n",
    "import argparse\n",
    "import cv2\n",
    "import time\n",
    "import numpy as np\n",
    "import pandas as pd\n",
    "import geopandas as gpd\n",
    "from skimage import io, color, measure\n",
    "from tqdm import tqdm\n",
    "from shapely import wkt\n",
    "from shapely.geometry import Point, Polygon\n",
    "from shapely.validation import make_valid\n",
    "import PIL\n",
    "from PIL import Image, ImageDraw, ImageEnhance\n",
    "import uuid\n",
    "import multiprocessing as mp\n",
    "from datetime import datetime\n",
    "from sqlalchemy import or_\n",
    "from sqlmodel import SQLModel, Session, create_engine, select\n",
    "from pathlib import Path\n",
    "```\n",
    "\n",
    "## Key takeaways\n",
    "- Uses Pandas and GeoPandas for data processing.\n",
    "- Uses Shapely for geospatial geometry operations.\n",
    "- Uses multiprocessing (mp) to parallelize the blob-matching process.\n",
    "- Uses SQLAlchemy and SQLModel for database operations.\n",
    "\n",
    "# 2 High-level script overview\n",
    "The script is designed to match blobs (spatial objects) between two months and classify them into different business categories.\n",
    "\n",
    "General Workflow\n",
    "1. Fetch blobs from the previous and current months.\n",
    "1. Convert the region of interest (state, city, county, or geohash) into a list of geohashes.\n",
    "1. Parallelized Matching Process:\n",
    "1. Process multiple geohashes at once using multiprocessing.\n",
    "1. Find corresponding blobs from previous months for each geohash.\n",
    "1. Classify blobs based on construction stage progression.\n",
    "1. Identify blobs that are missing in the current month and \"impute\" them.\n",
    "1. Save results into the database.\n",
    "\n",
    "# 3 Blob classification logic\n",
    "\n",
    "# 4 Blob matching\n",
    "\n",
    "- Matches blobs between months using polygon intersections.\n",
    "- Uses Shapely to validate geometries and check for overlaps.\n",
    "- Returns matched blob IDs.\n",
    "\n",
    "## Multiprocessing Optimization\n",
    "The script parallelizes blob matching by:\n",
    "- Uses multiprocessing (mp.Process) to divide the dataset into smaller batches.\n",
    "- Each batch of blobs is processed in parallel.\n",
    "- Reduces runtime compared to a single-threaded approach.\n",
    "\n",
    "# 5 Handling unmatched blobs\n",
    "- Finds blobs from the previous month that do not have a match in the current month.\n",
    "- These blobs are \"imputed\", meaning they are carried over into the new month.\n",
    "\n",
    "# 6 Main class to orchestrate process\n",
    "- Loads previous and current month blobs.\n",
    "- Converts input regions (state, city, county) into geohashes.\n",
    "\n",
    "# Summary\n",
    "- Parallel processing is used to match blobs.\n",
    "- Blobs are classified based on construction stages.\n",
    "- Unmatched blobs are imputed for continuity.\n",
    "- The script writes results to a database."
   ]
  },
  {
   "cell_type": "markdown",
   "metadata": {},
   "source": []
  }
 ],
 "metadata": {
  "kernelspec": {
   "display_name": "geo",
   "language": "python",
   "name": "python3"
  },
  "language_info": {
   "codemirror_mode": {
    "name": "ipython",
    "version": 3
   },
   "file_extension": ".py",
   "mimetype": "text/x-python",
   "name": "python",
   "nbconvert_exporter": "python",
   "pygments_lexer": "ipython3",
   "version": "3.11.8"
  }
 },
 "nbformat": 4,
 "nbformat_minor": 2
}
