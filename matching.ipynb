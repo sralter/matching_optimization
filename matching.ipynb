{
 "cells": [
  {
   "cell_type": "markdown",
   "metadata": {},
   "source": [
    "# Geospatial Matching Optimization"
   ]
  },
  {
   "cell_type": "markdown",
   "metadata": {},
   "source": [
    "This project is designed to showcase how to improve the speed of a polygon matching procedure. There are two main areas that could benefit from taking a \"geospatial-native\" approach:\n",
    "\n",
    "1. Data encoding, fetching, and storage\n",
    "2. Matching\n",
    "\n",
    "We will generate synthetic polygon data and use both a non-geospatial-native and geospatial-native approach, comparing execution time for both to see how they differ."
   ]
  },
  {
   "cell_type": "markdown",
   "metadata": {},
   "source": [
    "Note: Make sure that you have PostgreSQL running."
   ]
  },
  {
   "cell_type": "markdown",
   "metadata": {},
   "source": [
    "## Imports"
   ]
  },
  {
   "cell_type": "code",
   "execution_count": 161,
   "metadata": {},
   "outputs": [
    {
     "name": "stdout",
     "output_type": "stream",
     "text": [
      "Created fresh logs/sid_2025-02-27_12-22-07_timing_results.csv\n",
      "Created fresh logs/sid_2025-02-27_12-22-07_timing.log\n"
     ]
    },
    {
     "data": {
      "text/plain": [
       "<module 'helpers' from '/Users/sra/files/projects/matching_optimization/helpers.py'>"
      ]
     },
     "execution_count": 161,
     "metadata": {},
     "output_type": "execute_result"
    }
   ],
   "source": [
    "import geopandas as gpd\n",
    "import pandas as pd\n",
    "import shapely\n",
    "import h3\n",
    "import time\n",
    "import helpers as h\n",
    "import matplotlib.pyplot as plt\n",
    "from shapely.wkt import dumps, loads\n",
    "from pathlib import Path\n",
    "\n",
    "# ensure helpers is loaded correctly\n",
    "import importlib\n",
    "importlib.reload(h)"
   ]
  },
  {
   "cell_type": "markdown",
   "metadata": {},
   "source": [
    "## Generate Test Data"
   ]
  },
  {
   "cell_type": "code",
   "execution_count": null,
   "metadata": {},
   "outputs": [],
   "source": [
    "# Create two blobs of data\n",
    "prev_month_blobs = h.generate_random_polygons(n=10000)\n",
    "curr_month_blobs = h.generate_random_polygons(n=10000)"
   ]
  },
  {
   "cell_type": "code",
   "execution_count": null,
   "metadata": {},
   "outputs": [
    {
     "data": {
      "text/html": [
       "<div>\n",
       "<style scoped>\n",
       "    .dataframe tbody tr th:only-of-type {\n",
       "        vertical-align: middle;\n",
       "    }\n",
       "\n",
       "    .dataframe tbody tr th {\n",
       "        vertical-align: top;\n",
       "    }\n",
       "\n",
       "    .dataframe thead th {\n",
       "        text-align: right;\n",
       "    }\n",
       "</style>\n",
       "<table border=\"1\" class=\"dataframe\">\n",
       "  <thead>\n",
       "    <tr style=\"text-align: right;\">\n",
       "      <th></th>\n",
       "      <th>geometry</th>\n",
       "      <th>id</th>\n",
       "      <th>shapeName</th>\n",
       "      <th>STATEFP</th>\n",
       "      <th>COUNTYFP</th>\n",
       "      <th>GEOID</th>\n",
       "      <th>NAME</th>\n",
       "      <th>NAMELSAD</th>\n",
       "      <th>area_fips</th>\n",
       "      <th>geohash</th>\n",
       "    </tr>\n",
       "  </thead>\n",
       "  <tbody>\n",
       "    <tr>\n",
       "      <th>3264</th>\n",
       "      <td>POLYGON ((-81.96652 27.22040, -81.96652 27.221...</td>\n",
       "      <td>95657072-f8d9-4385-8154-20621d7a64d0</td>\n",
       "      <td>DeSoto</td>\n",
       "      <td>31</td>\n",
       "      <td>039</td>\n",
       "      <td>31039</td>\n",
       "      <td>Cuming</td>\n",
       "      <td>Cuming County</td>\n",
       "      <td>31039</td>\n",
       "      <td>dhvdyg6h</td>\n",
       "    </tr>\n",
       "    <tr>\n",
       "      <th>1426</th>\n",
       "      <td>POLYGON ((-81.90899 27.29939, -81.90899 27.299...</td>\n",
       "      <td>c24fe982-c656-4dc7-9597-cabb65d840e3</td>\n",
       "      <td>DeSoto</td>\n",
       "      <td>31</td>\n",
       "      <td>039</td>\n",
       "      <td>31039</td>\n",
       "      <td>Cuming</td>\n",
       "      <td>Cuming County</td>\n",
       "      <td>31039</td>\n",
       "      <td>dhvg21ez</td>\n",
       "    </tr>\n",
       "    <tr>\n",
       "      <th>8627</th>\n",
       "      <td>POLYGON ((-82.20514 27.61441, -82.20514 27.614...</td>\n",
       "      <td>ab770842-24c8-4e4f-985e-c059f166c5a3</td>\n",
       "      <td>Manatee</td>\n",
       "      <td>31</td>\n",
       "      <td>039</td>\n",
       "      <td>31039</td>\n",
       "      <td>Cuming</td>\n",
       "      <td>Cuming County</td>\n",
       "      <td>31039</td>\n",
       "      <td>dhvt17h4</td>\n",
       "    </tr>\n",
       "    <tr>\n",
       "      <th>7193</th>\n",
       "      <td>POLYGON ((-82.05267 27.77853, -82.05267 27.779...</td>\n",
       "      <td>88b909e3-1b32-4912-a58c-19452184a8b0</td>\n",
       "      <td>Polk</td>\n",
       "      <td>31</td>\n",
       "      <td>039</td>\n",
       "      <td>31039</td>\n",
       "      <td>Cuming</td>\n",
       "      <td>Cuming County</td>\n",
       "      <td>31039</td>\n",
       "      <td>dhvwhbgr</td>\n",
       "    </tr>\n",
       "    <tr>\n",
       "      <th>3819</th>\n",
       "      <td>POLYGON ((-81.88245 27.99648, -81.88245 27.997...</td>\n",
       "      <td>ca84def8-54b9-4fbe-aaf2-e667d8ccd84f</td>\n",
       "      <td>Polk</td>\n",
       "      <td>31</td>\n",
       "      <td>039</td>\n",
       "      <td>31039</td>\n",
       "      <td>Cuming</td>\n",
       "      <td>Cuming County</td>\n",
       "      <td>31039</td>\n",
       "      <td>dhvz28xj</td>\n",
       "    </tr>\n",
       "  </tbody>\n",
       "</table>\n",
       "</div>"
      ],
      "text/plain": [
       "                                               geometry  \\\n",
       "3264  POLYGON ((-81.96652 27.22040, -81.96652 27.221...   \n",
       "1426  POLYGON ((-81.90899 27.29939, -81.90899 27.299...   \n",
       "8627  POLYGON ((-82.20514 27.61441, -82.20514 27.614...   \n",
       "7193  POLYGON ((-82.05267 27.77853, -82.05267 27.779...   \n",
       "3819  POLYGON ((-81.88245 27.99648, -81.88245 27.997...   \n",
       "\n",
       "                                        id shapeName STATEFP COUNTYFP  GEOID  \\\n",
       "3264  95657072-f8d9-4385-8154-20621d7a64d0    DeSoto      31      039  31039   \n",
       "1426  c24fe982-c656-4dc7-9597-cabb65d840e3    DeSoto      31      039  31039   \n",
       "8627  ab770842-24c8-4e4f-985e-c059f166c5a3   Manatee      31      039  31039   \n",
       "7193  88b909e3-1b32-4912-a58c-19452184a8b0      Polk      31      039  31039   \n",
       "3819  ca84def8-54b9-4fbe-aaf2-e667d8ccd84f      Polk      31      039  31039   \n",
       "\n",
       "        NAME       NAMELSAD area_fips   geohash  \n",
       "3264  Cuming  Cuming County     31039  dhvdyg6h  \n",
       "1426  Cuming  Cuming County     31039  dhvg21ez  \n",
       "8627  Cuming  Cuming County     31039  dhvt17h4  \n",
       "7193  Cuming  Cuming County     31039  dhvwhbgr  \n",
       "3819  Cuming  Cuming County     31039  dhvz28xj  "
      ]
     },
     "execution_count": 151,
     "metadata": {},
     "output_type": "execute_result"
    }
   ],
   "source": [
    "prev_month_blobs.head()"
   ]
  },
  {
   "cell_type": "code",
   "execution_count": null,
   "metadata": {},
   "outputs": [
    {
     "data": {
      "text/html": [
       "<div>\n",
       "<style scoped>\n",
       "    .dataframe tbody tr th:only-of-type {\n",
       "        vertical-align: middle;\n",
       "    }\n",
       "\n",
       "    .dataframe tbody tr th {\n",
       "        vertical-align: top;\n",
       "    }\n",
       "\n",
       "    .dataframe thead th {\n",
       "        text-align: right;\n",
       "    }\n",
       "</style>\n",
       "<table border=\"1\" class=\"dataframe\">\n",
       "  <thead>\n",
       "    <tr style=\"text-align: right;\">\n",
       "      <th></th>\n",
       "      <th>geometry</th>\n",
       "      <th>id</th>\n",
       "      <th>shapeName</th>\n",
       "      <th>STATEFP</th>\n",
       "      <th>COUNTYFP</th>\n",
       "      <th>GEOID</th>\n",
       "      <th>NAME</th>\n",
       "      <th>NAMELSAD</th>\n",
       "      <th>area_fips</th>\n",
       "      <th>geohash</th>\n",
       "    </tr>\n",
       "  </thead>\n",
       "  <tbody>\n",
       "    <tr>\n",
       "      <th>2960</th>\n",
       "      <td>POLYGON ((-80.93238 26.94818, -80.93238 26.948...</td>\n",
       "      <td>ef1e0b33-bdc5-464f-aced-b0b446358abd</td>\n",
       "      <td>Glades</td>\n",
       "      <td>31</td>\n",
       "      <td>039</td>\n",
       "      <td>31039</td>\n",
       "      <td>Cuming</td>\n",
       "      <td>Cuming County</td>\n",
       "      <td>31039</td>\n",
       "      <td>dhy3q3g4</td>\n",
       "    </tr>\n",
       "    <tr>\n",
       "      <th>2206</th>\n",
       "      <td>POLYGON ((-81.02679 26.99863, -81.02679 26.999...</td>\n",
       "      <td>3eb943de-d055-4e03-852b-f3a534412003</td>\n",
       "      <td>Glades</td>\n",
       "      <td>31</td>\n",
       "      <td>039</td>\n",
       "      <td>31039</td>\n",
       "      <td>Cuming</td>\n",
       "      <td>Cuming County</td>\n",
       "      <td>31039</td>\n",
       "      <td>dhy3s5n2</td>\n",
       "    </tr>\n",
       "    <tr>\n",
       "      <th>1014</th>\n",
       "      <td>POLYGON ((-81.13990 27.01278, -81.13990 27.013...</td>\n",
       "      <td>66dc7ab7-1b4c-4989-b72f-93ecee040b58</td>\n",
       "      <td>Glades</td>\n",
       "      <td>31</td>\n",
       "      <td>039</td>\n",
       "      <td>31039</td>\n",
       "      <td>Cuming</td>\n",
       "      <td>Cuming County</td>\n",
       "      <td>31039</td>\n",
       "      <td>dhy39teg</td>\n",
       "    </tr>\n",
       "    <tr>\n",
       "      <th>4311</th>\n",
       "      <td>POLYGON ((-81.14850 27.07068, -81.14850 27.070...</td>\n",
       "      <td>495206fa-f433-45b6-b32e-7b9d3385696e</td>\n",
       "      <td>Glades</td>\n",
       "      <td>31</td>\n",
       "      <td>039</td>\n",
       "      <td>31039</td>\n",
       "      <td>Cuming</td>\n",
       "      <td>Cuming County</td>\n",
       "      <td>31039</td>\n",
       "      <td>dhy612jd</td>\n",
       "    </tr>\n",
       "    <tr>\n",
       "      <th>9233</th>\n",
       "      <td>POLYGON ((-81.02382 27.07995, -81.02382 27.080...</td>\n",
       "      <td>d5915623-e151-445b-b698-9ef9c6fdaf86</td>\n",
       "      <td>Glades</td>\n",
       "      <td>31</td>\n",
       "      <td>039</td>\n",
       "      <td>31039</td>\n",
       "      <td>Cuming</td>\n",
       "      <td>Cuming County</td>\n",
       "      <td>31039</td>\n",
       "      <td>dhy6h3b2</td>\n",
       "    </tr>\n",
       "  </tbody>\n",
       "</table>\n",
       "</div>"
      ],
      "text/plain": [
       "                                               geometry  \\\n",
       "2960  POLYGON ((-80.93238 26.94818, -80.93238 26.948...   \n",
       "2206  POLYGON ((-81.02679 26.99863, -81.02679 26.999...   \n",
       "1014  POLYGON ((-81.13990 27.01278, -81.13990 27.013...   \n",
       "4311  POLYGON ((-81.14850 27.07068, -81.14850 27.070...   \n",
       "9233  POLYGON ((-81.02382 27.07995, -81.02382 27.080...   \n",
       "\n",
       "                                        id shapeName STATEFP COUNTYFP  GEOID  \\\n",
       "2960  ef1e0b33-bdc5-464f-aced-b0b446358abd    Glades      31      039  31039   \n",
       "2206  3eb943de-d055-4e03-852b-f3a534412003    Glades      31      039  31039   \n",
       "1014  66dc7ab7-1b4c-4989-b72f-93ecee040b58    Glades      31      039  31039   \n",
       "4311  495206fa-f433-45b6-b32e-7b9d3385696e    Glades      31      039  31039   \n",
       "9233  d5915623-e151-445b-b698-9ef9c6fdaf86    Glades      31      039  31039   \n",
       "\n",
       "        NAME       NAMELSAD area_fips   geohash  \n",
       "2960  Cuming  Cuming County     31039  dhy3q3g4  \n",
       "2206  Cuming  Cuming County     31039  dhy3s5n2  \n",
       "1014  Cuming  Cuming County     31039  dhy39teg  \n",
       "4311  Cuming  Cuming County     31039  dhy612jd  \n",
       "9233  Cuming  Cuming County     31039  dhy6h3b2  "
      ]
     },
     "execution_count": 152,
     "metadata": {},
     "output_type": "execute_result"
    }
   ],
   "source": [
    "curr_month_blobs.head()"
   ]
  },
  {
   "cell_type": "code",
   "execution_count": null,
   "metadata": {},
   "outputs": [],
   "source": [
    "# make data folder\n",
    "Path('data/').mkdir(exist_ok=True)\n",
    "\n",
    "# save as geoparquet\n",
    "prev_month_blobs.to_parquet('data/prev_month_blobs.parquet')\n",
    "curr_month_blobs.to_parquet('data/curr_month_blobs.parquet')"
   ]
  },
  {
   "cell_type": "code",
   "execution_count": null,
   "metadata": {},
   "outputs": [],
   "source": [
    "# range_ = 10000\n",
    "\n",
    "# fig, ax = plt.subplots(figsize=(5, 5))\n",
    "# prev_month_blobs.iloc[0:range_].plot(ax=ax)\n",
    "# ax.set_title(f'Viewing the first {range_} blobs')\n",
    "# plt.tight_layout()\n",
    "\n",
    "# plt.show()"
   ]
  },
  {
   "cell_type": "code",
   "execution_count": null,
   "metadata": {},
   "outputs": [
    {
     "data": {
      "text/html": [
       "<div>\n",
       "<style scoped>\n",
       "    .dataframe tbody tr th:only-of-type {\n",
       "        vertical-align: middle;\n",
       "    }\n",
       "\n",
       "    .dataframe tbody tr th {\n",
       "        vertical-align: top;\n",
       "    }\n",
       "\n",
       "    .dataframe thead th {\n",
       "        text-align: right;\n",
       "    }\n",
       "</style>\n",
       "<table border=\"1\" class=\"dataframe\">\n",
       "  <thead>\n",
       "    <tr style=\"text-align: right;\">\n",
       "      <th></th>\n",
       "      <th>geometry</th>\n",
       "      <th>id</th>\n",
       "      <th>shapeName</th>\n",
       "      <th>STATEFP</th>\n",
       "      <th>COUNTYFP</th>\n",
       "      <th>GEOID</th>\n",
       "      <th>NAME</th>\n",
       "      <th>NAMELSAD</th>\n",
       "      <th>area_fips</th>\n",
       "      <th>geohash</th>\n",
       "    </tr>\n",
       "  </thead>\n",
       "  <tbody>\n",
       "    <tr>\n",
       "      <th>3264</th>\n",
       "      <td>POLYGON ((-81.96652 27.22040, -81.96652 27.221...</td>\n",
       "      <td>95657072-f8d9-4385-8154-20621d7a64d0</td>\n",
       "      <td>DeSoto</td>\n",
       "      <td>31</td>\n",
       "      <td>039</td>\n",
       "      <td>31039</td>\n",
       "      <td>Cuming</td>\n",
       "      <td>Cuming County</td>\n",
       "      <td>31039</td>\n",
       "      <td>dhvdyg6h</td>\n",
       "    </tr>\n",
       "    <tr>\n",
       "      <th>1426</th>\n",
       "      <td>POLYGON ((-81.90899 27.29939, -81.90899 27.299...</td>\n",
       "      <td>c24fe982-c656-4dc7-9597-cabb65d840e3</td>\n",
       "      <td>DeSoto</td>\n",
       "      <td>31</td>\n",
       "      <td>039</td>\n",
       "      <td>31039</td>\n",
       "      <td>Cuming</td>\n",
       "      <td>Cuming County</td>\n",
       "      <td>31039</td>\n",
       "      <td>dhvg21ez</td>\n",
       "    </tr>\n",
       "    <tr>\n",
       "      <th>8627</th>\n",
       "      <td>POLYGON ((-82.20514 27.61441, -82.20514 27.614...</td>\n",
       "      <td>ab770842-24c8-4e4f-985e-c059f166c5a3</td>\n",
       "      <td>Manatee</td>\n",
       "      <td>31</td>\n",
       "      <td>039</td>\n",
       "      <td>31039</td>\n",
       "      <td>Cuming</td>\n",
       "      <td>Cuming County</td>\n",
       "      <td>31039</td>\n",
       "      <td>dhvt17h4</td>\n",
       "    </tr>\n",
       "    <tr>\n",
       "      <th>7193</th>\n",
       "      <td>POLYGON ((-82.05267 27.77853, -82.05267 27.779...</td>\n",
       "      <td>88b909e3-1b32-4912-a58c-19452184a8b0</td>\n",
       "      <td>Polk</td>\n",
       "      <td>31</td>\n",
       "      <td>039</td>\n",
       "      <td>31039</td>\n",
       "      <td>Cuming</td>\n",
       "      <td>Cuming County</td>\n",
       "      <td>31039</td>\n",
       "      <td>dhvwhbgr</td>\n",
       "    </tr>\n",
       "    <tr>\n",
       "      <th>3819</th>\n",
       "      <td>POLYGON ((-81.88245 27.99648, -81.88245 27.997...</td>\n",
       "      <td>ca84def8-54b9-4fbe-aaf2-e667d8ccd84f</td>\n",
       "      <td>Polk</td>\n",
       "      <td>31</td>\n",
       "      <td>039</td>\n",
       "      <td>31039</td>\n",
       "      <td>Cuming</td>\n",
       "      <td>Cuming County</td>\n",
       "      <td>31039</td>\n",
       "      <td>dhvz28xj</td>\n",
       "    </tr>\n",
       "  </tbody>\n",
       "</table>\n",
       "</div>"
      ],
      "text/plain": [
       "                                               geometry  \\\n",
       "3264  POLYGON ((-81.96652 27.22040, -81.96652 27.221...   \n",
       "1426  POLYGON ((-81.90899 27.29939, -81.90899 27.299...   \n",
       "8627  POLYGON ((-82.20514 27.61441, -82.20514 27.614...   \n",
       "7193  POLYGON ((-82.05267 27.77853, -82.05267 27.779...   \n",
       "3819  POLYGON ((-81.88245 27.99648, -81.88245 27.997...   \n",
       "\n",
       "                                        id shapeName STATEFP COUNTYFP  GEOID  \\\n",
       "3264  95657072-f8d9-4385-8154-20621d7a64d0    DeSoto      31      039  31039   \n",
       "1426  c24fe982-c656-4dc7-9597-cabb65d840e3    DeSoto      31      039  31039   \n",
       "8627  ab770842-24c8-4e4f-985e-c059f166c5a3   Manatee      31      039  31039   \n",
       "7193  88b909e3-1b32-4912-a58c-19452184a8b0      Polk      31      039  31039   \n",
       "3819  ca84def8-54b9-4fbe-aaf2-e667d8ccd84f      Polk      31      039  31039   \n",
       "\n",
       "        NAME       NAMELSAD area_fips   geohash  \n",
       "3264  Cuming  Cuming County     31039  dhvdyg6h  \n",
       "1426  Cuming  Cuming County     31039  dhvg21ez  \n",
       "8627  Cuming  Cuming County     31039  dhvt17h4  \n",
       "7193  Cuming  Cuming County     31039  dhvwhbgr  \n",
       "3819  Cuming  Cuming County     31039  dhvz28xj  "
      ]
     },
     "execution_count": 155,
     "metadata": {},
     "output_type": "execute_result"
    }
   ],
   "source": [
    "prev_month_blobs.head()"
   ]
  },
  {
   "cell_type": "markdown",
   "metadata": {},
   "source": [
    "## Non-optimized process"
   ]
  },
  {
   "cell_type": "markdown",
   "metadata": {},
   "source": [
    "### 1. Data encoding, storage, and fetching"
   ]
  },
  {
   "cell_type": "markdown",
   "metadata": {},
   "source": [
    "We will use PostgreSQL and string storage for geographic information."
   ]
  },
  {
   "cell_type": "markdown",
   "metadata": {},
   "source": [
    "#### Make copy of polygon layer and convert to non-geospatial-native string (WKT) datatype"
   ]
  },
  {
   "cell_type": "code",
   "execution_count": null,
   "metadata": {},
   "outputs": [],
   "source": [
    "# copy the gdfs\n",
    "prev_month_blobs_wkt = prev_month_blobs.copy()\n",
    "curr_month_blobs_wkt = curr_month_blobs.copy()"
   ]
  },
  {
   "cell_type": "code",
   "execution_count": null,
   "metadata": {},
   "outputs": [
    {
     "name": "stdout",
     "output_type": "stream",
     "text": [
      "Function `convert_col_to_string` executed in 0.0529 sec, CPU: 34.10%, Memory: 52.19MB\n",
      "Function `convert_col_to_string` executed in 0.0493 sec, CPU: 29.70%, Memory: 3.33MB\n",
      "                                               geometry  \\\n",
      "3264  POLYGON ((-81.966521 27.2204, -81.966521 27.22...   \n",
      "1426  POLYGON ((-81.90899 27.299388, -81.90899 27.29...   \n",
      "8627  POLYGON ((-82.20514 27.614409, -82.20514 27.61...   \n",
      "7193  POLYGON ((-82.05267 27.778526, -82.05267 27.77...   \n",
      "3819  POLYGON ((-81.882454 27.996484, -81.882454 27....   \n",
      "\n",
      "                                        id shapeName STATEFP COUNTYFP  GEOID  \\\n",
      "3264  95657072-f8d9-4385-8154-20621d7a64d0    DeSoto      31      039  31039   \n",
      "1426  c24fe982-c656-4dc7-9597-cabb65d840e3    DeSoto      31      039  31039   \n",
      "8627  ab770842-24c8-4e4f-985e-c059f166c5a3   Manatee      31      039  31039   \n",
      "7193  88b909e3-1b32-4912-a58c-19452184a8b0      Polk      31      039  31039   \n",
      "3819  ca84def8-54b9-4fbe-aaf2-e667d8ccd84f      Polk      31      039  31039   \n",
      "\n",
      "        NAME       NAMELSAD area_fips   geohash  \n",
      "3264  Cuming  Cuming County     31039  dhvdyg6h  \n",
      "1426  Cuming  Cuming County     31039  dhvg21ez  \n",
      "8627  Cuming  Cuming County     31039  dhvt17h4  \n",
      "7193  Cuming  Cuming County     31039  dhvwhbgr  \n",
      "3819  Cuming  Cuming County     31039  dhvz28xj  \n"
     ]
    },
    {
     "name": "stderr",
     "output_type": "stream",
     "text": [
      "/Users/sra/files/projects/matching_optimization/helpers.py:212: UserWarning: Geometry column does not contain geometry.\n",
      "  df[col] = df[col].apply(lambda geom: to_wkt(geom) if isinstance(geom, BaseGeometry) else str(geom))\n",
      "/Users/sra/files/projects/matching_optimization/helpers.py:212: UserWarning: Geometry column does not contain geometry.\n",
      "  df[col] = df[col].apply(lambda geom: to_wkt(geom) if isinstance(geom, BaseGeometry) else str(geom))\n"
     ]
    }
   ],
   "source": [
    "# Convert WKT versions to strings\n",
    "dfs_to_convert = [prev_month_blobs_wkt, curr_month_blobs_wkt]\n",
    "prev_month_blobs_wkt, curr_month_blobs_wkt = [h.convert_col_to_string(df) for df in dfs_to_convert]\n",
    "\n",
    "# Check result\n",
    "print(prev_month_blobs_wkt.head())"
   ]
  },
  {
   "cell_type": "markdown",
   "metadata": {},
   "source": [
    "### Save in PostgreSQL database"
   ]
  },
  {
   "cell_type": "markdown",
   "metadata": {},
   "source": [
    "This is a simple version of what a \"non-geospatial-native\" data ingestion pipeline may look like, with the primary example being that the polygons are stored as strings, not in a spatial-friendly datatype."
   ]
  },
  {
   "cell_type": "code",
   "execution_count": null,
   "metadata": {},
   "outputs": [
    {
     "name": "stdout",
     "output_type": "stream",
     "text": [
      "Function `df_itertuple` executed in 0.0055 sec, CPU: 15.00%, Memory: 0.02MB\n",
      "Function `df_itertuple` executed in 0.0046 sec, CPU: 0.00%, Memory: 0.00MB\n"
     ]
    }
   ],
   "source": [
    "# Convert to tuples\n",
    "prev_month_blobs_wkt = h.df_itertuple(prev_month_blobs_wkt)\n",
    "curr_month_blobs_wkt = h.df_itertuple(curr_month_blobs_wkt)"
   ]
  },
  {
   "cell_type": "markdown",
   "metadata": {},
   "source": [
    "Create PostgreSQL database if it doesn't exist already. We will be using the default settings. If they need to be adjusted, refer to [`helpers.py`](helpers.py)."
   ]
  },
  {
   "cell_type": "code",
   "execution_count": null,
   "metadata": {},
   "outputs": [
    {
     "name": "stdout",
     "output_type": "stream",
     "text": [
      "Database blob_matching already exists.\n",
      "Function `create_pg_db` executed in 0.0334 sec, CPU: 50.00%, Memory: 0.00MB\n"
     ]
    }
   ],
   "source": [
    "h.create_pg_db()"
   ]
  },
  {
   "cell_type": "markdown",
   "metadata": {},
   "source": [
    "Create and insert into tables:"
   ]
  },
  {
   "cell_type": "code",
   "execution_count": null,
   "metadata": {},
   "outputs": [
    {
     "name": "stdout",
     "output_type": "stream",
     "text": [
      "Table prev_blobs_wkt truncated.\n"
     ]
    },
    {
     "ename": "UndefinedColumn",
     "evalue": "column \"shapename\" of relation \"prev_blobs_wkt\" does not exist\nLINE 2: ...      INSERT INTO \"prev_blobs_wkt\" (geometry, id, shapeName,...\n                                                             ^\n",
     "output_type": "error",
     "traceback": [
      "\u001b[0;31m---------------------------------------------------------------------------\u001b[0m",
      "\u001b[0;31mUndefinedColumn\u001b[0m                           Traceback (most recent call last)",
      "Cell \u001b[0;32mIn[160], line 1\u001b[0m\n\u001b[0;32m----> 1\u001b[0m \u001b[43mh\u001b[49m\u001b[38;5;241;43m.\u001b[39;49m\u001b[43mcreate_pg_table\u001b[49m\u001b[43m(\u001b[49m\u001b[43mtable_name\u001b[49m\u001b[38;5;241;43m=\u001b[39;49m\u001b[38;5;124;43m'\u001b[39;49m\u001b[38;5;124;43mprev_blobs_wkt\u001b[39;49m\u001b[38;5;124;43m'\u001b[39;49m\u001b[43m,\u001b[49m\u001b[43m \u001b[49m\u001b[43mdata\u001b[49m\u001b[38;5;241;43m=\u001b[39;49m\u001b[43mprev_month_blobs_wkt\u001b[49m\u001b[43m,\u001b[49m\u001b[43m \u001b[49m\u001b[43mtruncate\u001b[49m\u001b[38;5;241;43m=\u001b[39;49m\u001b[38;5;28;43;01mTrue\u001b[39;49;00m\u001b[43m)\u001b[49m\n\u001b[1;32m      2\u001b[0m h\u001b[38;5;241m.\u001b[39mcreate_pg_table(table_name\u001b[38;5;241m=\u001b[39m\u001b[38;5;124m'\u001b[39m\u001b[38;5;124mcurr_blobs_wkt\u001b[39m\u001b[38;5;124m'\u001b[39m, data\u001b[38;5;241m=\u001b[39mcurr_month_blobs_wkt, truncate\u001b[38;5;241m=\u001b[39m\u001b[38;5;28;01mTrue\u001b[39;00m)\n",
      "File \u001b[0;32m~/files/projects/matching_optimization/helpers.py:85\u001b[0m, in \u001b[0;36mTimer.__call__.<locals>.wrapper\u001b[0;34m(*args, **kwargs)\u001b[0m\n\u001b[1;32m     82\u001b[0m cpu_start \u001b[38;5;241m=\u001b[39m psutil\u001b[38;5;241m.\u001b[39mcpu_percent(interval\u001b[38;5;241m=\u001b[39m\u001b[38;5;28;01mNone\u001b[39;00m) \u001b[38;5;28;01mif\u001b[39;00m \u001b[38;5;28mself\u001b[39m\u001b[38;5;241m.\u001b[39mtrack_resources \u001b[38;5;28;01melse\u001b[39;00m \u001b[38;5;28;01mNone\u001b[39;00m\n\u001b[1;32m     83\u001b[0m mem_start \u001b[38;5;241m=\u001b[39m psutil\u001b[38;5;241m.\u001b[39mvirtual_memory()\u001b[38;5;241m.\u001b[39mused \u001b[38;5;241m/\u001b[39m (\u001b[38;5;241m1024\u001b[39m \u001b[38;5;241m*\u001b[39m\u001b[38;5;241m*\u001b[39m \u001b[38;5;241m2\u001b[39m) \u001b[38;5;28;01mif\u001b[39;00m \u001b[38;5;28mself\u001b[39m\u001b[38;5;241m.\u001b[39mtrack_resources \u001b[38;5;28;01melse\u001b[39;00m \u001b[38;5;28;01mNone\u001b[39;00m  \u001b[38;5;66;03m# Convert to MB\u001b[39;00m\n\u001b[0;32m---> 85\u001b[0m result \u001b[38;5;241m=\u001b[39m \u001b[43mfunc\u001b[49m\u001b[43m(\u001b[49m\u001b[38;5;241;43m*\u001b[39;49m\u001b[43margs\u001b[49m\u001b[43m,\u001b[49m\u001b[43m \u001b[49m\u001b[38;5;241;43m*\u001b[39;49m\u001b[38;5;241;43m*\u001b[39;49m\u001b[43mkwargs\u001b[49m\u001b[43m)\u001b[49m\n\u001b[1;32m     87\u001b[0m elapsed_time \u001b[38;5;241m=\u001b[39m time\u001b[38;5;241m.\u001b[39mtime() \u001b[38;5;241m-\u001b[39m start_time\n\u001b[1;32m     88\u001b[0m cpu_end \u001b[38;5;241m=\u001b[39m psutil\u001b[38;5;241m.\u001b[39mcpu_percent(interval\u001b[38;5;241m=\u001b[39m\u001b[38;5;28;01mNone\u001b[39;00m) \u001b[38;5;28;01mif\u001b[39;00m \u001b[38;5;28mself\u001b[39m\u001b[38;5;241m.\u001b[39mtrack_resources \u001b[38;5;28;01melse\u001b[39;00m \u001b[38;5;28;01mNone\u001b[39;00m\n",
      "File \u001b[0;32m~/files/projects/matching_optimization/helpers.py:330\u001b[0m, in \u001b[0;36mcreate_pg_table\u001b[0;34m(postgresql_details, db_name, table_name, data, truncate)\u001b[0m\n\u001b[1;32m    324\u001b[0m \u001b[38;5;28;01mif\u001b[39;00m data:\n\u001b[1;32m    325\u001b[0m     insert_query \u001b[38;5;241m=\u001b[39m sql\u001b[38;5;241m.\u001b[39mSQL(\u001b[38;5;124m\"\"\"\u001b[39m\n\u001b[1;32m    326\u001b[0m \u001b[38;5;124m        INSERT INTO \u001b[39m\u001b[38;5;132;01m{}\u001b[39;00m\u001b[38;5;124m (geometry, id, shapeName, statefp, countyfp, geoid, name, namelsad, area_fips, geohash) \u001b[39m\n\u001b[1;32m    327\u001b[0m \u001b[38;5;124m        VALUES (\u001b[39m\u001b[38;5;132;01m%s\u001b[39;00m\u001b[38;5;124m, \u001b[39m\u001b[38;5;132;01m%s\u001b[39;00m\u001b[38;5;124m, \u001b[39m\u001b[38;5;132;01m%s\u001b[39;00m\u001b[38;5;124m, \u001b[39m\u001b[38;5;132;01m%s\u001b[39;00m\u001b[38;5;124m, \u001b[39m\u001b[38;5;132;01m%s\u001b[39;00m\u001b[38;5;124m, \u001b[39m\u001b[38;5;132;01m%s\u001b[39;00m\u001b[38;5;124m, \u001b[39m\u001b[38;5;132;01m%s\u001b[39;00m\u001b[38;5;124m, \u001b[39m\u001b[38;5;132;01m%s\u001b[39;00m\u001b[38;5;124m, \u001b[39m\u001b[38;5;132;01m%s\u001b[39;00m\u001b[38;5;124m, \u001b[39m\u001b[38;5;132;01m%s\u001b[39;00m\u001b[38;5;124m);\u001b[39m\n\u001b[1;32m    328\u001b[0m \u001b[38;5;124m    \u001b[39m\u001b[38;5;124m\"\"\"\u001b[39m)\u001b[38;5;241m.\u001b[39mformat(sql\u001b[38;5;241m.\u001b[39mIdentifier(table_name))\n\u001b[0;32m--> 330\u001b[0m     \u001b[43mcur\u001b[49m\u001b[38;5;241;43m.\u001b[39;49m\u001b[43mexecutemany\u001b[49m\u001b[43m(\u001b[49m\u001b[43minsert_query\u001b[49m\u001b[43m,\u001b[49m\u001b[43m \u001b[49m\u001b[43mdata\u001b[49m\u001b[43m)\u001b[49m\n\u001b[1;32m    331\u001b[0m     conn\u001b[38;5;241m.\u001b[39mcommit()\n\u001b[1;32m    332\u001b[0m     \u001b[38;5;28mprint\u001b[39m(\u001b[38;5;124mf\u001b[39m\u001b[38;5;124m\"\u001b[39m\u001b[38;5;124mInserted \u001b[39m\u001b[38;5;132;01m{\u001b[39;00m\u001b[38;5;28mlen\u001b[39m(data)\u001b[38;5;132;01m}\u001b[39;00m\u001b[38;5;124m records into \u001b[39m\u001b[38;5;132;01m{\u001b[39;00mtable_name\u001b[38;5;132;01m}\u001b[39;00m\u001b[38;5;124m.\u001b[39m\u001b[38;5;124m\"\u001b[39m)\n",
      "\u001b[0;31mUndefinedColumn\u001b[0m: column \"shapename\" of relation \"prev_blobs_wkt\" does not exist\nLINE 2: ...      INSERT INTO \"prev_blobs_wkt\" (geometry, id, shapeName,...\n                                                             ^\n"
     ]
    }
   ],
   "source": [
    "h.create_pg_table(table_name='prev_blobs_wkt', data=prev_month_blobs_wkt, truncate=True)\n",
    "h.create_pg_table(table_name='curr_blobs_wkt', data=curr_month_blobs_wkt, truncate=True)"
   ]
  },
  {
   "cell_type": "markdown",
   "metadata": {},
   "source": [
    "Retrieve data as GeoDataFrames to confirm that it worked:"
   ]
  },
  {
   "cell_type": "code",
   "execution_count": 203,
   "metadata": {},
   "outputs": [
    {
     "name": "stdout",
     "output_type": "stream",
     "text": [
      "Retrieved 10000 records from prev_blobs_wkt.\n",
      "Function `retrieve_pg_table` executed in 0.0471 sec, CPU: 29.40%, Memory: 0.00MB\n",
      "Retrieved 10000 records from curr_blobs_wkt.\n",
      "Function `retrieve_pg_table` executed in 0.0404 sec, CPU: 9.00%, Memory: 0.00MB\n"
     ]
    }
   ],
   "source": [
    "df_prev = h.retrieve_pg_table(table_name='prev_blobs_wkt')\n",
    "df_curr = h.retrieve_pg_table(table_name='curr_blobs_wkt')"
   ]
  },
  {
   "cell_type": "markdown",
   "metadata": {},
   "source": [
    "Compare the tables before and after for a sanity check:"
   ]
  },
  {
   "cell_type": "code",
   "execution_count": 204,
   "metadata": {},
   "outputs": [
    {
     "data": {
      "text/html": [
       "<div>\n",
       "<style scoped>\n",
       "    .dataframe tbody tr th:only-of-type {\n",
       "        vertical-align: middle;\n",
       "    }\n",
       "\n",
       "    .dataframe tbody tr th {\n",
       "        vertical-align: top;\n",
       "    }\n",
       "\n",
       "    .dataframe thead th {\n",
       "        text-align: right;\n",
       "    }\n",
       "</style>\n",
       "<table border=\"1\" class=\"dataframe\">\n",
       "  <thead>\n",
       "    <tr style=\"text-align: right;\">\n",
       "      <th></th>\n",
       "      <th>geometry</th>\n",
       "      <th>id</th>\n",
       "    </tr>\n",
       "  </thead>\n",
       "  <tbody>\n",
       "    <tr>\n",
       "      <th>0</th>\n",
       "      <td>POLYGON ((-67.777368 59.484217, -67.777368 60....</td>\n",
       "      <td>7f4dff84-d1b5-4f2c-bf65-77102679ed3b</td>\n",
       "    </tr>\n",
       "    <tr>\n",
       "      <th>1</th>\n",
       "      <td>POLYGON ((26.422479 9.322808, 26.422479 11.299...</td>\n",
       "      <td>38dd1028-22a7-48a8-b549-b2b371a3fd64</td>\n",
       "    </tr>\n",
       "    <tr>\n",
       "      <th>2</th>\n",
       "      <td>POLYGON ((34.539713 -70.836672, 34.539713 -69....</td>\n",
       "      <td>e228399c-7167-4951-84b6-6d7b28ef5979</td>\n",
       "    </tr>\n",
       "    <tr>\n",
       "      <th>3</th>\n",
       "      <td>POLYGON ((173.136338 -65.813461, 173.136338 -6...</td>\n",
       "      <td>5db7eab1-eb05-4986-986b-e5686d582bea</td>\n",
       "    </tr>\n",
       "    <tr>\n",
       "      <th>4</th>\n",
       "      <td>POLYGON ((135.94789 12.840354, 135.94789 14.17...</td>\n",
       "      <td>624b76ae-a2ac-45d5-b42e-688e897bec9b</td>\n",
       "    </tr>\n",
       "  </tbody>\n",
       "</table>\n",
       "</div>"
      ],
      "text/plain": [
       "                                            geometry  \\\n",
       "0  POLYGON ((-67.777368 59.484217, -67.777368 60....   \n",
       "1  POLYGON ((26.422479 9.322808, 26.422479 11.299...   \n",
       "2  POLYGON ((34.539713 -70.836672, 34.539713 -69....   \n",
       "3  POLYGON ((173.136338 -65.813461, 173.136338 -6...   \n",
       "4  POLYGON ((135.94789 12.840354, 135.94789 14.17...   \n",
       "\n",
       "                                     id  \n",
       "0  7f4dff84-d1b5-4f2c-bf65-77102679ed3b  \n",
       "1  38dd1028-22a7-48a8-b549-b2b371a3fd64  \n",
       "2  e228399c-7167-4951-84b6-6d7b28ef5979  \n",
       "3  5db7eab1-eb05-4986-986b-e5686d582bea  \n",
       "4  624b76ae-a2ac-45d5-b42e-688e897bec9b  "
      ]
     },
     "execution_count": 204,
     "metadata": {},
     "output_type": "execute_result"
    }
   ],
   "source": [
    "df_prev.head()"
   ]
  },
  {
   "cell_type": "code",
   "execution_count": 209,
   "metadata": {},
   "outputs": [
    {
     "data": {
      "text/html": [
       "<div>\n",
       "<style scoped>\n",
       "    .dataframe tbody tr th:only-of-type {\n",
       "        vertical-align: middle;\n",
       "    }\n",
       "\n",
       "    .dataframe tbody tr th {\n",
       "        vertical-align: top;\n",
       "    }\n",
       "\n",
       "    .dataframe thead th {\n",
       "        text-align: right;\n",
       "    }\n",
       "</style>\n",
       "<table border=\"1\" class=\"dataframe\">\n",
       "  <thead>\n",
       "    <tr style=\"text-align: right;\">\n",
       "      <th></th>\n",
       "      <th>geometry</th>\n",
       "      <th>id</th>\n",
       "    </tr>\n",
       "  </thead>\n",
       "  <tbody>\n",
       "    <tr>\n",
       "      <th>0</th>\n",
       "      <td>POLYGON ((-67.77737 59.48422, -67.77737 60.922...</td>\n",
       "      <td>7f4dff84-d1b5-4f2c-bf65-77102679ed3b</td>\n",
       "    </tr>\n",
       "    <tr>\n",
       "      <th>1</th>\n",
       "      <td>POLYGON ((26.42248 9.32281, 26.42248 11.29955,...</td>\n",
       "      <td>38dd1028-22a7-48a8-b549-b2b371a3fd64</td>\n",
       "    </tr>\n",
       "    <tr>\n",
       "      <th>2</th>\n",
       "      <td>POLYGON ((34.53971 -70.83667, 34.53971 -69.101...</td>\n",
       "      <td>e228399c-7167-4951-84b6-6d7b28ef5979</td>\n",
       "    </tr>\n",
       "    <tr>\n",
       "      <th>3</th>\n",
       "      <td>POLYGON ((173.13634 -65.81346, 173.13634 -64.1...</td>\n",
       "      <td>5db7eab1-eb05-4986-986b-e5686d582bea</td>\n",
       "    </tr>\n",
       "    <tr>\n",
       "      <th>4</th>\n",
       "      <td>POLYGON ((135.94789 12.84035, 135.94789 14.170...</td>\n",
       "      <td>624b76ae-a2ac-45d5-b42e-688e897bec9b</td>\n",
       "    </tr>\n",
       "  </tbody>\n",
       "</table>\n",
       "</div>"
      ],
      "text/plain": [
       "                                            geometry  \\\n",
       "0  POLYGON ((-67.77737 59.48422, -67.77737 60.922...   \n",
       "1  POLYGON ((26.42248 9.32281, 26.42248 11.29955,...   \n",
       "2  POLYGON ((34.53971 -70.83667, 34.53971 -69.101...   \n",
       "3  POLYGON ((173.13634 -65.81346, 173.13634 -64.1...   \n",
       "4  POLYGON ((135.94789 12.84035, 135.94789 14.170...   \n",
       "\n",
       "                                     id  \n",
       "0  7f4dff84-d1b5-4f2c-bf65-77102679ed3b  \n",
       "1  38dd1028-22a7-48a8-b549-b2b371a3fd64  \n",
       "2  e228399c-7167-4951-84b6-6d7b28ef5979  \n",
       "3  5db7eab1-eb05-4986-986b-e5686d582bea  \n",
       "4  624b76ae-a2ac-45d5-b42e-688e897bec9b  "
      ]
     },
     "execution_count": 209,
     "metadata": {},
     "output_type": "execute_result"
    }
   ],
   "source": [
    "prev_month_blobs.head()"
   ]
  },
  {
   "cell_type": "code",
   "execution_count": 211,
   "metadata": {},
   "outputs": [
    {
     "name": "stdout",
     "output_type": "stream",
     "text": [
      "Number of matching geometries: 10000\n",
      "Missing geometries in retrieved table: 0\n",
      "Extra geometries in retrieved table: 0\n"
     ]
    }
   ],
   "source": [
    "def round_geometry(geom, precision=6):\n",
    "    \"\"\"Round all coordinates of a geometry to a given precision.\"\"\"\n",
    "    return shapely.wkt.loads(shapely.wkt.dumps(geom, rounding_precision=precision))\n",
    "\n",
    "# Convert both to sets of rounded WKT strings\n",
    "set_prev_month_blobs = set(prev_month_blobs['geometry'].apply(lambda g: round_geometry(g, precision=6).wkt))\n",
    "set_df_prev = set(df_prev['geometry'].apply(lambda g: round_geometry(g, precision=6).wkt))\n",
    "\n",
    "# Find common, missing, and extra geometries\n",
    "common_geometries = set_prev_month_blobs & set_df_prev\n",
    "missing_from_retrieved = set_prev_month_blobs - set_df_prev\n",
    "extra_in_retrieved = set_df_prev - set_prev_month_blobs\n",
    "\n",
    "# Print summary\n",
    "print(f\"Number of matching geometries: {len(common_geometries)}\")\n",
    "print(f\"Missing geometries in retrieved table: {len(missing_from_retrieved)}\")\n",
    "print(f\"Extra geometries in retrieved table: {len(extra_in_retrieved)}\")\n",
    "\n",
    "# Show an example missing/extra geometry for debugging\n",
    "if missing_from_retrieved:\n",
    "    print(\"Example missing record:\", next(iter(missing_from_retrieved)))\n",
    "\n",
    "if extra_in_retrieved:\n",
    "    print(\"Example extra record:\", next(iter(extra_in_retrieved)))"
   ]
  },
  {
   "cell_type": "markdown",
   "metadata": {},
   "source": [
    "### 2. Matching"
   ]
  },
  {
   "cell_type": "markdown",
   "metadata": {},
   "source": [
    "We will match the polygons using GeoPandas."
   ]
  },
  {
   "cell_type": "code",
   "execution_count": null,
   "metadata": {},
   "outputs": [],
   "source": []
  },
  {
   "cell_type": "code",
   "execution_count": null,
   "metadata": {},
   "outputs": [],
   "source": []
  },
  {
   "cell_type": "markdown",
   "metadata": {},
   "source": [
    "Baseline - Polygon Matching Only"
   ]
  },
  {
   "cell_type": "markdown",
   "metadata": {},
   "source": []
  },
  {
   "cell_type": "code",
   "execution_count": null,
   "metadata": {},
   "outputs": [],
   "source": []
  },
  {
   "cell_type": "code",
   "execution_count": null,
   "metadata": {},
   "outputs": [],
   "source": []
  },
  {
   "cell_type": "markdown",
   "metadata": {},
   "source": [
    "geohash polygon into a larger region\n",
    "match blobs using multiprocessing (mp.Process) and geopandas\n",
    "find blobs from previous month that do not have a match\n",
    "\n",
    "# 1 imports and setup\n",
    "\n",
    "```python\n",
    "import os, sys, traceback\n",
    "import argparse\n",
    "import cv2\n",
    "import time\n",
    "import numpy as np\n",
    "import pandas as pd\n",
    "import geopandas as gpd\n",
    "from skimage import io, color, measure\n",
    "from tqdm import tqdm\n",
    "from shapely import wkt\n",
    "from shapely.geometry import Point, Polygon\n",
    "from shapely.validation import make_valid\n",
    "import PIL\n",
    "from PIL import Image, ImageDraw, ImageEnhance\n",
    "import uuid\n",
    "import multiprocessing as mp\n",
    "from datetime import datetime\n",
    "from sqlalchemy import or_\n",
    "from sqlmodel import SQLModel, Session, create_engine, select\n",
    "from pathlib import Path\n",
    "```\n",
    "\n",
    "## Key takeaways\n",
    "- Uses Pandas and GeoPandas for data processing.\n",
    "- Uses Shapely for geospatial geometry operations.\n",
    "- Uses multiprocessing (mp) to parallelize the blob-matching process.\n",
    "- Uses SQLAlchemy and SQLModel for database operations.\n",
    "\n",
    "# 2 High-level script overview\n",
    "The script is designed to match blobs (spatial objects) between two months and classify them into different business categories.\n",
    "\n",
    "General Workflow\n",
    "1. Fetch blobs from the previous and current months.\n",
    "1. Convert the region of interest (state, city, county, or geohash) into a list of geohashes.\n",
    "1. Parallelized Matching Process:\n",
    "1. Process multiple geohashes at once using multiprocessing.\n",
    "1. Find corresponding blobs from previous months for each geohash.\n",
    "1. Classify blobs based on construction stage progression.\n",
    "1. Identify blobs that are missing in the current month and \"impute\" them.\n",
    "1. Save results into the database.\n",
    "\n",
    "# 3 Blob classification logic\n",
    "\n",
    "# 4 Blob matching\n",
    "\n",
    "- Matches blobs between months using polygon intersections.\n",
    "- Uses Shapely to validate geometries and check for overlaps.\n",
    "- Returns matched blob IDs.\n",
    "\n",
    "## Multiprocessing Optimization\n",
    "The script parallelizes blob matching by:\n",
    "- Uses multiprocessing (mp.Process) to divide the dataset into smaller batches.\n",
    "- Each batch of blobs is processed in parallel.\n",
    "- Reduces runtime compared to a single-threaded approach.\n",
    "\n",
    "# 5 Handling unmatched blobs\n",
    "- Finds blobs from the previous month that do not have a match in the current month.\n",
    "- These blobs are \"imputed\", meaning they are carried over into the new month.\n",
    "\n",
    "# 6 Main class to orchestrate process\n",
    "- Loads previous and current month blobs.\n",
    "- Converts input regions (state, city, county) into geohashes.\n",
    "\n",
    "# Summary\n",
    "- Parallel processing is used to match blobs.\n",
    "- Blobs are classified based on construction stages.\n",
    "- Unmatched blobs are imputed for continuity.\n",
    "- The script writes results to a database."
   ]
  },
  {
   "cell_type": "markdown",
   "metadata": {},
   "source": []
  }
 ],
 "metadata": {
  "kernelspec": {
   "display_name": "geo",
   "language": "python",
   "name": "python3"
  },
  "language_info": {
   "codemirror_mode": {
    "name": "ipython",
    "version": 3
   },
   "file_extension": ".py",
   "mimetype": "text/x-python",
   "name": "python",
   "nbconvert_exporter": "python",
   "pygments_lexer": "ipython3",
   "version": "3.11.8"
  }
 },
 "nbformat": 4,
 "nbformat_minor": 2
}
