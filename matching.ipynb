{
 "cells": [
  {
   "cell_type": "markdown",
   "metadata": {},
   "source": [
    "# Geospatial Matching Optimization"
   ]
  },
  {
   "cell_type": "markdown",
   "metadata": {},
   "source": [
    "This project is designed to showcase how to improve the speed of a polygon matching procedure. There are three main areas that could benefit from taking a \"geospatial-native\" approach:\n",
    "\n",
    "1. Data encoding and fetching\n",
    "2. Matching\n",
    "3. Storage\n",
    "\n",
    "We will generate synthetic polygon data and use both a non-geospatial-native and geospatial-native approach, comparing execution time for both to see how they differ."
   ]
  },
  {
   "cell_type": "markdown",
   "metadata": {},
   "source": [
    "## Imports"
   ]
  },
  {
   "cell_type": "code",
   "execution_count": 26,
   "metadata": {},
   "outputs": [],
   "source": [
    "import random\n",
    "import geopandas as gpd\n",
    "import pandas as pd\n",
    "import shapely\n",
    "from shapely.geometry import Polygon, box\n",
    "import h3\n",
    "import time\n",
    "import matplotlib.pyplot as plt\n",
    "from shapely.wkt import dumps\n",
    "from pathlib import Path"
   ]
  },
  {
   "cell_type": "markdown",
   "metadata": {},
   "source": [
    "## Generate Test Data"
   ]
  },
  {
   "cell_type": "code",
   "execution_count": null,
   "metadata": {},
   "outputs": [],
   "source": [
    "\n",
    "# Generate random polygons as blobs\n",
    "def generate_random_polygons(n=100, bbox=(-100, -100, 100, 100)):\n",
    "    \"\"\"Generate n random polygons inside a bounding box.\"\"\"\n",
    "    minx, miny, maxx, maxy = bbox\n",
    "    polygons = []\n",
    "    for _ in range(n):\n",
    "        x1, y1 = random.uniform(minx, maxx), random.uniform(miny, maxy)\n",
    "        x2, y2 = x1 + random.uniform(1, 5), y1 + random.uniform(1, 5)\n",
    "        polygons.append(box(x1, y1, x2, y2))  # Create rectangle\n",
    "    return gpd.GeoDataFrame(geometry=polygons, crs=\"EPSG:4326\")"
   ]
  },
  {
   "cell_type": "code",
   "execution_count": 9,
   "metadata": {},
   "outputs": [],
   "source": [
    "# Create two months of blob data\n",
    "prev_month_blobs = generate_random_polygons(n=10000)\n",
    "curr_month_blobs = generate_random_polygons(n=10000)"
   ]
  },
  {
   "cell_type": "code",
   "execution_count": 25,
   "metadata": {},
   "outputs": [
    {
     "data": {
      "text/html": [
       "<div>\n",
       "<style scoped>\n",
       "    .dataframe tbody tr th:only-of-type {\n",
       "        vertical-align: middle;\n",
       "    }\n",
       "\n",
       "    .dataframe tbody tr th {\n",
       "        vertical-align: top;\n",
       "    }\n",
       "\n",
       "    .dataframe thead th {\n",
       "        text-align: right;\n",
       "    }\n",
       "</style>\n",
       "<table border=\"1\" class=\"dataframe\">\n",
       "  <thead>\n",
       "    <tr style=\"text-align: right;\">\n",
       "      <th></th>\n",
       "      <th>geometry</th>\n",
       "    </tr>\n",
       "  </thead>\n",
       "  <tbody>\n",
       "    <tr>\n",
       "      <th>0</th>\n",
       "      <td>POLYGON ((17.77566 -87.13806, 17.77566 -86.084...</td>\n",
       "    </tr>\n",
       "    <tr>\n",
       "      <th>1</th>\n",
       "      <td>POLYGON ((83.59024 -39.70595, 83.59024 -35.589...</td>\n",
       "    </tr>\n",
       "    <tr>\n",
       "      <th>2</th>\n",
       "      <td>POLYGON ((51.49452 95.49381, 51.49452 99.47730...</td>\n",
       "    </tr>\n",
       "    <tr>\n",
       "      <th>3</th>\n",
       "      <td>POLYGON ((-48.40663 -41.44200, -48.40663 -39.0...</td>\n",
       "    </tr>\n",
       "    <tr>\n",
       "      <th>4</th>\n",
       "      <td>POLYGON ((45.66968 -30.96558, 45.66968 -29.535...</td>\n",
       "    </tr>\n",
       "  </tbody>\n",
       "</table>\n",
       "</div>"
      ],
      "text/plain": [
       "                                            geometry\n",
       "0  POLYGON ((17.77566 -87.13806, 17.77566 -86.084...\n",
       "1  POLYGON ((83.59024 -39.70595, 83.59024 -35.589...\n",
       "2  POLYGON ((51.49452 95.49381, 51.49452 99.47730...\n",
       "3  POLYGON ((-48.40663 -41.44200, -48.40663 -39.0...\n",
       "4  POLYGON ((45.66968 -30.96558, 45.66968 -29.535..."
      ]
     },
     "execution_count": 25,
     "metadata": {},
     "output_type": "execute_result"
    }
   ],
   "source": [
    "prev_month_blobs.head()"
   ]
  },
  {
   "cell_type": "code",
   "execution_count": null,
   "metadata": {},
   "outputs": [],
   "source": [
    "# save as geoparquet\n",
    "\n",
    "Path('data/').mkdir(exist_ok=True)\n",
    "\n",
    "prev_month_blobs.to_parquet('data/prev_month_blobs.parquet')\n",
    "curr_month_blobs.to_parquet('data/curr_month_blobs.parquet')"
   ]
  },
  {
   "cell_type": "code",
   "execution_count": 22,
   "metadata": {},
   "outputs": [
    {
     "data": {
      "image/png": "[encoded data removed]",
      "text/plain": [
       "<Figure size 500x500 with 1 Axes>"
      ]
     },
     "metadata": {},
     "output_type": "display_data"
    }
   ],
   "source": [
    "fig, ax = plt.subplots(figsize=(5, 5))\n",
    "prev_month_blobs.iloc[0:100].plot(ax=ax)\n",
    "ax.set_title('Viewing the first 100 blobs')\n",
    "plt.tight_layout()\n",
    "\n",
    "plt.show()"
   ]
  },
  {
   "cell_type": "markdown",
   "metadata": {},
   "source": [
    "### Generate new set and convert polygon layer to non-geospatial-native string datatype"
   ]
  },
  {
   "cell_type": "code",
   "execution_count": 23,
   "metadata": {},
   "outputs": [],
   "source": [
    "prev_month_blobs_str = generate_random_polygons(n=10000)\n",
    "curr_month_blobs_str = generate_random_polygons(n=10000)"
   ]
  },
  {
   "cell_type": "code",
   "execution_count": 24,
   "metadata": {},
   "outputs": [
    {
     "name": "stderr",
     "output_type": "stream",
     "text": [
      "/var/folders/n3/q8wb235x57n_sx2q14dsngjr0000gn/T/ipykernel_65202/1073976832.py:1: UserWarning: Geometry column does not contain geometry.\n",
      "  prev_month_blobs_str['geometry'] = prev_month_blobs_str['geometry'].apply(dumps)\n",
      "/var/folders/n3/q8wb235x57n_sx2q14dsngjr0000gn/T/ipykernel_65202/1073976832.py:2: UserWarning: Geometry column does not contain geometry.\n",
      "  curr_month_blobs_str['geometry'] = curr_month_blobs_str['geometry'].apply(dumps)\n"
     ]
    }
   ],
   "source": [
    "prev_month_blobs_str['geometry'] = prev_month_blobs_str['geometry'].apply(dumps)\n",
    "curr_month_blobs_str['geometry'] = curr_month_blobs_str['geometry'].apply(dumps)"
   ]
  },
  {
   "cell_type": "code",
   "execution_count": null,
   "metadata": {},
   "outputs": [],
   "source": []
  },
  {
   "cell_type": "code",
   "execution_count": 4,
   "metadata": {},
   "outputs": [],
   "source": [
    "import functools\n",
    "\n",
    "def timing_decorator(func):\n",
    "    \"\"\"Decorator to log function execution time.\"\"\"\n",
    "    @functools.wraps(func)\n",
    "    def wrapper(*args, **kwargs):\n",
    "        start_time = time.time()\n",
    "        result = func(*args, **kwargs)\n",
    "        elapsed_time = time.time() - start_time\n",
    "        print(f\"Function `{func.__name__}` took {elapsed_time:.4f} seconds.\")\n",
    "        return result\n",
    "    return wrapper"
   ]
  },
  {
   "cell_type": "markdown",
   "metadata": {},
   "source": [
    "Baseline - Polygon Matching Only"
   ]
  },
  {
   "cell_type": "markdown",
   "metadata": {},
   "source": []
  }
 ],
 "metadata": {
  "kernelspec": {
   "display_name": "geo",
   "language": "python",
   "name": "python3"
  },
  "language_info": {
   "codemirror_mode": {
    "name": "ipython",
    "version": 3
   },
   "file_extension": ".py",
   "mimetype": "text/x-python",
   "name": "python",
   "nbconvert_exporter": "python",
   "pygments_lexer": "ipython3",
   "version": "3.11.8"
  }
 },
 "nbformat": 4,
 "nbformat_minor": 2
}
